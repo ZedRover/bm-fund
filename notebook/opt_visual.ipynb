{
 "cells": [
  {
   "cell_type": "code",
   "execution_count": 10,
   "metadata": {},
   "outputs": [],
   "source": [
    "import optuna\n",
    "import pandas as pd\n",
    "import numpy as np"
   ]
  },
  {
   "cell_type": "code",
   "execution_count": 11,
   "metadata": {},
   "outputs": [],
   "source": [
    "study_dir = \"../src/lgb_study.db\"\n",
    "study = optuna.load_study(study_name=\"lgb\", storage=f\"sqlite:///{study_dir}\")"
   ]
  },
  {
   "cell_type": "code",
   "execution_count": 12,
   "metadata": {},
   "outputs": [
    {
     "data": {
      "application/vnd.plotly.v1+json": {
       "config": {
        "plotlyServerURL": "https://plot.ly"
       },
       "data": [
        {
         "hovertemplate": "%{text}<extra>Trial</extra>",
         "marker": {
          "color": [
           0,
           1,
           2,
           3,
           4,
           5,
           6,
           7,
           8,
           10,
           11,
           12,
           13,
           14,
           15,
           16,
           17,
           18,
           19,
           20,
           21,
           22,
           23,
           24,
           32,
           34,
           37,
           40,
           44,
           51,
           56,
           57,
           60,
           65,
           67,
           68,
           69,
           71,
           73,
           75,
           80,
           86,
           90,
           96,
           98,
           100,
           104,
           106,
           111,
           115,
           120,
           122,
           125,
           128,
           131,
           134,
           137,
           140,
           146,
           148,
           152,
           158,
           163,
           164,
           166,
           167,
           171,
           172,
           178,
           179,
           181,
           182,
           183,
           185,
           186,
           187,
           191,
           193,
           194,
           198,
           199,
           200,
           203,
           204,
           205,
           208,
           209,
           210,
           212,
           215,
           219,
           221,
           223,
           225,
           226,
           227,
           228,
           231,
           232,
           233,
           234,
           235,
           237,
           238,
           240,
           242,
           243,
           248,
           249,
           251,
           253,
           254,
           256,
           258,
           260,
           261,
           265,
           267,
           268,
           271,
           272,
           273,
           274,
           276,
           278,
           279,
           281,
           283,
           284,
           285,
           286,
           287,
           288,
           289,
           292,
           294,
           295,
           298,
           299,
           300,
           302,
           304,
           305,
           306,
           310,
           311,
           312,
           313,
           315,
           317,
           318,
           320,
           322,
           323,
           324,
           325,
           326,
           327,
           329,
           330,
           333,
           338,
           342,
           343,
           344,
           347,
           348,
           349,
           353,
           356,
           360,
           361,
           363,
           366,
           367,
           368,
           370,
           371,
           372,
           373,
           374,
           376,
           378,
           380,
           381,
           382,
           383,
           384,
           387,
           388,
           389,
           390,
           391,
           392,
           393,
           394,
           395,
           396,
           397,
           398,
           399
          ],
          "colorbar": {
           "title": {
            "text": "Trial"
           }
          },
          "colorscale": [
           [
            0,
            "rgb(247,251,255)"
           ],
           [
            0.125,
            "rgb(222,235,247)"
           ],
           [
            0.25,
            "rgb(198,219,239)"
           ],
           [
            0.375,
            "rgb(158,202,225)"
           ],
           [
            0.5,
            "rgb(107,174,214)"
           ],
           [
            0.625,
            "rgb(66,146,198)"
           ],
           [
            0.75,
            "rgb(33,113,181)"
           ],
           [
            0.875,
            "rgb(8,81,156)"
           ],
           [
            1,
            "rgb(8,48,107)"
           ]
          ],
          "line": {
           "color": "Grey",
           "width": 0.5
          }
         },
         "mode": "markers",
         "showlegend": false,
         "text": [
          "{<br>  \"number\": 0,<br>  \"values\": [<br>    0.2452528591251842,<br>    0.011786820412431731<br>  ],<br>  \"params\": {<br>    \"bagging_fraction\": 0.8989894504840543,<br>    \"bagging_freq\": 5,<br>    \"clip\": 2,<br>    \"feature_fraction\": 0.7052756001608474,<br>    \"learning_rate\": 0.0032467567411562696,<br>    \"min_child_samples\": 42,<br>    \"num_leaves\": 77<br>  }<br>}",
          "{<br>  \"number\": 1,<br>  \"values\": [<br>    0.2451419384427592,<br>    0.025890504942053028<br>  ],<br>  \"params\": {<br>    \"bagging_fraction\": 0.6653487975903492,<br>    \"bagging_freq\": 10,<br>    \"clip\": 5,<br>    \"feature_fraction\": 0.7574811267089424,<br>    \"learning_rate\": 0.008866934766410607,<br>    \"min_child_samples\": 41,<br>    \"num_leaves\": 36<br>  }<br>}",
          "{<br>  \"number\": 2,<br>  \"values\": [<br>    0.24387470377526363,<br>    0.02441355026320524<br>  ],<br>  \"params\": {<br>    \"bagging_fraction\": 0.8000933141440016,<br>    \"bagging_freq\": 6,<br>    \"clip\": 10,<br>    \"feature_fraction\": 0.8107763120834243,<br>    \"learning_rate\": 0.007718741802530335,<br>    \"min_child_samples\": 51,<br>    \"num_leaves\": 47<br>  }<br>}",
          "{<br>  \"number\": 3,<br>  \"values\": [<br>    0.24723149514458675,<br>    0.022985307047246106<br>  ],<br>  \"params\": {<br>    \"bagging_fraction\": 0.6040187009168715,<br>    \"bagging_freq\": 8,<br>    \"clip\": 6,<br>    \"feature_fraction\": 0.8109519209177599,<br>    \"learning_rate\": 0.0059945791581145665,<br>    \"min_child_samples\": 43,<br>    \"num_leaves\": 80<br>  }<br>}",
          "{<br>  \"number\": 4,<br>  \"values\": [<br>    0.2573083384736167,<br>    0.028465176736178766<br>  ],<br>  \"params\": {<br>    \"bagging_fraction\": 0.7521436195896364,<br>    \"bagging_freq\": 6,<br>    \"clip\": 1,<br>    \"feature_fraction\": 0.8229836565151041,<br>    \"learning_rate\": 0.023249584882066153,<br>    \"min_child_samples\": 19,<br>    \"num_leaves\": 29<br>  }<br>}",
          "{<br>  \"number\": 5,<br>  \"values\": [<br>    0.23136984673809527,<br>    0.007404493221953357<br>  ],<br>  \"params\": {<br>    \"bagging_fraction\": 0.6878638843948256,<br>    \"bagging_freq\": 5,<br>    \"clip\": 4,<br>    \"feature_fraction\": 0.8238189936510016,<br>    \"learning_rate\": 0.0016832514728099617,<br>    \"min_child_samples\": 14,<br>    \"num_leaves\": 56<br>  }<br>}",
          "{<br>  \"number\": 6,<br>  \"values\": [<br>    0.2505484223727061,<br>    0.04067109997528251<br>  ],<br>  \"params\": {<br>    \"bagging_fraction\": 0.6329874927575568,<br>    \"bagging_freq\": 7,<br>    \"clip\": 10,<br>    \"feature_fraction\": 0.7764501635919903,<br>    \"learning_rate\": 0.040842014896504464,<br>    \"min_child_samples\": 47,<br>    \"num_leaves\": 29<br>  }<br>}",
          "{<br>  \"number\": 7,<br>  \"values\": [<br>    0.2412716863405783,<br>    0.016957804268375676<br>  ],<br>  \"params\": {<br>    \"bagging_fraction\": 0.6873793353945392,<br>    \"bagging_freq\": 10,<br>    \"clip\": 1,<br>    \"feature_fraction\": 0.8330822666350881,<br>    \"learning_rate\": 0.008411143456078221,<br>    \"min_child_samples\": 36,<br>    \"num_leaves\": 28<br>  }<br>}",
          "{<br>  \"number\": 8,<br>  \"values\": [<br>    0.247834610437158,<br>    0.03596734249093403<br>  ],<br>  \"params\": {<br>    \"bagging_fraction\": 0.7398805200898341,<br>    \"bagging_freq\": 5,<br>    \"clip\": 6,<br>    \"feature_fraction\": 0.8141999811603955,<br>    \"learning_rate\": 0.01496074180763771,<br>    \"min_child_samples\": 19,<br>    \"num_leaves\": 75<br>  }<br>}",
          "{<br>  \"number\": 10,<br>  \"values\": [<br>    0.23780370821370167,<br>    0.01458076526100871<br>  ],<br>  \"params\": {<br>    \"bagging_fraction\": 0.8527736771151044,<br>    \"bagging_freq\": 9,<br>    \"clip\": 6,<br>    \"feature_fraction\": 0.7758821230591251,<br>    \"learning_rate\": 0.0037946014068115054,<br>    \"min_child_samples\": 68,<br>    \"num_leaves\": 45<br>  }<br>}",
          "{<br>  \"number\": 11,<br>  \"values\": [<br>    0.2373000112693709,<br>    0.022582566657880387<br>  ],<br>  \"params\": {<br>    \"bagging_fraction\": 0.7492843728285705,<br>    \"bagging_freq\": 7,<br>    \"clip\": 8,<br>    \"feature_fraction\": 0.8536542888420304,<br>    \"learning_rate\": 0.007290638272714936,<br>    \"min_child_samples\": 7,<br>    \"num_leaves\": 54<br>  }<br>}",
          "{<br>  \"number\": 12,<br>  \"values\": [<br>    0.233292104591906,<br>    0.011929090649718699<br>  ],<br>  \"params\": {<br>    \"bagging_fraction\": 0.8973012444697348,<br>    \"bagging_freq\": 7,<br>    \"clip\": 4,<br>    \"feature_fraction\": 0.872569232310622,<br>    \"learning_rate\": 0.002931908791145229,<br>    \"min_child_samples\": 6,<br>    \"num_leaves\": 65<br>  }<br>}",
          "{<br>  \"number\": 13,<br>  \"values\": [<br>    0.22167532240924231,<br>    0.0090547449987326<br>  ],<br>  \"params\": {<br>    \"bagging_fraction\": 0.6737976334901707,<br>    \"bagging_freq\": 8,<br>    \"clip\": 9,<br>    \"feature_fraction\": 0.8693061373407032,<br>    \"learning_rate\": 0.002460826136831343,<br>    \"min_child_samples\": 6,<br>    \"num_leaves\": 28<br>  }<br>}",
          "{<br>  \"number\": 14,<br>  \"values\": [<br>    0.25207267585420734,<br>    0.04634182960220634<br>  ],<br>  \"params\": {<br>    \"bagging_fraction\": 0.6095592825335732,<br>    \"bagging_freq\": 7,<br>    \"clip\": 10,<br>    \"feature_fraction\": 0.6136411013785914,<br>    \"learning_rate\": 0.08558702661329928,<br>    \"min_child_samples\": 95,<br>    \"num_leaves\": 20<br>  }<br>}",
          "{<br>  \"number\": 15,<br>  \"values\": [<br>    0.2510487798263732,<br>    0.042855835487475624<br>  ],<br>  \"params\": {<br>    \"bagging_fraction\": 0.6099950092671378,<br>    \"bagging_freq\": 7,<br>    \"clip\": 10,<br>    \"feature_fraction\": 0.6016807568039526,<br>    \"learning_rate\": 0.04533764085809857,<br>    \"min_child_samples\": 99,<br>    \"num_leaves\": 20<br>  }<br>}",
          "{<br>  \"number\": 16,<br>  \"values\": [<br>    0.25059371687763465,<br>    0.045914211205229094<br>  ],<br>  \"params\": {<br>    \"bagging_fraction\": 0.7475390463558648,<br>    \"bagging_freq\": 10,<br>    \"clip\": 5,<br>    \"feature_fraction\": 0.8182230392868988,<br>    \"learning_rate\": 0.03967625748877625,<br>    \"min_child_samples\": 93,<br>    \"num_leaves\": 42<br>  }<br>}",
          "{<br>  \"number\": 17,<br>  \"values\": [<br>    0.2551482749215062,<br>    0.04653185223766709<br>  ],<br>  \"params\": {<br>    \"bagging_fraction\": 0.6111162733775585,<br>    \"bagging_freq\": 6,<br>    \"clip\": 8,<br>    \"feature_fraction\": 0.6022852856305764,<br>    \"learning_rate\": 0.08588868910111831,<br>    \"min_child_samples\": 100,<br>    \"num_leaves\": 21<br>  }<br>}",
          "{<br>  \"number\": 18,<br>  \"values\": [<br>    0.2518727944350504,<br>    0.04567903938972606<br>  ],<br>  \"params\": {<br>    \"bagging_fraction\": 0.7231675835570488,<br>    \"bagging_freq\": 6,<br>    \"clip\": 8,<br>    \"feature_fraction\": 0.6065098908235,<br>    \"learning_rate\": 0.09115033261096941,<br>    \"min_child_samples\": 89,<br>    \"num_leaves\": 20<br>  }<br>}",
          "{<br>  \"number\": 19,<br>  \"values\": [<br>    0.2541687961438509,<br>    0.046080009629855145<br>  ],<br>  \"params\": {<br>    \"bagging_fraction\": 0.7211136403174878,<br>    \"bagging_freq\": 6,<br>    \"clip\": 8,<br>    \"feature_fraction\": 0.6064035069277771,<br>    \"learning_rate\": 0.09900394639787162,<br>    \"min_child_samples\": 93,<br>    \"num_leaves\": 22<br>  }<br>}",
          "{<br>  \"number\": 20,<br>  \"values\": [<br>    0.23562234234360457,<br>    0.0124525593743543<br>  ],<br>  \"params\": {<br>    \"bagging_fraction\": 0.6477492578354561,<br>    \"bagging_freq\": 9,<br>    \"clip\": 6,<br>    \"feature_fraction\": 0.6271862692582327,<br>    \"learning_rate\": 0.0035985661040553217,<br>    \"min_child_samples\": 86,<br>    \"num_leaves\": 26<br>  }<br>}",
          "{<br>  \"number\": 21,<br>  \"values\": [<br>    0.2331076114063391,<br>    0.004326075881704861<br>  ],<br>  \"params\": {<br>    \"bagging_fraction\": 0.7829807510529463,<br>    \"bagging_freq\": 6,<br>    \"clip\": 8,<br>    \"feature_fraction\": 0.6584802534350949,<br>    \"learning_rate\": 0.0010177342662204335,<br>    \"min_child_samples\": 71,<br>    \"num_leaves\": 36<br>  }<br>}",
          "{<br>  \"number\": 22,<br>  \"values\": [<br>    0.25223043531156414,<br>    0.0381353610709515<br>  ],<br>  \"params\": {<br>    \"bagging_fraction\": 0.7865792034150735,<br>    \"bagging_freq\": 6,<br>    \"clip\": 7,<br>    \"feature_fraction\": 0.8995793040651936,<br>    \"learning_rate\": 0.01883736374502402,<br>    \"min_child_samples\": 73,<br>    \"num_leaves\": 37<br>  }<br>}",
          "{<br>  \"number\": 23,<br>  \"values\": [<br>    0.25515259339252566,<br>    0.037454396167230675<br>  ],<br>  \"params\": {<br>    \"bagging_fraction\": 0.782838075713027,<br>    \"bagging_freq\": 6,<br>    \"clip\": 7,<br>    \"feature_fraction\": 0.6581078122644295,<br>    \"learning_rate\": 0.017600607941697516,<br>    \"min_child_samples\": 77,<br>    \"num_leaves\": 35<br>  }<br>}",
          "{<br>  \"number\": 24,<br>  \"values\": [<br>    0.22972080038296744,<br>    0.010093900377606713<br>  ],<br>  \"params\": {<br>    \"bagging_fraction\": 0.7396596907105826,<br>    \"bagging_freq\": 6,<br>    \"clip\": 4,<br>    \"feature_fraction\": 0.7417720059337526,<br>    \"learning_rate\": 0.0027586572423554854,<br>    \"min_child_samples\": 16,<br>    \"num_leaves\": 30<br>  }<br>}",
          "{<br>  \"number\": 32,<br>  \"values\": [<br>    0.22180971047120115,<br>    0.004010765663428395<br>  ],<br>  \"params\": {<br>    \"bagging_fraction\": 0.6357559302435015,<br>    \"bagging_freq\": 9,<br>    \"clip\": 7,<br>    \"feature_fraction\": 0.6967408637415603,<br>    \"learning_rate\": 0.001033656216035787,<br>    \"min_child_samples\": 63,<br>    \"num_leaves\": 21<br>  }<br>}",
          "{<br>  \"number\": 34,<br>  \"values\": [<br>    0.2563816098760907,<br>    0.0467068672467712<br>  ],<br>  \"params\": {<br>    \"bagging_fraction\": 0.6380112062410876,<br>    \"bagging_freq\": 5,<br>    \"clip\": 2,<br>    \"feature_fraction\": 0.6454472548495617,<br>    \"learning_rate\": 0.05694756257750822,<br>    \"min_child_samples\": 82,<br>    \"num_leaves\": 33<br>  }<br>}",
          "{<br>  \"number\": 37,<br>  \"values\": [<br>    0.2536890198187514,<br>    0.04214383183808268<br>  ],<br>  \"params\": {<br>    \"bagging_fraction\": 0.7191609311921344,<br>    \"bagging_freq\": 7,<br>    \"clip\": 6,<br>    \"feature_fraction\": 0.7597682016678868,<br>    \"learning_rate\": 0.023789572594604767,<br>    \"min_child_samples\": 67,<br>    \"num_leaves\": 40<br>  }<br>}",
          "{<br>  \"number\": 40,<br>  \"values\": [<br>    0.2477486163429812,<br>    0.04547988004298553<br>  ],<br>  \"params\": {<br>    \"bagging_fraction\": 0.6945813846284481,<br>    \"bagging_freq\": 5,<br>    \"clip\": 2,<br>    \"feature_fraction\": 0.6437710653291246,<br>    \"learning_rate\": 0.060274359418488854,<br>    \"min_child_samples\": 28,<br>    \"num_leaves\": 65<br>  }<br>}",
          "{<br>  \"number\": 44,<br>  \"values\": [<br>    0.2400396363031501,<br>    0.024395134398532248<br>  ],<br>  \"params\": {<br>    \"bagging_fraction\": 0.830800725430304,<br>    \"bagging_freq\": 10,<br>    \"clip\": 9,<br>    \"feature_fraction\": 0.853758161243353,<br>    \"learning_rate\": 0.008579411689816192,<br>    \"min_child_samples\": 19,<br>    \"num_leaves\": 36<br>  }<br>}",
          "{<br>  \"number\": 51,<br>  \"values\": [<br>    0.252158016680459,<br>    0.04527253395818254<br>  ],<br>  \"params\": {<br>    \"bagging_fraction\": 0.8769654881230391,<br>    \"bagging_freq\": 10,<br>    \"clip\": 7,<br>    \"feature_fraction\": 0.6132944935072089,<br>    \"learning_rate\": 0.07028989091029153,<br>    \"min_child_samples\": 74,<br>    \"num_leaves\": 40<br>  }<br>}",
          "{<br>  \"number\": 56,<br>  \"values\": [<br>    0.2524874454749163,<br>    0.04194529287913795<br>  ],<br>  \"params\": {<br>    \"bagging_fraction\": 0.7499808764947822,<br>    \"bagging_freq\": 10,<br>    \"clip\": 8,<br>    \"feature_fraction\": 0.8320628332704308,<br>    \"learning_rate\": 0.032670213299518816,<br>    \"min_child_samples\": 56,<br>    \"num_leaves\": 41<br>  }<br>}",
          "{<br>  \"number\": 57,<br>  \"values\": [<br>    0.2593911527307614,<br>    0.04095048283766456<br>  ],<br>  \"params\": {<br>    \"bagging_fraction\": 0.6584679709610489,<br>    \"bagging_freq\": 5,<br>    \"clip\": 2,<br>    \"feature_fraction\": 0.6901564421872136,<br>    \"learning_rate\": 0.02839209583487367,<br>    \"min_child_samples\": 59,<br>    \"num_leaves\": 54<br>  }<br>}",
          "{<br>  \"number\": 60,<br>  \"values\": [<br>    0.25745863836769867,<br>    0.042236069375491736<br>  ],<br>  \"params\": {<br>    \"bagging_fraction\": 0.6886976288693628,<br>    \"bagging_freq\": 7,<br>    \"clip\": 5,<br>    \"feature_fraction\": 0.7309795708294655,<br>    \"learning_rate\": 0.020262051843507097,<br>    \"min_child_samples\": 97,<br>    \"num_leaves\": 58<br>  }<br>}",
          "{<br>  \"number\": 65,<br>  \"values\": [<br>    0.2550914729790589,<br>    0.028988906380625457<br>  ],<br>  \"params\": {<br>    \"bagging_fraction\": 0.6578902799143461,<br>    \"bagging_freq\": 5,<br>    \"clip\": 2,<br>    \"feature_fraction\": 0.7190861398342727,<br>    \"learning_rate\": 0.012212672890276298,<br>    \"min_child_samples\": 81,<br>    \"num_leaves\": 59<br>  }<br>}",
          "{<br>  \"number\": 67,<br>  \"values\": [<br>    0.23485961764825977,<br>    0.011918292334737512<br>  ],<br>  \"params\": {<br>    \"bagging_fraction\": 0.6788673826156724,<br>    \"bagging_freq\": 8,<br>    \"clip\": 4,<br>    \"feature_fraction\": 0.7140439358330123,<br>    \"learning_rate\": 0.0033850284695300143,<br>    \"min_child_samples\": 67,<br>    \"num_leaves\": 30<br>  }<br>}",
          "{<br>  \"number\": 68,<br>  \"values\": [<br>    0.2519274028639646,<br>    0.045869515991385335<br>  ],<br>  \"params\": {<br>    \"bagging_fraction\": 0.6581203722879798,<br>    \"bagging_freq\": 5,<br>    \"clip\": 2,<br>    \"feature_fraction\": 0.682394670591849,<br>    \"learning_rate\": 0.05238570656889756,<br>    \"min_child_samples\": 59,<br>    \"num_leaves\": 52<br>  }<br>}",
          "{<br>  \"number\": 69,<br>  \"values\": [<br>    0.24765346197357896,<br>    0.04771183879653773<br>  ],<br>  \"params\": {<br>    \"bagging_fraction\": 0.6289500805456423,<br>    \"bagging_freq\": 5,<br>    \"clip\": 3,<br>    \"feature_fraction\": 0.678266152753961,<br>    \"learning_rate\": 0.056781969178912185,<br>    \"min_child_samples\": 58,<br>    \"num_leaves\": 47<br>  }<br>}",
          "{<br>  \"number\": 71,<br>  \"values\": [<br>    0.23436450525854619,<br>    0.0061056319668962855<br>  ],<br>  \"params\": {<br>    \"bagging_fraction\": 0.6251545492310306,<br>    \"bagging_freq\": 6,<br>    \"clip\": 3,<br>    \"feature_fraction\": 0.8379259048162366,<br>    \"learning_rate\": 0.0014154521958767007,<br>    \"min_child_samples\": 66,<br>    \"num_leaves\": 60<br>  }<br>}",
          "{<br>  \"number\": 73,<br>  \"values\": [<br>    0.2534580857965914,<br>    0.046865394925502235<br>  ],<br>  \"params\": {<br>    \"bagging_fraction\": 0.6269113292333789,<br>    \"bagging_freq\": 5,<br>    \"clip\": 3,<br>    \"feature_fraction\": 0.6794231665952034,<br>    \"learning_rate\": 0.06505853792918165,<br>    \"min_child_samples\": 53,<br>    \"num_leaves\": 48<br>  }<br>}",
          "{<br>  \"number\": 75,<br>  \"values\": [<br>    0.23650534979547855,<br>    0.011091088626971835<br>  ],<br>  \"params\": {<br>    \"bagging_fraction\": 0.7011406354354507,<br>    \"bagging_freq\": 6,<br>    \"clip\": 1,<br>    \"feature_fraction\": 0.853219662835077,<br>    \"learning_rate\": 0.004400245851050312,<br>    \"min_child_samples\": 30,<br>    \"num_leaves\": 44<br>  }<br>}",
          "{<br>  \"number\": 80,<br>  \"values\": [<br>    0.231527403255664,<br>    0.012343490840171167<br>  ],<br>  \"params\": {<br>    \"bagging_fraction\": 0.6100681000360957,<br>    \"bagging_freq\": 8,<br>    \"clip\": 4,<br>    \"feature_fraction\": 0.8643548042806717,<br>    \"learning_rate\": 0.003269049485185014,<br>    \"min_child_samples\": 5,<br>    \"num_leaves\": 46<br>  }<br>}",
          "{<br>  \"number\": 86,<br>  \"values\": [<br>    0.22412172896421062,<br>    0.006276954953076341<br>  ],<br>  \"params\": {<br>    \"bagging_fraction\": 0.874505349239366,<br>    \"bagging_freq\": 10,<br>    \"clip\": 4,<br>    \"feature_fraction\": 0.7370412314244079,<br>    \"learning_rate\": 0.0017019073019314578,<br>    \"min_child_samples\": 48,<br>    \"num_leaves\": 24<br>  }<br>}",
          "{<br>  \"number\": 90,<br>  \"values\": [<br>    0.2321364482504366,<br>    0.006811424279535183<br>  ],<br>  \"params\": {<br>    \"bagging_fraction\": 0.756320928743761,<br>    \"bagging_freq\": 10,<br>    \"clip\": 4,<br>    \"feature_fraction\": 0.6670681438859979,<br>    \"learning_rate\": 0.0017687515825011775,<br>    \"min_child_samples\": 96,<br>    \"num_leaves\": 31<br>  }<br>}",
          "{<br>  \"number\": 96,<br>  \"values\": [<br>    0.2561024604336293,<br>    0.04601853512406273<br>  ],<br>  \"params\": {<br>    \"bagging_fraction\": 0.6626158977100964,<br>    \"bagging_freq\": 10,<br>    \"clip\": 4,<br>    \"feature_fraction\": 0.7150376403626323,<br>    \"learning_rate\": 0.026427282217006753,<br>    \"min_child_samples\": 67,<br>    \"num_leaves\": 69<br>  }<br>}",
          "{<br>  \"number\": 98,<br>  \"values\": [<br>    0.25569177389832687,<br>    0.046468181368955475<br>  ],<br>  \"params\": {<br>    \"bagging_fraction\": 0.64270600500499,<br>    \"bagging_freq\": 5,<br>    \"clip\": 3,<br>    \"feature_fraction\": 0.6867582868150497,<br>    \"learning_rate\": 0.03125090293139831,<br>    \"min_child_samples\": 41,<br>    \"num_leaves\": 72<br>  }<br>}",
          "{<br>  \"number\": 100,<br>  \"values\": [<br>    0.2387328314485075,<br>    0.006792204786153944<br>  ],<br>  \"params\": {<br>    \"bagging_fraction\": 0.8275064862931905,<br>    \"bagging_freq\": 10,<br>    \"clip\": 6,<br>    \"feature_fraction\": 0.7459139233643061,<br>    \"learning_rate\": 0.001417135358816386,<br>    \"min_child_samples\": 62,<br>    \"num_leaves\": 71<br>  }<br>}",
          "{<br>  \"number\": 104,<br>  \"values\": [<br>    0.24693086618705454,<br>    0.04848970669885644<br>  ],<br>  \"params\": {<br>    \"bagging_fraction\": 0.6263602509539565,<br>    \"bagging_freq\": 5,<br>    \"clip\": 3,<br>    \"feature_fraction\": 0.6404333196106097,<br>    \"learning_rate\": 0.06083644002777484,<br>    \"min_child_samples\": 53,<br>    \"num_leaves\": 49<br>  }<br>}",
          "{<br>  \"number\": 106,<br>  \"values\": [<br>    0.24075653982835699,<br>    0.01877714358480642<br>  ],<br>  \"params\": {<br>    \"bagging_fraction\": 0.7911128743581171,<br>    \"bagging_freq\": 9,<br>    \"clip\": 10,<br>    \"feature_fraction\": 0.7490165543515241,<br>    \"learning_rate\": 0.00517462065080211,<br>    \"min_child_samples\": 23,<br>    \"num_leaves\": 53<br>  }<br>}",
          "{<br>  \"number\": 111,<br>  \"values\": [<br>    0.24466658648562822,<br>    0.022888986770438602<br>  ],<br>  \"params\": {<br>    \"bagging_fraction\": 0.67382630864636,<br>    \"bagging_freq\": 5,<br>    \"clip\": 2,<br>    \"feature_fraction\": 0.6573416787494221,<br>    \"learning_rate\": 0.010140499733436835,<br>    \"min_child_samples\": 20,<br>    \"num_leaves\": 21<br>  }<br>}",
          "{<br>  \"number\": 115,<br>  \"values\": [<br>    0.23853025979036646,<br>    0.016194120183242733<br>  ],<br>  \"params\": {<br>    \"bagging_fraction\": 0.8005869158871185,<br>    \"bagging_freq\": 6,<br>    \"clip\": 5,<br>    \"feature_fraction\": 0.888513036474291,<br>    \"learning_rate\": 0.004166027950160999,<br>    \"min_child_samples\": 94,<br>    \"num_leaves\": 58<br>  }<br>}",
          "{<br>  \"number\": 120,<br>  \"values\": [<br>    0.24763357064517708,<br>    0.03756281412620188<br>  ],<br>  \"params\": {<br>    \"bagging_fraction\": 0.6218057196088899,<br>    \"bagging_freq\": 5,<br>    \"clip\": 1,<br>    \"feature_fraction\": 0.6287499913389536,<br>    \"learning_rate\": 0.07384369161531945,<br>    \"min_child_samples\": 53,<br>    \"num_leaves\": 49<br>  }<br>}",
          "{<br>  \"number\": 122,<br>  \"values\": [<br>    0.2339973503798085,<br>    0.008131242738732003<br>  ],<br>  \"params\": {<br>    \"bagging_fraction\": 0.8572363059999858,<br>    \"bagging_freq\": 8,<br>    \"clip\": 3,<br>    \"feature_fraction\": 0.7061789981396771,<br>    \"learning_rate\": 0.0021646434231700055,<br>    \"min_child_samples\": 92,<br>    \"num_leaves\": 38<br>  }<br>}",
          "{<br>  \"number\": 125,<br>  \"values\": [<br>    0.2492085972736926,<br>    0.047548550410349555<br>  ],<br>  \"params\": {<br>    \"bagging_fraction\": 0.6483943210302472,<br>    \"bagging_freq\": 5,<br>    \"clip\": 3,<br>    \"feature_fraction\": 0.638992654342367,<br>    \"learning_rate\": 0.05141578654361213,<br>    \"min_child_samples\": 45,<br>    \"num_leaves\": 49<br>  }<br>}",
          "{<br>  \"number\": 128,<br>  \"values\": [<br>    0.25066231219644874,<br>    0.04833165667390538<br>  ],<br>  \"params\": {<br>    \"bagging_fraction\": 0.6014286495209118,<br>    \"bagging_freq\": 5,<br>    \"clip\": 3,<br>    \"feature_fraction\": 0.6349071192219108,<br>    \"learning_rate\": 0.05134743958041476,<br>    \"min_child_samples\": 46,<br>    \"num_leaves\": 49<br>  }<br>}",
          "{<br>  \"number\": 131,<br>  \"values\": [<br>    0.25130098864651734,<br>    0.04438334909609698<br>  ],<br>  \"params\": {<br>    \"bagging_fraction\": 0.8221658796338324,<br>    \"bagging_freq\": 5,<br>    \"clip\": 6,<br>    \"feature_fraction\": 0.7423973109667831,<br>    \"learning_rate\": 0.02943357440064707,<br>    \"min_child_samples\": 79,<br>    \"num_leaves\": 77<br>  }<br>}",
          "{<br>  \"number\": 134,<br>  \"values\": [<br>    0.2561560355784839,<br>    0.03409368959764214<br>  ],<br>  \"params\": {<br>    \"bagging_fraction\": 0.6004138196751403,<br>    \"bagging_freq\": 5,<br>    \"clip\": 1,<br>    \"feature_fraction\": 0.6446992478498745,<br>    \"learning_rate\": 0.03803651625040041,<br>    \"min_child_samples\": 81,<br>    \"num_leaves\": 55<br>  }<br>}",
          "{<br>  \"number\": 137,<br>  \"values\": [<br>    0.25016285857702897,<br>    0.04181127245017868<br>  ],<br>  \"params\": {<br>    \"bagging_fraction\": 0.8531019835500566,<br>    \"bagging_freq\": 5,<br>    \"clip\": 7,<br>    \"feature_fraction\": 0.7627135866702984,<br>    \"learning_rate\": 0.07122764680334491,<br>    \"min_child_samples\": 52,<br>    \"num_leaves\": 46<br>  }<br>}",
          "{<br>  \"number\": 140,<br>  \"values\": [<br>    0.2554292974248284,<br>    0.046744371887857405<br>  ],<br>  \"params\": {<br>    \"bagging_fraction\": 0.619472022652426,<br>    \"bagging_freq\": 5,<br>    \"clip\": 2,<br>    \"feature_fraction\": 0.625713326712849,<br>    \"learning_rate\": 0.04589626633758947,<br>    \"min_child_samples\": 36,<br>    \"num_leaves\": 63<br>  }<br>}",
          "{<br>  \"number\": 146,<br>  \"values\": [<br>    0.24332328094756836,<br>    0.023389831587818044<br>  ],<br>  \"params\": {<br>    \"bagging_fraction\": 0.8638715897445095,<br>    \"bagging_freq\": 8,<br>    \"clip\": 9,<br>    \"feature_fraction\": 0.8240731552032959,<br>    \"learning_rate\": 0.006895849274913606,<br>    \"min_child_samples\": 49,<br>    \"num_leaves\": 56<br>  }<br>}",
          "{<br>  \"number\": 148,<br>  \"values\": [<br>    0.25897399213247774,<br>    0.04434091412283159<br>  ],<br>  \"params\": {<br>    \"bagging_fraction\": 0.641265825082709,<br>    \"bagging_freq\": 5,<br>    \"clip\": 2,<br>    \"feature_fraction\": 0.7922506005252825,<br>    \"learning_rate\": 0.03669759422259285,<br>    \"min_child_samples\": 86,<br>    \"num_leaves\": 51<br>  }<br>}",
          "{<br>  \"number\": 152,<br>  \"values\": [<br>    0.25330115548542037,<br>    0.043945279766755996<br>  ],<br>  \"params\": {<br>    \"bagging_fraction\": 0.6616126336371765,<br>    \"bagging_freq\": 8,<br>    \"clip\": 6,<br>    \"feature_fraction\": 0.640142010361404,<br>    \"learning_rate\": 0.030324698393459533,<br>    \"min_child_samples\": 55,<br>    \"num_leaves\": 37<br>  }<br>}",
          "{<br>  \"number\": 158,<br>  \"values\": [<br>    0.2515710371057221,<br>    0.046349739745160656<br>  ],<br>  \"params\": {<br>    \"bagging_fraction\": 0.7133692555155452,<br>    \"bagging_freq\": 5,<br>    \"clip\": 4,<br>    \"feature_fraction\": 0.7082692496389729,<br>    \"learning_rate\": 0.06462230862820575,<br>    \"min_child_samples\": 61,<br>    \"num_leaves\": 46<br>  }<br>}",
          "{<br>  \"number\": 163,<br>  \"values\": [<br>    0.2458325296690641,<br>    0.005825019112641994<br>  ],<br>  \"params\": {<br>    \"bagging_fraction\": 0.6973306497870516,<br>    \"bagging_freq\": 8,<br>    \"clip\": 3,<br>    \"feature_fraction\": 0.6374922905446008,<br>    \"learning_rate\": 0.00134676346902176,<br>    \"min_child_samples\": 63,<br>    \"num_leaves\": 73<br>  }<br>}",
          "{<br>  \"number\": 164,<br>  \"values\": [<br>    0.24976245741965794,<br>    0.045481535767165626<br>  ],<br>  \"params\": {<br>    \"bagging_fraction\": 0.6225339938967415,<br>    \"bagging_freq\": 5,<br>    \"clip\": 2,<br>    \"feature_fraction\": 0.7959302017579714,<br>    \"learning_rate\": 0.051418640801449214,<br>    \"min_child_samples\": 37,<br>    \"num_leaves\": 51<br>  }<br>}",
          "{<br>  \"number\": 166,<br>  \"values\": [<br>    0.2544809979913562,<br>    0.045644328937709755<br>  ],<br>  \"params\": {<br>    \"bagging_fraction\": 0.6175921431492007,<br>    \"bagging_freq\": 5,<br>    \"clip\": 2,<br>    \"feature_fraction\": 0.7940198120074988,<br>    \"learning_rate\": 0.04581545990647046,<br>    \"min_child_samples\": 37,<br>    \"num_leaves\": 50<br>  }<br>}",
          "{<br>  \"number\": 167,<br>  \"values\": [<br>    0.2570648391977908,<br>    0.04661763817651943<br>  ],<br>  \"params\": {<br>    \"bagging_fraction\": 0.6185043244746561,<br>    \"bagging_freq\": 5,<br>    \"clip\": 2,<br>    \"feature_fraction\": 0.7980231834970967,<br>    \"learning_rate\": 0.04548770827462201,<br>    \"min_child_samples\": 86,<br>    \"num_leaves\": 50<br>  }<br>}",
          "{<br>  \"number\": 171,<br>  \"values\": [<br>    0.2549514275985368,<br>    0.03426878121591803<br>  ],<br>  \"params\": {<br>    \"bagging_fraction\": 0.6367427968805746,<br>    \"bagging_freq\": 6,<br>    \"clip\": 1,<br>    \"feature_fraction\": 0.7737105201127309,<br>    \"learning_rate\": 0.04180624270418984,<br>    \"min_child_samples\": 88,<br>    \"num_leaves\": 43<br>  }<br>}",
          "{<br>  \"number\": 172,<br>  \"values\": [<br>    0.2473845761882104,<br>    0.043494700488410754<br>  ],<br>  \"params\": {<br>    \"bagging_fraction\": 0.6789762895756433,<br>    \"bagging_freq\": 5,<br>    \"clip\": 2,<br>    \"feature_fraction\": 0.8727713156455714,<br>    \"learning_rate\": 0.08646668939405103,<br>    \"min_child_samples\": 19,<br>    \"num_leaves\": 35<br>  }<br>}",
          "{<br>  \"number\": 178,<br>  \"values\": [<br>    0.2526240251138549,<br>    0.046428095142063475<br>  ],<br>  \"params\": {<br>    \"bagging_fraction\": 0.6017644539366374,<br>    \"bagging_freq\": 5,<br>    \"clip\": 3,<br>    \"feature_fraction\": 0.8042562360835201,<br>    \"learning_rate\": 0.03721564206202761,<br>    \"min_child_samples\": 43,<br>    \"num_leaves\": 54<br>  }<br>}",
          "{<br>  \"number\": 179,<br>  \"values\": [<br>    0.25587591479500116,<br>    0.04724781818784729<br>  ],<br>  \"params\": {<br>    \"bagging_fraction\": 0.6022370562116139,<br>    \"bagging_freq\": 5,<br>    \"clip\": 3,<br>    \"feature_fraction\": 0.8051288843151096,<br>    \"learning_rate\": 0.036794963027321374,<br>    \"min_child_samples\": 83,<br>    \"num_leaves\": 48<br>  }<br>}",
          "{<br>  \"number\": 181,<br>  \"values\": [<br>    0.25610722536722275,<br>    0.027179839454921195<br>  ],<br>  \"params\": {<br>    \"bagging_fraction\": 0.6815986475710718,<br>    \"bagging_freq\": 9,<br>    \"clip\": 1,<br>    \"feature_fraction\": 0.8012132762977127,<br>    \"learning_rate\": 0.01803334191715176,<br>    \"min_child_samples\": 93,<br>    \"num_leaves\": 69<br>  }<br>}",
          "{<br>  \"number\": 182,<br>  \"values\": [<br>    0.25476749082570915,<br>    0.047309056387881854<br>  ],<br>  \"params\": {<br>    \"bagging_fraction\": 0.6000869820031035,<br>    \"bagging_freq\": 6,<br>    \"clip\": 3,<br>    \"feature_fraction\": 0.8095327165504237,<br>    \"learning_rate\": 0.036322693656374534,<br>    \"min_child_samples\": 86,<br>    \"num_leaves\": 62<br>  }<br>}",
          "{<br>  \"number\": 183,<br>  \"values\": [<br>    0.2546387645636954,<br>    0.046733357642835816<br>  ],<br>  \"params\": {<br>    \"bagging_fraction\": 0.6049175345108543,<br>    \"bagging_freq\": 6,<br>    \"clip\": 3,<br>    \"feature_fraction\": 0.8084179958177484,<br>    \"learning_rate\": 0.035904201333468874,<br>    \"min_child_samples\": 84,<br>    \"num_leaves\": 56<br>  }<br>}",
          "{<br>  \"number\": 185,<br>  \"values\": [<br>    0.2593933942975043,<br>    0.04261669777992305<br>  ],<br>  \"params\": {<br>    \"bagging_fraction\": 0.6138863286583512,<br>    \"bagging_freq\": 5,<br>    \"clip\": 3,<br>    \"feature_fraction\": 0.8054843861208135,<br>    \"learning_rate\": 0.023097212441573506,<br>    \"min_child_samples\": 85,<br>    \"num_leaves\": 56<br>  }<br>}",
          "{<br>  \"number\": 186,<br>  \"values\": [<br>    0.25799312207928643,<br>    0.04126507740953256<br>  ],<br>  \"params\": {<br>    \"bagging_fraction\": 0.6089568661302673,<br>    \"bagging_freq\": 5,<br>    \"clip\": 3,<br>    \"feature_fraction\": 0.7921145657786536,<br>    \"learning_rate\": 0.022761322673581635,<br>    \"min_child_samples\": 86,<br>    \"num_leaves\": 52<br>  }<br>}",
          "{<br>  \"number\": 187,<br>  \"values\": [<br>    0.2545116424988928,<br>    0.04292888163537001<br>  ],<br>  \"params\": {<br>    \"bagging_fraction\": 0.6108284020167323,<br>    \"bagging_freq\": 5,<br>    \"clip\": 5,<br>    \"feature_fraction\": 0.7922128496156389,<br>    \"learning_rate\": 0.0232525232763027,<br>    \"min_child_samples\": 91,<br>    \"num_leaves\": 51<br>  }<br>}",
          "{<br>  \"number\": 191,<br>  \"values\": [<br>    0.24815267196513136,<br>    0.04593632289520233<br>  ],<br>  \"params\": {<br>    \"bagging_fraction\": 0.6333828103160839,<br>    \"bagging_freq\": 5,<br>    \"clip\": 5,<br>    \"feature_fraction\": 0.8174012854308743,<br>    \"learning_rate\": 0.09995916702399384,<br>    \"min_child_samples\": 76,<br>    \"num_leaves\": 54<br>  }<br>}",
          "{<br>  \"number\": 193,<br>  \"values\": [<br>    0.23103870444296876,<br>    0.008556667582814037<br>  ],<br>  \"params\": {<br>    \"bagging_fraction\": 0.7482187375087188,<br>    \"bagging_freq\": 9,<br>    \"clip\": 3,<br>    \"feature_fraction\": 0.7955410757160797,<br>    \"learning_rate\": 0.002242656969507945,<br>    \"min_child_samples\": 47,<br>    \"num_leaves\": 38<br>  }<br>}",
          "{<br>  \"number\": 194,<br>  \"values\": [<br>    0.25331229054121607,<br>    0.03467448675142082<br>  ],<br>  \"params\": {<br>    \"bagging_fraction\": 0.6296495639947017,<br>    \"bagging_freq\": 5,<br>    \"clip\": 5,<br>    \"feature_fraction\": 0.8165606081978698,<br>    \"learning_rate\": 0.01283511135785599,<br>    \"min_child_samples\": 77,<br>    \"num_leaves\": 57<br>  }<br>}",
          "{<br>  \"number\": 198,<br>  \"values\": [<br>    0.25056448481141624,<br>    0.04254951455817335<br>  ],<br>  \"params\": {<br>    \"bagging_fraction\": 0.6490170994418917,<br>    \"bagging_freq\": 6,<br>    \"clip\": 3,<br>    \"feature_fraction\": 0.7855948073758073,<br>    \"learning_rate\": 0.026552560624294938,<br>    \"min_child_samples\": 11,<br>    \"num_leaves\": 80<br>  }<br>}",
          "{<br>  \"number\": 199,<br>  \"values\": [<br>    0.24700147204702655,<br>    0.028334536684486378<br>  ],<br>  \"params\": {<br>    \"bagging_fraction\": 0.8441925985696065,<br>    \"bagging_freq\": 6,<br>    \"clip\": 8,<br>    \"feature_fraction\": 0.7144577129429659,<br>    \"learning_rate\": 0.010802585242814532,<br>    \"min_child_samples\": 21,<br>    \"num_leaves\": 39<br>  }<br>}",
          "{<br>  \"number\": 200,<br>  \"values\": [<br>    0.24790154545618598,<br>    0.03576369639421151<br>  ],<br>  \"params\": {<br>    \"bagging_fraction\": 0.6510261857464248,<br>    \"bagging_freq\": 6,<br>    \"clip\": 4,<br>    \"feature_fraction\": 0.7861965193406977,<br>    \"learning_rate\": 0.015864432562914667,<br>    \"min_child_samples\": 9,<br>    \"num_leaves\": 61<br>  }<br>}",
          "{<br>  \"number\": 203,<br>  \"values\": [<br>    0.25415197399725314,<br>    0.04482068966304309<br>  ],<br>  \"params\": {<br>    \"bagging_fraction\": 0.6178399112027322,<br>    \"bagging_freq\": 5,<br>    \"clip\": 2,<br>    \"feature_fraction\": 0.8263275997456235,<br>    \"learning_rate\": 0.04236572944092018,<br>    \"min_child_samples\": 88,<br>    \"num_leaves\": 53<br>  }<br>}",
          "{<br>  \"number\": 204,<br>  \"values\": [<br>    0.2504413619099714,<br>    0.046373468608542634<br>  ],<br>  \"params\": {<br>    \"bagging_fraction\": 0.6166055053714168,<br>    \"bagging_freq\": 5,<br>    \"clip\": 2,<br>    \"feature_fraction\": 0.8263419028338701,<br>    \"learning_rate\": 0.05689059295821594,<br>    \"min_child_samples\": 89,<br>    \"num_leaves\": 48<br>  }<br>}",
          "{<br>  \"number\": 205,<br>  \"values\": [<br>    0.2391968897830871,<br>    0.019345545606497483<br>  ],<br>  \"params\": {<br>    \"bagging_fraction\": 0.7976259656722369,<br>    \"bagging_freq\": 8,<br>    \"clip\": 10,<br>    \"feature_fraction\": 0.794340697511231,<br>    \"learning_rate\": 0.005534571955491278,<br>    \"min_child_samples\": 25,<br>    \"num_leaves\": 48<br>  }<br>}",
          "{<br>  \"number\": 208,<br>  \"values\": [<br>    0.25430478180553473,<br>    0.04644232692478911<br>  ],<br>  \"params\": {<br>    \"bagging_fraction\": 0.6143301218266968,<br>    \"bagging_freq\": 5,<br>    \"clip\": 4,<br>    \"feature_fraction\": 0.7261257387914772,<br>    \"learning_rate\": 0.033776715435541525,<br>    \"min_child_samples\": 84,<br>    \"num_leaves\": 47<br>  }<br>}",
          "{<br>  \"number\": 209,<br>  \"values\": [<br>    0.25315074296045964,<br>    0.04690178582537097<br>  ],<br>  \"params\": {<br>    \"bagging_fraction\": 0.6302742307187816,<br>    \"bagging_freq\": 5,<br>    \"clip\": 4,<br>    \"feature_fraction\": 0.7701407334166189,<br>    \"learning_rate\": 0.03325009131325325,<br>    \"min_child_samples\": 71,<br>    \"num_leaves\": 59<br>  }<br>}",
          "{<br>  \"number\": 210,<br>  \"values\": [<br>    0.24444104307763004,<br>    0.04379306804858518<br>  ],<br>  \"params\": {<br>    \"bagging_fraction\": 0.6138785098762666,<br>    \"bagging_freq\": 10,<br>    \"clip\": 2,<br>    \"feature_fraction\": 0.892579547412982,<br>    \"learning_rate\": 0.09077781870054079,<br>    \"min_child_samples\": 10,<br>    \"num_leaves\": 50<br>  }<br>}",
          "{<br>  \"number\": 212,<br>  \"values\": [<br>    0.2528204269663969,<br>    0.0475844319376022<br>  ],<br>  \"params\": {<br>    \"bagging_fraction\": 0.6258462050940089,<br>    \"bagging_freq\": 5,<br>    \"clip\": 3,<br>    \"feature_fraction\": 0.8345513149617242,<br>    \"learning_rate\": 0.07871180434574182,<br>    \"min_child_samples\": 70,<br>    \"num_leaves\": 44<br>  }<br>}",
          "{<br>  \"number\": 215,<br>  \"values\": [<br>    0.24103480352696777,<br>    0.014129834435634203<br>  ],<br>  \"params\": {<br>    \"bagging_fraction\": 0.6404838553121638,<br>    \"bagging_freq\": 5,<br>    \"clip\": 6,<br>    \"feature_fraction\": 0.6810751593056465,<br>    \"learning_rate\": 0.00349685949342087,<br>    \"min_child_samples\": 23,<br>    \"num_leaves\": 54<br>  }<br>}",
          "{<br>  \"number\": 219,<br>  \"values\": [<br>    0.2600814901831644,<br>    0.04238174784050508<br>  ],<br>  \"params\": {<br>    \"bagging_fraction\": 0.6403014674148008,<br>    \"bagging_freq\": 5,<br>    \"clip\": 4,<br>    \"feature_fraction\": 0.6094344887885988,<br>    \"learning_rate\": 0.01993189768839043,<br>    \"min_child_samples\": 98,<br>    \"num_leaves\": 67<br>  }<br>}",
          "{<br>  \"number\": 221,<br>  \"values\": [<br>    0.22933250706162475,<br>    0.011921878712729317<br>  ],<br>  \"params\": {<br>    \"bagging_fraction\": 0.6368675944705163,<br>    \"bagging_freq\": 5,<br>    \"clip\": 5,<br>    \"feature_fraction\": 0.7992893649064865,<br>    \"learning_rate\": 0.003264496006250922,<br>    \"min_child_samples\": 36,<br>    \"num_leaves\": 29<br>  }<br>}",
          "{<br>  \"number\": 223,<br>  \"values\": [<br>    0.2591263374270524,<br>    0.04669597930381986<br>  ],<br>  \"params\": {<br>    \"bagging_fraction\": 0.6290639877408007,<br>    \"bagging_freq\": 5,<br>    \"clip\": 4,<br>    \"feature_fraction\": 0.6136867925150403,<br>    \"learning_rate\": 0.027190782309833336,<br>    \"min_child_samples\": 99,<br>    \"num_leaves\": 66<br>  }<br>}",
          "{<br>  \"number\": 225,<br>  \"values\": [<br>    0.2562335133837132,<br>    0.027914676634783753<br>  ],<br>  \"params\": {<br>    \"bagging_fraction\": 0.867426737967947,<br>    \"bagging_freq\": 6,<br>    \"clip\": 1,<br>    \"feature_fraction\": 0.767035558542232,<br>    \"learning_rate\": 0.020546971861761142,<br>    \"min_child_samples\": 14,<br>    \"num_leaves\": 49<br>  }<br>}",
          "{<br>  \"number\": 226,<br>  \"values\": [<br>    0.2591098214074764,<br>    0.042524811718430144<br>  ],<br>  \"params\": {<br>    \"bagging_fraction\": 0.6647920591962276,<br>    \"bagging_freq\": 5,<br>    \"clip\": 4,<br>    \"feature_fraction\": 0.6010549916796538,<br>    \"learning_rate\": 0.020775600639134664,<br>    \"min_child_samples\": 97,<br>    \"num_leaves\": 67<br>  }<br>}",
          "{<br>  \"number\": 227,<br>  \"values\": [<br>    0.2483412474513797,<br>    0.04959573395023942<br>  ],<br>  \"params\": {<br>    \"bagging_fraction\": 0.6281946316093161,<br>    \"bagging_freq\": 7,<br>    \"clip\": 4,<br>    \"feature_fraction\": 0.6060714613740447,<br>    \"learning_rate\": 0.07652986186611277,<br>    \"min_child_samples\": 98,<br>    \"num_leaves\": 66<br>  }<br>}",
          "{<br>  \"number\": 228,<br>  \"values\": [<br>    0.2512081628525162,<br>    0.04915040116731484<br>  ],<br>  \"params\": {<br>    \"bagging_fraction\": 0.6301511377045161,<br>    \"bagging_freq\": 7,<br>    \"clip\": 4,<br>    \"feature_fraction\": 0.602723100943314,<br>    \"learning_rate\": 0.07813754007313645,<br>    \"min_child_samples\": 98,<br>    \"num_leaves\": 67<br>  }<br>}",
          "{<br>  \"number\": 231,<br>  \"values\": [<br>    0.25107976163608314,<br>    0.04963997541518794<br>  ],<br>  \"params\": {<br>    \"bagging_fraction\": 0.6457582446869606,<br>    \"bagging_freq\": 7,<br>    \"clip\": 4,<br>    \"feature_fraction\": 0.6082177046301083,<br>    \"learning_rate\": 0.0637095197442946,<br>    \"min_child_samples\": 99,<br>    \"num_leaves\": 65<br>  }<br>}",
          "{<br>  \"number\": 232,<br>  \"values\": [<br>    0.25221035131684794,<br>    0.03874577723626349<br>  ],<br>  \"params\": {<br>    \"bagging_fraction\": 0.792999220373215,<br>    \"bagging_freq\": 9,<br>    \"clip\": 7,<br>    \"feature_fraction\": 0.855871598429411,<br>    \"learning_rate\": 0.019536302431240483,<br>    \"min_child_samples\": 47,<br>    \"num_leaves\": 46<br>  }<br>}",
          "{<br>  \"number\": 233,<br>  \"values\": [<br>    0.2502747048703078,<br>    0.0475140548757601<br>  ],<br>  \"params\": {<br>    \"bagging_fraction\": 0.8863774434168615,<br>    \"bagging_freq\": 7,<br>    \"clip\": 4,<br>    \"feature_fraction\": 0.6172087637494552,<br>    \"learning_rate\": 0.0802626412036662,<br>    \"min_child_samples\": 100,<br>    \"num_leaves\": 65<br>  }<br>}",
          "{<br>  \"number\": 234,<br>  \"values\": [<br>    0.2500526850016637,<br>    0.04855324514531423<br>  ],<br>  \"params\": {<br>    \"bagging_fraction\": 0.6681975743401283,<br>    \"bagging_freq\": 7,<br>    \"clip\": 4,<br>    \"feature_fraction\": 0.6146595784031469,<br>    \"learning_rate\": 0.07743337775459422,<br>    \"min_child_samples\": 99,<br>    \"num_leaves\": 65<br>  }<br>}",
          "{<br>  \"number\": 235,<br>  \"values\": [<br>    0.2540945274590559,<br>    0.04847707555804093<br>  ],<br>  \"params\": {<br>    \"bagging_fraction\": 0.6684964763160028,<br>    \"bagging_freq\": 7,<br>    \"clip\": 4,<br>    \"feature_fraction\": 0.608651646875375,<br>    \"learning_rate\": 0.06570444956658292,<br>    \"min_child_samples\": 99,<br>    \"num_leaves\": 67<br>  }<br>}",
          "{<br>  \"number\": 237,<br>  \"values\": [<br>    0.2574293344878647,<br>    0.04547040571677807<br>  ],<br>  \"params\": {<br>    \"bagging_fraction\": 0.6554690102858045,<br>    \"bagging_freq\": 7,<br>    \"clip\": 4,<br>    \"feature_fraction\": 0.6175601014706785,<br>    \"learning_rate\": 0.026462531833657515,<br>    \"min_child_samples\": 97,<br>    \"num_leaves\": 67<br>  }<br>}",
          "{<br>  \"number\": 238,<br>  \"values\": [<br>    0.22883082018497847,<br>    0.006464382844938332<br>  ],<br>  \"params\": {<br>    \"bagging_fraction\": 0.7425461147381236,<br>    \"bagging_freq\": 10,<br>    \"clip\": 3,<br>    \"feature_fraction\": 0.6442566091983761,<br>    \"learning_rate\": 0.0018862486347852462,<br>    \"min_child_samples\": 43,<br>    \"num_leaves\": 22<br>  }<br>}",
          "{<br>  \"number\": 240,<br>  \"values\": [<br>    0.233698038844994,<br>    0.004569590570806192<br>  ],<br>  \"params\": {<br>    \"bagging_fraction\": 0.7876677159099396,<br>    \"bagging_freq\": 5,<br>    \"clip\": 4,<br>    \"feature_fraction\": 0.7723285497807161,<br>    \"learning_rate\": 0.0010126457792379601,<br>    \"min_child_samples\": 40,<br>    \"num_leaves\": 55<br>  }<br>}",
          "{<br>  \"number\": 242,<br>  \"values\": [<br>    0.24392385175210587,<br>    0.04760387357329854<br>  ],<br>  \"params\": {<br>    \"bagging_fraction\": 0.6437065731855158,<br>    \"bagging_freq\": 7,<br>    \"clip\": 5,<br>    \"feature_fraction\": 0.6107912780932556,<br>    \"learning_rate\": 0.09139180625571715,<br>    \"min_child_samples\": 91,<br>    \"num_leaves\": 70<br>  }<br>}",
          "{<br>  \"number\": 243,<br>  \"values\": [<br>    0.2490111268674546,<br>    0.048799016144351004<br>  ],<br>  \"params\": {<br>    \"bagging_fraction\": 0.6687267205403881,<br>    \"bagging_freq\": 7,<br>    \"clip\": 5,<br>    \"feature_fraction\": 0.610409302450954,<br>    \"learning_rate\": 0.06730936769887433,<br>    \"min_child_samples\": 94,<br>    \"num_leaves\": 70<br>  }<br>}",
          "{<br>  \"number\": 248,<br>  \"values\": [<br>    0.2516408655825914,<br>    0.027701792981393303<br>  ],<br>  \"params\": {<br>    \"bagging_fraction\": 0.758960795542787,<br>    \"bagging_freq\": 7,<br>    \"clip\": 5,<br>    \"feature_fraction\": 0.754573079969407,<br>    \"learning_rate\": 0.008333730148483532,<br>    \"min_child_samples\": 91,<br>    \"num_leaves\": 75<br>  }<br>}",
          "{<br>  \"number\": 249,<br>  \"values\": [<br>    0.24778289341756182,<br>    0.037525264812802384<br>  ],<br>  \"params\": {<br>    \"bagging_fraction\": 0.6937593534769172,<br>    \"bagging_freq\": 6,<br>    \"clip\": 10,<br>    \"feature_fraction\": 0.8256076081424821,<br>    \"learning_rate\": 0.01817541088344678,<br>    \"min_child_samples\": 18,<br>    \"num_leaves\": 79<br>  }<br>}",
          "{<br>  \"number\": 251,<br>  \"values\": [<br>    0.24783552853875895,<br>    0.04685902796713204<br>  ],<br>  \"params\": {<br>    \"bagging_fraction\": 0.8986160202104778,<br>    \"bagging_freq\": 7,<br>    \"clip\": 5,<br>    \"feature_fraction\": 0.7550943817619133,<br>    \"learning_rate\": 0.06703989766257426,<br>    \"min_child_samples\": 100,<br>    \"num_leaves\": 78<br>  }<br>}",
          "{<br>  \"number\": 253,<br>  \"values\": [<br>    0.2474147305712326,<br>    0.01186183386733819<br>  ],<br>  \"params\": {<br>    \"bagging_fraction\": 0.7626715154893853,<br>    \"bagging_freq\": 7,<br>    \"clip\": 9,<br>    \"feature_fraction\": 0.6226944609545937,<br>    \"learning_rate\": 0.002707262831778383,<br>    \"min_child_samples\": 95,<br>    \"num_leaves\": 77<br>  }<br>}",
          "{<br>  \"number\": 254,<br>  \"values\": [<br>    0.24754147674975016,<br>    0.010990806679076703<br>  ],<br>  \"params\": {<br>    \"bagging_fraction\": 0.6529683999593319,<br>    \"bagging_freq\": 7,<br>    \"clip\": 4,<br>    \"feature_fraction\": 0.6206714771012538,<br>    \"learning_rate\": 0.0027017864047189353,<br>    \"min_child_samples\": 96,<br>    \"num_leaves\": 64<br>  }<br>}",
          "{<br>  \"number\": 256,<br>  \"values\": [<br>    0.2269330670719425,<br>    0.008037025596649428<br>  ],<br>  \"params\": {<br>    \"bagging_fraction\": 0.8872215924170809,<br>    \"bagging_freq\": 7,<br>    \"clip\": 3,<br>    \"feature_fraction\": 0.669237801712598,<br>    \"learning_rate\": 0.0024157545374521275,<br>    \"min_child_samples\": 26,<br>    \"num_leaves\": 22<br>  }<br>}",
          "{<br>  \"number\": 258,<br>  \"values\": [<br>    0.2553917445338677,<br>    0.02898229388358764<br>  ],<br>  \"params\": {<br>    \"bagging_fraction\": 0.7074942528324561,<br>    \"bagging_freq\": 7,<br>    \"clip\": 4,<br>    \"feature_fraction\": 0.6296407874119188,<br>    \"learning_rate\": 0.009379493660625671,<br>    \"min_child_samples\": 95,<br>    \"num_leaves\": 73<br>  }<br>}",
          "{<br>  \"number\": 260,<br>  \"values\": [<br>    0.250376497522499,<br>    0.048490747693011094<br>  ],<br>  \"params\": {<br>    \"bagging_fraction\": 0.643644877454491,<br>    \"bagging_freq\": 7,<br>    \"clip\": 4,<br>    \"feature_fraction\": 0.6264856494479929,<br>    \"learning_rate\": 0.06090633264318751,<br>    \"min_child_samples\": 94,<br>    \"num_leaves\": 74<br>  }<br>}",
          "{<br>  \"number\": 261,<br>  \"values\": [<br>    0.24205378305605288,<br>    0.012273569978014764<br>  ],<br>  \"params\": {<br>    \"bagging_fraction\": 0.6858994952714578,<br>    \"bagging_freq\": 5,<br>    \"clip\": 3,<br>    \"feature_fraction\": 0.7650385821778567,<br>    \"learning_rate\": 0.0031416547485109193,<br>    \"min_child_samples\": 92,<br>    \"num_leaves\": 62<br>  }<br>}",
          "{<br>  \"number\": 265,<br>  \"values\": [<br>    0.2592519219599979,<br>    0.0389452395488753<br>  ],<br>  \"params\": {<br>    \"bagging_fraction\": 0.6578281255550846,<br>    \"bagging_freq\": 7,<br>    \"clip\": 4,<br>    \"feature_fraction\": 0.695482743047925,<br>    \"learning_rate\": 0.016229763418855077,<br>    \"min_child_samples\": 90,<br>    \"num_leaves\": 68<br>  }<br>}",
          "{<br>  \"number\": 267,<br>  \"values\": [<br>    0.24211174219238404,<br>    0.028354585522205156<br>  ],<br>  \"params\": {<br>    \"bagging_fraction\": 0.7719524600772703,<br>    \"bagging_freq\": 7,<br>    \"clip\": 10,<br>    \"feature_fraction\": 0.8657786494904121,<br>    \"learning_rate\": 0.009964802565242467,<br>    \"min_child_samples\": 15,<br>    \"num_leaves\": 59<br>  }<br>}",
          "{<br>  \"number\": 268,<br>  \"values\": [<br>    0.2593623957794654,<br>    0.037846521056441706<br>  ],<br>  \"params\": {<br>    \"bagging_fraction\": 0.7350074897030247,<br>    \"bagging_freq\": 7,<br>    \"clip\": 4,<br>    \"feature_fraction\": 0.6064525749230005,<br>    \"learning_rate\": 0.015671773610096643,<br>    \"min_child_samples\": 90,<br>    \"num_leaves\": 68<br>  }<br>}",
          "{<br>  \"number\": 271,<br>  \"values\": [<br>    0.25168172820220747,<br>    0.02283701314468045<br>  ],<br>  \"params\": {<br>    \"bagging_fraction\": 0.6737591828093198,<br>    \"bagging_freq\": 7,<br>    \"clip\": 5,<br>    \"feature_fraction\": 0.6339133628423625,<br>    \"learning_rate\": 0.006582213298933123,<br>    \"min_child_samples\": 98,<br>    \"num_leaves\": 63<br>  }<br>}",
          "{<br>  \"number\": 272,<br>  \"values\": [<br>    0.24628759324908098,<br>    0.015078245076110663<br>  ],<br>  \"params\": {<br>    \"bagging_fraction\": 0.7721763753547868,<br>    \"bagging_freq\": 7,<br>    \"clip\": 5,<br>    \"feature_fraction\": 0.6008120723028498,<br>    \"learning_rate\": 0.0038183205871763094,<br>    \"min_child_samples\": 32,<br>    \"num_leaves\": 63<br>  }<br>}",
          "{<br>  \"number\": 273,<br>  \"values\": [<br>    0.23552595944008958,<br>    0.008340978026727952<br>  ],<br>  \"params\": {<br>    \"bagging_fraction\": 0.7499808764947822,<br>    \"bagging_freq\": 10,<br>    \"clip\": 3,<br>    \"feature_fraction\": 0.7061789981396771,<br>    \"learning_rate\": 0.0021646434231700055,<br>    \"min_child_samples\": 56,<br>    \"num_leaves\": 41<br>  }<br>}",
          "{<br>  \"number\": 274,<br>  \"values\": [<br>    0.25781709731343283,<br>    0.03535004278561982<br>  ],<br>  \"params\": {<br>    \"bagging_fraction\": 0.8150349057974026,<br>    \"bagging_freq\": 8,<br>    \"clip\": 5,<br>    \"feature_fraction\": 0.6002576089581995,<br>    \"learning_rate\": 0.013527197344385017,<br>    \"min_child_samples\": 98,<br>    \"num_leaves\": 64<br>  }<br>}",
          "{<br>  \"number\": 276,<br>  \"values\": [<br>    0.24203502026551624,<br>    0.015948118610018325<br>  ],<br>  \"params\": {<br>    \"bagging_fraction\": 0.7278713528652443,<br>    \"bagging_freq\": 7,<br>    \"clip\": 4,<br>    \"feature_fraction\": 0.841184152797393,<br>    \"learning_rate\": 0.004020134944071473,<br>    \"min_child_samples\": 93,<br>    \"num_leaves\": 71<br>  }<br>}",
          "{<br>  \"number\": 278,<br>  \"values\": [<br>    0.2523537958451631,<br>    0.043813900686286544<br>  ],<br>  \"params\": {<br>    \"bagging_fraction\": 0.8433333024522492,<br>    \"bagging_freq\": 7,<br>    \"clip\": 9,<br>    \"feature_fraction\": 0.6132625482113937,<br>    \"learning_rate\": 0.05373410284944229,<br>    \"min_child_samples\": 100,<br>    \"num_leaves\": 26<br>  }<br>}",
          "{<br>  \"number\": 279,<br>  \"values\": [<br>    0.2479733499697439,<br>    0.047193466294706665<br>  ],<br>  \"params\": {<br>    \"bagging_fraction\": 0.6886976288693628,<br>    \"bagging_freq\": 7,<br>    \"clip\": 2,<br>    \"feature_fraction\": 0.7309795708294655,<br>    \"learning_rate\": 0.09077781870054079,<br>    \"min_child_samples\": 97,<br>    \"num_leaves\": 50<br>  }<br>}",
          "{<br>  \"number\": 281,<br>  \"values\": [<br>    0.25030258871049704,<br>    0.04920551888400859<br>  ],<br>  \"params\": {<br>    \"bagging_fraction\": 0.6350181794773084,<br>    \"bagging_freq\": 7,<br>    \"clip\": 9,<br>    \"feature_fraction\": 0.6115258882998866,<br>    \"learning_rate\": 0.07155887252431667,<br>    \"min_child_samples\": 100,<br>    \"num_leaves\": 66<br>  }<br>}",
          "{<br>  \"number\": 283,<br>  \"values\": [<br>    0.25369517159731303,<br>    0.025094128812142347<br>  ],<br>  \"params\": {<br>    \"bagging_fraction\": 0.6238901040996288,<br>    \"bagging_freq\": 7,<br>    \"clip\": 4,<br>    \"feature_fraction\": 0.6547608325945048,<br>    \"learning_rate\": 0.0076190211167682,<br>    \"min_child_samples\": 97,<br>    \"num_leaves\": 68<br>  }<br>}",
          "{<br>  \"number\": 284,<br>  \"values\": [<br>    0.24888113693783845,<br>    0.049656706919650184<br>  ],<br>  \"params\": {<br>    \"bagging_fraction\": 0.6489636575939128,<br>    \"bagging_freq\": 7,<br>    \"clip\": 4,<br>    \"feature_fraction\": 0.7783634157718426,<br>    \"learning_rate\": 0.08206507448093733,<br>    \"min_child_samples\": 96,<br>    \"num_leaves\": 68<br>  }<br>}",
          "{<br>  \"number\": 285,<br>  \"values\": [<br>    0.25179151177143805,<br>    0.044166605859024766<br>  ],<br>  \"params\": {<br>    \"bagging_fraction\": 0.8434567375893747,<br>    \"bagging_freq\": 9,<br>    \"clip\": 8,<br>    \"feature_fraction\": 0.7808011517008515,<br>    \"learning_rate\": 0.05394486461245842,<br>    \"min_child_samples\": 95,<br>    \"num_leaves\": 33<br>  }<br>}",
          "{<br>  \"number\": 286,<br>  \"values\": [<br>    0.2420863794535825,<br>    0.015077646449541793<br>  ],<br>  \"params\": {<br>    \"bagging_fraction\": 0.6475586031485553,<br>    \"bagging_freq\": 9,<br>    \"clip\": 4,<br>    \"feature_fraction\": 0.6227304920611871,<br>    \"learning_rate\": 0.004503768584206667,<br>    \"min_child_samples\": 88,<br>    \"num_leaves\": 32<br>  }<br>}",
          "{<br>  \"number\": 287,<br>  \"values\": [<br>    0.2465972152772102,<br>    0.01834340940003165<br>  ],<br>  \"params\": {<br>    \"bagging_fraction\": 0.6474959088881219,<br>    \"bagging_freq\": 9,<br>    \"clip\": 4,<br>    \"feature_fraction\": 0.7794503944873395,<br>    \"learning_rate\": 0.004792192006613047,<br>    \"min_child_samples\": 95,<br>    \"num_leaves\": 69<br>  }<br>}",
          "{<br>  \"number\": 288,<br>  \"values\": [<br>    0.24712685311760024,<br>    0.03678006114669241<br>  ],<br>  \"params\": {<br>    \"bagging_fraction\": 0.8000933141440016,<br>    \"bagging_freq\": 6,<br>    \"clip\": 10,<br>    \"feature_fraction\": 0.8256076081424821,<br>    \"learning_rate\": 0.01817541088344678,<br>    \"min_child_samples\": 18,<br>    \"num_leaves\": 79<br>  }<br>}",
          "{<br>  \"number\": 289,<br>  \"values\": [<br>    0.25109415245350897,<br>    0.04866844655519287<br>  ],<br>  \"params\": {<br>    \"bagging_fraction\": 0.6518814076237138,<br>    \"bagging_freq\": 8,<br>    \"clip\": 4,<br>    \"feature_fraction\": 0.6231480752178242,<br>    \"learning_rate\": 0.04854582420807833,<br>    \"min_child_samples\": 79,<br>    \"num_leaves\": 70<br>  }<br>}",
          "{<br>  \"number\": 292,<br>  \"values\": [<br>    0.2524036640577606,<br>    0.020613907183640867<br>  ],<br>  \"params\": {<br>    \"bagging_fraction\": 0.6616292545647486,<br>    \"bagging_freq\": 8,<br>    \"clip\": 3,<br>    \"feature_fraction\": 0.6307374232272552,<br>    \"learning_rate\": 0.006161243946210247,<br>    \"min_child_samples\": 93,<br>    \"num_leaves\": 66<br>  }<br>}",
          "{<br>  \"number\": 294,<br>  \"values\": [<br>    0.2511848285565273,<br>    0.048760456508980754<br>  ],<br>  \"params\": {<br>    \"bagging_fraction\": 0.7075846912609487,<br>    \"bagging_freq\": 7,<br>    \"clip\": 4,<br>    \"feature_fraction\": 0.8154411168998166,<br>    \"learning_rate\": 0.06151125857657879,<br>    \"min_child_samples\": 96,<br>    \"num_leaves\": 66<br>  }<br>}",
          "{<br>  \"number\": 295,<br>  \"values\": [<br>    0.25263543884186096,<br>    0.047925010566569504<br>  ],<br>  \"params\": {<br>    \"bagging_fraction\": 0.6886976288693628,<br>    \"bagging_freq\": 5,<br>    \"clip\": 5,<br>    \"feature_fraction\": 0.7309795708294655,<br>    \"learning_rate\": 0.07122764680334491,<br>    \"min_child_samples\": 97,<br>    \"num_leaves\": 46<br>  }<br>}",
          "{<br>  \"number\": 298,<br>  \"values\": [<br>    0.251871890041453,<br>    0.04172304392700077<br>  ],<br>  \"params\": {<br>    \"bagging_fraction\": 0.6886976288693628,<br>    \"bagging_freq\": 8,<br>    \"clip\": 5,<br>    \"feature_fraction\": 0.8109519209177599,<br>    \"learning_rate\": 0.020262051843507097,<br>    \"min_child_samples\": 43,<br>    \"num_leaves\": 80<br>  }<br>}",
          "{<br>  \"number\": 299,<br>  \"values\": [<br>    0.24713952205052692,<br>    0.019567365005835446<br>  ],<br>  \"params\": {<br>    \"bagging_fraction\": 0.8087455135697601,<br>    \"bagging_freq\": 7,<br>    \"clip\": 7,<br>    \"feature_fraction\": 0.6953075865667339,<br>    \"learning_rate\": 0.0051163895407276,<br>    \"min_child_samples\": 98,<br>    \"num_leaves\": 67<br>  }<br>}",
          "{<br>  \"number\": 300,<br>  \"values\": [<br>    0.2560615581598163,<br>    0.03333195904793962<br>  ],<br>  \"params\": {<br>    \"bagging_fraction\": 0.7238157898608831,<br>    \"bagging_freq\": 7,<br>    \"clip\": 7,<br>    \"feature_fraction\": 0.6067304350829604,<br>    \"learning_rate\": 0.011804178583281952,<br>    \"min_child_samples\": 98,<br>    \"num_leaves\": 64<br>  }<br>}",
          "{<br>  \"number\": 302,<br>  \"values\": [<br>    0.24674661412173732,<br>    0.005261224891415117<br>  ],<br>  \"params\": {<br>    \"bagging_fraction\": 0.6321088490115953,<br>    \"bagging_freq\": 7,<br>    \"clip\": 4,<br>    \"feature_fraction\": 0.6075053411229695,<br>    \"learning_rate\": 0.0011859924115425664,<br>    \"min_child_samples\": 83,<br>    \"num_leaves\": 67<br>  }<br>}",
          "{<br>  \"number\": 304,<br>  \"values\": [<br>    0.2504015560403546,<br>    0.02694788106997481<br>  ],<br>  \"params\": {<br>    \"bagging_fraction\": 0.6347999576697898,<br>    \"bagging_freq\": 7,<br>    \"clip\": 4,<br>    \"feature_fraction\": 0.8098895298968135,<br>    \"learning_rate\": 0.008156339269414144,<br>    \"min_child_samples\": 65,<br>    \"num_leaves\": 72<br>  }<br>}",
          "{<br>  \"number\": 305,<br>  \"values\": [<br>    0.24899950103100188,<br>    0.047391751550360794<br>  ],<br>  \"params\": {<br>    \"bagging_fraction\": 0.6319689984695638,<br>    \"bagging_freq\": 7,<br>    \"clip\": 4,<br>    \"feature_fraction\": 0.7414717366393508,<br>    \"learning_rate\": 0.041900985073309735,<br>    \"min_child_samples\": 73,<br>    \"num_leaves\": 71<br>  }<br>}",
          "{<br>  \"number\": 306,<br>  \"values\": [<br>    0.25200137038465903,<br>    0.04458007478999182<br>  ],<br>  \"params\": {<br>    \"bagging_fraction\": 0.6616126336371765,<br>    \"bagging_freq\": 8,<br>    \"clip\": 6,<br>    \"feature_fraction\": 0.7279353583561177,<br>    \"learning_rate\": 0.030324698393459533,<br>    \"min_child_samples\": 55,<br>    \"num_leaves\": 48<br>  }<br>}",
          "{<br>  \"number\": 310,<br>  \"values\": [<br>    0.25767425703400015,<br>    0.034978194441042776<br>  ],<br>  \"params\": {<br>    \"bagging_fraction\": 0.8285506114373036,<br>    \"bagging_freq\": 7,<br>    \"clip\": 3,<br>    \"feature_fraction\": 0.7237458568366786,<br>    \"learning_rate\": 0.014289737048705746,<br>    \"min_child_samples\": 92,<br>    \"num_leaves\": 69<br>  }<br>}",
          "{<br>  \"number\": 311,<br>  \"values\": [<br>    0.24490724115871634,<br>    0.04428148411290567<br>  ],<br>  \"params\": {<br>    \"bagging_fraction\": 0.8769654881230391,<br>    \"bagging_freq\": 10,<br>    \"clip\": 7,<br>    \"feature_fraction\": 0.6132944935072089,<br>    \"learning_rate\": 0.09077781870054079,<br>    \"min_child_samples\": 74,<br>    \"num_leaves\": 77<br>  }<br>}",
          "{<br>  \"number\": 312,<br>  \"values\": [<br>    0.2575211671036269,<br>    0.03568901599137719<br>  ],<br>  \"params\": {<br>    \"bagging_fraction\": 0.8279107768323622,<br>    \"bagging_freq\": 7,<br>    \"clip\": 4,<br>    \"feature_fraction\": 0.6527514077929064,<br>    \"learning_rate\": 0.013969278874142486,<br>    \"min_child_samples\": 92,<br>    \"num_leaves\": 69<br>  }<br>}",
          "{<br>  \"number\": 313,<br>  \"values\": [<br>    0.24715557528854795,<br>    0.006866132600051755<br>  ],<br>  \"params\": {<br>    \"bagging_fraction\": 0.6071726312016085,<br>    \"bagging_freq\": 7,<br>    \"clip\": 4,<br>    \"feature_fraction\": 0.6171656401562254,<br>    \"learning_rate\": 0.0015662552638368327,<br>    \"min_child_samples\": 93,<br>    \"num_leaves\": 69<br>  }<br>}",
          "{<br>  \"number\": 315,<br>  \"values\": [<br>    0.24363065455276744,<br>    0.00404801942659494<br>  ],<br>  \"params\": {<br>    \"bagging_fraction\": 0.6973306497870516,<br>    \"bagging_freq\": 8,<br>    \"clip\": 1,<br>    \"feature_fraction\": 0.6374922905446008,<br>    \"learning_rate\": 0.00134676346902176,<br>    \"min_child_samples\": 63,<br>    \"num_leaves\": 73<br>  }<br>}",
          "{<br>  \"number\": 317,<br>  \"values\": [<br>    0.23399286443515283,<br>    0.006966257442262425<br>  ],<br>  \"params\": {<br>    \"bagging_fraction\": 0.6073578378858663,<br>    \"bagging_freq\": 7,<br>    \"clip\": 4,<br>    \"feature_fraction\": 0.8783470623505663,<br>    \"learning_rate\": 0.001560396855999857,<br>    \"min_child_samples\": 94,<br>    \"num_leaves\": 61<br>  }<br>}",
          "{<br>  \"number\": 318,<br>  \"values\": [<br>    0.2593675417714899,<br>    0.04324448923655311<br>  ],<br>  \"params\": {<br>    \"bagging_fraction\": 0.6406812100754903,<br>    \"bagging_freq\": 7,<br>    \"clip\": 3,<br>    \"feature_fraction\": 0.8789575214489198,<br>    \"learning_rate\": 0.023383873579860378,<br>    \"min_child_samples\": 88,<br>    \"num_leaves\": 61<br>  }<br>}",
          "{<br>  \"number\": 320,<br>  \"values\": [<br>    0.23644842604606486,<br>    0.007204499742251791<br>  ],<br>  \"params\": {<br>    \"bagging_fraction\": 0.6040187009168715,<br>    \"bagging_freq\": 8,<br>    \"clip\": 6,<br>    \"feature_fraction\": 0.640142010361404,<br>    \"learning_rate\": 0.0017654620577288096,<br>    \"min_child_samples\": 55,<br>    \"num_leaves\": 37<br>  }<br>}",
          "{<br>  \"number\": 322,<br>  \"values\": [<br>    0.2596784759518299,<br>    0.0440513877300881<br>  ],<br>  \"params\": {<br>    \"bagging_fraction\": 0.6392950550178697,<br>    \"bagging_freq\": 7,<br>    \"clip\": 3,<br>    \"feature_fraction\": 0.6700976910277812,<br>    \"learning_rate\": 0.025969964047713418,<br>    \"min_child_samples\": 100,<br>    \"num_leaves\": 61<br>  }<br>}",
          "{<br>  \"number\": 323,<br>  \"values\": [<br>    0.2562682154119855,<br>    0.043194195959872395<br>  ],<br>  \"params\": {<br>    \"bagging_fraction\": 0.6399663057407631,<br>    \"bagging_freq\": 7,<br>    \"clip\": 3,<br>    \"feature_fraction\": 0.7154606027978562,<br>    \"learning_rate\": 0.024927206701122872,<br>    \"min_child_samples\": 32,<br>    \"num_leaves\": 65<br>  }<br>}",
          "{<br>  \"number\": 324,<br>  \"values\": [<br>    0.24162607914038448,<br>    0.008069760087978661<br>  ],<br>  \"params\": {<br>    \"bagging_fraction\": 0.7425461147381236,<br>    \"bagging_freq\": 10,<br>    \"clip\": 3,<br>    \"feature_fraction\": 0.7423973109667831,<br>    \"learning_rate\": 0.0018862486347852462,<br>    \"min_child_samples\": 79,<br>    \"num_leaves\": 72<br>  }<br>}",
          "{<br>  \"number\": 325,<br>  \"values\": [<br>    0.2508208509548629,<br>    0.023789428839026683<br>  ],<br>  \"params\": {<br>    \"bagging_fraction\": 0.6413543078464219,<br>    \"bagging_freq\": 7,<br>    \"clip\": 3,<br>    \"feature_fraction\": 0.7572800803327059,<br>    \"learning_rate\": 0.0074418987145146295,<br>    \"min_child_samples\": 89,<br>    \"num_leaves\": 65<br>  }<br>}",
          "{<br>  \"number\": 326,<br>  \"values\": [<br>    0.2510254009308871,<br>    0.02240049712667913<br>  ],<br>  \"params\": {<br>    \"bagging_fraction\": 0.7834929931151352,<br>    \"bagging_freq\": 7,<br>    \"clip\": 3,<br>    \"feature_fraction\": 0.6861714773755957,<br>    \"learning_rate\": 0.006891544943614829,<br>    \"min_child_samples\": 100,<br>    \"num_leaves\": 65<br>  }<br>}",
          "{<br>  \"number\": 327,<br>  \"values\": [<br>    0.25270131577993443,<br>    0.04750749342263727<br>  ],<br>  \"params\": {<br>    \"bagging_fraction\": 0.8617107771543611,<br>    \"bagging_freq\": 6,<br>    \"clip\": 4,<br>    \"feature_fraction\": 0.669890346492831,<br>    \"learning_rate\": 0.038051060682131245,<br>    \"min_child_samples\": 99,<br>    \"num_leaves\": 63<br>  }<br>}",
          "{<br>  \"number\": 329,<br>  \"values\": [<br>    0.23103870444296876,<br>    0.008556667582814037<br>  ],<br>  \"params\": {<br>    \"bagging_fraction\": 0.7482187375087188,<br>    \"bagging_freq\": 9,<br>    \"clip\": 3,<br>    \"feature_fraction\": 0.7955410757160797,<br>    \"learning_rate\": 0.002242656969507945,<br>    \"min_child_samples\": 47,<br>    \"num_leaves\": 38<br>  }<br>}",
          "{<br>  \"number\": 330,<br>  \"values\": [<br>    0.2558248162448636,<br>    0.042269571654035776<br>  ],<br>  \"params\": {<br>    \"bagging_fraction\": 0.7197628638834392,<br>    \"bagging_freq\": 6,<br>    \"clip\": 4,<br>    \"feature_fraction\": 0.8446829074866831,<br>    \"learning_rate\": 0.028333096287472874,<br>    \"min_child_samples\": 96,<br>    \"num_leaves\": 27<br>  }<br>}",
          "{<br>  \"number\": 333,<br>  \"values\": [<br>    0.24056882878375407,<br>    0.011903883154730233<br>  ],<br>  \"params\": {<br>    \"bagging_fraction\": 0.8989894504840543,<br>    \"bagging_freq\": 6,<br>    \"clip\": 2,<br>    \"feature_fraction\": 0.8256076081424821,<br>    \"learning_rate\": 0.0032467567411562696,<br>    \"min_child_samples\": 70,<br>    \"num_leaves\": 79<br>  }<br>}",
          "{<br>  \"number\": 338,<br>  \"values\": [<br>    0.24685878069813255,<br>    0.04744272050680809<br>  ],<br>  \"params\": {<br>    \"bagging_fraction\": 0.7326251267024898,<br>    \"bagging_freq\": 7,<br>    \"clip\": 4,<br>    \"feature_fraction\": 0.7353174538688029,<br>    \"learning_rate\": 0.05799999839809493,<br>    \"min_child_samples\": 96,<br>    \"num_leaves\": 67<br>  }<br>}",
          "{<br>  \"number\": 342,<br>  \"values\": [<br>    0.25079723782011093,<br>    0.043833169565739016<br>  ],<br>  \"params\": {<br>    \"bagging_fraction\": 0.731073894760115,<br>    \"bagging_freq\": 5,<br>    \"clip\": 8,<br>    \"feature_fraction\": 0.6985436816679417,<br>    \"learning_rate\": 0.06420744841003095,<br>    \"min_child_samples\": 50,<br>    \"num_leaves\": 67<br>  }<br>}",
          "{<br>  \"number\": 343,<br>  \"values\": [<br>    0.248202020162455,<br>    0.04090335345020091<br>  ],<br>  \"params\": {<br>    \"bagging_fraction\": 0.8059132053705294,<br>    \"bagging_freq\": 5,<br>    \"clip\": 8,<br>    \"feature_fraction\": 0.8036632693248873,<br>    \"learning_rate\": 0.03482903632879895,<br>    \"min_child_samples\": 50,<br>    \"num_leaves\": 68<br>  }<br>}",
          "{<br>  \"number\": 344,<br>  \"values\": [<br>    0.25106637736415055,<br>    0.04317312848498178<br>  ],<br>  \"params\": {<br>    \"bagging_fraction\": 0.7499808764947822,<br>    \"bagging_freq\": 10,<br>    \"clip\": 8,<br>    \"feature_fraction\": 0.8320628332704308,<br>    \"learning_rate\": 0.032670213299518816,<br>    \"min_child_samples\": 61,<br>    \"num_leaves\": 41<br>  }<br>}",
          "{<br>  \"number\": 347,<br>  \"values\": [<br>    0.2425331222329725,<br>    0.0121314063006972<br>  ],<br>  \"params\": {<br>    \"bagging_fraction\": 0.6537731604640633,<br>    \"bagging_freq\": 8,<br>    \"clip\": 4,<br>    \"feature_fraction\": 0.7624508138733469,<br>    \"learning_rate\": 0.0029412607890214673,<br>    \"min_child_samples\": 100,<br>    \"num_leaves\": 66<br>  }<br>}",
          "{<br>  \"number\": 348,<br>  \"values\": [<br>    0.2512715515702912,<br>    0.048459542422616186<br>  ],<br>  \"params\": {<br>    \"bagging_fraction\": 0.7169087977685384,<br>    \"bagging_freq\": 8,<br>    \"clip\": 4,<br>    \"feature_fraction\": 0.7595899766526547,<br>    \"learning_rate\": 0.0456299797647597,<br>    \"min_child_samples\": 86,<br>    \"num_leaves\": 62<br>  }<br>}",
          "{<br>  \"number\": 349,<br>  \"values\": [<br>    0.24283772348025562,<br>    0.026125164326955996<br>  ],<br>  \"params\": {<br>    \"bagging_fraction\": 0.8132837770807604,<br>    \"bagging_freq\": 9,<br>    \"clip\": 7,<br>    \"feature_fraction\": 0.855871598429411,<br>    \"learning_rate\": 0.008866934766410607,<br>    \"min_child_samples\": 58,<br>    \"num_leaves\": 36<br>  }<br>}",
          "{<br>  \"number\": 353,<br>  \"values\": [<br>    0.24608479190720878,<br>    0.04316551936344881<br>  ],<br>  \"params\": {<br>    \"bagging_fraction\": 0.8817301477813124,<br>    \"bagging_freq\": 5,<br>    \"clip\": 6,<br>    \"feature_fraction\": 0.7082692496389729,<br>    \"learning_rate\": 0.06462230862820575,<br>    \"min_child_samples\": 61,<br>    \"num_leaves\": 54<br>  }<br>}",
          "{<br>  \"number\": 356,<br>  \"values\": [<br>    0.25086671442378355,<br>    0.029604555717674286<br>  ],<br>  \"params\": {<br>    \"bagging_fraction\": 0.7719524600772703,<br>    \"bagging_freq\": 7,<br>    \"clip\": 10,<br>    \"feature_fraction\": 0.7150376403626323,<br>    \"learning_rate\": 0.009964802565242467,<br>    \"min_child_samples\": 67,<br>    \"num_leaves\": 55<br>  }<br>}",
          "{<br>  \"number\": 360,<br>  \"values\": [<br>    0.25066689192969893,<br>    0.04506649984406985<br>  ],<br>  \"params\": {<br>    \"bagging_fraction\": 0.7191609311921344,<br>    \"bagging_freq\": 7,<br>    \"clip\": 7,<br>    \"feature_fraction\": 0.7597682016678868,<br>    \"learning_rate\": 0.07028989091029153,<br>    \"min_child_samples\": 74,<br>    \"num_leaves\": 40<br>  }<br>}",
          "{<br>  \"number\": 361,<br>  \"values\": [<br>    0.2320666557535418,<br>    0.011919631442174117<br>  ],<br>  \"params\": {<br>    \"bagging_fraction\": 0.8902319337999594,<br>    \"bagging_freq\": 6,<br>    \"clip\": 4,<br>    \"feature_fraction\": 0.6636926781088138,<br>    \"learning_rate\": 0.0036247914040660034,<br>    \"min_child_samples\": 12,<br>    \"num_leaves\": 24<br>  }<br>}",
          "{<br>  \"number\": 363,<br>  \"values\": [<br>    0.24517339883044004,<br>    0.025108494747394183<br>  ],<br>  \"params\": {<br>    \"bagging_fraction\": 0.6547895191654295,<br>    \"bagging_freq\": 10,<br>    \"clip\": 7,<br>    \"feature_fraction\": 0.8107763120834243,<br>    \"learning_rate\": 0.007718741802530335,<br>    \"min_child_samples\": 74,<br>    \"num_leaves\": 47<br>  }<br>}",
          "{<br>  \"number\": 366,<br>  \"values\": [<br>    0.24030237461779613,<br>    0.014216568834255927<br>  ],<br>  \"params\": {<br>    \"bagging_fraction\": 0.6973306497870516,<br>    \"bagging_freq\": 8,<br>    \"clip\": 6,<br>    \"feature_fraction\": 0.6810751593056465,<br>    \"learning_rate\": 0.00349685949342087,<br>    \"min_child_samples\": 23,<br>    \"num_leaves\": 54<br>  }<br>}",
          "{<br>  \"number\": 367,<br>  \"values\": [<br>    0.23705974405231586,<br>    0.015947485734352562<br>  ],<br>  \"params\": {<br>    \"bagging_fraction\": 0.8712315518685763,<br>    \"bagging_freq\": 6,<br>    \"clip\": 9,<br>    \"feature_fraction\": 0.7492333717314353,<br>    \"learning_rate\": 0.0042059244827641565,<br>    \"min_child_samples\": 7,<br>    \"num_leaves\": 66<br>  }<br>}",
          "{<br>  \"number\": 368,<br>  \"values\": [<br>    0.221787480623865,<br>    0.004011013701615385<br>  ],<br>  \"params\": {<br>    \"bagging_fraction\": 0.6357559302435015,<br>    \"bagging_freq\": 9,<br>    \"clip\": 7,<br>    \"feature_fraction\": 0.6967408637415603,<br>    \"learning_rate\": 0.001033656216035787,<br>    \"min_child_samples\": 70,<br>    \"num_leaves\": 21<br>  }<br>}",
          "{<br>  \"number\": 370,<br>  \"values\": [<br>    0.2499986941770289,<br>    0.036782333764220465<br>  ],<br>  \"params\": {<br>    \"bagging_fraction\": 0.6937593534769172,<br>    \"bagging_freq\": 6,<br>    \"clip\": 6,<br>    \"feature_fraction\": 0.7082692496389729,<br>    \"learning_rate\": 0.01817541088344678,<br>    \"min_child_samples\": 18,<br>    \"num_leaves\": 46<br>  }<br>}",
          "{<br>  \"number\": 371,<br>  \"values\": [<br>    0.24846703234574855,<br>    0.04638750496336086<br>  ],<br>  \"params\": {<br>    \"bagging_fraction\": 0.8343985166154808,<br>    \"bagging_freq\": 6,<br>    \"clip\": 4,<br>    \"feature_fraction\": 0.8911839370164016,<br>    \"learning_rate\": 0.08311085245322619,<br>    \"min_child_samples\": 95,<br>    \"num_leaves\": 64<br>  }<br>}",
          "{<br>  \"number\": 372,<br>  \"values\": [<br>    0.2500255437562421,<br>    0.029773599846217635<br>  ],<br>  \"params\": {<br>    \"bagging_fraction\": 0.8531019835500566,<br>    \"bagging_freq\": 5,<br>    \"clip\": 10,<br>    \"feature_fraction\": 0.7359269465908422,<br>    \"learning_rate\": 0.009964802565242467,<br>    \"min_child_samples\": 52,<br>    \"num_leaves\": 59<br>  }<br>}",
          "{<br>  \"number\": 373,<br>  \"values\": [<br>    0.25800731464880544,<br>    0.031682619122386124<br>  ],<br>  \"params\": {<br>    \"bagging_fraction\": 0.6745809176888554,<br>    \"bagging_freq\": 8,<br>    \"clip\": 4,<br>    \"feature_fraction\": 0.6049057465048054,<br>    \"learning_rate\": 0.011049598584971352,<br>    \"min_child_samples\": 98,<br>    \"num_leaves\": 68<br>  }<br>}",
          "{<br>  \"number\": 374,<br>  \"values\": [<br>    0.2482015999199331,<br>    0.04131015394920512<br>  ],<br>  \"params\": {<br>    \"bagging_fraction\": 0.8638715897445095,<br>    \"bagging_freq\": 5,<br>    \"clip\": 9,<br>    \"feature_fraction\": 0.8240731552032959,<br>    \"learning_rate\": 0.06462230862820575,<br>    \"min_child_samples\": 61,<br>    \"num_leaves\": 46<br>  }<br>}",
          "{<br>  \"number\": 376,<br>  \"values\": [<br>    0.24158224506013837,<br>    0.008528209284018429<br>  ],<br>  \"params\": {<br>    \"bagging_fraction\": 0.7133692555155452,<br>    \"bagging_freq\": 5,<br>    \"clip\": 6,<br>    \"feature_fraction\": 0.7423973109667831,<br>    \"learning_rate\": 0.0018150925809782398,<br>    \"min_child_samples\": 69,<br>    \"num_leaves\": 77<br>  }<br>}",
          "{<br>  \"number\": 378,<br>  \"values\": [<br>    0.2319825863651647,<br>    0.016159417521755315<br>  ],<br>  \"params\": {<br>    \"bagging_fraction\": 0.7521436195896364,<br>    \"bagging_freq\": 6,<br>    \"clip\": 7,<br>    \"feature_fraction\": 0.8229836565151041,<br>    \"learning_rate\": 0.004830789297668857,<br>    \"min_child_samples\": 19,<br>    \"num_leaves\": 29<br>  }<br>}",
          "{<br>  \"number\": 380,<br>  \"values\": [<br>    0.24917321214566215,<br>    0.04788452151022282<br>  ],<br>  \"params\": {<br>    \"bagging_fraction\": 0.6195007318487765,<br>    \"bagging_freq\": 5,<br>    \"clip\": 4,<br>    \"feature_fraction\": 0.8973974396841083,<br>    \"learning_rate\": 0.07507562332780944,<br>    \"min_child_samples\": 100,<br>    \"num_leaves\": 70<br>  }<br>}",
          "{<br>  \"number\": 381,<br>  \"values\": [<br>    0.22321993678480664,<br>    0.005388976211027741<br>  ],<br>  \"params\": {<br>    \"bagging_fraction\": 0.6251545492310306,<br>    \"bagging_freq\": 6,<br>    \"clip\": 3,<br>    \"feature_fraction\": 0.8379259048162366,<br>    \"learning_rate\": 0.0014154521958767007,<br>    \"min_child_samples\": 66,<br>    \"num_leaves\": 29<br>  }<br>}",
          "{<br>  \"number\": 382,<br>  \"values\": [<br>    0.2485705028405702,<br>    0.03553644547496515<br>  ],<br>  \"params\": {<br>    \"bagging_fraction\": 0.6937593534769172,<br>    \"bagging_freq\": 6,<br>    \"clip\": 10,<br>    \"feature_fraction\": 0.7490165543515241,<br>    \"learning_rate\": 0.01817541088344678,<br>    \"min_child_samples\": 18,<br>    \"num_leaves\": 43<br>  }<br>}",
          "{<br>  \"number\": 383,<br>  \"values\": [<br>    0.251044275033073,<br>    0.02188881704831369<br>  ],<br>  \"params\": {<br>    \"bagging_fraction\": 0.7781281710676112,<br>    \"bagging_freq\": 8,<br>    \"clip\": 4,<br>    \"feature_fraction\": 0.6515611197116196,<br>    \"learning_rate\": 0.006284814465946395,<br>    \"min_child_samples\": 94,<br>    \"num_leaves\": 66<br>  }<br>}",
          "{<br>  \"number\": 384,<br>  \"values\": [<br>    0.25319951348193187,<br>    0.0450365177312817<br>  ],<br>  \"params\": {<br>    \"bagging_fraction\": 0.6616126336371765,<br>    \"bagging_freq\": 8,<br>    \"clip\": 6,<br>    \"feature_fraction\": 0.640142010361404,<br>    \"learning_rate\": 0.030324698393459533,<br>    \"min_child_samples\": 55,<br>    \"num_leaves\": 58<br>  }<br>}",
          "{<br>  \"number\": 387,<br>  \"values\": [<br>    0.22919605067258253,<br>    0.00923401575437588<br>  ],<br>  \"params\": {<br>    \"bagging_fraction\": 0.7482187375087188,<br>    \"bagging_freq\": 8,<br>    \"clip\": 10,<br>    \"feature_fraction\": 0.794340697511231,<br>    \"learning_rate\": 0.002242656969507945,<br>    \"min_child_samples\": 47,<br>    \"num_leaves\": 38<br>  }<br>}",
          "{<br>  \"number\": 388,<br>  \"values\": [<br>    0.2431021467094154,<br>    0.02324811441028285<br>  ],<br>  \"params\": {<br>    \"bagging_fraction\": 0.8638715897445095,<br>    \"bagging_freq\": 8,<br>    \"clip\": 9,<br>    \"feature_fraction\": 0.8109519209177599,<br>    \"learning_rate\": 0.006895849274913606,<br>    \"min_child_samples\": 36,<br>    \"num_leaves\": 56<br>  }<br>}",
          "{<br>  \"number\": 389,<br>  \"values\": [<br>    0.2526981114711774,<br>    0.030962472465403845<br>  ],<br>  \"params\": {<br>    \"bagging_fraction\": 0.8005869158871185,<br>    \"bagging_freq\": 6,<br>    \"clip\": 5,<br>    \"feature_fraction\": 0.7309795708294655,<br>    \"learning_rate\": 0.010709415747100402,<br>    \"min_child_samples\": 94,<br>    \"num_leaves\": 58<br>  }<br>}",
          "{<br>  \"number\": 390,<br>  \"values\": [<br>    0.24958022646340308,<br>    0.04004535930209596<br>  ],<br>  \"params\": {<br>    \"bagging_fraction\": 0.6477492578354561,<br>    \"bagging_freq\": 9,<br>    \"clip\": 6,<br>    \"feature_fraction\": 0.6810751593056465,<br>    \"learning_rate\": 0.036518750830734345,<br>    \"min_child_samples\": 23,<br>    \"num_leaves\": 26<br>  }<br>}",
          "{<br>  \"number\": 391,<br>  \"values\": [<br>    0.24769257646121207,<br>    0.027383712918123027<br>  ],<br>  \"params\": {<br>    \"bagging_fraction\": 0.6653487975903492,<br>    \"bagging_freq\": 6,<br>    \"clip\": 7,<br>    \"feature_fraction\": 0.7574811267089424,<br>    \"learning_rate\": 0.008866934766410607,<br>    \"min_child_samples\": 51,<br>    \"num_leaves\": 47<br>  }<br>}",
          "{<br>  \"number\": 392,<br>  \"values\": [<br>    0.2387261328497164,<br>    0.015806138660760527<br>  ],<br>  \"params\": {<br>    \"bagging_fraction\": 0.7475390463558648,<br>    \"bagging_freq\": 10,<br>    \"clip\": 9,<br>    \"feature_fraction\": 0.7003871735375031,<br>    \"learning_rate\": 0.004365919180702549,<br>    \"min_child_samples\": 61,<br>    \"num_leaves\": 36<br>  }<br>}",
          "{<br>  \"number\": 393,<br>  \"values\": [<br>    0.2478653307921424,<br>    0.04463415188467634<br>  ],<br>  \"params\": {<br>    \"bagging_fraction\": 0.6616126336371765,<br>    \"bagging_freq\": 10,<br>    \"clip\": 7,<br>    \"feature_fraction\": 0.6132944935072089,<br>    \"learning_rate\": 0.07028989091029153,<br>    \"min_child_samples\": 55,<br>    \"num_leaves\": 37<br>  }<br>}",
          "{<br>  \"number\": 394,<br>  \"values\": [<br>    0.24087984099522547,<br>    0.007934519717192279<br>  ],<br>  \"params\": {<br>    \"bagging_fraction\": 0.6886976288693628,<br>    \"bagging_freq\": 5,<br>    \"clip\": 4,<br>    \"feature_fraction\": 0.7082692496389729,<br>    \"learning_rate\": 0.001850362667623695,<br>    \"min_child_samples\": 97,<br>    \"num_leaves\": 58<br>  }<br>}",
          "{<br>  \"number\": 395,<br>  \"values\": [<br>    0.24751186894485644,<br>    0.042265310606146245<br>  ],<br>  \"params\": {<br>    \"bagging_fraction\": 0.7475390463558648,<br>    \"bagging_freq\": 5,<br>    \"clip\": 5,<br>    \"feature_fraction\": 0.819582027437001,<br>    \"learning_rate\": 0.03967625748877625,<br>    \"min_child_samples\": 42,<br>    \"num_leaves\": 42<br>  }<br>}",
          "{<br>  \"number\": 396,<br>  \"values\": [<br>    0.2488438654090531,<br>    0.03862800234839181<br>  ],<br>  \"params\": {<br>    \"bagging_fraction\": 0.785080492348096,<br>    \"bagging_freq\": 6,<br>    \"clip\": 10,<br>    \"feature_fraction\": 0.7764501635919903,<br>    \"learning_rate\": 0.040842014896504464,<br>    \"min_child_samples\": 21,<br>    \"num_leaves\": 39<br>  }<br>}",
          "{<br>  \"number\": 397,<br>  \"values\": [<br>    0.25377617851087136,<br>    0.036432085135043035<br>  ],<br>  \"params\": {<br>    \"bagging_fraction\": 0.6937593534769172,<br>    \"bagging_freq\": 8,<br>    \"clip\": 4,<br>    \"feature_fraction\": 0.8256076081424821,<br>    \"learning_rate\": 0.01817541088344678,<br>    \"min_child_samples\": 67,<br>    \"num_leaves\": 30<br>  }<br>}",
          "{<br>  \"number\": 398,<br>  \"values\": [<br>    0.25544313614189534,<br>    0.0344131863856344<br>  ],<br>  \"params\": {<br>    \"bagging_fraction\": 0.756320928743761,<br>    \"bagging_freq\": 10,<br>    \"clip\": 4,<br>    \"feature_fraction\": 0.6670681438859979,<br>    \"learning_rate\": 0.014180276984204241,<br>    \"min_child_samples\": 96,<br>    \"num_leaves\": 45<br>  }<br>}",
          "{<br>  \"number\": 399,<br>  \"values\": [<br>    0.2290012607817694,<br>    0.009822613551259574<br>  ],<br>  \"params\": {<br>    \"bagging_fraction\": 0.67382630864636,<br>    \"bagging_freq\": 7,<br>    \"clip\": 2,<br>    \"feature_fraction\": 0.7052756001608474,<br>    \"learning_rate\": 0.0032467567411562696,<br>    \"min_child_samples\": 42,<br>    \"num_leaves\": 21<br>  }<br>}"
         ],
         "type": "scatter",
         "x": [
          0.2452528591251842,
          0.2451419384427592,
          0.24387470377526363,
          0.24723149514458675,
          0.2573083384736167,
          0.23136984673809527,
          0.2505484223727061,
          0.2412716863405783,
          0.247834610437158,
          0.23780370821370167,
          0.2373000112693709,
          0.233292104591906,
          0.22167532240924231,
          0.25207267585420734,
          0.2510487798263732,
          0.25059371687763465,
          0.2551482749215062,
          0.2518727944350504,
          0.2541687961438509,
          0.23562234234360457,
          0.2331076114063391,
          0.25223043531156414,
          0.25515259339252566,
          0.22972080038296744,
          0.22180971047120115,
          0.2563816098760907,
          0.2536890198187514,
          0.2477486163429812,
          0.2400396363031501,
          0.252158016680459,
          0.2524874454749163,
          0.2593911527307614,
          0.25745863836769867,
          0.2550914729790589,
          0.23485961764825977,
          0.2519274028639646,
          0.24765346197357896,
          0.23436450525854619,
          0.2534580857965914,
          0.23650534979547855,
          0.231527403255664,
          0.22412172896421062,
          0.2321364482504366,
          0.2561024604336293,
          0.25569177389832687,
          0.2387328314485075,
          0.24693086618705454,
          0.24075653982835699,
          0.24466658648562822,
          0.23853025979036646,
          0.24763357064517708,
          0.2339973503798085,
          0.2492085972736926,
          0.25066231219644874,
          0.25130098864651734,
          0.2561560355784839,
          0.25016285857702897,
          0.2554292974248284,
          0.24332328094756836,
          0.25897399213247774,
          0.25330115548542037,
          0.2515710371057221,
          0.2458325296690641,
          0.24976245741965794,
          0.2544809979913562,
          0.2570648391977908,
          0.2549514275985368,
          0.2473845761882104,
          0.2526240251138549,
          0.25587591479500116,
          0.25610722536722275,
          0.25476749082570915,
          0.2546387645636954,
          0.2593933942975043,
          0.25799312207928643,
          0.2545116424988928,
          0.24815267196513136,
          0.23103870444296876,
          0.25331229054121607,
          0.25056448481141624,
          0.24700147204702655,
          0.24790154545618598,
          0.25415197399725314,
          0.2504413619099714,
          0.2391968897830871,
          0.25430478180553473,
          0.25315074296045964,
          0.24444104307763004,
          0.2528204269663969,
          0.24103480352696777,
          0.2600814901831644,
          0.22933250706162475,
          0.2591263374270524,
          0.2562335133837132,
          0.2591098214074764,
          0.2483412474513797,
          0.2512081628525162,
          0.25107976163608314,
          0.25221035131684794,
          0.2502747048703078,
          0.2500526850016637,
          0.2540945274590559,
          0.2574293344878647,
          0.22883082018497847,
          0.233698038844994,
          0.24392385175210587,
          0.2490111268674546,
          0.2516408655825914,
          0.24778289341756182,
          0.24783552853875895,
          0.2474147305712326,
          0.24754147674975016,
          0.2269330670719425,
          0.2553917445338677,
          0.250376497522499,
          0.24205378305605288,
          0.2592519219599979,
          0.24211174219238404,
          0.2593623957794654,
          0.25168172820220747,
          0.24628759324908098,
          0.23552595944008958,
          0.25781709731343283,
          0.24203502026551624,
          0.2523537958451631,
          0.2479733499697439,
          0.25030258871049704,
          0.25369517159731303,
          0.24888113693783845,
          0.25179151177143805,
          0.2420863794535825,
          0.2465972152772102,
          0.24712685311760024,
          0.25109415245350897,
          0.2524036640577606,
          0.2511848285565273,
          0.25263543884186096,
          0.251871890041453,
          0.24713952205052692,
          0.2560615581598163,
          0.24674661412173732,
          0.2504015560403546,
          0.24899950103100188,
          0.25200137038465903,
          0.25767425703400015,
          0.24490724115871634,
          0.2575211671036269,
          0.24715557528854795,
          0.24363065455276744,
          0.23399286443515283,
          0.2593675417714899,
          0.23644842604606486,
          0.2596784759518299,
          0.2562682154119855,
          0.24162607914038448,
          0.2508208509548629,
          0.2510254009308871,
          0.25270131577993443,
          0.23103870444296876,
          0.2558248162448636,
          0.24056882878375407,
          0.24685878069813255,
          0.25079723782011093,
          0.248202020162455,
          0.25106637736415055,
          0.2425331222329725,
          0.2512715515702912,
          0.24283772348025562,
          0.24608479190720878,
          0.25086671442378355,
          0.25066689192969893,
          0.2320666557535418,
          0.24517339883044004,
          0.24030237461779613,
          0.23705974405231586,
          0.221787480623865,
          0.2499986941770289,
          0.24846703234574855,
          0.2500255437562421,
          0.25800731464880544,
          0.2482015999199331,
          0.24158224506013837,
          0.2319825863651647,
          0.24917321214566215,
          0.22321993678480664,
          0.2485705028405702,
          0.251044275033073,
          0.25319951348193187,
          0.22919605067258253,
          0.2431021467094154,
          0.2526981114711774,
          0.24958022646340308,
          0.24769257646121207,
          0.2387261328497164,
          0.2478653307921424,
          0.24087984099522547,
          0.24751186894485644,
          0.2488438654090531,
          0.25377617851087136,
          0.25544313614189534,
          0.2290012607817694
         ],
         "y": [
          0.011786820412431731,
          0.025890504942053028,
          0.02441355026320524,
          0.022985307047246106,
          0.028465176736178766,
          0.007404493221953357,
          0.04067109997528251,
          0.016957804268375676,
          0.03596734249093403,
          0.01458076526100871,
          0.022582566657880387,
          0.011929090649718699,
          0.0090547449987326,
          0.04634182960220634,
          0.042855835487475624,
          0.045914211205229094,
          0.04653185223766709,
          0.04567903938972606,
          0.046080009629855145,
          0.0124525593743543,
          0.004326075881704861,
          0.0381353610709515,
          0.037454396167230675,
          0.010093900377606713,
          0.004010765663428395,
          0.0467068672467712,
          0.04214383183808268,
          0.04547988004298553,
          0.024395134398532248,
          0.04527253395818254,
          0.04194529287913795,
          0.04095048283766456,
          0.042236069375491736,
          0.028988906380625457,
          0.011918292334737512,
          0.045869515991385335,
          0.04771183879653773,
          0.0061056319668962855,
          0.046865394925502235,
          0.011091088626971835,
          0.012343490840171167,
          0.006276954953076341,
          0.006811424279535183,
          0.04601853512406273,
          0.046468181368955475,
          0.006792204786153944,
          0.04848970669885644,
          0.01877714358480642,
          0.022888986770438602,
          0.016194120183242733,
          0.03756281412620188,
          0.008131242738732003,
          0.047548550410349555,
          0.04833165667390538,
          0.04438334909609698,
          0.03409368959764214,
          0.04181127245017868,
          0.046744371887857405,
          0.023389831587818044,
          0.04434091412283159,
          0.043945279766755996,
          0.046349739745160656,
          0.005825019112641994,
          0.045481535767165626,
          0.045644328937709755,
          0.04661763817651943,
          0.03426878121591803,
          0.043494700488410754,
          0.046428095142063475,
          0.04724781818784729,
          0.027179839454921195,
          0.047309056387881854,
          0.046733357642835816,
          0.04261669777992305,
          0.04126507740953256,
          0.04292888163537001,
          0.04593632289520233,
          0.008556667582814037,
          0.03467448675142082,
          0.04254951455817335,
          0.028334536684486378,
          0.03576369639421151,
          0.04482068966304309,
          0.046373468608542634,
          0.019345545606497483,
          0.04644232692478911,
          0.04690178582537097,
          0.04379306804858518,
          0.0475844319376022,
          0.014129834435634203,
          0.04238174784050508,
          0.011921878712729317,
          0.04669597930381986,
          0.027914676634783753,
          0.042524811718430144,
          0.04959573395023942,
          0.04915040116731484,
          0.04963997541518794,
          0.03874577723626349,
          0.0475140548757601,
          0.04855324514531423,
          0.04847707555804093,
          0.04547040571677807,
          0.006464382844938332,
          0.004569590570806192,
          0.04760387357329854,
          0.048799016144351004,
          0.027701792981393303,
          0.037525264812802384,
          0.04685902796713204,
          0.01186183386733819,
          0.010990806679076703,
          0.008037025596649428,
          0.02898229388358764,
          0.048490747693011094,
          0.012273569978014764,
          0.0389452395488753,
          0.028354585522205156,
          0.037846521056441706,
          0.02283701314468045,
          0.015078245076110663,
          0.008340978026727952,
          0.03535004278561982,
          0.015948118610018325,
          0.043813900686286544,
          0.047193466294706665,
          0.04920551888400859,
          0.025094128812142347,
          0.049656706919650184,
          0.044166605859024766,
          0.015077646449541793,
          0.01834340940003165,
          0.03678006114669241,
          0.04866844655519287,
          0.020613907183640867,
          0.048760456508980754,
          0.047925010566569504,
          0.04172304392700077,
          0.019567365005835446,
          0.03333195904793962,
          0.005261224891415117,
          0.02694788106997481,
          0.047391751550360794,
          0.04458007478999182,
          0.034978194441042776,
          0.04428148411290567,
          0.03568901599137719,
          0.006866132600051755,
          0.00404801942659494,
          0.006966257442262425,
          0.04324448923655311,
          0.007204499742251791,
          0.0440513877300881,
          0.043194195959872395,
          0.008069760087978661,
          0.023789428839026683,
          0.02240049712667913,
          0.04750749342263727,
          0.008556667582814037,
          0.042269571654035776,
          0.011903883154730233,
          0.04744272050680809,
          0.043833169565739016,
          0.04090335345020091,
          0.04317312848498178,
          0.0121314063006972,
          0.048459542422616186,
          0.026125164326955996,
          0.04316551936344881,
          0.029604555717674286,
          0.04506649984406985,
          0.011919631442174117,
          0.025108494747394183,
          0.014216568834255927,
          0.015947485734352562,
          0.004011013701615385,
          0.036782333764220465,
          0.04638750496336086,
          0.029773599846217635,
          0.031682619122386124,
          0.04131015394920512,
          0.008528209284018429,
          0.016159417521755315,
          0.04788452151022282,
          0.005388976211027741,
          0.03553644547496515,
          0.02188881704831369,
          0.0450365177312817,
          0.00923401575437588,
          0.02324811441028285,
          0.030962472465403845,
          0.04004535930209596,
          0.027383712918123027,
          0.015806138660760527,
          0.04463415188467634,
          0.007934519717192279,
          0.042265310606146245,
          0.03862800234839181,
          0.036432085135043035,
          0.0344131863856344,
          0.009822613551259574
         ]
        },
        {
         "hovertemplate": "%{text}<extra>Best Trial</extra>",
         "marker": {
          "color": [
           176,
           214,
           218,
           222,
           224,
           236,
           241,
           308
          ],
          "colorbar": {
           "title": {
            "text": "Best Trial"
           },
           "x": 1.1,
           "xpad": 40
          },
          "colorscale": [
           [
            0,
            "rgb(255,245,240)"
           ],
           [
            0.125,
            "rgb(254,224,210)"
           ],
           [
            0.25,
            "rgb(252,187,161)"
           ],
           [
            0.375,
            "rgb(252,146,114)"
           ],
           [
            0.5,
            "rgb(251,106,74)"
           ],
           [
            0.625,
            "rgb(239,59,44)"
           ],
           [
            0.75,
            "rgb(203,24,29)"
           ],
           [
            0.875,
            "rgb(165,15,21)"
           ],
           [
            1,
            "rgb(103,0,13)"
           ]
          ],
          "line": {
           "color": "Grey",
           "width": 0.5
          }
         },
         "mode": "markers",
         "showlegend": false,
         "text": [
          "{<br>  \"number\": 176,<br>  \"values\": [<br>    0.25789136152567776,<br>    0.0480192268693852<br>  ],<br>  \"params\": {<br>    \"bagging_fraction\": 0.6050307652534531,<br>    \"bagging_freq\": 5,<br>    \"clip\": 3,<br>    \"feature_fraction\": 0.8062881993526937,<br>    \"learning_rate\": 0.035555468415144176,<br>    \"min_child_samples\": 86,<br>    \"num_leaves\": 54<br>  }<br>}",
          "{<br>  \"number\": 214,<br>  \"values\": [<br>    0.2594359974529594,<br>    0.04679876691579443<br>  ],<br>  \"params\": {<br>    \"bagging_fraction\": 0.6412926437994022,<br>    \"bagging_freq\": 5,<br>    \"clip\": 4,<br>    \"feature_fraction\": 0.6097731551125598,<br>    \"learning_rate\": 0.027955693552201056,<br>    \"min_child_samples\": 98,<br>    \"num_leaves\": 64<br>  }<br>}",
          "{<br>  \"number\": 218,<br>  \"values\": [<br>    0.260653488493822,<br>    0.042600529425669054<br>  ],<br>  \"params\": {<br>    \"bagging_fraction\": 0.6401348071097775,<br>    \"bagging_freq\": 5,<br>    \"clip\": 4,<br>    \"feature_fraction\": 0.611161408757341,<br>    \"learning_rate\": 0.020290009178857323,<br>    \"min_child_samples\": 98,<br>    \"num_leaves\": 66<br>  }<br>}",
          "{<br>  \"number\": 222,<br>  \"values\": [<br>    0.260145416643377,<br>    0.04321803501432098<br>  ],<br>  \"params\": {<br>    \"bagging_fraction\": 0.6289408741958625,<br>    \"bagging_freq\": 5,<br>    \"clip\": 4,<br>    \"feature_fraction\": 0.608904101232972,<br>    \"learning_rate\": 0.020818094063561603,<br>    \"min_child_samples\": 98,<br>    \"num_leaves\": 65<br>  }<br>}",
          "{<br>  \"number\": 224,<br>  \"values\": [<br>    0.259713605965903,<br>    0.04635742366422291<br>  ],<br>  \"params\": {<br>    \"bagging_fraction\": 0.6419833666684416,<br>    \"bagging_freq\": 5,<br>    \"clip\": 4,<br>    \"feature_fraction\": 0.6144331609551775,<br>    \"learning_rate\": 0.02643220738132975,<br>    \"min_child_samples\": 98,<br>    \"num_leaves\": 66<br>  }<br>}",
          "{<br>  \"number\": 236,<br>  \"values\": [<br>    0.2513352482355059,<br>    0.05012747138629925<br>  ],<br>  \"params\": {<br>    \"bagging_fraction\": 0.6430665038682722,<br>    \"bagging_freq\": 7,<br>    \"clip\": 4,<br>    \"feature_fraction\": 0.6070836007928877,<br>    \"learning_rate\": 0.06868692129372357,<br>    \"min_child_samples\": 97,<br>    \"num_leaves\": 67<br>  }<br>}",
          "{<br>  \"number\": 241,<br>  \"values\": [<br>    0.2527131001748713,<br>    0.04888091780422976<br>  ],<br>  \"params\": {<br>    \"bagging_fraction\": 0.6456169490496069,<br>    \"bagging_freq\": 7,<br>    \"clip\": 5,<br>    \"feature_fraction\": 0.6088535718405534,<br>    \"learning_rate\": 0.06735177186623212,<br>    \"min_child_samples\": 95,<br>    \"num_leaves\": 74<br>  }<br>}",
          "{<br>  \"number\": 308,<br>  \"values\": [<br>    0.25461632913008964,<br>    0.0486152332616544<br>  ],<br>  \"params\": {<br>    \"bagging_fraction\": 0.6392287216810726,<br>    \"bagging_freq\": 7,<br>    \"clip\": 4,<br>    \"feature_fraction\": 0.650507877566288,<br>    \"learning_rate\": 0.04063401709436199,<br>    \"min_child_samples\": 93,<br>    \"num_leaves\": 61<br>  }<br>}"
         ],
         "type": "scatter",
         "x": [
          0.25789136152567776,
          0.2594359974529594,
          0.260653488493822,
          0.260145416643377,
          0.259713605965903,
          0.2513352482355059,
          0.2527131001748713,
          0.25461632913008964
         ],
         "y": [
          0.0480192268693852,
          0.04679876691579443,
          0.042600529425669054,
          0.04321803501432098,
          0.04635742366422291,
          0.05012747138629925,
          0.04888091780422976,
          0.0486152332616544
         ]
        }
       ],
       "layout": {
        "template": {
         "data": {
          "bar": [
           {
            "error_x": {
             "color": "#2a3f5f"
            },
            "error_y": {
             "color": "#2a3f5f"
            },
            "marker": {
             "line": {
              "color": "#E5ECF6",
              "width": 0.5
             },
             "pattern": {
              "fillmode": "overlay",
              "size": 10,
              "solidity": 0.2
             }
            },
            "type": "bar"
           }
          ],
          "barpolar": [
           {
            "marker": {
             "line": {
              "color": "#E5ECF6",
              "width": 0.5
             },
             "pattern": {
              "fillmode": "overlay",
              "size": 10,
              "solidity": 0.2
             }
            },
            "type": "barpolar"
           }
          ],
          "carpet": [
           {
            "aaxis": {
             "endlinecolor": "#2a3f5f",
             "gridcolor": "white",
             "linecolor": "white",
             "minorgridcolor": "white",
             "startlinecolor": "#2a3f5f"
            },
            "baxis": {
             "endlinecolor": "#2a3f5f",
             "gridcolor": "white",
             "linecolor": "white",
             "minorgridcolor": "white",
             "startlinecolor": "#2a3f5f"
            },
            "type": "carpet"
           }
          ],
          "choropleth": [
           {
            "colorbar": {
             "outlinewidth": 0,
             "ticks": ""
            },
            "type": "choropleth"
           }
          ],
          "contour": [
           {
            "colorbar": {
             "outlinewidth": 0,
             "ticks": ""
            },
            "colorscale": [
             [
              0,
              "#0d0887"
             ],
             [
              0.1111111111111111,
              "#46039f"
             ],
             [
              0.2222222222222222,
              "#7201a8"
             ],
             [
              0.3333333333333333,
              "#9c179e"
             ],
             [
              0.4444444444444444,
              "#bd3786"
             ],
             [
              0.5555555555555556,
              "#d8576b"
             ],
             [
              0.6666666666666666,
              "#ed7953"
             ],
             [
              0.7777777777777778,
              "#fb9f3a"
             ],
             [
              0.8888888888888888,
              "#fdca26"
             ],
             [
              1,
              "#f0f921"
             ]
            ],
            "type": "contour"
           }
          ],
          "contourcarpet": [
           {
            "colorbar": {
             "outlinewidth": 0,
             "ticks": ""
            },
            "type": "contourcarpet"
           }
          ],
          "heatmap": [
           {
            "colorbar": {
             "outlinewidth": 0,
             "ticks": ""
            },
            "colorscale": [
             [
              0,
              "#0d0887"
             ],
             [
              0.1111111111111111,
              "#46039f"
             ],
             [
              0.2222222222222222,
              "#7201a8"
             ],
             [
              0.3333333333333333,
              "#9c179e"
             ],
             [
              0.4444444444444444,
              "#bd3786"
             ],
             [
              0.5555555555555556,
              "#d8576b"
             ],
             [
              0.6666666666666666,
              "#ed7953"
             ],
             [
              0.7777777777777778,
              "#fb9f3a"
             ],
             [
              0.8888888888888888,
              "#fdca26"
             ],
             [
              1,
              "#f0f921"
             ]
            ],
            "type": "heatmap"
           }
          ],
          "heatmapgl": [
           {
            "colorbar": {
             "outlinewidth": 0,
             "ticks": ""
            },
            "colorscale": [
             [
              0,
              "#0d0887"
             ],
             [
              0.1111111111111111,
              "#46039f"
             ],
             [
              0.2222222222222222,
              "#7201a8"
             ],
             [
              0.3333333333333333,
              "#9c179e"
             ],
             [
              0.4444444444444444,
              "#bd3786"
             ],
             [
              0.5555555555555556,
              "#d8576b"
             ],
             [
              0.6666666666666666,
              "#ed7953"
             ],
             [
              0.7777777777777778,
              "#fb9f3a"
             ],
             [
              0.8888888888888888,
              "#fdca26"
             ],
             [
              1,
              "#f0f921"
             ]
            ],
            "type": "heatmapgl"
           }
          ],
          "histogram": [
           {
            "marker": {
             "pattern": {
              "fillmode": "overlay",
              "size": 10,
              "solidity": 0.2
             }
            },
            "type": "histogram"
           }
          ],
          "histogram2d": [
           {
            "colorbar": {
             "outlinewidth": 0,
             "ticks": ""
            },
            "colorscale": [
             [
              0,
              "#0d0887"
             ],
             [
              0.1111111111111111,
              "#46039f"
             ],
             [
              0.2222222222222222,
              "#7201a8"
             ],
             [
              0.3333333333333333,
              "#9c179e"
             ],
             [
              0.4444444444444444,
              "#bd3786"
             ],
             [
              0.5555555555555556,
              "#d8576b"
             ],
             [
              0.6666666666666666,
              "#ed7953"
             ],
             [
              0.7777777777777778,
              "#fb9f3a"
             ],
             [
              0.8888888888888888,
              "#fdca26"
             ],
             [
              1,
              "#f0f921"
             ]
            ],
            "type": "histogram2d"
           }
          ],
          "histogram2dcontour": [
           {
            "colorbar": {
             "outlinewidth": 0,
             "ticks": ""
            },
            "colorscale": [
             [
              0,
              "#0d0887"
             ],
             [
              0.1111111111111111,
              "#46039f"
             ],
             [
              0.2222222222222222,
              "#7201a8"
             ],
             [
              0.3333333333333333,
              "#9c179e"
             ],
             [
              0.4444444444444444,
              "#bd3786"
             ],
             [
              0.5555555555555556,
              "#d8576b"
             ],
             [
              0.6666666666666666,
              "#ed7953"
             ],
             [
              0.7777777777777778,
              "#fb9f3a"
             ],
             [
              0.8888888888888888,
              "#fdca26"
             ],
             [
              1,
              "#f0f921"
             ]
            ],
            "type": "histogram2dcontour"
           }
          ],
          "mesh3d": [
           {
            "colorbar": {
             "outlinewidth": 0,
             "ticks": ""
            },
            "type": "mesh3d"
           }
          ],
          "parcoords": [
           {
            "line": {
             "colorbar": {
              "outlinewidth": 0,
              "ticks": ""
             }
            },
            "type": "parcoords"
           }
          ],
          "pie": [
           {
            "automargin": true,
            "type": "pie"
           }
          ],
          "scatter": [
           {
            "fillpattern": {
             "fillmode": "overlay",
             "size": 10,
             "solidity": 0.2
            },
            "type": "scatter"
           }
          ],
          "scatter3d": [
           {
            "line": {
             "colorbar": {
              "outlinewidth": 0,
              "ticks": ""
             }
            },
            "marker": {
             "colorbar": {
              "outlinewidth": 0,
              "ticks": ""
             }
            },
            "type": "scatter3d"
           }
          ],
          "scattercarpet": [
           {
            "marker": {
             "colorbar": {
              "outlinewidth": 0,
              "ticks": ""
             }
            },
            "type": "scattercarpet"
           }
          ],
          "scattergeo": [
           {
            "marker": {
             "colorbar": {
              "outlinewidth": 0,
              "ticks": ""
             }
            },
            "type": "scattergeo"
           }
          ],
          "scattergl": [
           {
            "marker": {
             "colorbar": {
              "outlinewidth": 0,
              "ticks": ""
             }
            },
            "type": "scattergl"
           }
          ],
          "scattermapbox": [
           {
            "marker": {
             "colorbar": {
              "outlinewidth": 0,
              "ticks": ""
             }
            },
            "type": "scattermapbox"
           }
          ],
          "scatterpolar": [
           {
            "marker": {
             "colorbar": {
              "outlinewidth": 0,
              "ticks": ""
             }
            },
            "type": "scatterpolar"
           }
          ],
          "scatterpolargl": [
           {
            "marker": {
             "colorbar": {
              "outlinewidth": 0,
              "ticks": ""
             }
            },
            "type": "scatterpolargl"
           }
          ],
          "scatterternary": [
           {
            "marker": {
             "colorbar": {
              "outlinewidth": 0,
              "ticks": ""
             }
            },
            "type": "scatterternary"
           }
          ],
          "surface": [
           {
            "colorbar": {
             "outlinewidth": 0,
             "ticks": ""
            },
            "colorscale": [
             [
              0,
              "#0d0887"
             ],
             [
              0.1111111111111111,
              "#46039f"
             ],
             [
              0.2222222222222222,
              "#7201a8"
             ],
             [
              0.3333333333333333,
              "#9c179e"
             ],
             [
              0.4444444444444444,
              "#bd3786"
             ],
             [
              0.5555555555555556,
              "#d8576b"
             ],
             [
              0.6666666666666666,
              "#ed7953"
             ],
             [
              0.7777777777777778,
              "#fb9f3a"
             ],
             [
              0.8888888888888888,
              "#fdca26"
             ],
             [
              1,
              "#f0f921"
             ]
            ],
            "type": "surface"
           }
          ],
          "table": [
           {
            "cells": {
             "fill": {
              "color": "#EBF0F8"
             },
             "line": {
              "color": "white"
             }
            },
            "header": {
             "fill": {
              "color": "#C8D4E3"
             },
             "line": {
              "color": "white"
             }
            },
            "type": "table"
           }
          ]
         },
         "layout": {
          "annotationdefaults": {
           "arrowcolor": "#2a3f5f",
           "arrowhead": 0,
           "arrowwidth": 1
          },
          "autotypenumbers": "strict",
          "coloraxis": {
           "colorbar": {
            "outlinewidth": 0,
            "ticks": ""
           }
          },
          "colorscale": {
           "diverging": [
            [
             0,
             "#8e0152"
            ],
            [
             0.1,
             "#c51b7d"
            ],
            [
             0.2,
             "#de77ae"
            ],
            [
             0.3,
             "#f1b6da"
            ],
            [
             0.4,
             "#fde0ef"
            ],
            [
             0.5,
             "#f7f7f7"
            ],
            [
             0.6,
             "#e6f5d0"
            ],
            [
             0.7,
             "#b8e186"
            ],
            [
             0.8,
             "#7fbc41"
            ],
            [
             0.9,
             "#4d9221"
            ],
            [
             1,
             "#276419"
            ]
           ],
           "sequential": [
            [
             0,
             "#0d0887"
            ],
            [
             0.1111111111111111,
             "#46039f"
            ],
            [
             0.2222222222222222,
             "#7201a8"
            ],
            [
             0.3333333333333333,
             "#9c179e"
            ],
            [
             0.4444444444444444,
             "#bd3786"
            ],
            [
             0.5555555555555556,
             "#d8576b"
            ],
            [
             0.6666666666666666,
             "#ed7953"
            ],
            [
             0.7777777777777778,
             "#fb9f3a"
            ],
            [
             0.8888888888888888,
             "#fdca26"
            ],
            [
             1,
             "#f0f921"
            ]
           ],
           "sequentialminus": [
            [
             0,
             "#0d0887"
            ],
            [
             0.1111111111111111,
             "#46039f"
            ],
            [
             0.2222222222222222,
             "#7201a8"
            ],
            [
             0.3333333333333333,
             "#9c179e"
            ],
            [
             0.4444444444444444,
             "#bd3786"
            ],
            [
             0.5555555555555556,
             "#d8576b"
            ],
            [
             0.6666666666666666,
             "#ed7953"
            ],
            [
             0.7777777777777778,
             "#fb9f3a"
            ],
            [
             0.8888888888888888,
             "#fdca26"
            ],
            [
             1,
             "#f0f921"
            ]
           ]
          },
          "colorway": [
           "#636efa",
           "#EF553B",
           "#00cc96",
           "#ab63fa",
           "#FFA15A",
           "#19d3f3",
           "#FF6692",
           "#B6E880",
           "#FF97FF",
           "#FECB52"
          ],
          "font": {
           "color": "#2a3f5f"
          },
          "geo": {
           "bgcolor": "white",
           "lakecolor": "white",
           "landcolor": "#E5ECF6",
           "showlakes": true,
           "showland": true,
           "subunitcolor": "white"
          },
          "hoverlabel": {
           "align": "left"
          },
          "hovermode": "closest",
          "mapbox": {
           "style": "light"
          },
          "paper_bgcolor": "white",
          "plot_bgcolor": "#E5ECF6",
          "polar": {
           "angularaxis": {
            "gridcolor": "white",
            "linecolor": "white",
            "ticks": ""
           },
           "bgcolor": "#E5ECF6",
           "radialaxis": {
            "gridcolor": "white",
            "linecolor": "white",
            "ticks": ""
           }
          },
          "scene": {
           "xaxis": {
            "backgroundcolor": "#E5ECF6",
            "gridcolor": "white",
            "gridwidth": 2,
            "linecolor": "white",
            "showbackground": true,
            "ticks": "",
            "zerolinecolor": "white"
           },
           "yaxis": {
            "backgroundcolor": "#E5ECF6",
            "gridcolor": "white",
            "gridwidth": 2,
            "linecolor": "white",
            "showbackground": true,
            "ticks": "",
            "zerolinecolor": "white"
           },
           "zaxis": {
            "backgroundcolor": "#E5ECF6",
            "gridcolor": "white",
            "gridwidth": 2,
            "linecolor": "white",
            "showbackground": true,
            "ticks": "",
            "zerolinecolor": "white"
           }
          },
          "shapedefaults": {
           "line": {
            "color": "#2a3f5f"
           }
          },
          "ternary": {
           "aaxis": {
            "gridcolor": "white",
            "linecolor": "white",
            "ticks": ""
           },
           "baxis": {
            "gridcolor": "white",
            "linecolor": "white",
            "ticks": ""
           },
           "bgcolor": "#E5ECF6",
           "caxis": {
            "gridcolor": "white",
            "linecolor": "white",
            "ticks": ""
           }
          },
          "title": {
           "x": 0.05
          },
          "xaxis": {
           "automargin": true,
           "gridcolor": "white",
           "linecolor": "white",
           "ticks": "",
           "title": {
            "standoff": 15
           },
           "zerolinecolor": "white",
           "zerolinewidth": 2
          },
          "yaxis": {
           "automargin": true,
           "gridcolor": "white",
           "linecolor": "white",
           "ticks": "",
           "title": {
            "standoff": 15
           },
           "zerolinecolor": "white",
           "zerolinewidth": 2
          }
         }
        },
        "title": {
         "text": "Pareto-front Plot"
        },
        "xaxis": {
         "title": {
          "text": "ic"
         }
        },
        "yaxis": {
         "title": {
          "text": "r2"
         }
        }
       }
      },
      "text/html": [
       "<div>                            <div id=\"adb73725-89eb-4043-88f4-3dd5f763b2b5\" class=\"plotly-graph-div\" style=\"height:525px; width:100%;\"></div>            <script type=\"text/javascript\">                require([\"plotly\"], function(Plotly) {                    window.PLOTLYENV=window.PLOTLYENV || {};                                    if (document.getElementById(\"adb73725-89eb-4043-88f4-3dd5f763b2b5\")) {                    Plotly.newPlot(                        \"adb73725-89eb-4043-88f4-3dd5f763b2b5\",                        [{\"hovertemplate\":\"%{text}\\u003cextra\\u003eTrial\\u003c\\u002fextra\\u003e\",\"marker\":{\"color\":[0,1,2,3,4,5,6,7,8,10,11,12,13,14,15,16,17,18,19,20,21,22,23,24,32,34,37,40,44,51,56,57,60,65,67,68,69,71,73,75,80,86,90,96,98,100,104,106,111,115,120,122,125,128,131,134,137,140,146,148,152,158,163,164,166,167,171,172,178,179,181,182,183,185,186,187,191,193,194,198,199,200,203,204,205,208,209,210,212,215,219,221,223,225,226,227,228,231,232,233,234,235,237,238,240,242,243,248,249,251,253,254,256,258,260,261,265,267,268,271,272,273,274,276,278,279,281,283,284,285,286,287,288,289,292,294,295,298,299,300,302,304,305,306,310,311,312,313,315,317,318,320,322,323,324,325,326,327,329,330,333,338,342,343,344,347,348,349,353,356,360,361,363,366,367,368,370,371,372,373,374,376,378,380,381,382,383,384,387,388,389,390,391,392,393,394,395,396,397,398,399],\"colorbar\":{\"title\":{\"text\":\"Trial\"}},\"colorscale\":[[0.0,\"rgb(247,251,255)\"],[0.125,\"rgb(222,235,247)\"],[0.25,\"rgb(198,219,239)\"],[0.375,\"rgb(158,202,225)\"],[0.5,\"rgb(107,174,214)\"],[0.625,\"rgb(66,146,198)\"],[0.75,\"rgb(33,113,181)\"],[0.875,\"rgb(8,81,156)\"],[1.0,\"rgb(8,48,107)\"]],\"line\":{\"color\":\"Grey\",\"width\":0.5}},\"mode\":\"markers\",\"showlegend\":false,\"text\":[\"{\\u003cbr\\u003e  \\\"number\\\": 0,\\u003cbr\\u003e  \\\"values\\\": [\\u003cbr\\u003e    0.2452528591251842,\\u003cbr\\u003e    0.011786820412431731\\u003cbr\\u003e  ],\\u003cbr\\u003e  \\\"params\\\": {\\u003cbr\\u003e    \\\"bagging_fraction\\\": 0.8989894504840543,\\u003cbr\\u003e    \\\"bagging_freq\\\": 5,\\u003cbr\\u003e    \\\"clip\\\": 2,\\u003cbr\\u003e    \\\"feature_fraction\\\": 0.7052756001608474,\\u003cbr\\u003e    \\\"learning_rate\\\": 0.0032467567411562696,\\u003cbr\\u003e    \\\"min_child_samples\\\": 42,\\u003cbr\\u003e    \\\"num_leaves\\\": 77\\u003cbr\\u003e  }\\u003cbr\\u003e}\",\"{\\u003cbr\\u003e  \\\"number\\\": 1,\\u003cbr\\u003e  \\\"values\\\": [\\u003cbr\\u003e    0.2451419384427592,\\u003cbr\\u003e    0.025890504942053028\\u003cbr\\u003e  ],\\u003cbr\\u003e  \\\"params\\\": {\\u003cbr\\u003e    \\\"bagging_fraction\\\": 0.6653487975903492,\\u003cbr\\u003e    \\\"bagging_freq\\\": 10,\\u003cbr\\u003e    \\\"clip\\\": 5,\\u003cbr\\u003e    \\\"feature_fraction\\\": 0.7574811267089424,\\u003cbr\\u003e    \\\"learning_rate\\\": 0.008866934766410607,\\u003cbr\\u003e    \\\"min_child_samples\\\": 41,\\u003cbr\\u003e    \\\"num_leaves\\\": 36\\u003cbr\\u003e  }\\u003cbr\\u003e}\",\"{\\u003cbr\\u003e  \\\"number\\\": 2,\\u003cbr\\u003e  \\\"values\\\": [\\u003cbr\\u003e    0.24387470377526363,\\u003cbr\\u003e    0.02441355026320524\\u003cbr\\u003e  ],\\u003cbr\\u003e  \\\"params\\\": {\\u003cbr\\u003e    \\\"bagging_fraction\\\": 0.8000933141440016,\\u003cbr\\u003e    \\\"bagging_freq\\\": 6,\\u003cbr\\u003e    \\\"clip\\\": 10,\\u003cbr\\u003e    \\\"feature_fraction\\\": 0.8107763120834243,\\u003cbr\\u003e    \\\"learning_rate\\\": 0.007718741802530335,\\u003cbr\\u003e    \\\"min_child_samples\\\": 51,\\u003cbr\\u003e    \\\"num_leaves\\\": 47\\u003cbr\\u003e  }\\u003cbr\\u003e}\",\"{\\u003cbr\\u003e  \\\"number\\\": 3,\\u003cbr\\u003e  \\\"values\\\": [\\u003cbr\\u003e    0.24723149514458675,\\u003cbr\\u003e    0.022985307047246106\\u003cbr\\u003e  ],\\u003cbr\\u003e  \\\"params\\\": {\\u003cbr\\u003e    \\\"bagging_fraction\\\": 0.6040187009168715,\\u003cbr\\u003e    \\\"bagging_freq\\\": 8,\\u003cbr\\u003e    \\\"clip\\\": 6,\\u003cbr\\u003e    \\\"feature_fraction\\\": 0.8109519209177599,\\u003cbr\\u003e    \\\"learning_rate\\\": 0.0059945791581145665,\\u003cbr\\u003e    \\\"min_child_samples\\\": 43,\\u003cbr\\u003e    \\\"num_leaves\\\": 80\\u003cbr\\u003e  }\\u003cbr\\u003e}\",\"{\\u003cbr\\u003e  \\\"number\\\": 4,\\u003cbr\\u003e  \\\"values\\\": [\\u003cbr\\u003e    0.2573083384736167,\\u003cbr\\u003e    0.028465176736178766\\u003cbr\\u003e  ],\\u003cbr\\u003e  \\\"params\\\": {\\u003cbr\\u003e    \\\"bagging_fraction\\\": 0.7521436195896364,\\u003cbr\\u003e    \\\"bagging_freq\\\": 6,\\u003cbr\\u003e    \\\"clip\\\": 1,\\u003cbr\\u003e    \\\"feature_fraction\\\": 0.8229836565151041,\\u003cbr\\u003e    \\\"learning_rate\\\": 0.023249584882066153,\\u003cbr\\u003e    \\\"min_child_samples\\\": 19,\\u003cbr\\u003e    \\\"num_leaves\\\": 29\\u003cbr\\u003e  }\\u003cbr\\u003e}\",\"{\\u003cbr\\u003e  \\\"number\\\": 5,\\u003cbr\\u003e  \\\"values\\\": [\\u003cbr\\u003e    0.23136984673809527,\\u003cbr\\u003e    0.007404493221953357\\u003cbr\\u003e  ],\\u003cbr\\u003e  \\\"params\\\": {\\u003cbr\\u003e    \\\"bagging_fraction\\\": 0.6878638843948256,\\u003cbr\\u003e    \\\"bagging_freq\\\": 5,\\u003cbr\\u003e    \\\"clip\\\": 4,\\u003cbr\\u003e    \\\"feature_fraction\\\": 0.8238189936510016,\\u003cbr\\u003e    \\\"learning_rate\\\": 0.0016832514728099617,\\u003cbr\\u003e    \\\"min_child_samples\\\": 14,\\u003cbr\\u003e    \\\"num_leaves\\\": 56\\u003cbr\\u003e  }\\u003cbr\\u003e}\",\"{\\u003cbr\\u003e  \\\"number\\\": 6,\\u003cbr\\u003e  \\\"values\\\": [\\u003cbr\\u003e    0.2505484223727061,\\u003cbr\\u003e    0.04067109997528251\\u003cbr\\u003e  ],\\u003cbr\\u003e  \\\"params\\\": {\\u003cbr\\u003e    \\\"bagging_fraction\\\": 0.6329874927575568,\\u003cbr\\u003e    \\\"bagging_freq\\\": 7,\\u003cbr\\u003e    \\\"clip\\\": 10,\\u003cbr\\u003e    \\\"feature_fraction\\\": 0.7764501635919903,\\u003cbr\\u003e    \\\"learning_rate\\\": 0.040842014896504464,\\u003cbr\\u003e    \\\"min_child_samples\\\": 47,\\u003cbr\\u003e    \\\"num_leaves\\\": 29\\u003cbr\\u003e  }\\u003cbr\\u003e}\",\"{\\u003cbr\\u003e  \\\"number\\\": 7,\\u003cbr\\u003e  \\\"values\\\": [\\u003cbr\\u003e    0.2412716863405783,\\u003cbr\\u003e    0.016957804268375676\\u003cbr\\u003e  ],\\u003cbr\\u003e  \\\"params\\\": {\\u003cbr\\u003e    \\\"bagging_fraction\\\": 0.6873793353945392,\\u003cbr\\u003e    \\\"bagging_freq\\\": 10,\\u003cbr\\u003e    \\\"clip\\\": 1,\\u003cbr\\u003e    \\\"feature_fraction\\\": 0.8330822666350881,\\u003cbr\\u003e    \\\"learning_rate\\\": 0.008411143456078221,\\u003cbr\\u003e    \\\"min_child_samples\\\": 36,\\u003cbr\\u003e    \\\"num_leaves\\\": 28\\u003cbr\\u003e  }\\u003cbr\\u003e}\",\"{\\u003cbr\\u003e  \\\"number\\\": 8,\\u003cbr\\u003e  \\\"values\\\": [\\u003cbr\\u003e    0.247834610437158,\\u003cbr\\u003e    0.03596734249093403\\u003cbr\\u003e  ],\\u003cbr\\u003e  \\\"params\\\": {\\u003cbr\\u003e    \\\"bagging_fraction\\\": 0.7398805200898341,\\u003cbr\\u003e    \\\"bagging_freq\\\": 5,\\u003cbr\\u003e    \\\"clip\\\": 6,\\u003cbr\\u003e    \\\"feature_fraction\\\": 0.8141999811603955,\\u003cbr\\u003e    \\\"learning_rate\\\": 0.01496074180763771,\\u003cbr\\u003e    \\\"min_child_samples\\\": 19,\\u003cbr\\u003e    \\\"num_leaves\\\": 75\\u003cbr\\u003e  }\\u003cbr\\u003e}\",\"{\\u003cbr\\u003e  \\\"number\\\": 10,\\u003cbr\\u003e  \\\"values\\\": [\\u003cbr\\u003e    0.23780370821370167,\\u003cbr\\u003e    0.01458076526100871\\u003cbr\\u003e  ],\\u003cbr\\u003e  \\\"params\\\": {\\u003cbr\\u003e    \\\"bagging_fraction\\\": 0.8527736771151044,\\u003cbr\\u003e    \\\"bagging_freq\\\": 9,\\u003cbr\\u003e    \\\"clip\\\": 6,\\u003cbr\\u003e    \\\"feature_fraction\\\": 0.7758821230591251,\\u003cbr\\u003e    \\\"learning_rate\\\": 0.0037946014068115054,\\u003cbr\\u003e    \\\"min_child_samples\\\": 68,\\u003cbr\\u003e    \\\"num_leaves\\\": 45\\u003cbr\\u003e  }\\u003cbr\\u003e}\",\"{\\u003cbr\\u003e  \\\"number\\\": 11,\\u003cbr\\u003e  \\\"values\\\": [\\u003cbr\\u003e    0.2373000112693709,\\u003cbr\\u003e    0.022582566657880387\\u003cbr\\u003e  ],\\u003cbr\\u003e  \\\"params\\\": {\\u003cbr\\u003e    \\\"bagging_fraction\\\": 0.7492843728285705,\\u003cbr\\u003e    \\\"bagging_freq\\\": 7,\\u003cbr\\u003e    \\\"clip\\\": 8,\\u003cbr\\u003e    \\\"feature_fraction\\\": 0.8536542888420304,\\u003cbr\\u003e    \\\"learning_rate\\\": 0.007290638272714936,\\u003cbr\\u003e    \\\"min_child_samples\\\": 7,\\u003cbr\\u003e    \\\"num_leaves\\\": 54\\u003cbr\\u003e  }\\u003cbr\\u003e}\",\"{\\u003cbr\\u003e  \\\"number\\\": 12,\\u003cbr\\u003e  \\\"values\\\": [\\u003cbr\\u003e    0.233292104591906,\\u003cbr\\u003e    0.011929090649718699\\u003cbr\\u003e  ],\\u003cbr\\u003e  \\\"params\\\": {\\u003cbr\\u003e    \\\"bagging_fraction\\\": 0.8973012444697348,\\u003cbr\\u003e    \\\"bagging_freq\\\": 7,\\u003cbr\\u003e    \\\"clip\\\": 4,\\u003cbr\\u003e    \\\"feature_fraction\\\": 0.872569232310622,\\u003cbr\\u003e    \\\"learning_rate\\\": 0.002931908791145229,\\u003cbr\\u003e    \\\"min_child_samples\\\": 6,\\u003cbr\\u003e    \\\"num_leaves\\\": 65\\u003cbr\\u003e  }\\u003cbr\\u003e}\",\"{\\u003cbr\\u003e  \\\"number\\\": 13,\\u003cbr\\u003e  \\\"values\\\": [\\u003cbr\\u003e    0.22167532240924231,\\u003cbr\\u003e    0.0090547449987326\\u003cbr\\u003e  ],\\u003cbr\\u003e  \\\"params\\\": {\\u003cbr\\u003e    \\\"bagging_fraction\\\": 0.6737976334901707,\\u003cbr\\u003e    \\\"bagging_freq\\\": 8,\\u003cbr\\u003e    \\\"clip\\\": 9,\\u003cbr\\u003e    \\\"feature_fraction\\\": 0.8693061373407032,\\u003cbr\\u003e    \\\"learning_rate\\\": 0.002460826136831343,\\u003cbr\\u003e    \\\"min_child_samples\\\": 6,\\u003cbr\\u003e    \\\"num_leaves\\\": 28\\u003cbr\\u003e  }\\u003cbr\\u003e}\",\"{\\u003cbr\\u003e  \\\"number\\\": 14,\\u003cbr\\u003e  \\\"values\\\": [\\u003cbr\\u003e    0.25207267585420734,\\u003cbr\\u003e    0.04634182960220634\\u003cbr\\u003e  ],\\u003cbr\\u003e  \\\"params\\\": {\\u003cbr\\u003e    \\\"bagging_fraction\\\": 0.6095592825335732,\\u003cbr\\u003e    \\\"bagging_freq\\\": 7,\\u003cbr\\u003e    \\\"clip\\\": 10,\\u003cbr\\u003e    \\\"feature_fraction\\\": 0.6136411013785914,\\u003cbr\\u003e    \\\"learning_rate\\\": 0.08558702661329928,\\u003cbr\\u003e    \\\"min_child_samples\\\": 95,\\u003cbr\\u003e    \\\"num_leaves\\\": 20\\u003cbr\\u003e  }\\u003cbr\\u003e}\",\"{\\u003cbr\\u003e  \\\"number\\\": 15,\\u003cbr\\u003e  \\\"values\\\": [\\u003cbr\\u003e    0.2510487798263732,\\u003cbr\\u003e    0.042855835487475624\\u003cbr\\u003e  ],\\u003cbr\\u003e  \\\"params\\\": {\\u003cbr\\u003e    \\\"bagging_fraction\\\": 0.6099950092671378,\\u003cbr\\u003e    \\\"bagging_freq\\\": 7,\\u003cbr\\u003e    \\\"clip\\\": 10,\\u003cbr\\u003e    \\\"feature_fraction\\\": 0.6016807568039526,\\u003cbr\\u003e    \\\"learning_rate\\\": 0.04533764085809857,\\u003cbr\\u003e    \\\"min_child_samples\\\": 99,\\u003cbr\\u003e    \\\"num_leaves\\\": 20\\u003cbr\\u003e  }\\u003cbr\\u003e}\",\"{\\u003cbr\\u003e  \\\"number\\\": 16,\\u003cbr\\u003e  \\\"values\\\": [\\u003cbr\\u003e    0.25059371687763465,\\u003cbr\\u003e    0.045914211205229094\\u003cbr\\u003e  ],\\u003cbr\\u003e  \\\"params\\\": {\\u003cbr\\u003e    \\\"bagging_fraction\\\": 0.7475390463558648,\\u003cbr\\u003e    \\\"bagging_freq\\\": 10,\\u003cbr\\u003e    \\\"clip\\\": 5,\\u003cbr\\u003e    \\\"feature_fraction\\\": 0.8182230392868988,\\u003cbr\\u003e    \\\"learning_rate\\\": 0.03967625748877625,\\u003cbr\\u003e    \\\"min_child_samples\\\": 93,\\u003cbr\\u003e    \\\"num_leaves\\\": 42\\u003cbr\\u003e  }\\u003cbr\\u003e}\",\"{\\u003cbr\\u003e  \\\"number\\\": 17,\\u003cbr\\u003e  \\\"values\\\": [\\u003cbr\\u003e    0.2551482749215062,\\u003cbr\\u003e    0.04653185223766709\\u003cbr\\u003e  ],\\u003cbr\\u003e  \\\"params\\\": {\\u003cbr\\u003e    \\\"bagging_fraction\\\": 0.6111162733775585,\\u003cbr\\u003e    \\\"bagging_freq\\\": 6,\\u003cbr\\u003e    \\\"clip\\\": 8,\\u003cbr\\u003e    \\\"feature_fraction\\\": 0.6022852856305764,\\u003cbr\\u003e    \\\"learning_rate\\\": 0.08588868910111831,\\u003cbr\\u003e    \\\"min_child_samples\\\": 100,\\u003cbr\\u003e    \\\"num_leaves\\\": 21\\u003cbr\\u003e  }\\u003cbr\\u003e}\",\"{\\u003cbr\\u003e  \\\"number\\\": 18,\\u003cbr\\u003e  \\\"values\\\": [\\u003cbr\\u003e    0.2518727944350504,\\u003cbr\\u003e    0.04567903938972606\\u003cbr\\u003e  ],\\u003cbr\\u003e  \\\"params\\\": {\\u003cbr\\u003e    \\\"bagging_fraction\\\": 0.7231675835570488,\\u003cbr\\u003e    \\\"bagging_freq\\\": 6,\\u003cbr\\u003e    \\\"clip\\\": 8,\\u003cbr\\u003e    \\\"feature_fraction\\\": 0.6065098908235,\\u003cbr\\u003e    \\\"learning_rate\\\": 0.09115033261096941,\\u003cbr\\u003e    \\\"min_child_samples\\\": 89,\\u003cbr\\u003e    \\\"num_leaves\\\": 20\\u003cbr\\u003e  }\\u003cbr\\u003e}\",\"{\\u003cbr\\u003e  \\\"number\\\": 19,\\u003cbr\\u003e  \\\"values\\\": [\\u003cbr\\u003e    0.2541687961438509,\\u003cbr\\u003e    0.046080009629855145\\u003cbr\\u003e  ],\\u003cbr\\u003e  \\\"params\\\": {\\u003cbr\\u003e    \\\"bagging_fraction\\\": 0.7211136403174878,\\u003cbr\\u003e    \\\"bagging_freq\\\": 6,\\u003cbr\\u003e    \\\"clip\\\": 8,\\u003cbr\\u003e    \\\"feature_fraction\\\": 0.6064035069277771,\\u003cbr\\u003e    \\\"learning_rate\\\": 0.09900394639787162,\\u003cbr\\u003e    \\\"min_child_samples\\\": 93,\\u003cbr\\u003e    \\\"num_leaves\\\": 22\\u003cbr\\u003e  }\\u003cbr\\u003e}\",\"{\\u003cbr\\u003e  \\\"number\\\": 20,\\u003cbr\\u003e  \\\"values\\\": [\\u003cbr\\u003e    0.23562234234360457,\\u003cbr\\u003e    0.0124525593743543\\u003cbr\\u003e  ],\\u003cbr\\u003e  \\\"params\\\": {\\u003cbr\\u003e    \\\"bagging_fraction\\\": 0.6477492578354561,\\u003cbr\\u003e    \\\"bagging_freq\\\": 9,\\u003cbr\\u003e    \\\"clip\\\": 6,\\u003cbr\\u003e    \\\"feature_fraction\\\": 0.6271862692582327,\\u003cbr\\u003e    \\\"learning_rate\\\": 0.0035985661040553217,\\u003cbr\\u003e    \\\"min_child_samples\\\": 86,\\u003cbr\\u003e    \\\"num_leaves\\\": 26\\u003cbr\\u003e  }\\u003cbr\\u003e}\",\"{\\u003cbr\\u003e  \\\"number\\\": 21,\\u003cbr\\u003e  \\\"values\\\": [\\u003cbr\\u003e    0.2331076114063391,\\u003cbr\\u003e    0.004326075881704861\\u003cbr\\u003e  ],\\u003cbr\\u003e  \\\"params\\\": {\\u003cbr\\u003e    \\\"bagging_fraction\\\": 0.7829807510529463,\\u003cbr\\u003e    \\\"bagging_freq\\\": 6,\\u003cbr\\u003e    \\\"clip\\\": 8,\\u003cbr\\u003e    \\\"feature_fraction\\\": 0.6584802534350949,\\u003cbr\\u003e    \\\"learning_rate\\\": 0.0010177342662204335,\\u003cbr\\u003e    \\\"min_child_samples\\\": 71,\\u003cbr\\u003e    \\\"num_leaves\\\": 36\\u003cbr\\u003e  }\\u003cbr\\u003e}\",\"{\\u003cbr\\u003e  \\\"number\\\": 22,\\u003cbr\\u003e  \\\"values\\\": [\\u003cbr\\u003e    0.25223043531156414,\\u003cbr\\u003e    0.0381353610709515\\u003cbr\\u003e  ],\\u003cbr\\u003e  \\\"params\\\": {\\u003cbr\\u003e    \\\"bagging_fraction\\\": 0.7865792034150735,\\u003cbr\\u003e    \\\"bagging_freq\\\": 6,\\u003cbr\\u003e    \\\"clip\\\": 7,\\u003cbr\\u003e    \\\"feature_fraction\\\": 0.8995793040651936,\\u003cbr\\u003e    \\\"learning_rate\\\": 0.01883736374502402,\\u003cbr\\u003e    \\\"min_child_samples\\\": 73,\\u003cbr\\u003e    \\\"num_leaves\\\": 37\\u003cbr\\u003e  }\\u003cbr\\u003e}\",\"{\\u003cbr\\u003e  \\\"number\\\": 23,\\u003cbr\\u003e  \\\"values\\\": [\\u003cbr\\u003e    0.25515259339252566,\\u003cbr\\u003e    0.037454396167230675\\u003cbr\\u003e  ],\\u003cbr\\u003e  \\\"params\\\": {\\u003cbr\\u003e    \\\"bagging_fraction\\\": 0.782838075713027,\\u003cbr\\u003e    \\\"bagging_freq\\\": 6,\\u003cbr\\u003e    \\\"clip\\\": 7,\\u003cbr\\u003e    \\\"feature_fraction\\\": 0.6581078122644295,\\u003cbr\\u003e    \\\"learning_rate\\\": 0.017600607941697516,\\u003cbr\\u003e    \\\"min_child_samples\\\": 77,\\u003cbr\\u003e    \\\"num_leaves\\\": 35\\u003cbr\\u003e  }\\u003cbr\\u003e}\",\"{\\u003cbr\\u003e  \\\"number\\\": 24,\\u003cbr\\u003e  \\\"values\\\": [\\u003cbr\\u003e    0.22972080038296744,\\u003cbr\\u003e    0.010093900377606713\\u003cbr\\u003e  ],\\u003cbr\\u003e  \\\"params\\\": {\\u003cbr\\u003e    \\\"bagging_fraction\\\": 0.7396596907105826,\\u003cbr\\u003e    \\\"bagging_freq\\\": 6,\\u003cbr\\u003e    \\\"clip\\\": 4,\\u003cbr\\u003e    \\\"feature_fraction\\\": 0.7417720059337526,\\u003cbr\\u003e    \\\"learning_rate\\\": 0.0027586572423554854,\\u003cbr\\u003e    \\\"min_child_samples\\\": 16,\\u003cbr\\u003e    \\\"num_leaves\\\": 30\\u003cbr\\u003e  }\\u003cbr\\u003e}\",\"{\\u003cbr\\u003e  \\\"number\\\": 32,\\u003cbr\\u003e  \\\"values\\\": [\\u003cbr\\u003e    0.22180971047120115,\\u003cbr\\u003e    0.004010765663428395\\u003cbr\\u003e  ],\\u003cbr\\u003e  \\\"params\\\": {\\u003cbr\\u003e    \\\"bagging_fraction\\\": 0.6357559302435015,\\u003cbr\\u003e    \\\"bagging_freq\\\": 9,\\u003cbr\\u003e    \\\"clip\\\": 7,\\u003cbr\\u003e    \\\"feature_fraction\\\": 0.6967408637415603,\\u003cbr\\u003e    \\\"learning_rate\\\": 0.001033656216035787,\\u003cbr\\u003e    \\\"min_child_samples\\\": 63,\\u003cbr\\u003e    \\\"num_leaves\\\": 21\\u003cbr\\u003e  }\\u003cbr\\u003e}\",\"{\\u003cbr\\u003e  \\\"number\\\": 34,\\u003cbr\\u003e  \\\"values\\\": [\\u003cbr\\u003e    0.2563816098760907,\\u003cbr\\u003e    0.0467068672467712\\u003cbr\\u003e  ],\\u003cbr\\u003e  \\\"params\\\": {\\u003cbr\\u003e    \\\"bagging_fraction\\\": 0.6380112062410876,\\u003cbr\\u003e    \\\"bagging_freq\\\": 5,\\u003cbr\\u003e    \\\"clip\\\": 2,\\u003cbr\\u003e    \\\"feature_fraction\\\": 0.6454472548495617,\\u003cbr\\u003e    \\\"learning_rate\\\": 0.05694756257750822,\\u003cbr\\u003e    \\\"min_child_samples\\\": 82,\\u003cbr\\u003e    \\\"num_leaves\\\": 33\\u003cbr\\u003e  }\\u003cbr\\u003e}\",\"{\\u003cbr\\u003e  \\\"number\\\": 37,\\u003cbr\\u003e  \\\"values\\\": [\\u003cbr\\u003e    0.2536890198187514,\\u003cbr\\u003e    0.04214383183808268\\u003cbr\\u003e  ],\\u003cbr\\u003e  \\\"params\\\": {\\u003cbr\\u003e    \\\"bagging_fraction\\\": 0.7191609311921344,\\u003cbr\\u003e    \\\"bagging_freq\\\": 7,\\u003cbr\\u003e    \\\"clip\\\": 6,\\u003cbr\\u003e    \\\"feature_fraction\\\": 0.7597682016678868,\\u003cbr\\u003e    \\\"learning_rate\\\": 0.023789572594604767,\\u003cbr\\u003e    \\\"min_child_samples\\\": 67,\\u003cbr\\u003e    \\\"num_leaves\\\": 40\\u003cbr\\u003e  }\\u003cbr\\u003e}\",\"{\\u003cbr\\u003e  \\\"number\\\": 40,\\u003cbr\\u003e  \\\"values\\\": [\\u003cbr\\u003e    0.2477486163429812,\\u003cbr\\u003e    0.04547988004298553\\u003cbr\\u003e  ],\\u003cbr\\u003e  \\\"params\\\": {\\u003cbr\\u003e    \\\"bagging_fraction\\\": 0.6945813846284481,\\u003cbr\\u003e    \\\"bagging_freq\\\": 5,\\u003cbr\\u003e    \\\"clip\\\": 2,\\u003cbr\\u003e    \\\"feature_fraction\\\": 0.6437710653291246,\\u003cbr\\u003e    \\\"learning_rate\\\": 0.060274359418488854,\\u003cbr\\u003e    \\\"min_child_samples\\\": 28,\\u003cbr\\u003e    \\\"num_leaves\\\": 65\\u003cbr\\u003e  }\\u003cbr\\u003e}\",\"{\\u003cbr\\u003e  \\\"number\\\": 44,\\u003cbr\\u003e  \\\"values\\\": [\\u003cbr\\u003e    0.2400396363031501,\\u003cbr\\u003e    0.024395134398532248\\u003cbr\\u003e  ],\\u003cbr\\u003e  \\\"params\\\": {\\u003cbr\\u003e    \\\"bagging_fraction\\\": 0.830800725430304,\\u003cbr\\u003e    \\\"bagging_freq\\\": 10,\\u003cbr\\u003e    \\\"clip\\\": 9,\\u003cbr\\u003e    \\\"feature_fraction\\\": 0.853758161243353,\\u003cbr\\u003e    \\\"learning_rate\\\": 0.008579411689816192,\\u003cbr\\u003e    \\\"min_child_samples\\\": 19,\\u003cbr\\u003e    \\\"num_leaves\\\": 36\\u003cbr\\u003e  }\\u003cbr\\u003e}\",\"{\\u003cbr\\u003e  \\\"number\\\": 51,\\u003cbr\\u003e  \\\"values\\\": [\\u003cbr\\u003e    0.252158016680459,\\u003cbr\\u003e    0.04527253395818254\\u003cbr\\u003e  ],\\u003cbr\\u003e  \\\"params\\\": {\\u003cbr\\u003e    \\\"bagging_fraction\\\": 0.8769654881230391,\\u003cbr\\u003e    \\\"bagging_freq\\\": 10,\\u003cbr\\u003e    \\\"clip\\\": 7,\\u003cbr\\u003e    \\\"feature_fraction\\\": 0.6132944935072089,\\u003cbr\\u003e    \\\"learning_rate\\\": 0.07028989091029153,\\u003cbr\\u003e    \\\"min_child_samples\\\": 74,\\u003cbr\\u003e    \\\"num_leaves\\\": 40\\u003cbr\\u003e  }\\u003cbr\\u003e}\",\"{\\u003cbr\\u003e  \\\"number\\\": 56,\\u003cbr\\u003e  \\\"values\\\": [\\u003cbr\\u003e    0.2524874454749163,\\u003cbr\\u003e    0.04194529287913795\\u003cbr\\u003e  ],\\u003cbr\\u003e  \\\"params\\\": {\\u003cbr\\u003e    \\\"bagging_fraction\\\": 0.7499808764947822,\\u003cbr\\u003e    \\\"bagging_freq\\\": 10,\\u003cbr\\u003e    \\\"clip\\\": 8,\\u003cbr\\u003e    \\\"feature_fraction\\\": 0.8320628332704308,\\u003cbr\\u003e    \\\"learning_rate\\\": 0.032670213299518816,\\u003cbr\\u003e    \\\"min_child_samples\\\": 56,\\u003cbr\\u003e    \\\"num_leaves\\\": 41\\u003cbr\\u003e  }\\u003cbr\\u003e}\",\"{\\u003cbr\\u003e  \\\"number\\\": 57,\\u003cbr\\u003e  \\\"values\\\": [\\u003cbr\\u003e    0.2593911527307614,\\u003cbr\\u003e    0.04095048283766456\\u003cbr\\u003e  ],\\u003cbr\\u003e  \\\"params\\\": {\\u003cbr\\u003e    \\\"bagging_fraction\\\": 0.6584679709610489,\\u003cbr\\u003e    \\\"bagging_freq\\\": 5,\\u003cbr\\u003e    \\\"clip\\\": 2,\\u003cbr\\u003e    \\\"feature_fraction\\\": 0.6901564421872136,\\u003cbr\\u003e    \\\"learning_rate\\\": 0.02839209583487367,\\u003cbr\\u003e    \\\"min_child_samples\\\": 59,\\u003cbr\\u003e    \\\"num_leaves\\\": 54\\u003cbr\\u003e  }\\u003cbr\\u003e}\",\"{\\u003cbr\\u003e  \\\"number\\\": 60,\\u003cbr\\u003e  \\\"values\\\": [\\u003cbr\\u003e    0.25745863836769867,\\u003cbr\\u003e    0.042236069375491736\\u003cbr\\u003e  ],\\u003cbr\\u003e  \\\"params\\\": {\\u003cbr\\u003e    \\\"bagging_fraction\\\": 0.6886976288693628,\\u003cbr\\u003e    \\\"bagging_freq\\\": 7,\\u003cbr\\u003e    \\\"clip\\\": 5,\\u003cbr\\u003e    \\\"feature_fraction\\\": 0.7309795708294655,\\u003cbr\\u003e    \\\"learning_rate\\\": 0.020262051843507097,\\u003cbr\\u003e    \\\"min_child_samples\\\": 97,\\u003cbr\\u003e    \\\"num_leaves\\\": 58\\u003cbr\\u003e  }\\u003cbr\\u003e}\",\"{\\u003cbr\\u003e  \\\"number\\\": 65,\\u003cbr\\u003e  \\\"values\\\": [\\u003cbr\\u003e    0.2550914729790589,\\u003cbr\\u003e    0.028988906380625457\\u003cbr\\u003e  ],\\u003cbr\\u003e  \\\"params\\\": {\\u003cbr\\u003e    \\\"bagging_fraction\\\": 0.6578902799143461,\\u003cbr\\u003e    \\\"bagging_freq\\\": 5,\\u003cbr\\u003e    \\\"clip\\\": 2,\\u003cbr\\u003e    \\\"feature_fraction\\\": 0.7190861398342727,\\u003cbr\\u003e    \\\"learning_rate\\\": 0.012212672890276298,\\u003cbr\\u003e    \\\"min_child_samples\\\": 81,\\u003cbr\\u003e    \\\"num_leaves\\\": 59\\u003cbr\\u003e  }\\u003cbr\\u003e}\",\"{\\u003cbr\\u003e  \\\"number\\\": 67,\\u003cbr\\u003e  \\\"values\\\": [\\u003cbr\\u003e    0.23485961764825977,\\u003cbr\\u003e    0.011918292334737512\\u003cbr\\u003e  ],\\u003cbr\\u003e  \\\"params\\\": {\\u003cbr\\u003e    \\\"bagging_fraction\\\": 0.6788673826156724,\\u003cbr\\u003e    \\\"bagging_freq\\\": 8,\\u003cbr\\u003e    \\\"clip\\\": 4,\\u003cbr\\u003e    \\\"feature_fraction\\\": 0.7140439358330123,\\u003cbr\\u003e    \\\"learning_rate\\\": 0.0033850284695300143,\\u003cbr\\u003e    \\\"min_child_samples\\\": 67,\\u003cbr\\u003e    \\\"num_leaves\\\": 30\\u003cbr\\u003e  }\\u003cbr\\u003e}\",\"{\\u003cbr\\u003e  \\\"number\\\": 68,\\u003cbr\\u003e  \\\"values\\\": [\\u003cbr\\u003e    0.2519274028639646,\\u003cbr\\u003e    0.045869515991385335\\u003cbr\\u003e  ],\\u003cbr\\u003e  \\\"params\\\": {\\u003cbr\\u003e    \\\"bagging_fraction\\\": 0.6581203722879798,\\u003cbr\\u003e    \\\"bagging_freq\\\": 5,\\u003cbr\\u003e    \\\"clip\\\": 2,\\u003cbr\\u003e    \\\"feature_fraction\\\": 0.682394670591849,\\u003cbr\\u003e    \\\"learning_rate\\\": 0.05238570656889756,\\u003cbr\\u003e    \\\"min_child_samples\\\": 59,\\u003cbr\\u003e    \\\"num_leaves\\\": 52\\u003cbr\\u003e  }\\u003cbr\\u003e}\",\"{\\u003cbr\\u003e  \\\"number\\\": 69,\\u003cbr\\u003e  \\\"values\\\": [\\u003cbr\\u003e    0.24765346197357896,\\u003cbr\\u003e    0.04771183879653773\\u003cbr\\u003e  ],\\u003cbr\\u003e  \\\"params\\\": {\\u003cbr\\u003e    \\\"bagging_fraction\\\": 0.6289500805456423,\\u003cbr\\u003e    \\\"bagging_freq\\\": 5,\\u003cbr\\u003e    \\\"clip\\\": 3,\\u003cbr\\u003e    \\\"feature_fraction\\\": 0.678266152753961,\\u003cbr\\u003e    \\\"learning_rate\\\": 0.056781969178912185,\\u003cbr\\u003e    \\\"min_child_samples\\\": 58,\\u003cbr\\u003e    \\\"num_leaves\\\": 47\\u003cbr\\u003e  }\\u003cbr\\u003e}\",\"{\\u003cbr\\u003e  \\\"number\\\": 71,\\u003cbr\\u003e  \\\"values\\\": [\\u003cbr\\u003e    0.23436450525854619,\\u003cbr\\u003e    0.0061056319668962855\\u003cbr\\u003e  ],\\u003cbr\\u003e  \\\"params\\\": {\\u003cbr\\u003e    \\\"bagging_fraction\\\": 0.6251545492310306,\\u003cbr\\u003e    \\\"bagging_freq\\\": 6,\\u003cbr\\u003e    \\\"clip\\\": 3,\\u003cbr\\u003e    \\\"feature_fraction\\\": 0.8379259048162366,\\u003cbr\\u003e    \\\"learning_rate\\\": 0.0014154521958767007,\\u003cbr\\u003e    \\\"min_child_samples\\\": 66,\\u003cbr\\u003e    \\\"num_leaves\\\": 60\\u003cbr\\u003e  }\\u003cbr\\u003e}\",\"{\\u003cbr\\u003e  \\\"number\\\": 73,\\u003cbr\\u003e  \\\"values\\\": [\\u003cbr\\u003e    0.2534580857965914,\\u003cbr\\u003e    0.046865394925502235\\u003cbr\\u003e  ],\\u003cbr\\u003e  \\\"params\\\": {\\u003cbr\\u003e    \\\"bagging_fraction\\\": 0.6269113292333789,\\u003cbr\\u003e    \\\"bagging_freq\\\": 5,\\u003cbr\\u003e    \\\"clip\\\": 3,\\u003cbr\\u003e    \\\"feature_fraction\\\": 0.6794231665952034,\\u003cbr\\u003e    \\\"learning_rate\\\": 0.06505853792918165,\\u003cbr\\u003e    \\\"min_child_samples\\\": 53,\\u003cbr\\u003e    \\\"num_leaves\\\": 48\\u003cbr\\u003e  }\\u003cbr\\u003e}\",\"{\\u003cbr\\u003e  \\\"number\\\": 75,\\u003cbr\\u003e  \\\"values\\\": [\\u003cbr\\u003e    0.23650534979547855,\\u003cbr\\u003e    0.011091088626971835\\u003cbr\\u003e  ],\\u003cbr\\u003e  \\\"params\\\": {\\u003cbr\\u003e    \\\"bagging_fraction\\\": 0.7011406354354507,\\u003cbr\\u003e    \\\"bagging_freq\\\": 6,\\u003cbr\\u003e    \\\"clip\\\": 1,\\u003cbr\\u003e    \\\"feature_fraction\\\": 0.853219662835077,\\u003cbr\\u003e    \\\"learning_rate\\\": 0.004400245851050312,\\u003cbr\\u003e    \\\"min_child_samples\\\": 30,\\u003cbr\\u003e    \\\"num_leaves\\\": 44\\u003cbr\\u003e  }\\u003cbr\\u003e}\",\"{\\u003cbr\\u003e  \\\"number\\\": 80,\\u003cbr\\u003e  \\\"values\\\": [\\u003cbr\\u003e    0.231527403255664,\\u003cbr\\u003e    0.012343490840171167\\u003cbr\\u003e  ],\\u003cbr\\u003e  \\\"params\\\": {\\u003cbr\\u003e    \\\"bagging_fraction\\\": 0.6100681000360957,\\u003cbr\\u003e    \\\"bagging_freq\\\": 8,\\u003cbr\\u003e    \\\"clip\\\": 4,\\u003cbr\\u003e    \\\"feature_fraction\\\": 0.8643548042806717,\\u003cbr\\u003e    \\\"learning_rate\\\": 0.003269049485185014,\\u003cbr\\u003e    \\\"min_child_samples\\\": 5,\\u003cbr\\u003e    \\\"num_leaves\\\": 46\\u003cbr\\u003e  }\\u003cbr\\u003e}\",\"{\\u003cbr\\u003e  \\\"number\\\": 86,\\u003cbr\\u003e  \\\"values\\\": [\\u003cbr\\u003e    0.22412172896421062,\\u003cbr\\u003e    0.006276954953076341\\u003cbr\\u003e  ],\\u003cbr\\u003e  \\\"params\\\": {\\u003cbr\\u003e    \\\"bagging_fraction\\\": 0.874505349239366,\\u003cbr\\u003e    \\\"bagging_freq\\\": 10,\\u003cbr\\u003e    \\\"clip\\\": 4,\\u003cbr\\u003e    \\\"feature_fraction\\\": 0.7370412314244079,\\u003cbr\\u003e    \\\"learning_rate\\\": 0.0017019073019314578,\\u003cbr\\u003e    \\\"min_child_samples\\\": 48,\\u003cbr\\u003e    \\\"num_leaves\\\": 24\\u003cbr\\u003e  }\\u003cbr\\u003e}\",\"{\\u003cbr\\u003e  \\\"number\\\": 90,\\u003cbr\\u003e  \\\"values\\\": [\\u003cbr\\u003e    0.2321364482504366,\\u003cbr\\u003e    0.006811424279535183\\u003cbr\\u003e  ],\\u003cbr\\u003e  \\\"params\\\": {\\u003cbr\\u003e    \\\"bagging_fraction\\\": 0.756320928743761,\\u003cbr\\u003e    \\\"bagging_freq\\\": 10,\\u003cbr\\u003e    \\\"clip\\\": 4,\\u003cbr\\u003e    \\\"feature_fraction\\\": 0.6670681438859979,\\u003cbr\\u003e    \\\"learning_rate\\\": 0.0017687515825011775,\\u003cbr\\u003e    \\\"min_child_samples\\\": 96,\\u003cbr\\u003e    \\\"num_leaves\\\": 31\\u003cbr\\u003e  }\\u003cbr\\u003e}\",\"{\\u003cbr\\u003e  \\\"number\\\": 96,\\u003cbr\\u003e  \\\"values\\\": [\\u003cbr\\u003e    0.2561024604336293,\\u003cbr\\u003e    0.04601853512406273\\u003cbr\\u003e  ],\\u003cbr\\u003e  \\\"params\\\": {\\u003cbr\\u003e    \\\"bagging_fraction\\\": 0.6626158977100964,\\u003cbr\\u003e    \\\"bagging_freq\\\": 10,\\u003cbr\\u003e    \\\"clip\\\": 4,\\u003cbr\\u003e    \\\"feature_fraction\\\": 0.7150376403626323,\\u003cbr\\u003e    \\\"learning_rate\\\": 0.026427282217006753,\\u003cbr\\u003e    \\\"min_child_samples\\\": 67,\\u003cbr\\u003e    \\\"num_leaves\\\": 69\\u003cbr\\u003e  }\\u003cbr\\u003e}\",\"{\\u003cbr\\u003e  \\\"number\\\": 98,\\u003cbr\\u003e  \\\"values\\\": [\\u003cbr\\u003e    0.25569177389832687,\\u003cbr\\u003e    0.046468181368955475\\u003cbr\\u003e  ],\\u003cbr\\u003e  \\\"params\\\": {\\u003cbr\\u003e    \\\"bagging_fraction\\\": 0.64270600500499,\\u003cbr\\u003e    \\\"bagging_freq\\\": 5,\\u003cbr\\u003e    \\\"clip\\\": 3,\\u003cbr\\u003e    \\\"feature_fraction\\\": 0.6867582868150497,\\u003cbr\\u003e    \\\"learning_rate\\\": 0.03125090293139831,\\u003cbr\\u003e    \\\"min_child_samples\\\": 41,\\u003cbr\\u003e    \\\"num_leaves\\\": 72\\u003cbr\\u003e  }\\u003cbr\\u003e}\",\"{\\u003cbr\\u003e  \\\"number\\\": 100,\\u003cbr\\u003e  \\\"values\\\": [\\u003cbr\\u003e    0.2387328314485075,\\u003cbr\\u003e    0.006792204786153944\\u003cbr\\u003e  ],\\u003cbr\\u003e  \\\"params\\\": {\\u003cbr\\u003e    \\\"bagging_fraction\\\": 0.8275064862931905,\\u003cbr\\u003e    \\\"bagging_freq\\\": 10,\\u003cbr\\u003e    \\\"clip\\\": 6,\\u003cbr\\u003e    \\\"feature_fraction\\\": 0.7459139233643061,\\u003cbr\\u003e    \\\"learning_rate\\\": 0.001417135358816386,\\u003cbr\\u003e    \\\"min_child_samples\\\": 62,\\u003cbr\\u003e    \\\"num_leaves\\\": 71\\u003cbr\\u003e  }\\u003cbr\\u003e}\",\"{\\u003cbr\\u003e  \\\"number\\\": 104,\\u003cbr\\u003e  \\\"values\\\": [\\u003cbr\\u003e    0.24693086618705454,\\u003cbr\\u003e    0.04848970669885644\\u003cbr\\u003e  ],\\u003cbr\\u003e  \\\"params\\\": {\\u003cbr\\u003e    \\\"bagging_fraction\\\": 0.6263602509539565,\\u003cbr\\u003e    \\\"bagging_freq\\\": 5,\\u003cbr\\u003e    \\\"clip\\\": 3,\\u003cbr\\u003e    \\\"feature_fraction\\\": 0.6404333196106097,\\u003cbr\\u003e    \\\"learning_rate\\\": 0.06083644002777484,\\u003cbr\\u003e    \\\"min_child_samples\\\": 53,\\u003cbr\\u003e    \\\"num_leaves\\\": 49\\u003cbr\\u003e  }\\u003cbr\\u003e}\",\"{\\u003cbr\\u003e  \\\"number\\\": 106,\\u003cbr\\u003e  \\\"values\\\": [\\u003cbr\\u003e    0.24075653982835699,\\u003cbr\\u003e    0.01877714358480642\\u003cbr\\u003e  ],\\u003cbr\\u003e  \\\"params\\\": {\\u003cbr\\u003e    \\\"bagging_fraction\\\": 0.7911128743581171,\\u003cbr\\u003e    \\\"bagging_freq\\\": 9,\\u003cbr\\u003e    \\\"clip\\\": 10,\\u003cbr\\u003e    \\\"feature_fraction\\\": 0.7490165543515241,\\u003cbr\\u003e    \\\"learning_rate\\\": 0.00517462065080211,\\u003cbr\\u003e    \\\"min_child_samples\\\": 23,\\u003cbr\\u003e    \\\"num_leaves\\\": 53\\u003cbr\\u003e  }\\u003cbr\\u003e}\",\"{\\u003cbr\\u003e  \\\"number\\\": 111,\\u003cbr\\u003e  \\\"values\\\": [\\u003cbr\\u003e    0.24466658648562822,\\u003cbr\\u003e    0.022888986770438602\\u003cbr\\u003e  ],\\u003cbr\\u003e  \\\"params\\\": {\\u003cbr\\u003e    \\\"bagging_fraction\\\": 0.67382630864636,\\u003cbr\\u003e    \\\"bagging_freq\\\": 5,\\u003cbr\\u003e    \\\"clip\\\": 2,\\u003cbr\\u003e    \\\"feature_fraction\\\": 0.6573416787494221,\\u003cbr\\u003e    \\\"learning_rate\\\": 0.010140499733436835,\\u003cbr\\u003e    \\\"min_child_samples\\\": 20,\\u003cbr\\u003e    \\\"num_leaves\\\": 21\\u003cbr\\u003e  }\\u003cbr\\u003e}\",\"{\\u003cbr\\u003e  \\\"number\\\": 115,\\u003cbr\\u003e  \\\"values\\\": [\\u003cbr\\u003e    0.23853025979036646,\\u003cbr\\u003e    0.016194120183242733\\u003cbr\\u003e  ],\\u003cbr\\u003e  \\\"params\\\": {\\u003cbr\\u003e    \\\"bagging_fraction\\\": 0.8005869158871185,\\u003cbr\\u003e    \\\"bagging_freq\\\": 6,\\u003cbr\\u003e    \\\"clip\\\": 5,\\u003cbr\\u003e    \\\"feature_fraction\\\": 0.888513036474291,\\u003cbr\\u003e    \\\"learning_rate\\\": 0.004166027950160999,\\u003cbr\\u003e    \\\"min_child_samples\\\": 94,\\u003cbr\\u003e    \\\"num_leaves\\\": 58\\u003cbr\\u003e  }\\u003cbr\\u003e}\",\"{\\u003cbr\\u003e  \\\"number\\\": 120,\\u003cbr\\u003e  \\\"values\\\": [\\u003cbr\\u003e    0.24763357064517708,\\u003cbr\\u003e    0.03756281412620188\\u003cbr\\u003e  ],\\u003cbr\\u003e  \\\"params\\\": {\\u003cbr\\u003e    \\\"bagging_fraction\\\": 0.6218057196088899,\\u003cbr\\u003e    \\\"bagging_freq\\\": 5,\\u003cbr\\u003e    \\\"clip\\\": 1,\\u003cbr\\u003e    \\\"feature_fraction\\\": 0.6287499913389536,\\u003cbr\\u003e    \\\"learning_rate\\\": 0.07384369161531945,\\u003cbr\\u003e    \\\"min_child_samples\\\": 53,\\u003cbr\\u003e    \\\"num_leaves\\\": 49\\u003cbr\\u003e  }\\u003cbr\\u003e}\",\"{\\u003cbr\\u003e  \\\"number\\\": 122,\\u003cbr\\u003e  \\\"values\\\": [\\u003cbr\\u003e    0.2339973503798085,\\u003cbr\\u003e    0.008131242738732003\\u003cbr\\u003e  ],\\u003cbr\\u003e  \\\"params\\\": {\\u003cbr\\u003e    \\\"bagging_fraction\\\": 0.8572363059999858,\\u003cbr\\u003e    \\\"bagging_freq\\\": 8,\\u003cbr\\u003e    \\\"clip\\\": 3,\\u003cbr\\u003e    \\\"feature_fraction\\\": 0.7061789981396771,\\u003cbr\\u003e    \\\"learning_rate\\\": 0.0021646434231700055,\\u003cbr\\u003e    \\\"min_child_samples\\\": 92,\\u003cbr\\u003e    \\\"num_leaves\\\": 38\\u003cbr\\u003e  }\\u003cbr\\u003e}\",\"{\\u003cbr\\u003e  \\\"number\\\": 125,\\u003cbr\\u003e  \\\"values\\\": [\\u003cbr\\u003e    0.2492085972736926,\\u003cbr\\u003e    0.047548550410349555\\u003cbr\\u003e  ],\\u003cbr\\u003e  \\\"params\\\": {\\u003cbr\\u003e    \\\"bagging_fraction\\\": 0.6483943210302472,\\u003cbr\\u003e    \\\"bagging_freq\\\": 5,\\u003cbr\\u003e    \\\"clip\\\": 3,\\u003cbr\\u003e    \\\"feature_fraction\\\": 0.638992654342367,\\u003cbr\\u003e    \\\"learning_rate\\\": 0.05141578654361213,\\u003cbr\\u003e    \\\"min_child_samples\\\": 45,\\u003cbr\\u003e    \\\"num_leaves\\\": 49\\u003cbr\\u003e  }\\u003cbr\\u003e}\",\"{\\u003cbr\\u003e  \\\"number\\\": 128,\\u003cbr\\u003e  \\\"values\\\": [\\u003cbr\\u003e    0.25066231219644874,\\u003cbr\\u003e    0.04833165667390538\\u003cbr\\u003e  ],\\u003cbr\\u003e  \\\"params\\\": {\\u003cbr\\u003e    \\\"bagging_fraction\\\": 0.6014286495209118,\\u003cbr\\u003e    \\\"bagging_freq\\\": 5,\\u003cbr\\u003e    \\\"clip\\\": 3,\\u003cbr\\u003e    \\\"feature_fraction\\\": 0.6349071192219108,\\u003cbr\\u003e    \\\"learning_rate\\\": 0.05134743958041476,\\u003cbr\\u003e    \\\"min_child_samples\\\": 46,\\u003cbr\\u003e    \\\"num_leaves\\\": 49\\u003cbr\\u003e  }\\u003cbr\\u003e}\",\"{\\u003cbr\\u003e  \\\"number\\\": 131,\\u003cbr\\u003e  \\\"values\\\": [\\u003cbr\\u003e    0.25130098864651734,\\u003cbr\\u003e    0.04438334909609698\\u003cbr\\u003e  ],\\u003cbr\\u003e  \\\"params\\\": {\\u003cbr\\u003e    \\\"bagging_fraction\\\": 0.8221658796338324,\\u003cbr\\u003e    \\\"bagging_freq\\\": 5,\\u003cbr\\u003e    \\\"clip\\\": 6,\\u003cbr\\u003e    \\\"feature_fraction\\\": 0.7423973109667831,\\u003cbr\\u003e    \\\"learning_rate\\\": 0.02943357440064707,\\u003cbr\\u003e    \\\"min_child_samples\\\": 79,\\u003cbr\\u003e    \\\"num_leaves\\\": 77\\u003cbr\\u003e  }\\u003cbr\\u003e}\",\"{\\u003cbr\\u003e  \\\"number\\\": 134,\\u003cbr\\u003e  \\\"values\\\": [\\u003cbr\\u003e    0.2561560355784839,\\u003cbr\\u003e    0.03409368959764214\\u003cbr\\u003e  ],\\u003cbr\\u003e  \\\"params\\\": {\\u003cbr\\u003e    \\\"bagging_fraction\\\": 0.6004138196751403,\\u003cbr\\u003e    \\\"bagging_freq\\\": 5,\\u003cbr\\u003e    \\\"clip\\\": 1,\\u003cbr\\u003e    \\\"feature_fraction\\\": 0.6446992478498745,\\u003cbr\\u003e    \\\"learning_rate\\\": 0.03803651625040041,\\u003cbr\\u003e    \\\"min_child_samples\\\": 81,\\u003cbr\\u003e    \\\"num_leaves\\\": 55\\u003cbr\\u003e  }\\u003cbr\\u003e}\",\"{\\u003cbr\\u003e  \\\"number\\\": 137,\\u003cbr\\u003e  \\\"values\\\": [\\u003cbr\\u003e    0.25016285857702897,\\u003cbr\\u003e    0.04181127245017868\\u003cbr\\u003e  ],\\u003cbr\\u003e  \\\"params\\\": {\\u003cbr\\u003e    \\\"bagging_fraction\\\": 0.8531019835500566,\\u003cbr\\u003e    \\\"bagging_freq\\\": 5,\\u003cbr\\u003e    \\\"clip\\\": 7,\\u003cbr\\u003e    \\\"feature_fraction\\\": 0.7627135866702984,\\u003cbr\\u003e    \\\"learning_rate\\\": 0.07122764680334491,\\u003cbr\\u003e    \\\"min_child_samples\\\": 52,\\u003cbr\\u003e    \\\"num_leaves\\\": 46\\u003cbr\\u003e  }\\u003cbr\\u003e}\",\"{\\u003cbr\\u003e  \\\"number\\\": 140,\\u003cbr\\u003e  \\\"values\\\": [\\u003cbr\\u003e    0.2554292974248284,\\u003cbr\\u003e    0.046744371887857405\\u003cbr\\u003e  ],\\u003cbr\\u003e  \\\"params\\\": {\\u003cbr\\u003e    \\\"bagging_fraction\\\": 0.619472022652426,\\u003cbr\\u003e    \\\"bagging_freq\\\": 5,\\u003cbr\\u003e    \\\"clip\\\": 2,\\u003cbr\\u003e    \\\"feature_fraction\\\": 0.625713326712849,\\u003cbr\\u003e    \\\"learning_rate\\\": 0.04589626633758947,\\u003cbr\\u003e    \\\"min_child_samples\\\": 36,\\u003cbr\\u003e    \\\"num_leaves\\\": 63\\u003cbr\\u003e  }\\u003cbr\\u003e}\",\"{\\u003cbr\\u003e  \\\"number\\\": 146,\\u003cbr\\u003e  \\\"values\\\": [\\u003cbr\\u003e    0.24332328094756836,\\u003cbr\\u003e    0.023389831587818044\\u003cbr\\u003e  ],\\u003cbr\\u003e  \\\"params\\\": {\\u003cbr\\u003e    \\\"bagging_fraction\\\": 0.8638715897445095,\\u003cbr\\u003e    \\\"bagging_freq\\\": 8,\\u003cbr\\u003e    \\\"clip\\\": 9,\\u003cbr\\u003e    \\\"feature_fraction\\\": 0.8240731552032959,\\u003cbr\\u003e    \\\"learning_rate\\\": 0.006895849274913606,\\u003cbr\\u003e    \\\"min_child_samples\\\": 49,\\u003cbr\\u003e    \\\"num_leaves\\\": 56\\u003cbr\\u003e  }\\u003cbr\\u003e}\",\"{\\u003cbr\\u003e  \\\"number\\\": 148,\\u003cbr\\u003e  \\\"values\\\": [\\u003cbr\\u003e    0.25897399213247774,\\u003cbr\\u003e    0.04434091412283159\\u003cbr\\u003e  ],\\u003cbr\\u003e  \\\"params\\\": {\\u003cbr\\u003e    \\\"bagging_fraction\\\": 0.641265825082709,\\u003cbr\\u003e    \\\"bagging_freq\\\": 5,\\u003cbr\\u003e    \\\"clip\\\": 2,\\u003cbr\\u003e    \\\"feature_fraction\\\": 0.7922506005252825,\\u003cbr\\u003e    \\\"learning_rate\\\": 0.03669759422259285,\\u003cbr\\u003e    \\\"min_child_samples\\\": 86,\\u003cbr\\u003e    \\\"num_leaves\\\": 51\\u003cbr\\u003e  }\\u003cbr\\u003e}\",\"{\\u003cbr\\u003e  \\\"number\\\": 152,\\u003cbr\\u003e  \\\"values\\\": [\\u003cbr\\u003e    0.25330115548542037,\\u003cbr\\u003e    0.043945279766755996\\u003cbr\\u003e  ],\\u003cbr\\u003e  \\\"params\\\": {\\u003cbr\\u003e    \\\"bagging_fraction\\\": 0.6616126336371765,\\u003cbr\\u003e    \\\"bagging_freq\\\": 8,\\u003cbr\\u003e    \\\"clip\\\": 6,\\u003cbr\\u003e    \\\"feature_fraction\\\": 0.640142010361404,\\u003cbr\\u003e    \\\"learning_rate\\\": 0.030324698393459533,\\u003cbr\\u003e    \\\"min_child_samples\\\": 55,\\u003cbr\\u003e    \\\"num_leaves\\\": 37\\u003cbr\\u003e  }\\u003cbr\\u003e}\",\"{\\u003cbr\\u003e  \\\"number\\\": 158,\\u003cbr\\u003e  \\\"values\\\": [\\u003cbr\\u003e    0.2515710371057221,\\u003cbr\\u003e    0.046349739745160656\\u003cbr\\u003e  ],\\u003cbr\\u003e  \\\"params\\\": {\\u003cbr\\u003e    \\\"bagging_fraction\\\": 0.7133692555155452,\\u003cbr\\u003e    \\\"bagging_freq\\\": 5,\\u003cbr\\u003e    \\\"clip\\\": 4,\\u003cbr\\u003e    \\\"feature_fraction\\\": 0.7082692496389729,\\u003cbr\\u003e    \\\"learning_rate\\\": 0.06462230862820575,\\u003cbr\\u003e    \\\"min_child_samples\\\": 61,\\u003cbr\\u003e    \\\"num_leaves\\\": 46\\u003cbr\\u003e  }\\u003cbr\\u003e}\",\"{\\u003cbr\\u003e  \\\"number\\\": 163,\\u003cbr\\u003e  \\\"values\\\": [\\u003cbr\\u003e    0.2458325296690641,\\u003cbr\\u003e    0.005825019112641994\\u003cbr\\u003e  ],\\u003cbr\\u003e  \\\"params\\\": {\\u003cbr\\u003e    \\\"bagging_fraction\\\": 0.6973306497870516,\\u003cbr\\u003e    \\\"bagging_freq\\\": 8,\\u003cbr\\u003e    \\\"clip\\\": 3,\\u003cbr\\u003e    \\\"feature_fraction\\\": 0.6374922905446008,\\u003cbr\\u003e    \\\"learning_rate\\\": 0.00134676346902176,\\u003cbr\\u003e    \\\"min_child_samples\\\": 63,\\u003cbr\\u003e    \\\"num_leaves\\\": 73\\u003cbr\\u003e  }\\u003cbr\\u003e}\",\"{\\u003cbr\\u003e  \\\"number\\\": 164,\\u003cbr\\u003e  \\\"values\\\": [\\u003cbr\\u003e    0.24976245741965794,\\u003cbr\\u003e    0.045481535767165626\\u003cbr\\u003e  ],\\u003cbr\\u003e  \\\"params\\\": {\\u003cbr\\u003e    \\\"bagging_fraction\\\": 0.6225339938967415,\\u003cbr\\u003e    \\\"bagging_freq\\\": 5,\\u003cbr\\u003e    \\\"clip\\\": 2,\\u003cbr\\u003e    \\\"feature_fraction\\\": 0.7959302017579714,\\u003cbr\\u003e    \\\"learning_rate\\\": 0.051418640801449214,\\u003cbr\\u003e    \\\"min_child_samples\\\": 37,\\u003cbr\\u003e    \\\"num_leaves\\\": 51\\u003cbr\\u003e  }\\u003cbr\\u003e}\",\"{\\u003cbr\\u003e  \\\"number\\\": 166,\\u003cbr\\u003e  \\\"values\\\": [\\u003cbr\\u003e    0.2544809979913562,\\u003cbr\\u003e    0.045644328937709755\\u003cbr\\u003e  ],\\u003cbr\\u003e  \\\"params\\\": {\\u003cbr\\u003e    \\\"bagging_fraction\\\": 0.6175921431492007,\\u003cbr\\u003e    \\\"bagging_freq\\\": 5,\\u003cbr\\u003e    \\\"clip\\\": 2,\\u003cbr\\u003e    \\\"feature_fraction\\\": 0.7940198120074988,\\u003cbr\\u003e    \\\"learning_rate\\\": 0.04581545990647046,\\u003cbr\\u003e    \\\"min_child_samples\\\": 37,\\u003cbr\\u003e    \\\"num_leaves\\\": 50\\u003cbr\\u003e  }\\u003cbr\\u003e}\",\"{\\u003cbr\\u003e  \\\"number\\\": 167,\\u003cbr\\u003e  \\\"values\\\": [\\u003cbr\\u003e    0.2570648391977908,\\u003cbr\\u003e    0.04661763817651943\\u003cbr\\u003e  ],\\u003cbr\\u003e  \\\"params\\\": {\\u003cbr\\u003e    \\\"bagging_fraction\\\": 0.6185043244746561,\\u003cbr\\u003e    \\\"bagging_freq\\\": 5,\\u003cbr\\u003e    \\\"clip\\\": 2,\\u003cbr\\u003e    \\\"feature_fraction\\\": 0.7980231834970967,\\u003cbr\\u003e    \\\"learning_rate\\\": 0.04548770827462201,\\u003cbr\\u003e    \\\"min_child_samples\\\": 86,\\u003cbr\\u003e    \\\"num_leaves\\\": 50\\u003cbr\\u003e  }\\u003cbr\\u003e}\",\"{\\u003cbr\\u003e  \\\"number\\\": 171,\\u003cbr\\u003e  \\\"values\\\": [\\u003cbr\\u003e    0.2549514275985368,\\u003cbr\\u003e    0.03426878121591803\\u003cbr\\u003e  ],\\u003cbr\\u003e  \\\"params\\\": {\\u003cbr\\u003e    \\\"bagging_fraction\\\": 0.6367427968805746,\\u003cbr\\u003e    \\\"bagging_freq\\\": 6,\\u003cbr\\u003e    \\\"clip\\\": 1,\\u003cbr\\u003e    \\\"feature_fraction\\\": 0.7737105201127309,\\u003cbr\\u003e    \\\"learning_rate\\\": 0.04180624270418984,\\u003cbr\\u003e    \\\"min_child_samples\\\": 88,\\u003cbr\\u003e    \\\"num_leaves\\\": 43\\u003cbr\\u003e  }\\u003cbr\\u003e}\",\"{\\u003cbr\\u003e  \\\"number\\\": 172,\\u003cbr\\u003e  \\\"values\\\": [\\u003cbr\\u003e    0.2473845761882104,\\u003cbr\\u003e    0.043494700488410754\\u003cbr\\u003e  ],\\u003cbr\\u003e  \\\"params\\\": {\\u003cbr\\u003e    \\\"bagging_fraction\\\": 0.6789762895756433,\\u003cbr\\u003e    \\\"bagging_freq\\\": 5,\\u003cbr\\u003e    \\\"clip\\\": 2,\\u003cbr\\u003e    \\\"feature_fraction\\\": 0.8727713156455714,\\u003cbr\\u003e    \\\"learning_rate\\\": 0.08646668939405103,\\u003cbr\\u003e    \\\"min_child_samples\\\": 19,\\u003cbr\\u003e    \\\"num_leaves\\\": 35\\u003cbr\\u003e  }\\u003cbr\\u003e}\",\"{\\u003cbr\\u003e  \\\"number\\\": 178,\\u003cbr\\u003e  \\\"values\\\": [\\u003cbr\\u003e    0.2526240251138549,\\u003cbr\\u003e    0.046428095142063475\\u003cbr\\u003e  ],\\u003cbr\\u003e  \\\"params\\\": {\\u003cbr\\u003e    \\\"bagging_fraction\\\": 0.6017644539366374,\\u003cbr\\u003e    \\\"bagging_freq\\\": 5,\\u003cbr\\u003e    \\\"clip\\\": 3,\\u003cbr\\u003e    \\\"feature_fraction\\\": 0.8042562360835201,\\u003cbr\\u003e    \\\"learning_rate\\\": 0.03721564206202761,\\u003cbr\\u003e    \\\"min_child_samples\\\": 43,\\u003cbr\\u003e    \\\"num_leaves\\\": 54\\u003cbr\\u003e  }\\u003cbr\\u003e}\",\"{\\u003cbr\\u003e  \\\"number\\\": 179,\\u003cbr\\u003e  \\\"values\\\": [\\u003cbr\\u003e    0.25587591479500116,\\u003cbr\\u003e    0.04724781818784729\\u003cbr\\u003e  ],\\u003cbr\\u003e  \\\"params\\\": {\\u003cbr\\u003e    \\\"bagging_fraction\\\": 0.6022370562116139,\\u003cbr\\u003e    \\\"bagging_freq\\\": 5,\\u003cbr\\u003e    \\\"clip\\\": 3,\\u003cbr\\u003e    \\\"feature_fraction\\\": 0.8051288843151096,\\u003cbr\\u003e    \\\"learning_rate\\\": 0.036794963027321374,\\u003cbr\\u003e    \\\"min_child_samples\\\": 83,\\u003cbr\\u003e    \\\"num_leaves\\\": 48\\u003cbr\\u003e  }\\u003cbr\\u003e}\",\"{\\u003cbr\\u003e  \\\"number\\\": 181,\\u003cbr\\u003e  \\\"values\\\": [\\u003cbr\\u003e    0.25610722536722275,\\u003cbr\\u003e    0.027179839454921195\\u003cbr\\u003e  ],\\u003cbr\\u003e  \\\"params\\\": {\\u003cbr\\u003e    \\\"bagging_fraction\\\": 0.6815986475710718,\\u003cbr\\u003e    \\\"bagging_freq\\\": 9,\\u003cbr\\u003e    \\\"clip\\\": 1,\\u003cbr\\u003e    \\\"feature_fraction\\\": 0.8012132762977127,\\u003cbr\\u003e    \\\"learning_rate\\\": 0.01803334191715176,\\u003cbr\\u003e    \\\"min_child_samples\\\": 93,\\u003cbr\\u003e    \\\"num_leaves\\\": 69\\u003cbr\\u003e  }\\u003cbr\\u003e}\",\"{\\u003cbr\\u003e  \\\"number\\\": 182,\\u003cbr\\u003e  \\\"values\\\": [\\u003cbr\\u003e    0.25476749082570915,\\u003cbr\\u003e    0.047309056387881854\\u003cbr\\u003e  ],\\u003cbr\\u003e  \\\"params\\\": {\\u003cbr\\u003e    \\\"bagging_fraction\\\": 0.6000869820031035,\\u003cbr\\u003e    \\\"bagging_freq\\\": 6,\\u003cbr\\u003e    \\\"clip\\\": 3,\\u003cbr\\u003e    \\\"feature_fraction\\\": 0.8095327165504237,\\u003cbr\\u003e    \\\"learning_rate\\\": 0.036322693656374534,\\u003cbr\\u003e    \\\"min_child_samples\\\": 86,\\u003cbr\\u003e    \\\"num_leaves\\\": 62\\u003cbr\\u003e  }\\u003cbr\\u003e}\",\"{\\u003cbr\\u003e  \\\"number\\\": 183,\\u003cbr\\u003e  \\\"values\\\": [\\u003cbr\\u003e    0.2546387645636954,\\u003cbr\\u003e    0.046733357642835816\\u003cbr\\u003e  ],\\u003cbr\\u003e  \\\"params\\\": {\\u003cbr\\u003e    \\\"bagging_fraction\\\": 0.6049175345108543,\\u003cbr\\u003e    \\\"bagging_freq\\\": 6,\\u003cbr\\u003e    \\\"clip\\\": 3,\\u003cbr\\u003e    \\\"feature_fraction\\\": 0.8084179958177484,\\u003cbr\\u003e    \\\"learning_rate\\\": 0.035904201333468874,\\u003cbr\\u003e    \\\"min_child_samples\\\": 84,\\u003cbr\\u003e    \\\"num_leaves\\\": 56\\u003cbr\\u003e  }\\u003cbr\\u003e}\",\"{\\u003cbr\\u003e  \\\"number\\\": 185,\\u003cbr\\u003e  \\\"values\\\": [\\u003cbr\\u003e    0.2593933942975043,\\u003cbr\\u003e    0.04261669777992305\\u003cbr\\u003e  ],\\u003cbr\\u003e  \\\"params\\\": {\\u003cbr\\u003e    \\\"bagging_fraction\\\": 0.6138863286583512,\\u003cbr\\u003e    \\\"bagging_freq\\\": 5,\\u003cbr\\u003e    \\\"clip\\\": 3,\\u003cbr\\u003e    \\\"feature_fraction\\\": 0.8054843861208135,\\u003cbr\\u003e    \\\"learning_rate\\\": 0.023097212441573506,\\u003cbr\\u003e    \\\"min_child_samples\\\": 85,\\u003cbr\\u003e    \\\"num_leaves\\\": 56\\u003cbr\\u003e  }\\u003cbr\\u003e}\",\"{\\u003cbr\\u003e  \\\"number\\\": 186,\\u003cbr\\u003e  \\\"values\\\": [\\u003cbr\\u003e    0.25799312207928643,\\u003cbr\\u003e    0.04126507740953256\\u003cbr\\u003e  ],\\u003cbr\\u003e  \\\"params\\\": {\\u003cbr\\u003e    \\\"bagging_fraction\\\": 0.6089568661302673,\\u003cbr\\u003e    \\\"bagging_freq\\\": 5,\\u003cbr\\u003e    \\\"clip\\\": 3,\\u003cbr\\u003e    \\\"feature_fraction\\\": 0.7921145657786536,\\u003cbr\\u003e    \\\"learning_rate\\\": 0.022761322673581635,\\u003cbr\\u003e    \\\"min_child_samples\\\": 86,\\u003cbr\\u003e    \\\"num_leaves\\\": 52\\u003cbr\\u003e  }\\u003cbr\\u003e}\",\"{\\u003cbr\\u003e  \\\"number\\\": 187,\\u003cbr\\u003e  \\\"values\\\": [\\u003cbr\\u003e    0.2545116424988928,\\u003cbr\\u003e    0.04292888163537001\\u003cbr\\u003e  ],\\u003cbr\\u003e  \\\"params\\\": {\\u003cbr\\u003e    \\\"bagging_fraction\\\": 0.6108284020167323,\\u003cbr\\u003e    \\\"bagging_freq\\\": 5,\\u003cbr\\u003e    \\\"clip\\\": 5,\\u003cbr\\u003e    \\\"feature_fraction\\\": 0.7922128496156389,\\u003cbr\\u003e    \\\"learning_rate\\\": 0.0232525232763027,\\u003cbr\\u003e    \\\"min_child_samples\\\": 91,\\u003cbr\\u003e    \\\"num_leaves\\\": 51\\u003cbr\\u003e  }\\u003cbr\\u003e}\",\"{\\u003cbr\\u003e  \\\"number\\\": 191,\\u003cbr\\u003e  \\\"values\\\": [\\u003cbr\\u003e    0.24815267196513136,\\u003cbr\\u003e    0.04593632289520233\\u003cbr\\u003e  ],\\u003cbr\\u003e  \\\"params\\\": {\\u003cbr\\u003e    \\\"bagging_fraction\\\": 0.6333828103160839,\\u003cbr\\u003e    \\\"bagging_freq\\\": 5,\\u003cbr\\u003e    \\\"clip\\\": 5,\\u003cbr\\u003e    \\\"feature_fraction\\\": 0.8174012854308743,\\u003cbr\\u003e    \\\"learning_rate\\\": 0.09995916702399384,\\u003cbr\\u003e    \\\"min_child_samples\\\": 76,\\u003cbr\\u003e    \\\"num_leaves\\\": 54\\u003cbr\\u003e  }\\u003cbr\\u003e}\",\"{\\u003cbr\\u003e  \\\"number\\\": 193,\\u003cbr\\u003e  \\\"values\\\": [\\u003cbr\\u003e    0.23103870444296876,\\u003cbr\\u003e    0.008556667582814037\\u003cbr\\u003e  ],\\u003cbr\\u003e  \\\"params\\\": {\\u003cbr\\u003e    \\\"bagging_fraction\\\": 0.7482187375087188,\\u003cbr\\u003e    \\\"bagging_freq\\\": 9,\\u003cbr\\u003e    \\\"clip\\\": 3,\\u003cbr\\u003e    \\\"feature_fraction\\\": 0.7955410757160797,\\u003cbr\\u003e    \\\"learning_rate\\\": 0.002242656969507945,\\u003cbr\\u003e    \\\"min_child_samples\\\": 47,\\u003cbr\\u003e    \\\"num_leaves\\\": 38\\u003cbr\\u003e  }\\u003cbr\\u003e}\",\"{\\u003cbr\\u003e  \\\"number\\\": 194,\\u003cbr\\u003e  \\\"values\\\": [\\u003cbr\\u003e    0.25331229054121607,\\u003cbr\\u003e    0.03467448675142082\\u003cbr\\u003e  ],\\u003cbr\\u003e  \\\"params\\\": {\\u003cbr\\u003e    \\\"bagging_fraction\\\": 0.6296495639947017,\\u003cbr\\u003e    \\\"bagging_freq\\\": 5,\\u003cbr\\u003e    \\\"clip\\\": 5,\\u003cbr\\u003e    \\\"feature_fraction\\\": 0.8165606081978698,\\u003cbr\\u003e    \\\"learning_rate\\\": 0.01283511135785599,\\u003cbr\\u003e    \\\"min_child_samples\\\": 77,\\u003cbr\\u003e    \\\"num_leaves\\\": 57\\u003cbr\\u003e  }\\u003cbr\\u003e}\",\"{\\u003cbr\\u003e  \\\"number\\\": 198,\\u003cbr\\u003e  \\\"values\\\": [\\u003cbr\\u003e    0.25056448481141624,\\u003cbr\\u003e    0.04254951455817335\\u003cbr\\u003e  ],\\u003cbr\\u003e  \\\"params\\\": {\\u003cbr\\u003e    \\\"bagging_fraction\\\": 0.6490170994418917,\\u003cbr\\u003e    \\\"bagging_freq\\\": 6,\\u003cbr\\u003e    \\\"clip\\\": 3,\\u003cbr\\u003e    \\\"feature_fraction\\\": 0.7855948073758073,\\u003cbr\\u003e    \\\"learning_rate\\\": 0.026552560624294938,\\u003cbr\\u003e    \\\"min_child_samples\\\": 11,\\u003cbr\\u003e    \\\"num_leaves\\\": 80\\u003cbr\\u003e  }\\u003cbr\\u003e}\",\"{\\u003cbr\\u003e  \\\"number\\\": 199,\\u003cbr\\u003e  \\\"values\\\": [\\u003cbr\\u003e    0.24700147204702655,\\u003cbr\\u003e    0.028334536684486378\\u003cbr\\u003e  ],\\u003cbr\\u003e  \\\"params\\\": {\\u003cbr\\u003e    \\\"bagging_fraction\\\": 0.8441925985696065,\\u003cbr\\u003e    \\\"bagging_freq\\\": 6,\\u003cbr\\u003e    \\\"clip\\\": 8,\\u003cbr\\u003e    \\\"feature_fraction\\\": 0.7144577129429659,\\u003cbr\\u003e    \\\"learning_rate\\\": 0.010802585242814532,\\u003cbr\\u003e    \\\"min_child_samples\\\": 21,\\u003cbr\\u003e    \\\"num_leaves\\\": 39\\u003cbr\\u003e  }\\u003cbr\\u003e}\",\"{\\u003cbr\\u003e  \\\"number\\\": 200,\\u003cbr\\u003e  \\\"values\\\": [\\u003cbr\\u003e    0.24790154545618598,\\u003cbr\\u003e    0.03576369639421151\\u003cbr\\u003e  ],\\u003cbr\\u003e  \\\"params\\\": {\\u003cbr\\u003e    \\\"bagging_fraction\\\": 0.6510261857464248,\\u003cbr\\u003e    \\\"bagging_freq\\\": 6,\\u003cbr\\u003e    \\\"clip\\\": 4,\\u003cbr\\u003e    \\\"feature_fraction\\\": 0.7861965193406977,\\u003cbr\\u003e    \\\"learning_rate\\\": 0.015864432562914667,\\u003cbr\\u003e    \\\"min_child_samples\\\": 9,\\u003cbr\\u003e    \\\"num_leaves\\\": 61\\u003cbr\\u003e  }\\u003cbr\\u003e}\",\"{\\u003cbr\\u003e  \\\"number\\\": 203,\\u003cbr\\u003e  \\\"values\\\": [\\u003cbr\\u003e    0.25415197399725314,\\u003cbr\\u003e    0.04482068966304309\\u003cbr\\u003e  ],\\u003cbr\\u003e  \\\"params\\\": {\\u003cbr\\u003e    \\\"bagging_fraction\\\": 0.6178399112027322,\\u003cbr\\u003e    \\\"bagging_freq\\\": 5,\\u003cbr\\u003e    \\\"clip\\\": 2,\\u003cbr\\u003e    \\\"feature_fraction\\\": 0.8263275997456235,\\u003cbr\\u003e    \\\"learning_rate\\\": 0.04236572944092018,\\u003cbr\\u003e    \\\"min_child_samples\\\": 88,\\u003cbr\\u003e    \\\"num_leaves\\\": 53\\u003cbr\\u003e  }\\u003cbr\\u003e}\",\"{\\u003cbr\\u003e  \\\"number\\\": 204,\\u003cbr\\u003e  \\\"values\\\": [\\u003cbr\\u003e    0.2504413619099714,\\u003cbr\\u003e    0.046373468608542634\\u003cbr\\u003e  ],\\u003cbr\\u003e  \\\"params\\\": {\\u003cbr\\u003e    \\\"bagging_fraction\\\": 0.6166055053714168,\\u003cbr\\u003e    \\\"bagging_freq\\\": 5,\\u003cbr\\u003e    \\\"clip\\\": 2,\\u003cbr\\u003e    \\\"feature_fraction\\\": 0.8263419028338701,\\u003cbr\\u003e    \\\"learning_rate\\\": 0.05689059295821594,\\u003cbr\\u003e    \\\"min_child_samples\\\": 89,\\u003cbr\\u003e    \\\"num_leaves\\\": 48\\u003cbr\\u003e  }\\u003cbr\\u003e}\",\"{\\u003cbr\\u003e  \\\"number\\\": 205,\\u003cbr\\u003e  \\\"values\\\": [\\u003cbr\\u003e    0.2391968897830871,\\u003cbr\\u003e    0.019345545606497483\\u003cbr\\u003e  ],\\u003cbr\\u003e  \\\"params\\\": {\\u003cbr\\u003e    \\\"bagging_fraction\\\": 0.7976259656722369,\\u003cbr\\u003e    \\\"bagging_freq\\\": 8,\\u003cbr\\u003e    \\\"clip\\\": 10,\\u003cbr\\u003e    \\\"feature_fraction\\\": 0.794340697511231,\\u003cbr\\u003e    \\\"learning_rate\\\": 0.005534571955491278,\\u003cbr\\u003e    \\\"min_child_samples\\\": 25,\\u003cbr\\u003e    \\\"num_leaves\\\": 48\\u003cbr\\u003e  }\\u003cbr\\u003e}\",\"{\\u003cbr\\u003e  \\\"number\\\": 208,\\u003cbr\\u003e  \\\"values\\\": [\\u003cbr\\u003e    0.25430478180553473,\\u003cbr\\u003e    0.04644232692478911\\u003cbr\\u003e  ],\\u003cbr\\u003e  \\\"params\\\": {\\u003cbr\\u003e    \\\"bagging_fraction\\\": 0.6143301218266968,\\u003cbr\\u003e    \\\"bagging_freq\\\": 5,\\u003cbr\\u003e    \\\"clip\\\": 4,\\u003cbr\\u003e    \\\"feature_fraction\\\": 0.7261257387914772,\\u003cbr\\u003e    \\\"learning_rate\\\": 0.033776715435541525,\\u003cbr\\u003e    \\\"min_child_samples\\\": 84,\\u003cbr\\u003e    \\\"num_leaves\\\": 47\\u003cbr\\u003e  }\\u003cbr\\u003e}\",\"{\\u003cbr\\u003e  \\\"number\\\": 209,\\u003cbr\\u003e  \\\"values\\\": [\\u003cbr\\u003e    0.25315074296045964,\\u003cbr\\u003e    0.04690178582537097\\u003cbr\\u003e  ],\\u003cbr\\u003e  \\\"params\\\": {\\u003cbr\\u003e    \\\"bagging_fraction\\\": 0.6302742307187816,\\u003cbr\\u003e    \\\"bagging_freq\\\": 5,\\u003cbr\\u003e    \\\"clip\\\": 4,\\u003cbr\\u003e    \\\"feature_fraction\\\": 0.7701407334166189,\\u003cbr\\u003e    \\\"learning_rate\\\": 0.03325009131325325,\\u003cbr\\u003e    \\\"min_child_samples\\\": 71,\\u003cbr\\u003e    \\\"num_leaves\\\": 59\\u003cbr\\u003e  }\\u003cbr\\u003e}\",\"{\\u003cbr\\u003e  \\\"number\\\": 210,\\u003cbr\\u003e  \\\"values\\\": [\\u003cbr\\u003e    0.24444104307763004,\\u003cbr\\u003e    0.04379306804858518\\u003cbr\\u003e  ],\\u003cbr\\u003e  \\\"params\\\": {\\u003cbr\\u003e    \\\"bagging_fraction\\\": 0.6138785098762666,\\u003cbr\\u003e    \\\"bagging_freq\\\": 10,\\u003cbr\\u003e    \\\"clip\\\": 2,\\u003cbr\\u003e    \\\"feature_fraction\\\": 0.892579547412982,\\u003cbr\\u003e    \\\"learning_rate\\\": 0.09077781870054079,\\u003cbr\\u003e    \\\"min_child_samples\\\": 10,\\u003cbr\\u003e    \\\"num_leaves\\\": 50\\u003cbr\\u003e  }\\u003cbr\\u003e}\",\"{\\u003cbr\\u003e  \\\"number\\\": 212,\\u003cbr\\u003e  \\\"values\\\": [\\u003cbr\\u003e    0.2528204269663969,\\u003cbr\\u003e    0.0475844319376022\\u003cbr\\u003e  ],\\u003cbr\\u003e  \\\"params\\\": {\\u003cbr\\u003e    \\\"bagging_fraction\\\": 0.6258462050940089,\\u003cbr\\u003e    \\\"bagging_freq\\\": 5,\\u003cbr\\u003e    \\\"clip\\\": 3,\\u003cbr\\u003e    \\\"feature_fraction\\\": 0.8345513149617242,\\u003cbr\\u003e    \\\"learning_rate\\\": 0.07871180434574182,\\u003cbr\\u003e    \\\"min_child_samples\\\": 70,\\u003cbr\\u003e    \\\"num_leaves\\\": 44\\u003cbr\\u003e  }\\u003cbr\\u003e}\",\"{\\u003cbr\\u003e  \\\"number\\\": 215,\\u003cbr\\u003e  \\\"values\\\": [\\u003cbr\\u003e    0.24103480352696777,\\u003cbr\\u003e    0.014129834435634203\\u003cbr\\u003e  ],\\u003cbr\\u003e  \\\"params\\\": {\\u003cbr\\u003e    \\\"bagging_fraction\\\": 0.6404838553121638,\\u003cbr\\u003e    \\\"bagging_freq\\\": 5,\\u003cbr\\u003e    \\\"clip\\\": 6,\\u003cbr\\u003e    \\\"feature_fraction\\\": 0.6810751593056465,\\u003cbr\\u003e    \\\"learning_rate\\\": 0.00349685949342087,\\u003cbr\\u003e    \\\"min_child_samples\\\": 23,\\u003cbr\\u003e    \\\"num_leaves\\\": 54\\u003cbr\\u003e  }\\u003cbr\\u003e}\",\"{\\u003cbr\\u003e  \\\"number\\\": 219,\\u003cbr\\u003e  \\\"values\\\": [\\u003cbr\\u003e    0.2600814901831644,\\u003cbr\\u003e    0.04238174784050508\\u003cbr\\u003e  ],\\u003cbr\\u003e  \\\"params\\\": {\\u003cbr\\u003e    \\\"bagging_fraction\\\": 0.6403014674148008,\\u003cbr\\u003e    \\\"bagging_freq\\\": 5,\\u003cbr\\u003e    \\\"clip\\\": 4,\\u003cbr\\u003e    \\\"feature_fraction\\\": 0.6094344887885988,\\u003cbr\\u003e    \\\"learning_rate\\\": 0.01993189768839043,\\u003cbr\\u003e    \\\"min_child_samples\\\": 98,\\u003cbr\\u003e    \\\"num_leaves\\\": 67\\u003cbr\\u003e  }\\u003cbr\\u003e}\",\"{\\u003cbr\\u003e  \\\"number\\\": 221,\\u003cbr\\u003e  \\\"values\\\": [\\u003cbr\\u003e    0.22933250706162475,\\u003cbr\\u003e    0.011921878712729317\\u003cbr\\u003e  ],\\u003cbr\\u003e  \\\"params\\\": {\\u003cbr\\u003e    \\\"bagging_fraction\\\": 0.6368675944705163,\\u003cbr\\u003e    \\\"bagging_freq\\\": 5,\\u003cbr\\u003e    \\\"clip\\\": 5,\\u003cbr\\u003e    \\\"feature_fraction\\\": 0.7992893649064865,\\u003cbr\\u003e    \\\"learning_rate\\\": 0.003264496006250922,\\u003cbr\\u003e    \\\"min_child_samples\\\": 36,\\u003cbr\\u003e    \\\"num_leaves\\\": 29\\u003cbr\\u003e  }\\u003cbr\\u003e}\",\"{\\u003cbr\\u003e  \\\"number\\\": 223,\\u003cbr\\u003e  \\\"values\\\": [\\u003cbr\\u003e    0.2591263374270524,\\u003cbr\\u003e    0.04669597930381986\\u003cbr\\u003e  ],\\u003cbr\\u003e  \\\"params\\\": {\\u003cbr\\u003e    \\\"bagging_fraction\\\": 0.6290639877408007,\\u003cbr\\u003e    \\\"bagging_freq\\\": 5,\\u003cbr\\u003e    \\\"clip\\\": 4,\\u003cbr\\u003e    \\\"feature_fraction\\\": 0.6136867925150403,\\u003cbr\\u003e    \\\"learning_rate\\\": 0.027190782309833336,\\u003cbr\\u003e    \\\"min_child_samples\\\": 99,\\u003cbr\\u003e    \\\"num_leaves\\\": 66\\u003cbr\\u003e  }\\u003cbr\\u003e}\",\"{\\u003cbr\\u003e  \\\"number\\\": 225,\\u003cbr\\u003e  \\\"values\\\": [\\u003cbr\\u003e    0.2562335133837132,\\u003cbr\\u003e    0.027914676634783753\\u003cbr\\u003e  ],\\u003cbr\\u003e  \\\"params\\\": {\\u003cbr\\u003e    \\\"bagging_fraction\\\": 0.867426737967947,\\u003cbr\\u003e    \\\"bagging_freq\\\": 6,\\u003cbr\\u003e    \\\"clip\\\": 1,\\u003cbr\\u003e    \\\"feature_fraction\\\": 0.767035558542232,\\u003cbr\\u003e    \\\"learning_rate\\\": 0.020546971861761142,\\u003cbr\\u003e    \\\"min_child_samples\\\": 14,\\u003cbr\\u003e    \\\"num_leaves\\\": 49\\u003cbr\\u003e  }\\u003cbr\\u003e}\",\"{\\u003cbr\\u003e  \\\"number\\\": 226,\\u003cbr\\u003e  \\\"values\\\": [\\u003cbr\\u003e    0.2591098214074764,\\u003cbr\\u003e    0.042524811718430144\\u003cbr\\u003e  ],\\u003cbr\\u003e  \\\"params\\\": {\\u003cbr\\u003e    \\\"bagging_fraction\\\": 0.6647920591962276,\\u003cbr\\u003e    \\\"bagging_freq\\\": 5,\\u003cbr\\u003e    \\\"clip\\\": 4,\\u003cbr\\u003e    \\\"feature_fraction\\\": 0.6010549916796538,\\u003cbr\\u003e    \\\"learning_rate\\\": 0.020775600639134664,\\u003cbr\\u003e    \\\"min_child_samples\\\": 97,\\u003cbr\\u003e    \\\"num_leaves\\\": 67\\u003cbr\\u003e  }\\u003cbr\\u003e}\",\"{\\u003cbr\\u003e  \\\"number\\\": 227,\\u003cbr\\u003e  \\\"values\\\": [\\u003cbr\\u003e    0.2483412474513797,\\u003cbr\\u003e    0.04959573395023942\\u003cbr\\u003e  ],\\u003cbr\\u003e  \\\"params\\\": {\\u003cbr\\u003e    \\\"bagging_fraction\\\": 0.6281946316093161,\\u003cbr\\u003e    \\\"bagging_freq\\\": 7,\\u003cbr\\u003e    \\\"clip\\\": 4,\\u003cbr\\u003e    \\\"feature_fraction\\\": 0.6060714613740447,\\u003cbr\\u003e    \\\"learning_rate\\\": 0.07652986186611277,\\u003cbr\\u003e    \\\"min_child_samples\\\": 98,\\u003cbr\\u003e    \\\"num_leaves\\\": 66\\u003cbr\\u003e  }\\u003cbr\\u003e}\",\"{\\u003cbr\\u003e  \\\"number\\\": 228,\\u003cbr\\u003e  \\\"values\\\": [\\u003cbr\\u003e    0.2512081628525162,\\u003cbr\\u003e    0.04915040116731484\\u003cbr\\u003e  ],\\u003cbr\\u003e  \\\"params\\\": {\\u003cbr\\u003e    \\\"bagging_fraction\\\": 0.6301511377045161,\\u003cbr\\u003e    \\\"bagging_freq\\\": 7,\\u003cbr\\u003e    \\\"clip\\\": 4,\\u003cbr\\u003e    \\\"feature_fraction\\\": 0.602723100943314,\\u003cbr\\u003e    \\\"learning_rate\\\": 0.07813754007313645,\\u003cbr\\u003e    \\\"min_child_samples\\\": 98,\\u003cbr\\u003e    \\\"num_leaves\\\": 67\\u003cbr\\u003e  }\\u003cbr\\u003e}\",\"{\\u003cbr\\u003e  \\\"number\\\": 231,\\u003cbr\\u003e  \\\"values\\\": [\\u003cbr\\u003e    0.25107976163608314,\\u003cbr\\u003e    0.04963997541518794\\u003cbr\\u003e  ],\\u003cbr\\u003e  \\\"params\\\": {\\u003cbr\\u003e    \\\"bagging_fraction\\\": 0.6457582446869606,\\u003cbr\\u003e    \\\"bagging_freq\\\": 7,\\u003cbr\\u003e    \\\"clip\\\": 4,\\u003cbr\\u003e    \\\"feature_fraction\\\": 0.6082177046301083,\\u003cbr\\u003e    \\\"learning_rate\\\": 0.0637095197442946,\\u003cbr\\u003e    \\\"min_child_samples\\\": 99,\\u003cbr\\u003e    \\\"num_leaves\\\": 65\\u003cbr\\u003e  }\\u003cbr\\u003e}\",\"{\\u003cbr\\u003e  \\\"number\\\": 232,\\u003cbr\\u003e  \\\"values\\\": [\\u003cbr\\u003e    0.25221035131684794,\\u003cbr\\u003e    0.03874577723626349\\u003cbr\\u003e  ],\\u003cbr\\u003e  \\\"params\\\": {\\u003cbr\\u003e    \\\"bagging_fraction\\\": 0.792999220373215,\\u003cbr\\u003e    \\\"bagging_freq\\\": 9,\\u003cbr\\u003e    \\\"clip\\\": 7,\\u003cbr\\u003e    \\\"feature_fraction\\\": 0.855871598429411,\\u003cbr\\u003e    \\\"learning_rate\\\": 0.019536302431240483,\\u003cbr\\u003e    \\\"min_child_samples\\\": 47,\\u003cbr\\u003e    \\\"num_leaves\\\": 46\\u003cbr\\u003e  }\\u003cbr\\u003e}\",\"{\\u003cbr\\u003e  \\\"number\\\": 233,\\u003cbr\\u003e  \\\"values\\\": [\\u003cbr\\u003e    0.2502747048703078,\\u003cbr\\u003e    0.0475140548757601\\u003cbr\\u003e  ],\\u003cbr\\u003e  \\\"params\\\": {\\u003cbr\\u003e    \\\"bagging_fraction\\\": 0.8863774434168615,\\u003cbr\\u003e    \\\"bagging_freq\\\": 7,\\u003cbr\\u003e    \\\"clip\\\": 4,\\u003cbr\\u003e    \\\"feature_fraction\\\": 0.6172087637494552,\\u003cbr\\u003e    \\\"learning_rate\\\": 0.0802626412036662,\\u003cbr\\u003e    \\\"min_child_samples\\\": 100,\\u003cbr\\u003e    \\\"num_leaves\\\": 65\\u003cbr\\u003e  }\\u003cbr\\u003e}\",\"{\\u003cbr\\u003e  \\\"number\\\": 234,\\u003cbr\\u003e  \\\"values\\\": [\\u003cbr\\u003e    0.2500526850016637,\\u003cbr\\u003e    0.04855324514531423\\u003cbr\\u003e  ],\\u003cbr\\u003e  \\\"params\\\": {\\u003cbr\\u003e    \\\"bagging_fraction\\\": 0.6681975743401283,\\u003cbr\\u003e    \\\"bagging_freq\\\": 7,\\u003cbr\\u003e    \\\"clip\\\": 4,\\u003cbr\\u003e    \\\"feature_fraction\\\": 0.6146595784031469,\\u003cbr\\u003e    \\\"learning_rate\\\": 0.07743337775459422,\\u003cbr\\u003e    \\\"min_child_samples\\\": 99,\\u003cbr\\u003e    \\\"num_leaves\\\": 65\\u003cbr\\u003e  }\\u003cbr\\u003e}\",\"{\\u003cbr\\u003e  \\\"number\\\": 235,\\u003cbr\\u003e  \\\"values\\\": [\\u003cbr\\u003e    0.2540945274590559,\\u003cbr\\u003e    0.04847707555804093\\u003cbr\\u003e  ],\\u003cbr\\u003e  \\\"params\\\": {\\u003cbr\\u003e    \\\"bagging_fraction\\\": 0.6684964763160028,\\u003cbr\\u003e    \\\"bagging_freq\\\": 7,\\u003cbr\\u003e    \\\"clip\\\": 4,\\u003cbr\\u003e    \\\"feature_fraction\\\": 0.608651646875375,\\u003cbr\\u003e    \\\"learning_rate\\\": 0.06570444956658292,\\u003cbr\\u003e    \\\"min_child_samples\\\": 99,\\u003cbr\\u003e    \\\"num_leaves\\\": 67\\u003cbr\\u003e  }\\u003cbr\\u003e}\",\"{\\u003cbr\\u003e  \\\"number\\\": 237,\\u003cbr\\u003e  \\\"values\\\": [\\u003cbr\\u003e    0.2574293344878647,\\u003cbr\\u003e    0.04547040571677807\\u003cbr\\u003e  ],\\u003cbr\\u003e  \\\"params\\\": {\\u003cbr\\u003e    \\\"bagging_fraction\\\": 0.6554690102858045,\\u003cbr\\u003e    \\\"bagging_freq\\\": 7,\\u003cbr\\u003e    \\\"clip\\\": 4,\\u003cbr\\u003e    \\\"feature_fraction\\\": 0.6175601014706785,\\u003cbr\\u003e    \\\"learning_rate\\\": 0.026462531833657515,\\u003cbr\\u003e    \\\"min_child_samples\\\": 97,\\u003cbr\\u003e    \\\"num_leaves\\\": 67\\u003cbr\\u003e  }\\u003cbr\\u003e}\",\"{\\u003cbr\\u003e  \\\"number\\\": 238,\\u003cbr\\u003e  \\\"values\\\": [\\u003cbr\\u003e    0.22883082018497847,\\u003cbr\\u003e    0.006464382844938332\\u003cbr\\u003e  ],\\u003cbr\\u003e  \\\"params\\\": {\\u003cbr\\u003e    \\\"bagging_fraction\\\": 0.7425461147381236,\\u003cbr\\u003e    \\\"bagging_freq\\\": 10,\\u003cbr\\u003e    \\\"clip\\\": 3,\\u003cbr\\u003e    \\\"feature_fraction\\\": 0.6442566091983761,\\u003cbr\\u003e    \\\"learning_rate\\\": 0.0018862486347852462,\\u003cbr\\u003e    \\\"min_child_samples\\\": 43,\\u003cbr\\u003e    \\\"num_leaves\\\": 22\\u003cbr\\u003e  }\\u003cbr\\u003e}\",\"{\\u003cbr\\u003e  \\\"number\\\": 240,\\u003cbr\\u003e  \\\"values\\\": [\\u003cbr\\u003e    0.233698038844994,\\u003cbr\\u003e    0.004569590570806192\\u003cbr\\u003e  ],\\u003cbr\\u003e  \\\"params\\\": {\\u003cbr\\u003e    \\\"bagging_fraction\\\": 0.7876677159099396,\\u003cbr\\u003e    \\\"bagging_freq\\\": 5,\\u003cbr\\u003e    \\\"clip\\\": 4,\\u003cbr\\u003e    \\\"feature_fraction\\\": 0.7723285497807161,\\u003cbr\\u003e    \\\"learning_rate\\\": 0.0010126457792379601,\\u003cbr\\u003e    \\\"min_child_samples\\\": 40,\\u003cbr\\u003e    \\\"num_leaves\\\": 55\\u003cbr\\u003e  }\\u003cbr\\u003e}\",\"{\\u003cbr\\u003e  \\\"number\\\": 242,\\u003cbr\\u003e  \\\"values\\\": [\\u003cbr\\u003e    0.24392385175210587,\\u003cbr\\u003e    0.04760387357329854\\u003cbr\\u003e  ],\\u003cbr\\u003e  \\\"params\\\": {\\u003cbr\\u003e    \\\"bagging_fraction\\\": 0.6437065731855158,\\u003cbr\\u003e    \\\"bagging_freq\\\": 7,\\u003cbr\\u003e    \\\"clip\\\": 5,\\u003cbr\\u003e    \\\"feature_fraction\\\": 0.6107912780932556,\\u003cbr\\u003e    \\\"learning_rate\\\": 0.09139180625571715,\\u003cbr\\u003e    \\\"min_child_samples\\\": 91,\\u003cbr\\u003e    \\\"num_leaves\\\": 70\\u003cbr\\u003e  }\\u003cbr\\u003e}\",\"{\\u003cbr\\u003e  \\\"number\\\": 243,\\u003cbr\\u003e  \\\"values\\\": [\\u003cbr\\u003e    0.2490111268674546,\\u003cbr\\u003e    0.048799016144351004\\u003cbr\\u003e  ],\\u003cbr\\u003e  \\\"params\\\": {\\u003cbr\\u003e    \\\"bagging_fraction\\\": 0.6687267205403881,\\u003cbr\\u003e    \\\"bagging_freq\\\": 7,\\u003cbr\\u003e    \\\"clip\\\": 5,\\u003cbr\\u003e    \\\"feature_fraction\\\": 0.610409302450954,\\u003cbr\\u003e    \\\"learning_rate\\\": 0.06730936769887433,\\u003cbr\\u003e    \\\"min_child_samples\\\": 94,\\u003cbr\\u003e    \\\"num_leaves\\\": 70\\u003cbr\\u003e  }\\u003cbr\\u003e}\",\"{\\u003cbr\\u003e  \\\"number\\\": 248,\\u003cbr\\u003e  \\\"values\\\": [\\u003cbr\\u003e    0.2516408655825914,\\u003cbr\\u003e    0.027701792981393303\\u003cbr\\u003e  ],\\u003cbr\\u003e  \\\"params\\\": {\\u003cbr\\u003e    \\\"bagging_fraction\\\": 0.758960795542787,\\u003cbr\\u003e    \\\"bagging_freq\\\": 7,\\u003cbr\\u003e    \\\"clip\\\": 5,\\u003cbr\\u003e    \\\"feature_fraction\\\": 0.754573079969407,\\u003cbr\\u003e    \\\"learning_rate\\\": 0.008333730148483532,\\u003cbr\\u003e    \\\"min_child_samples\\\": 91,\\u003cbr\\u003e    \\\"num_leaves\\\": 75\\u003cbr\\u003e  }\\u003cbr\\u003e}\",\"{\\u003cbr\\u003e  \\\"number\\\": 249,\\u003cbr\\u003e  \\\"values\\\": [\\u003cbr\\u003e    0.24778289341756182,\\u003cbr\\u003e    0.037525264812802384\\u003cbr\\u003e  ],\\u003cbr\\u003e  \\\"params\\\": {\\u003cbr\\u003e    \\\"bagging_fraction\\\": 0.6937593534769172,\\u003cbr\\u003e    \\\"bagging_freq\\\": 6,\\u003cbr\\u003e    \\\"clip\\\": 10,\\u003cbr\\u003e    \\\"feature_fraction\\\": 0.8256076081424821,\\u003cbr\\u003e    \\\"learning_rate\\\": 0.01817541088344678,\\u003cbr\\u003e    \\\"min_child_samples\\\": 18,\\u003cbr\\u003e    \\\"num_leaves\\\": 79\\u003cbr\\u003e  }\\u003cbr\\u003e}\",\"{\\u003cbr\\u003e  \\\"number\\\": 251,\\u003cbr\\u003e  \\\"values\\\": [\\u003cbr\\u003e    0.24783552853875895,\\u003cbr\\u003e    0.04685902796713204\\u003cbr\\u003e  ],\\u003cbr\\u003e  \\\"params\\\": {\\u003cbr\\u003e    \\\"bagging_fraction\\\": 0.8986160202104778,\\u003cbr\\u003e    \\\"bagging_freq\\\": 7,\\u003cbr\\u003e    \\\"clip\\\": 5,\\u003cbr\\u003e    \\\"feature_fraction\\\": 0.7550943817619133,\\u003cbr\\u003e    \\\"learning_rate\\\": 0.06703989766257426,\\u003cbr\\u003e    \\\"min_child_samples\\\": 100,\\u003cbr\\u003e    \\\"num_leaves\\\": 78\\u003cbr\\u003e  }\\u003cbr\\u003e}\",\"{\\u003cbr\\u003e  \\\"number\\\": 253,\\u003cbr\\u003e  \\\"values\\\": [\\u003cbr\\u003e    0.2474147305712326,\\u003cbr\\u003e    0.01186183386733819\\u003cbr\\u003e  ],\\u003cbr\\u003e  \\\"params\\\": {\\u003cbr\\u003e    \\\"bagging_fraction\\\": 0.7626715154893853,\\u003cbr\\u003e    \\\"bagging_freq\\\": 7,\\u003cbr\\u003e    \\\"clip\\\": 9,\\u003cbr\\u003e    \\\"feature_fraction\\\": 0.6226944609545937,\\u003cbr\\u003e    \\\"learning_rate\\\": 0.002707262831778383,\\u003cbr\\u003e    \\\"min_child_samples\\\": 95,\\u003cbr\\u003e    \\\"num_leaves\\\": 77\\u003cbr\\u003e  }\\u003cbr\\u003e}\",\"{\\u003cbr\\u003e  \\\"number\\\": 254,\\u003cbr\\u003e  \\\"values\\\": [\\u003cbr\\u003e    0.24754147674975016,\\u003cbr\\u003e    0.010990806679076703\\u003cbr\\u003e  ],\\u003cbr\\u003e  \\\"params\\\": {\\u003cbr\\u003e    \\\"bagging_fraction\\\": 0.6529683999593319,\\u003cbr\\u003e    \\\"bagging_freq\\\": 7,\\u003cbr\\u003e    \\\"clip\\\": 4,\\u003cbr\\u003e    \\\"feature_fraction\\\": 0.6206714771012538,\\u003cbr\\u003e    \\\"learning_rate\\\": 0.0027017864047189353,\\u003cbr\\u003e    \\\"min_child_samples\\\": 96,\\u003cbr\\u003e    \\\"num_leaves\\\": 64\\u003cbr\\u003e  }\\u003cbr\\u003e}\",\"{\\u003cbr\\u003e  \\\"number\\\": 256,\\u003cbr\\u003e  \\\"values\\\": [\\u003cbr\\u003e    0.2269330670719425,\\u003cbr\\u003e    0.008037025596649428\\u003cbr\\u003e  ],\\u003cbr\\u003e  \\\"params\\\": {\\u003cbr\\u003e    \\\"bagging_fraction\\\": 0.8872215924170809,\\u003cbr\\u003e    \\\"bagging_freq\\\": 7,\\u003cbr\\u003e    \\\"clip\\\": 3,\\u003cbr\\u003e    \\\"feature_fraction\\\": 0.669237801712598,\\u003cbr\\u003e    \\\"learning_rate\\\": 0.0024157545374521275,\\u003cbr\\u003e    \\\"min_child_samples\\\": 26,\\u003cbr\\u003e    \\\"num_leaves\\\": 22\\u003cbr\\u003e  }\\u003cbr\\u003e}\",\"{\\u003cbr\\u003e  \\\"number\\\": 258,\\u003cbr\\u003e  \\\"values\\\": [\\u003cbr\\u003e    0.2553917445338677,\\u003cbr\\u003e    0.02898229388358764\\u003cbr\\u003e  ],\\u003cbr\\u003e  \\\"params\\\": {\\u003cbr\\u003e    \\\"bagging_fraction\\\": 0.7074942528324561,\\u003cbr\\u003e    \\\"bagging_freq\\\": 7,\\u003cbr\\u003e    \\\"clip\\\": 4,\\u003cbr\\u003e    \\\"feature_fraction\\\": 0.6296407874119188,\\u003cbr\\u003e    \\\"learning_rate\\\": 0.009379493660625671,\\u003cbr\\u003e    \\\"min_child_samples\\\": 95,\\u003cbr\\u003e    \\\"num_leaves\\\": 73\\u003cbr\\u003e  }\\u003cbr\\u003e}\",\"{\\u003cbr\\u003e  \\\"number\\\": 260,\\u003cbr\\u003e  \\\"values\\\": [\\u003cbr\\u003e    0.250376497522499,\\u003cbr\\u003e    0.048490747693011094\\u003cbr\\u003e  ],\\u003cbr\\u003e  \\\"params\\\": {\\u003cbr\\u003e    \\\"bagging_fraction\\\": 0.643644877454491,\\u003cbr\\u003e    \\\"bagging_freq\\\": 7,\\u003cbr\\u003e    \\\"clip\\\": 4,\\u003cbr\\u003e    \\\"feature_fraction\\\": 0.6264856494479929,\\u003cbr\\u003e    \\\"learning_rate\\\": 0.06090633264318751,\\u003cbr\\u003e    \\\"min_child_samples\\\": 94,\\u003cbr\\u003e    \\\"num_leaves\\\": 74\\u003cbr\\u003e  }\\u003cbr\\u003e}\",\"{\\u003cbr\\u003e  \\\"number\\\": 261,\\u003cbr\\u003e  \\\"values\\\": [\\u003cbr\\u003e    0.24205378305605288,\\u003cbr\\u003e    0.012273569978014764\\u003cbr\\u003e  ],\\u003cbr\\u003e  \\\"params\\\": {\\u003cbr\\u003e    \\\"bagging_fraction\\\": 0.6858994952714578,\\u003cbr\\u003e    \\\"bagging_freq\\\": 5,\\u003cbr\\u003e    \\\"clip\\\": 3,\\u003cbr\\u003e    \\\"feature_fraction\\\": 0.7650385821778567,\\u003cbr\\u003e    \\\"learning_rate\\\": 0.0031416547485109193,\\u003cbr\\u003e    \\\"min_child_samples\\\": 92,\\u003cbr\\u003e    \\\"num_leaves\\\": 62\\u003cbr\\u003e  }\\u003cbr\\u003e}\",\"{\\u003cbr\\u003e  \\\"number\\\": 265,\\u003cbr\\u003e  \\\"values\\\": [\\u003cbr\\u003e    0.2592519219599979,\\u003cbr\\u003e    0.0389452395488753\\u003cbr\\u003e  ],\\u003cbr\\u003e  \\\"params\\\": {\\u003cbr\\u003e    \\\"bagging_fraction\\\": 0.6578281255550846,\\u003cbr\\u003e    \\\"bagging_freq\\\": 7,\\u003cbr\\u003e    \\\"clip\\\": 4,\\u003cbr\\u003e    \\\"feature_fraction\\\": 0.695482743047925,\\u003cbr\\u003e    \\\"learning_rate\\\": 0.016229763418855077,\\u003cbr\\u003e    \\\"min_child_samples\\\": 90,\\u003cbr\\u003e    \\\"num_leaves\\\": 68\\u003cbr\\u003e  }\\u003cbr\\u003e}\",\"{\\u003cbr\\u003e  \\\"number\\\": 267,\\u003cbr\\u003e  \\\"values\\\": [\\u003cbr\\u003e    0.24211174219238404,\\u003cbr\\u003e    0.028354585522205156\\u003cbr\\u003e  ],\\u003cbr\\u003e  \\\"params\\\": {\\u003cbr\\u003e    \\\"bagging_fraction\\\": 0.7719524600772703,\\u003cbr\\u003e    \\\"bagging_freq\\\": 7,\\u003cbr\\u003e    \\\"clip\\\": 10,\\u003cbr\\u003e    \\\"feature_fraction\\\": 0.8657786494904121,\\u003cbr\\u003e    \\\"learning_rate\\\": 0.009964802565242467,\\u003cbr\\u003e    \\\"min_child_samples\\\": 15,\\u003cbr\\u003e    \\\"num_leaves\\\": 59\\u003cbr\\u003e  }\\u003cbr\\u003e}\",\"{\\u003cbr\\u003e  \\\"number\\\": 268,\\u003cbr\\u003e  \\\"values\\\": [\\u003cbr\\u003e    0.2593623957794654,\\u003cbr\\u003e    0.037846521056441706\\u003cbr\\u003e  ],\\u003cbr\\u003e  \\\"params\\\": {\\u003cbr\\u003e    \\\"bagging_fraction\\\": 0.7350074897030247,\\u003cbr\\u003e    \\\"bagging_freq\\\": 7,\\u003cbr\\u003e    \\\"clip\\\": 4,\\u003cbr\\u003e    \\\"feature_fraction\\\": 0.6064525749230005,\\u003cbr\\u003e    \\\"learning_rate\\\": 0.015671773610096643,\\u003cbr\\u003e    \\\"min_child_samples\\\": 90,\\u003cbr\\u003e    \\\"num_leaves\\\": 68\\u003cbr\\u003e  }\\u003cbr\\u003e}\",\"{\\u003cbr\\u003e  \\\"number\\\": 271,\\u003cbr\\u003e  \\\"values\\\": [\\u003cbr\\u003e    0.25168172820220747,\\u003cbr\\u003e    0.02283701314468045\\u003cbr\\u003e  ],\\u003cbr\\u003e  \\\"params\\\": {\\u003cbr\\u003e    \\\"bagging_fraction\\\": 0.6737591828093198,\\u003cbr\\u003e    \\\"bagging_freq\\\": 7,\\u003cbr\\u003e    \\\"clip\\\": 5,\\u003cbr\\u003e    \\\"feature_fraction\\\": 0.6339133628423625,\\u003cbr\\u003e    \\\"learning_rate\\\": 0.006582213298933123,\\u003cbr\\u003e    \\\"min_child_samples\\\": 98,\\u003cbr\\u003e    \\\"num_leaves\\\": 63\\u003cbr\\u003e  }\\u003cbr\\u003e}\",\"{\\u003cbr\\u003e  \\\"number\\\": 272,\\u003cbr\\u003e  \\\"values\\\": [\\u003cbr\\u003e    0.24628759324908098,\\u003cbr\\u003e    0.015078245076110663\\u003cbr\\u003e  ],\\u003cbr\\u003e  \\\"params\\\": {\\u003cbr\\u003e    \\\"bagging_fraction\\\": 0.7721763753547868,\\u003cbr\\u003e    \\\"bagging_freq\\\": 7,\\u003cbr\\u003e    \\\"clip\\\": 5,\\u003cbr\\u003e    \\\"feature_fraction\\\": 0.6008120723028498,\\u003cbr\\u003e    \\\"learning_rate\\\": 0.0038183205871763094,\\u003cbr\\u003e    \\\"min_child_samples\\\": 32,\\u003cbr\\u003e    \\\"num_leaves\\\": 63\\u003cbr\\u003e  }\\u003cbr\\u003e}\",\"{\\u003cbr\\u003e  \\\"number\\\": 273,\\u003cbr\\u003e  \\\"values\\\": [\\u003cbr\\u003e    0.23552595944008958,\\u003cbr\\u003e    0.008340978026727952\\u003cbr\\u003e  ],\\u003cbr\\u003e  \\\"params\\\": {\\u003cbr\\u003e    \\\"bagging_fraction\\\": 0.7499808764947822,\\u003cbr\\u003e    \\\"bagging_freq\\\": 10,\\u003cbr\\u003e    \\\"clip\\\": 3,\\u003cbr\\u003e    \\\"feature_fraction\\\": 0.7061789981396771,\\u003cbr\\u003e    \\\"learning_rate\\\": 0.0021646434231700055,\\u003cbr\\u003e    \\\"min_child_samples\\\": 56,\\u003cbr\\u003e    \\\"num_leaves\\\": 41\\u003cbr\\u003e  }\\u003cbr\\u003e}\",\"{\\u003cbr\\u003e  \\\"number\\\": 274,\\u003cbr\\u003e  \\\"values\\\": [\\u003cbr\\u003e    0.25781709731343283,\\u003cbr\\u003e    0.03535004278561982\\u003cbr\\u003e  ],\\u003cbr\\u003e  \\\"params\\\": {\\u003cbr\\u003e    \\\"bagging_fraction\\\": 0.8150349057974026,\\u003cbr\\u003e    \\\"bagging_freq\\\": 8,\\u003cbr\\u003e    \\\"clip\\\": 5,\\u003cbr\\u003e    \\\"feature_fraction\\\": 0.6002576089581995,\\u003cbr\\u003e    \\\"learning_rate\\\": 0.013527197344385017,\\u003cbr\\u003e    \\\"min_child_samples\\\": 98,\\u003cbr\\u003e    \\\"num_leaves\\\": 64\\u003cbr\\u003e  }\\u003cbr\\u003e}\",\"{\\u003cbr\\u003e  \\\"number\\\": 276,\\u003cbr\\u003e  \\\"values\\\": [\\u003cbr\\u003e    0.24203502026551624,\\u003cbr\\u003e    0.015948118610018325\\u003cbr\\u003e  ],\\u003cbr\\u003e  \\\"params\\\": {\\u003cbr\\u003e    \\\"bagging_fraction\\\": 0.7278713528652443,\\u003cbr\\u003e    \\\"bagging_freq\\\": 7,\\u003cbr\\u003e    \\\"clip\\\": 4,\\u003cbr\\u003e    \\\"feature_fraction\\\": 0.841184152797393,\\u003cbr\\u003e    \\\"learning_rate\\\": 0.004020134944071473,\\u003cbr\\u003e    \\\"min_child_samples\\\": 93,\\u003cbr\\u003e    \\\"num_leaves\\\": 71\\u003cbr\\u003e  }\\u003cbr\\u003e}\",\"{\\u003cbr\\u003e  \\\"number\\\": 278,\\u003cbr\\u003e  \\\"values\\\": [\\u003cbr\\u003e    0.2523537958451631,\\u003cbr\\u003e    0.043813900686286544\\u003cbr\\u003e  ],\\u003cbr\\u003e  \\\"params\\\": {\\u003cbr\\u003e    \\\"bagging_fraction\\\": 0.8433333024522492,\\u003cbr\\u003e    \\\"bagging_freq\\\": 7,\\u003cbr\\u003e    \\\"clip\\\": 9,\\u003cbr\\u003e    \\\"feature_fraction\\\": 0.6132625482113937,\\u003cbr\\u003e    \\\"learning_rate\\\": 0.05373410284944229,\\u003cbr\\u003e    \\\"min_child_samples\\\": 100,\\u003cbr\\u003e    \\\"num_leaves\\\": 26\\u003cbr\\u003e  }\\u003cbr\\u003e}\",\"{\\u003cbr\\u003e  \\\"number\\\": 279,\\u003cbr\\u003e  \\\"values\\\": [\\u003cbr\\u003e    0.2479733499697439,\\u003cbr\\u003e    0.047193466294706665\\u003cbr\\u003e  ],\\u003cbr\\u003e  \\\"params\\\": {\\u003cbr\\u003e    \\\"bagging_fraction\\\": 0.6886976288693628,\\u003cbr\\u003e    \\\"bagging_freq\\\": 7,\\u003cbr\\u003e    \\\"clip\\\": 2,\\u003cbr\\u003e    \\\"feature_fraction\\\": 0.7309795708294655,\\u003cbr\\u003e    \\\"learning_rate\\\": 0.09077781870054079,\\u003cbr\\u003e    \\\"min_child_samples\\\": 97,\\u003cbr\\u003e    \\\"num_leaves\\\": 50\\u003cbr\\u003e  }\\u003cbr\\u003e}\",\"{\\u003cbr\\u003e  \\\"number\\\": 281,\\u003cbr\\u003e  \\\"values\\\": [\\u003cbr\\u003e    0.25030258871049704,\\u003cbr\\u003e    0.04920551888400859\\u003cbr\\u003e  ],\\u003cbr\\u003e  \\\"params\\\": {\\u003cbr\\u003e    \\\"bagging_fraction\\\": 0.6350181794773084,\\u003cbr\\u003e    \\\"bagging_freq\\\": 7,\\u003cbr\\u003e    \\\"clip\\\": 9,\\u003cbr\\u003e    \\\"feature_fraction\\\": 0.6115258882998866,\\u003cbr\\u003e    \\\"learning_rate\\\": 0.07155887252431667,\\u003cbr\\u003e    \\\"min_child_samples\\\": 100,\\u003cbr\\u003e    \\\"num_leaves\\\": 66\\u003cbr\\u003e  }\\u003cbr\\u003e}\",\"{\\u003cbr\\u003e  \\\"number\\\": 283,\\u003cbr\\u003e  \\\"values\\\": [\\u003cbr\\u003e    0.25369517159731303,\\u003cbr\\u003e    0.025094128812142347\\u003cbr\\u003e  ],\\u003cbr\\u003e  \\\"params\\\": {\\u003cbr\\u003e    \\\"bagging_fraction\\\": 0.6238901040996288,\\u003cbr\\u003e    \\\"bagging_freq\\\": 7,\\u003cbr\\u003e    \\\"clip\\\": 4,\\u003cbr\\u003e    \\\"feature_fraction\\\": 0.6547608325945048,\\u003cbr\\u003e    \\\"learning_rate\\\": 0.0076190211167682,\\u003cbr\\u003e    \\\"min_child_samples\\\": 97,\\u003cbr\\u003e    \\\"num_leaves\\\": 68\\u003cbr\\u003e  }\\u003cbr\\u003e}\",\"{\\u003cbr\\u003e  \\\"number\\\": 284,\\u003cbr\\u003e  \\\"values\\\": [\\u003cbr\\u003e    0.24888113693783845,\\u003cbr\\u003e    0.049656706919650184\\u003cbr\\u003e  ],\\u003cbr\\u003e  \\\"params\\\": {\\u003cbr\\u003e    \\\"bagging_fraction\\\": 0.6489636575939128,\\u003cbr\\u003e    \\\"bagging_freq\\\": 7,\\u003cbr\\u003e    \\\"clip\\\": 4,\\u003cbr\\u003e    \\\"feature_fraction\\\": 0.7783634157718426,\\u003cbr\\u003e    \\\"learning_rate\\\": 0.08206507448093733,\\u003cbr\\u003e    \\\"min_child_samples\\\": 96,\\u003cbr\\u003e    \\\"num_leaves\\\": 68\\u003cbr\\u003e  }\\u003cbr\\u003e}\",\"{\\u003cbr\\u003e  \\\"number\\\": 285,\\u003cbr\\u003e  \\\"values\\\": [\\u003cbr\\u003e    0.25179151177143805,\\u003cbr\\u003e    0.044166605859024766\\u003cbr\\u003e  ],\\u003cbr\\u003e  \\\"params\\\": {\\u003cbr\\u003e    \\\"bagging_fraction\\\": 0.8434567375893747,\\u003cbr\\u003e    \\\"bagging_freq\\\": 9,\\u003cbr\\u003e    \\\"clip\\\": 8,\\u003cbr\\u003e    \\\"feature_fraction\\\": 0.7808011517008515,\\u003cbr\\u003e    \\\"learning_rate\\\": 0.05394486461245842,\\u003cbr\\u003e    \\\"min_child_samples\\\": 95,\\u003cbr\\u003e    \\\"num_leaves\\\": 33\\u003cbr\\u003e  }\\u003cbr\\u003e}\",\"{\\u003cbr\\u003e  \\\"number\\\": 286,\\u003cbr\\u003e  \\\"values\\\": [\\u003cbr\\u003e    0.2420863794535825,\\u003cbr\\u003e    0.015077646449541793\\u003cbr\\u003e  ],\\u003cbr\\u003e  \\\"params\\\": {\\u003cbr\\u003e    \\\"bagging_fraction\\\": 0.6475586031485553,\\u003cbr\\u003e    \\\"bagging_freq\\\": 9,\\u003cbr\\u003e    \\\"clip\\\": 4,\\u003cbr\\u003e    \\\"feature_fraction\\\": 0.6227304920611871,\\u003cbr\\u003e    \\\"learning_rate\\\": 0.004503768584206667,\\u003cbr\\u003e    \\\"min_child_samples\\\": 88,\\u003cbr\\u003e    \\\"num_leaves\\\": 32\\u003cbr\\u003e  }\\u003cbr\\u003e}\",\"{\\u003cbr\\u003e  \\\"number\\\": 287,\\u003cbr\\u003e  \\\"values\\\": [\\u003cbr\\u003e    0.2465972152772102,\\u003cbr\\u003e    0.01834340940003165\\u003cbr\\u003e  ],\\u003cbr\\u003e  \\\"params\\\": {\\u003cbr\\u003e    \\\"bagging_fraction\\\": 0.6474959088881219,\\u003cbr\\u003e    \\\"bagging_freq\\\": 9,\\u003cbr\\u003e    \\\"clip\\\": 4,\\u003cbr\\u003e    \\\"feature_fraction\\\": 0.7794503944873395,\\u003cbr\\u003e    \\\"learning_rate\\\": 0.004792192006613047,\\u003cbr\\u003e    \\\"min_child_samples\\\": 95,\\u003cbr\\u003e    \\\"num_leaves\\\": 69\\u003cbr\\u003e  }\\u003cbr\\u003e}\",\"{\\u003cbr\\u003e  \\\"number\\\": 288,\\u003cbr\\u003e  \\\"values\\\": [\\u003cbr\\u003e    0.24712685311760024,\\u003cbr\\u003e    0.03678006114669241\\u003cbr\\u003e  ],\\u003cbr\\u003e  \\\"params\\\": {\\u003cbr\\u003e    \\\"bagging_fraction\\\": 0.8000933141440016,\\u003cbr\\u003e    \\\"bagging_freq\\\": 6,\\u003cbr\\u003e    \\\"clip\\\": 10,\\u003cbr\\u003e    \\\"feature_fraction\\\": 0.8256076081424821,\\u003cbr\\u003e    \\\"learning_rate\\\": 0.01817541088344678,\\u003cbr\\u003e    \\\"min_child_samples\\\": 18,\\u003cbr\\u003e    \\\"num_leaves\\\": 79\\u003cbr\\u003e  }\\u003cbr\\u003e}\",\"{\\u003cbr\\u003e  \\\"number\\\": 289,\\u003cbr\\u003e  \\\"values\\\": [\\u003cbr\\u003e    0.25109415245350897,\\u003cbr\\u003e    0.04866844655519287\\u003cbr\\u003e  ],\\u003cbr\\u003e  \\\"params\\\": {\\u003cbr\\u003e    \\\"bagging_fraction\\\": 0.6518814076237138,\\u003cbr\\u003e    \\\"bagging_freq\\\": 8,\\u003cbr\\u003e    \\\"clip\\\": 4,\\u003cbr\\u003e    \\\"feature_fraction\\\": 0.6231480752178242,\\u003cbr\\u003e    \\\"learning_rate\\\": 0.04854582420807833,\\u003cbr\\u003e    \\\"min_child_samples\\\": 79,\\u003cbr\\u003e    \\\"num_leaves\\\": 70\\u003cbr\\u003e  }\\u003cbr\\u003e}\",\"{\\u003cbr\\u003e  \\\"number\\\": 292,\\u003cbr\\u003e  \\\"values\\\": [\\u003cbr\\u003e    0.2524036640577606,\\u003cbr\\u003e    0.020613907183640867\\u003cbr\\u003e  ],\\u003cbr\\u003e  \\\"params\\\": {\\u003cbr\\u003e    \\\"bagging_fraction\\\": 0.6616292545647486,\\u003cbr\\u003e    \\\"bagging_freq\\\": 8,\\u003cbr\\u003e    \\\"clip\\\": 3,\\u003cbr\\u003e    \\\"feature_fraction\\\": 0.6307374232272552,\\u003cbr\\u003e    \\\"learning_rate\\\": 0.006161243946210247,\\u003cbr\\u003e    \\\"min_child_samples\\\": 93,\\u003cbr\\u003e    \\\"num_leaves\\\": 66\\u003cbr\\u003e  }\\u003cbr\\u003e}\",\"{\\u003cbr\\u003e  \\\"number\\\": 294,\\u003cbr\\u003e  \\\"values\\\": [\\u003cbr\\u003e    0.2511848285565273,\\u003cbr\\u003e    0.048760456508980754\\u003cbr\\u003e  ],\\u003cbr\\u003e  \\\"params\\\": {\\u003cbr\\u003e    \\\"bagging_fraction\\\": 0.7075846912609487,\\u003cbr\\u003e    \\\"bagging_freq\\\": 7,\\u003cbr\\u003e    \\\"clip\\\": 4,\\u003cbr\\u003e    \\\"feature_fraction\\\": 0.8154411168998166,\\u003cbr\\u003e    \\\"learning_rate\\\": 0.06151125857657879,\\u003cbr\\u003e    \\\"min_child_samples\\\": 96,\\u003cbr\\u003e    \\\"num_leaves\\\": 66\\u003cbr\\u003e  }\\u003cbr\\u003e}\",\"{\\u003cbr\\u003e  \\\"number\\\": 295,\\u003cbr\\u003e  \\\"values\\\": [\\u003cbr\\u003e    0.25263543884186096,\\u003cbr\\u003e    0.047925010566569504\\u003cbr\\u003e  ],\\u003cbr\\u003e  \\\"params\\\": {\\u003cbr\\u003e    \\\"bagging_fraction\\\": 0.6886976288693628,\\u003cbr\\u003e    \\\"bagging_freq\\\": 5,\\u003cbr\\u003e    \\\"clip\\\": 5,\\u003cbr\\u003e    \\\"feature_fraction\\\": 0.7309795708294655,\\u003cbr\\u003e    \\\"learning_rate\\\": 0.07122764680334491,\\u003cbr\\u003e    \\\"min_child_samples\\\": 97,\\u003cbr\\u003e    \\\"num_leaves\\\": 46\\u003cbr\\u003e  }\\u003cbr\\u003e}\",\"{\\u003cbr\\u003e  \\\"number\\\": 298,\\u003cbr\\u003e  \\\"values\\\": [\\u003cbr\\u003e    0.251871890041453,\\u003cbr\\u003e    0.04172304392700077\\u003cbr\\u003e  ],\\u003cbr\\u003e  \\\"params\\\": {\\u003cbr\\u003e    \\\"bagging_fraction\\\": 0.6886976288693628,\\u003cbr\\u003e    \\\"bagging_freq\\\": 8,\\u003cbr\\u003e    \\\"clip\\\": 5,\\u003cbr\\u003e    \\\"feature_fraction\\\": 0.8109519209177599,\\u003cbr\\u003e    \\\"learning_rate\\\": 0.020262051843507097,\\u003cbr\\u003e    \\\"min_child_samples\\\": 43,\\u003cbr\\u003e    \\\"num_leaves\\\": 80\\u003cbr\\u003e  }\\u003cbr\\u003e}\",\"{\\u003cbr\\u003e  \\\"number\\\": 299,\\u003cbr\\u003e  \\\"values\\\": [\\u003cbr\\u003e    0.24713952205052692,\\u003cbr\\u003e    0.019567365005835446\\u003cbr\\u003e  ],\\u003cbr\\u003e  \\\"params\\\": {\\u003cbr\\u003e    \\\"bagging_fraction\\\": 0.8087455135697601,\\u003cbr\\u003e    \\\"bagging_freq\\\": 7,\\u003cbr\\u003e    \\\"clip\\\": 7,\\u003cbr\\u003e    \\\"feature_fraction\\\": 0.6953075865667339,\\u003cbr\\u003e    \\\"learning_rate\\\": 0.0051163895407276,\\u003cbr\\u003e    \\\"min_child_samples\\\": 98,\\u003cbr\\u003e    \\\"num_leaves\\\": 67\\u003cbr\\u003e  }\\u003cbr\\u003e}\",\"{\\u003cbr\\u003e  \\\"number\\\": 300,\\u003cbr\\u003e  \\\"values\\\": [\\u003cbr\\u003e    0.2560615581598163,\\u003cbr\\u003e    0.03333195904793962\\u003cbr\\u003e  ],\\u003cbr\\u003e  \\\"params\\\": {\\u003cbr\\u003e    \\\"bagging_fraction\\\": 0.7238157898608831,\\u003cbr\\u003e    \\\"bagging_freq\\\": 7,\\u003cbr\\u003e    \\\"clip\\\": 7,\\u003cbr\\u003e    \\\"feature_fraction\\\": 0.6067304350829604,\\u003cbr\\u003e    \\\"learning_rate\\\": 0.011804178583281952,\\u003cbr\\u003e    \\\"min_child_samples\\\": 98,\\u003cbr\\u003e    \\\"num_leaves\\\": 64\\u003cbr\\u003e  }\\u003cbr\\u003e}\",\"{\\u003cbr\\u003e  \\\"number\\\": 302,\\u003cbr\\u003e  \\\"values\\\": [\\u003cbr\\u003e    0.24674661412173732,\\u003cbr\\u003e    0.005261224891415117\\u003cbr\\u003e  ],\\u003cbr\\u003e  \\\"params\\\": {\\u003cbr\\u003e    \\\"bagging_fraction\\\": 0.6321088490115953,\\u003cbr\\u003e    \\\"bagging_freq\\\": 7,\\u003cbr\\u003e    \\\"clip\\\": 4,\\u003cbr\\u003e    \\\"feature_fraction\\\": 0.6075053411229695,\\u003cbr\\u003e    \\\"learning_rate\\\": 0.0011859924115425664,\\u003cbr\\u003e    \\\"min_child_samples\\\": 83,\\u003cbr\\u003e    \\\"num_leaves\\\": 67\\u003cbr\\u003e  }\\u003cbr\\u003e}\",\"{\\u003cbr\\u003e  \\\"number\\\": 304,\\u003cbr\\u003e  \\\"values\\\": [\\u003cbr\\u003e    0.2504015560403546,\\u003cbr\\u003e    0.02694788106997481\\u003cbr\\u003e  ],\\u003cbr\\u003e  \\\"params\\\": {\\u003cbr\\u003e    \\\"bagging_fraction\\\": 0.6347999576697898,\\u003cbr\\u003e    \\\"bagging_freq\\\": 7,\\u003cbr\\u003e    \\\"clip\\\": 4,\\u003cbr\\u003e    \\\"feature_fraction\\\": 0.8098895298968135,\\u003cbr\\u003e    \\\"learning_rate\\\": 0.008156339269414144,\\u003cbr\\u003e    \\\"min_child_samples\\\": 65,\\u003cbr\\u003e    \\\"num_leaves\\\": 72\\u003cbr\\u003e  }\\u003cbr\\u003e}\",\"{\\u003cbr\\u003e  \\\"number\\\": 305,\\u003cbr\\u003e  \\\"values\\\": [\\u003cbr\\u003e    0.24899950103100188,\\u003cbr\\u003e    0.047391751550360794\\u003cbr\\u003e  ],\\u003cbr\\u003e  \\\"params\\\": {\\u003cbr\\u003e    \\\"bagging_fraction\\\": 0.6319689984695638,\\u003cbr\\u003e    \\\"bagging_freq\\\": 7,\\u003cbr\\u003e    \\\"clip\\\": 4,\\u003cbr\\u003e    \\\"feature_fraction\\\": 0.7414717366393508,\\u003cbr\\u003e    \\\"learning_rate\\\": 0.041900985073309735,\\u003cbr\\u003e    \\\"min_child_samples\\\": 73,\\u003cbr\\u003e    \\\"num_leaves\\\": 71\\u003cbr\\u003e  }\\u003cbr\\u003e}\",\"{\\u003cbr\\u003e  \\\"number\\\": 306,\\u003cbr\\u003e  \\\"values\\\": [\\u003cbr\\u003e    0.25200137038465903,\\u003cbr\\u003e    0.04458007478999182\\u003cbr\\u003e  ],\\u003cbr\\u003e  \\\"params\\\": {\\u003cbr\\u003e    \\\"bagging_fraction\\\": 0.6616126336371765,\\u003cbr\\u003e    \\\"bagging_freq\\\": 8,\\u003cbr\\u003e    \\\"clip\\\": 6,\\u003cbr\\u003e    \\\"feature_fraction\\\": 0.7279353583561177,\\u003cbr\\u003e    \\\"learning_rate\\\": 0.030324698393459533,\\u003cbr\\u003e    \\\"min_child_samples\\\": 55,\\u003cbr\\u003e    \\\"num_leaves\\\": 48\\u003cbr\\u003e  }\\u003cbr\\u003e}\",\"{\\u003cbr\\u003e  \\\"number\\\": 310,\\u003cbr\\u003e  \\\"values\\\": [\\u003cbr\\u003e    0.25767425703400015,\\u003cbr\\u003e    0.034978194441042776\\u003cbr\\u003e  ],\\u003cbr\\u003e  \\\"params\\\": {\\u003cbr\\u003e    \\\"bagging_fraction\\\": 0.8285506114373036,\\u003cbr\\u003e    \\\"bagging_freq\\\": 7,\\u003cbr\\u003e    \\\"clip\\\": 3,\\u003cbr\\u003e    \\\"feature_fraction\\\": 0.7237458568366786,\\u003cbr\\u003e    \\\"learning_rate\\\": 0.014289737048705746,\\u003cbr\\u003e    \\\"min_child_samples\\\": 92,\\u003cbr\\u003e    \\\"num_leaves\\\": 69\\u003cbr\\u003e  }\\u003cbr\\u003e}\",\"{\\u003cbr\\u003e  \\\"number\\\": 311,\\u003cbr\\u003e  \\\"values\\\": [\\u003cbr\\u003e    0.24490724115871634,\\u003cbr\\u003e    0.04428148411290567\\u003cbr\\u003e  ],\\u003cbr\\u003e  \\\"params\\\": {\\u003cbr\\u003e    \\\"bagging_fraction\\\": 0.8769654881230391,\\u003cbr\\u003e    \\\"bagging_freq\\\": 10,\\u003cbr\\u003e    \\\"clip\\\": 7,\\u003cbr\\u003e    \\\"feature_fraction\\\": 0.6132944935072089,\\u003cbr\\u003e    \\\"learning_rate\\\": 0.09077781870054079,\\u003cbr\\u003e    \\\"min_child_samples\\\": 74,\\u003cbr\\u003e    \\\"num_leaves\\\": 77\\u003cbr\\u003e  }\\u003cbr\\u003e}\",\"{\\u003cbr\\u003e  \\\"number\\\": 312,\\u003cbr\\u003e  \\\"values\\\": [\\u003cbr\\u003e    0.2575211671036269,\\u003cbr\\u003e    0.03568901599137719\\u003cbr\\u003e  ],\\u003cbr\\u003e  \\\"params\\\": {\\u003cbr\\u003e    \\\"bagging_fraction\\\": 0.8279107768323622,\\u003cbr\\u003e    \\\"bagging_freq\\\": 7,\\u003cbr\\u003e    \\\"clip\\\": 4,\\u003cbr\\u003e    \\\"feature_fraction\\\": 0.6527514077929064,\\u003cbr\\u003e    \\\"learning_rate\\\": 0.013969278874142486,\\u003cbr\\u003e    \\\"min_child_samples\\\": 92,\\u003cbr\\u003e    \\\"num_leaves\\\": 69\\u003cbr\\u003e  }\\u003cbr\\u003e}\",\"{\\u003cbr\\u003e  \\\"number\\\": 313,\\u003cbr\\u003e  \\\"values\\\": [\\u003cbr\\u003e    0.24715557528854795,\\u003cbr\\u003e    0.006866132600051755\\u003cbr\\u003e  ],\\u003cbr\\u003e  \\\"params\\\": {\\u003cbr\\u003e    \\\"bagging_fraction\\\": 0.6071726312016085,\\u003cbr\\u003e    \\\"bagging_freq\\\": 7,\\u003cbr\\u003e    \\\"clip\\\": 4,\\u003cbr\\u003e    \\\"feature_fraction\\\": 0.6171656401562254,\\u003cbr\\u003e    \\\"learning_rate\\\": 0.0015662552638368327,\\u003cbr\\u003e    \\\"min_child_samples\\\": 93,\\u003cbr\\u003e    \\\"num_leaves\\\": 69\\u003cbr\\u003e  }\\u003cbr\\u003e}\",\"{\\u003cbr\\u003e  \\\"number\\\": 315,\\u003cbr\\u003e  \\\"values\\\": [\\u003cbr\\u003e    0.24363065455276744,\\u003cbr\\u003e    0.00404801942659494\\u003cbr\\u003e  ],\\u003cbr\\u003e  \\\"params\\\": {\\u003cbr\\u003e    \\\"bagging_fraction\\\": 0.6973306497870516,\\u003cbr\\u003e    \\\"bagging_freq\\\": 8,\\u003cbr\\u003e    \\\"clip\\\": 1,\\u003cbr\\u003e    \\\"feature_fraction\\\": 0.6374922905446008,\\u003cbr\\u003e    \\\"learning_rate\\\": 0.00134676346902176,\\u003cbr\\u003e    \\\"min_child_samples\\\": 63,\\u003cbr\\u003e    \\\"num_leaves\\\": 73\\u003cbr\\u003e  }\\u003cbr\\u003e}\",\"{\\u003cbr\\u003e  \\\"number\\\": 317,\\u003cbr\\u003e  \\\"values\\\": [\\u003cbr\\u003e    0.23399286443515283,\\u003cbr\\u003e    0.006966257442262425\\u003cbr\\u003e  ],\\u003cbr\\u003e  \\\"params\\\": {\\u003cbr\\u003e    \\\"bagging_fraction\\\": 0.6073578378858663,\\u003cbr\\u003e    \\\"bagging_freq\\\": 7,\\u003cbr\\u003e    \\\"clip\\\": 4,\\u003cbr\\u003e    \\\"feature_fraction\\\": 0.8783470623505663,\\u003cbr\\u003e    \\\"learning_rate\\\": 0.001560396855999857,\\u003cbr\\u003e    \\\"min_child_samples\\\": 94,\\u003cbr\\u003e    \\\"num_leaves\\\": 61\\u003cbr\\u003e  }\\u003cbr\\u003e}\",\"{\\u003cbr\\u003e  \\\"number\\\": 318,\\u003cbr\\u003e  \\\"values\\\": [\\u003cbr\\u003e    0.2593675417714899,\\u003cbr\\u003e    0.04324448923655311\\u003cbr\\u003e  ],\\u003cbr\\u003e  \\\"params\\\": {\\u003cbr\\u003e    \\\"bagging_fraction\\\": 0.6406812100754903,\\u003cbr\\u003e    \\\"bagging_freq\\\": 7,\\u003cbr\\u003e    \\\"clip\\\": 3,\\u003cbr\\u003e    \\\"feature_fraction\\\": 0.8789575214489198,\\u003cbr\\u003e    \\\"learning_rate\\\": 0.023383873579860378,\\u003cbr\\u003e    \\\"min_child_samples\\\": 88,\\u003cbr\\u003e    \\\"num_leaves\\\": 61\\u003cbr\\u003e  }\\u003cbr\\u003e}\",\"{\\u003cbr\\u003e  \\\"number\\\": 320,\\u003cbr\\u003e  \\\"values\\\": [\\u003cbr\\u003e    0.23644842604606486,\\u003cbr\\u003e    0.007204499742251791\\u003cbr\\u003e  ],\\u003cbr\\u003e  \\\"params\\\": {\\u003cbr\\u003e    \\\"bagging_fraction\\\": 0.6040187009168715,\\u003cbr\\u003e    \\\"bagging_freq\\\": 8,\\u003cbr\\u003e    \\\"clip\\\": 6,\\u003cbr\\u003e    \\\"feature_fraction\\\": 0.640142010361404,\\u003cbr\\u003e    \\\"learning_rate\\\": 0.0017654620577288096,\\u003cbr\\u003e    \\\"min_child_samples\\\": 55,\\u003cbr\\u003e    \\\"num_leaves\\\": 37\\u003cbr\\u003e  }\\u003cbr\\u003e}\",\"{\\u003cbr\\u003e  \\\"number\\\": 322,\\u003cbr\\u003e  \\\"values\\\": [\\u003cbr\\u003e    0.2596784759518299,\\u003cbr\\u003e    0.0440513877300881\\u003cbr\\u003e  ],\\u003cbr\\u003e  \\\"params\\\": {\\u003cbr\\u003e    \\\"bagging_fraction\\\": 0.6392950550178697,\\u003cbr\\u003e    \\\"bagging_freq\\\": 7,\\u003cbr\\u003e    \\\"clip\\\": 3,\\u003cbr\\u003e    \\\"feature_fraction\\\": 0.6700976910277812,\\u003cbr\\u003e    \\\"learning_rate\\\": 0.025969964047713418,\\u003cbr\\u003e    \\\"min_child_samples\\\": 100,\\u003cbr\\u003e    \\\"num_leaves\\\": 61\\u003cbr\\u003e  }\\u003cbr\\u003e}\",\"{\\u003cbr\\u003e  \\\"number\\\": 323,\\u003cbr\\u003e  \\\"values\\\": [\\u003cbr\\u003e    0.2562682154119855,\\u003cbr\\u003e    0.043194195959872395\\u003cbr\\u003e  ],\\u003cbr\\u003e  \\\"params\\\": {\\u003cbr\\u003e    \\\"bagging_fraction\\\": 0.6399663057407631,\\u003cbr\\u003e    \\\"bagging_freq\\\": 7,\\u003cbr\\u003e    \\\"clip\\\": 3,\\u003cbr\\u003e    \\\"feature_fraction\\\": 0.7154606027978562,\\u003cbr\\u003e    \\\"learning_rate\\\": 0.024927206701122872,\\u003cbr\\u003e    \\\"min_child_samples\\\": 32,\\u003cbr\\u003e    \\\"num_leaves\\\": 65\\u003cbr\\u003e  }\\u003cbr\\u003e}\",\"{\\u003cbr\\u003e  \\\"number\\\": 324,\\u003cbr\\u003e  \\\"values\\\": [\\u003cbr\\u003e    0.24162607914038448,\\u003cbr\\u003e    0.008069760087978661\\u003cbr\\u003e  ],\\u003cbr\\u003e  \\\"params\\\": {\\u003cbr\\u003e    \\\"bagging_fraction\\\": 0.7425461147381236,\\u003cbr\\u003e    \\\"bagging_freq\\\": 10,\\u003cbr\\u003e    \\\"clip\\\": 3,\\u003cbr\\u003e    \\\"feature_fraction\\\": 0.7423973109667831,\\u003cbr\\u003e    \\\"learning_rate\\\": 0.0018862486347852462,\\u003cbr\\u003e    \\\"min_child_samples\\\": 79,\\u003cbr\\u003e    \\\"num_leaves\\\": 72\\u003cbr\\u003e  }\\u003cbr\\u003e}\",\"{\\u003cbr\\u003e  \\\"number\\\": 325,\\u003cbr\\u003e  \\\"values\\\": [\\u003cbr\\u003e    0.2508208509548629,\\u003cbr\\u003e    0.023789428839026683\\u003cbr\\u003e  ],\\u003cbr\\u003e  \\\"params\\\": {\\u003cbr\\u003e    \\\"bagging_fraction\\\": 0.6413543078464219,\\u003cbr\\u003e    \\\"bagging_freq\\\": 7,\\u003cbr\\u003e    \\\"clip\\\": 3,\\u003cbr\\u003e    \\\"feature_fraction\\\": 0.7572800803327059,\\u003cbr\\u003e    \\\"learning_rate\\\": 0.0074418987145146295,\\u003cbr\\u003e    \\\"min_child_samples\\\": 89,\\u003cbr\\u003e    \\\"num_leaves\\\": 65\\u003cbr\\u003e  }\\u003cbr\\u003e}\",\"{\\u003cbr\\u003e  \\\"number\\\": 326,\\u003cbr\\u003e  \\\"values\\\": [\\u003cbr\\u003e    0.2510254009308871,\\u003cbr\\u003e    0.02240049712667913\\u003cbr\\u003e  ],\\u003cbr\\u003e  \\\"params\\\": {\\u003cbr\\u003e    \\\"bagging_fraction\\\": 0.7834929931151352,\\u003cbr\\u003e    \\\"bagging_freq\\\": 7,\\u003cbr\\u003e    \\\"clip\\\": 3,\\u003cbr\\u003e    \\\"feature_fraction\\\": 0.6861714773755957,\\u003cbr\\u003e    \\\"learning_rate\\\": 0.006891544943614829,\\u003cbr\\u003e    \\\"min_child_samples\\\": 100,\\u003cbr\\u003e    \\\"num_leaves\\\": 65\\u003cbr\\u003e  }\\u003cbr\\u003e}\",\"{\\u003cbr\\u003e  \\\"number\\\": 327,\\u003cbr\\u003e  \\\"values\\\": [\\u003cbr\\u003e    0.25270131577993443,\\u003cbr\\u003e    0.04750749342263727\\u003cbr\\u003e  ],\\u003cbr\\u003e  \\\"params\\\": {\\u003cbr\\u003e    \\\"bagging_fraction\\\": 0.8617107771543611,\\u003cbr\\u003e    \\\"bagging_freq\\\": 6,\\u003cbr\\u003e    \\\"clip\\\": 4,\\u003cbr\\u003e    \\\"feature_fraction\\\": 0.669890346492831,\\u003cbr\\u003e    \\\"learning_rate\\\": 0.038051060682131245,\\u003cbr\\u003e    \\\"min_child_samples\\\": 99,\\u003cbr\\u003e    \\\"num_leaves\\\": 63\\u003cbr\\u003e  }\\u003cbr\\u003e}\",\"{\\u003cbr\\u003e  \\\"number\\\": 329,\\u003cbr\\u003e  \\\"values\\\": [\\u003cbr\\u003e    0.23103870444296876,\\u003cbr\\u003e    0.008556667582814037\\u003cbr\\u003e  ],\\u003cbr\\u003e  \\\"params\\\": {\\u003cbr\\u003e    \\\"bagging_fraction\\\": 0.7482187375087188,\\u003cbr\\u003e    \\\"bagging_freq\\\": 9,\\u003cbr\\u003e    \\\"clip\\\": 3,\\u003cbr\\u003e    \\\"feature_fraction\\\": 0.7955410757160797,\\u003cbr\\u003e    \\\"learning_rate\\\": 0.002242656969507945,\\u003cbr\\u003e    \\\"min_child_samples\\\": 47,\\u003cbr\\u003e    \\\"num_leaves\\\": 38\\u003cbr\\u003e  }\\u003cbr\\u003e}\",\"{\\u003cbr\\u003e  \\\"number\\\": 330,\\u003cbr\\u003e  \\\"values\\\": [\\u003cbr\\u003e    0.2558248162448636,\\u003cbr\\u003e    0.042269571654035776\\u003cbr\\u003e  ],\\u003cbr\\u003e  \\\"params\\\": {\\u003cbr\\u003e    \\\"bagging_fraction\\\": 0.7197628638834392,\\u003cbr\\u003e    \\\"bagging_freq\\\": 6,\\u003cbr\\u003e    \\\"clip\\\": 4,\\u003cbr\\u003e    \\\"feature_fraction\\\": 0.8446829074866831,\\u003cbr\\u003e    \\\"learning_rate\\\": 0.028333096287472874,\\u003cbr\\u003e    \\\"min_child_samples\\\": 96,\\u003cbr\\u003e    \\\"num_leaves\\\": 27\\u003cbr\\u003e  }\\u003cbr\\u003e}\",\"{\\u003cbr\\u003e  \\\"number\\\": 333,\\u003cbr\\u003e  \\\"values\\\": [\\u003cbr\\u003e    0.24056882878375407,\\u003cbr\\u003e    0.011903883154730233\\u003cbr\\u003e  ],\\u003cbr\\u003e  \\\"params\\\": {\\u003cbr\\u003e    \\\"bagging_fraction\\\": 0.8989894504840543,\\u003cbr\\u003e    \\\"bagging_freq\\\": 6,\\u003cbr\\u003e    \\\"clip\\\": 2,\\u003cbr\\u003e    \\\"feature_fraction\\\": 0.8256076081424821,\\u003cbr\\u003e    \\\"learning_rate\\\": 0.0032467567411562696,\\u003cbr\\u003e    \\\"min_child_samples\\\": 70,\\u003cbr\\u003e    \\\"num_leaves\\\": 79\\u003cbr\\u003e  }\\u003cbr\\u003e}\",\"{\\u003cbr\\u003e  \\\"number\\\": 338,\\u003cbr\\u003e  \\\"values\\\": [\\u003cbr\\u003e    0.24685878069813255,\\u003cbr\\u003e    0.04744272050680809\\u003cbr\\u003e  ],\\u003cbr\\u003e  \\\"params\\\": {\\u003cbr\\u003e    \\\"bagging_fraction\\\": 0.7326251267024898,\\u003cbr\\u003e    \\\"bagging_freq\\\": 7,\\u003cbr\\u003e    \\\"clip\\\": 4,\\u003cbr\\u003e    \\\"feature_fraction\\\": 0.7353174538688029,\\u003cbr\\u003e    \\\"learning_rate\\\": 0.05799999839809493,\\u003cbr\\u003e    \\\"min_child_samples\\\": 96,\\u003cbr\\u003e    \\\"num_leaves\\\": 67\\u003cbr\\u003e  }\\u003cbr\\u003e}\",\"{\\u003cbr\\u003e  \\\"number\\\": 342,\\u003cbr\\u003e  \\\"values\\\": [\\u003cbr\\u003e    0.25079723782011093,\\u003cbr\\u003e    0.043833169565739016\\u003cbr\\u003e  ],\\u003cbr\\u003e  \\\"params\\\": {\\u003cbr\\u003e    \\\"bagging_fraction\\\": 0.731073894760115,\\u003cbr\\u003e    \\\"bagging_freq\\\": 5,\\u003cbr\\u003e    \\\"clip\\\": 8,\\u003cbr\\u003e    \\\"feature_fraction\\\": 0.6985436816679417,\\u003cbr\\u003e    \\\"learning_rate\\\": 0.06420744841003095,\\u003cbr\\u003e    \\\"min_child_samples\\\": 50,\\u003cbr\\u003e    \\\"num_leaves\\\": 67\\u003cbr\\u003e  }\\u003cbr\\u003e}\",\"{\\u003cbr\\u003e  \\\"number\\\": 343,\\u003cbr\\u003e  \\\"values\\\": [\\u003cbr\\u003e    0.248202020162455,\\u003cbr\\u003e    0.04090335345020091\\u003cbr\\u003e  ],\\u003cbr\\u003e  \\\"params\\\": {\\u003cbr\\u003e    \\\"bagging_fraction\\\": 0.8059132053705294,\\u003cbr\\u003e    \\\"bagging_freq\\\": 5,\\u003cbr\\u003e    \\\"clip\\\": 8,\\u003cbr\\u003e    \\\"feature_fraction\\\": 0.8036632693248873,\\u003cbr\\u003e    \\\"learning_rate\\\": 0.03482903632879895,\\u003cbr\\u003e    \\\"min_child_samples\\\": 50,\\u003cbr\\u003e    \\\"num_leaves\\\": 68\\u003cbr\\u003e  }\\u003cbr\\u003e}\",\"{\\u003cbr\\u003e  \\\"number\\\": 344,\\u003cbr\\u003e  \\\"values\\\": [\\u003cbr\\u003e    0.25106637736415055,\\u003cbr\\u003e    0.04317312848498178\\u003cbr\\u003e  ],\\u003cbr\\u003e  \\\"params\\\": {\\u003cbr\\u003e    \\\"bagging_fraction\\\": 0.7499808764947822,\\u003cbr\\u003e    \\\"bagging_freq\\\": 10,\\u003cbr\\u003e    \\\"clip\\\": 8,\\u003cbr\\u003e    \\\"feature_fraction\\\": 0.8320628332704308,\\u003cbr\\u003e    \\\"learning_rate\\\": 0.032670213299518816,\\u003cbr\\u003e    \\\"min_child_samples\\\": 61,\\u003cbr\\u003e    \\\"num_leaves\\\": 41\\u003cbr\\u003e  }\\u003cbr\\u003e}\",\"{\\u003cbr\\u003e  \\\"number\\\": 347,\\u003cbr\\u003e  \\\"values\\\": [\\u003cbr\\u003e    0.2425331222329725,\\u003cbr\\u003e    0.0121314063006972\\u003cbr\\u003e  ],\\u003cbr\\u003e  \\\"params\\\": {\\u003cbr\\u003e    \\\"bagging_fraction\\\": 0.6537731604640633,\\u003cbr\\u003e    \\\"bagging_freq\\\": 8,\\u003cbr\\u003e    \\\"clip\\\": 4,\\u003cbr\\u003e    \\\"feature_fraction\\\": 0.7624508138733469,\\u003cbr\\u003e    \\\"learning_rate\\\": 0.0029412607890214673,\\u003cbr\\u003e    \\\"min_child_samples\\\": 100,\\u003cbr\\u003e    \\\"num_leaves\\\": 66\\u003cbr\\u003e  }\\u003cbr\\u003e}\",\"{\\u003cbr\\u003e  \\\"number\\\": 348,\\u003cbr\\u003e  \\\"values\\\": [\\u003cbr\\u003e    0.2512715515702912,\\u003cbr\\u003e    0.048459542422616186\\u003cbr\\u003e  ],\\u003cbr\\u003e  \\\"params\\\": {\\u003cbr\\u003e    \\\"bagging_fraction\\\": 0.7169087977685384,\\u003cbr\\u003e    \\\"bagging_freq\\\": 8,\\u003cbr\\u003e    \\\"clip\\\": 4,\\u003cbr\\u003e    \\\"feature_fraction\\\": 0.7595899766526547,\\u003cbr\\u003e    \\\"learning_rate\\\": 0.0456299797647597,\\u003cbr\\u003e    \\\"min_child_samples\\\": 86,\\u003cbr\\u003e    \\\"num_leaves\\\": 62\\u003cbr\\u003e  }\\u003cbr\\u003e}\",\"{\\u003cbr\\u003e  \\\"number\\\": 349,\\u003cbr\\u003e  \\\"values\\\": [\\u003cbr\\u003e    0.24283772348025562,\\u003cbr\\u003e    0.026125164326955996\\u003cbr\\u003e  ],\\u003cbr\\u003e  \\\"params\\\": {\\u003cbr\\u003e    \\\"bagging_fraction\\\": 0.8132837770807604,\\u003cbr\\u003e    \\\"bagging_freq\\\": 9,\\u003cbr\\u003e    \\\"clip\\\": 7,\\u003cbr\\u003e    \\\"feature_fraction\\\": 0.855871598429411,\\u003cbr\\u003e    \\\"learning_rate\\\": 0.008866934766410607,\\u003cbr\\u003e    \\\"min_child_samples\\\": 58,\\u003cbr\\u003e    \\\"num_leaves\\\": 36\\u003cbr\\u003e  }\\u003cbr\\u003e}\",\"{\\u003cbr\\u003e  \\\"number\\\": 353,\\u003cbr\\u003e  \\\"values\\\": [\\u003cbr\\u003e    0.24608479190720878,\\u003cbr\\u003e    0.04316551936344881\\u003cbr\\u003e  ],\\u003cbr\\u003e  \\\"params\\\": {\\u003cbr\\u003e    \\\"bagging_fraction\\\": 0.8817301477813124,\\u003cbr\\u003e    \\\"bagging_freq\\\": 5,\\u003cbr\\u003e    \\\"clip\\\": 6,\\u003cbr\\u003e    \\\"feature_fraction\\\": 0.7082692496389729,\\u003cbr\\u003e    \\\"learning_rate\\\": 0.06462230862820575,\\u003cbr\\u003e    \\\"min_child_samples\\\": 61,\\u003cbr\\u003e    \\\"num_leaves\\\": 54\\u003cbr\\u003e  }\\u003cbr\\u003e}\",\"{\\u003cbr\\u003e  \\\"number\\\": 356,\\u003cbr\\u003e  \\\"values\\\": [\\u003cbr\\u003e    0.25086671442378355,\\u003cbr\\u003e    0.029604555717674286\\u003cbr\\u003e  ],\\u003cbr\\u003e  \\\"params\\\": {\\u003cbr\\u003e    \\\"bagging_fraction\\\": 0.7719524600772703,\\u003cbr\\u003e    \\\"bagging_freq\\\": 7,\\u003cbr\\u003e    \\\"clip\\\": 10,\\u003cbr\\u003e    \\\"feature_fraction\\\": 0.7150376403626323,\\u003cbr\\u003e    \\\"learning_rate\\\": 0.009964802565242467,\\u003cbr\\u003e    \\\"min_child_samples\\\": 67,\\u003cbr\\u003e    \\\"num_leaves\\\": 55\\u003cbr\\u003e  }\\u003cbr\\u003e}\",\"{\\u003cbr\\u003e  \\\"number\\\": 360,\\u003cbr\\u003e  \\\"values\\\": [\\u003cbr\\u003e    0.25066689192969893,\\u003cbr\\u003e    0.04506649984406985\\u003cbr\\u003e  ],\\u003cbr\\u003e  \\\"params\\\": {\\u003cbr\\u003e    \\\"bagging_fraction\\\": 0.7191609311921344,\\u003cbr\\u003e    \\\"bagging_freq\\\": 7,\\u003cbr\\u003e    \\\"clip\\\": 7,\\u003cbr\\u003e    \\\"feature_fraction\\\": 0.7597682016678868,\\u003cbr\\u003e    \\\"learning_rate\\\": 0.07028989091029153,\\u003cbr\\u003e    \\\"min_child_samples\\\": 74,\\u003cbr\\u003e    \\\"num_leaves\\\": 40\\u003cbr\\u003e  }\\u003cbr\\u003e}\",\"{\\u003cbr\\u003e  \\\"number\\\": 361,\\u003cbr\\u003e  \\\"values\\\": [\\u003cbr\\u003e    0.2320666557535418,\\u003cbr\\u003e    0.011919631442174117\\u003cbr\\u003e  ],\\u003cbr\\u003e  \\\"params\\\": {\\u003cbr\\u003e    \\\"bagging_fraction\\\": 0.8902319337999594,\\u003cbr\\u003e    \\\"bagging_freq\\\": 6,\\u003cbr\\u003e    \\\"clip\\\": 4,\\u003cbr\\u003e    \\\"feature_fraction\\\": 0.6636926781088138,\\u003cbr\\u003e    \\\"learning_rate\\\": 0.0036247914040660034,\\u003cbr\\u003e    \\\"min_child_samples\\\": 12,\\u003cbr\\u003e    \\\"num_leaves\\\": 24\\u003cbr\\u003e  }\\u003cbr\\u003e}\",\"{\\u003cbr\\u003e  \\\"number\\\": 363,\\u003cbr\\u003e  \\\"values\\\": [\\u003cbr\\u003e    0.24517339883044004,\\u003cbr\\u003e    0.025108494747394183\\u003cbr\\u003e  ],\\u003cbr\\u003e  \\\"params\\\": {\\u003cbr\\u003e    \\\"bagging_fraction\\\": 0.6547895191654295,\\u003cbr\\u003e    \\\"bagging_freq\\\": 10,\\u003cbr\\u003e    \\\"clip\\\": 7,\\u003cbr\\u003e    \\\"feature_fraction\\\": 0.8107763120834243,\\u003cbr\\u003e    \\\"learning_rate\\\": 0.007718741802530335,\\u003cbr\\u003e    \\\"min_child_samples\\\": 74,\\u003cbr\\u003e    \\\"num_leaves\\\": 47\\u003cbr\\u003e  }\\u003cbr\\u003e}\",\"{\\u003cbr\\u003e  \\\"number\\\": 366,\\u003cbr\\u003e  \\\"values\\\": [\\u003cbr\\u003e    0.24030237461779613,\\u003cbr\\u003e    0.014216568834255927\\u003cbr\\u003e  ],\\u003cbr\\u003e  \\\"params\\\": {\\u003cbr\\u003e    \\\"bagging_fraction\\\": 0.6973306497870516,\\u003cbr\\u003e    \\\"bagging_freq\\\": 8,\\u003cbr\\u003e    \\\"clip\\\": 6,\\u003cbr\\u003e    \\\"feature_fraction\\\": 0.6810751593056465,\\u003cbr\\u003e    \\\"learning_rate\\\": 0.00349685949342087,\\u003cbr\\u003e    \\\"min_child_samples\\\": 23,\\u003cbr\\u003e    \\\"num_leaves\\\": 54\\u003cbr\\u003e  }\\u003cbr\\u003e}\",\"{\\u003cbr\\u003e  \\\"number\\\": 367,\\u003cbr\\u003e  \\\"values\\\": [\\u003cbr\\u003e    0.23705974405231586,\\u003cbr\\u003e    0.015947485734352562\\u003cbr\\u003e  ],\\u003cbr\\u003e  \\\"params\\\": {\\u003cbr\\u003e    \\\"bagging_fraction\\\": 0.8712315518685763,\\u003cbr\\u003e    \\\"bagging_freq\\\": 6,\\u003cbr\\u003e    \\\"clip\\\": 9,\\u003cbr\\u003e    \\\"feature_fraction\\\": 0.7492333717314353,\\u003cbr\\u003e    \\\"learning_rate\\\": 0.0042059244827641565,\\u003cbr\\u003e    \\\"min_child_samples\\\": 7,\\u003cbr\\u003e    \\\"num_leaves\\\": 66\\u003cbr\\u003e  }\\u003cbr\\u003e}\",\"{\\u003cbr\\u003e  \\\"number\\\": 368,\\u003cbr\\u003e  \\\"values\\\": [\\u003cbr\\u003e    0.221787480623865,\\u003cbr\\u003e    0.004011013701615385\\u003cbr\\u003e  ],\\u003cbr\\u003e  \\\"params\\\": {\\u003cbr\\u003e    \\\"bagging_fraction\\\": 0.6357559302435015,\\u003cbr\\u003e    \\\"bagging_freq\\\": 9,\\u003cbr\\u003e    \\\"clip\\\": 7,\\u003cbr\\u003e    \\\"feature_fraction\\\": 0.6967408637415603,\\u003cbr\\u003e    \\\"learning_rate\\\": 0.001033656216035787,\\u003cbr\\u003e    \\\"min_child_samples\\\": 70,\\u003cbr\\u003e    \\\"num_leaves\\\": 21\\u003cbr\\u003e  }\\u003cbr\\u003e}\",\"{\\u003cbr\\u003e  \\\"number\\\": 370,\\u003cbr\\u003e  \\\"values\\\": [\\u003cbr\\u003e    0.2499986941770289,\\u003cbr\\u003e    0.036782333764220465\\u003cbr\\u003e  ],\\u003cbr\\u003e  \\\"params\\\": {\\u003cbr\\u003e    \\\"bagging_fraction\\\": 0.6937593534769172,\\u003cbr\\u003e    \\\"bagging_freq\\\": 6,\\u003cbr\\u003e    \\\"clip\\\": 6,\\u003cbr\\u003e    \\\"feature_fraction\\\": 0.7082692496389729,\\u003cbr\\u003e    \\\"learning_rate\\\": 0.01817541088344678,\\u003cbr\\u003e    \\\"min_child_samples\\\": 18,\\u003cbr\\u003e    \\\"num_leaves\\\": 46\\u003cbr\\u003e  }\\u003cbr\\u003e}\",\"{\\u003cbr\\u003e  \\\"number\\\": 371,\\u003cbr\\u003e  \\\"values\\\": [\\u003cbr\\u003e    0.24846703234574855,\\u003cbr\\u003e    0.04638750496336086\\u003cbr\\u003e  ],\\u003cbr\\u003e  \\\"params\\\": {\\u003cbr\\u003e    \\\"bagging_fraction\\\": 0.8343985166154808,\\u003cbr\\u003e    \\\"bagging_freq\\\": 6,\\u003cbr\\u003e    \\\"clip\\\": 4,\\u003cbr\\u003e    \\\"feature_fraction\\\": 0.8911839370164016,\\u003cbr\\u003e    \\\"learning_rate\\\": 0.08311085245322619,\\u003cbr\\u003e    \\\"min_child_samples\\\": 95,\\u003cbr\\u003e    \\\"num_leaves\\\": 64\\u003cbr\\u003e  }\\u003cbr\\u003e}\",\"{\\u003cbr\\u003e  \\\"number\\\": 372,\\u003cbr\\u003e  \\\"values\\\": [\\u003cbr\\u003e    0.2500255437562421,\\u003cbr\\u003e    0.029773599846217635\\u003cbr\\u003e  ],\\u003cbr\\u003e  \\\"params\\\": {\\u003cbr\\u003e    \\\"bagging_fraction\\\": 0.8531019835500566,\\u003cbr\\u003e    \\\"bagging_freq\\\": 5,\\u003cbr\\u003e    \\\"clip\\\": 10,\\u003cbr\\u003e    \\\"feature_fraction\\\": 0.7359269465908422,\\u003cbr\\u003e    \\\"learning_rate\\\": 0.009964802565242467,\\u003cbr\\u003e    \\\"min_child_samples\\\": 52,\\u003cbr\\u003e    \\\"num_leaves\\\": 59\\u003cbr\\u003e  }\\u003cbr\\u003e}\",\"{\\u003cbr\\u003e  \\\"number\\\": 373,\\u003cbr\\u003e  \\\"values\\\": [\\u003cbr\\u003e    0.25800731464880544,\\u003cbr\\u003e    0.031682619122386124\\u003cbr\\u003e  ],\\u003cbr\\u003e  \\\"params\\\": {\\u003cbr\\u003e    \\\"bagging_fraction\\\": 0.6745809176888554,\\u003cbr\\u003e    \\\"bagging_freq\\\": 8,\\u003cbr\\u003e    \\\"clip\\\": 4,\\u003cbr\\u003e    \\\"feature_fraction\\\": 0.6049057465048054,\\u003cbr\\u003e    \\\"learning_rate\\\": 0.011049598584971352,\\u003cbr\\u003e    \\\"min_child_samples\\\": 98,\\u003cbr\\u003e    \\\"num_leaves\\\": 68\\u003cbr\\u003e  }\\u003cbr\\u003e}\",\"{\\u003cbr\\u003e  \\\"number\\\": 374,\\u003cbr\\u003e  \\\"values\\\": [\\u003cbr\\u003e    0.2482015999199331,\\u003cbr\\u003e    0.04131015394920512\\u003cbr\\u003e  ],\\u003cbr\\u003e  \\\"params\\\": {\\u003cbr\\u003e    \\\"bagging_fraction\\\": 0.8638715897445095,\\u003cbr\\u003e    \\\"bagging_freq\\\": 5,\\u003cbr\\u003e    \\\"clip\\\": 9,\\u003cbr\\u003e    \\\"feature_fraction\\\": 0.8240731552032959,\\u003cbr\\u003e    \\\"learning_rate\\\": 0.06462230862820575,\\u003cbr\\u003e    \\\"min_child_samples\\\": 61,\\u003cbr\\u003e    \\\"num_leaves\\\": 46\\u003cbr\\u003e  }\\u003cbr\\u003e}\",\"{\\u003cbr\\u003e  \\\"number\\\": 376,\\u003cbr\\u003e  \\\"values\\\": [\\u003cbr\\u003e    0.24158224506013837,\\u003cbr\\u003e    0.008528209284018429\\u003cbr\\u003e  ],\\u003cbr\\u003e  \\\"params\\\": {\\u003cbr\\u003e    \\\"bagging_fraction\\\": 0.7133692555155452,\\u003cbr\\u003e    \\\"bagging_freq\\\": 5,\\u003cbr\\u003e    \\\"clip\\\": 6,\\u003cbr\\u003e    \\\"feature_fraction\\\": 0.7423973109667831,\\u003cbr\\u003e    \\\"learning_rate\\\": 0.0018150925809782398,\\u003cbr\\u003e    \\\"min_child_samples\\\": 69,\\u003cbr\\u003e    \\\"num_leaves\\\": 77\\u003cbr\\u003e  }\\u003cbr\\u003e}\",\"{\\u003cbr\\u003e  \\\"number\\\": 378,\\u003cbr\\u003e  \\\"values\\\": [\\u003cbr\\u003e    0.2319825863651647,\\u003cbr\\u003e    0.016159417521755315\\u003cbr\\u003e  ],\\u003cbr\\u003e  \\\"params\\\": {\\u003cbr\\u003e    \\\"bagging_fraction\\\": 0.7521436195896364,\\u003cbr\\u003e    \\\"bagging_freq\\\": 6,\\u003cbr\\u003e    \\\"clip\\\": 7,\\u003cbr\\u003e    \\\"feature_fraction\\\": 0.8229836565151041,\\u003cbr\\u003e    \\\"learning_rate\\\": 0.004830789297668857,\\u003cbr\\u003e    \\\"min_child_samples\\\": 19,\\u003cbr\\u003e    \\\"num_leaves\\\": 29\\u003cbr\\u003e  }\\u003cbr\\u003e}\",\"{\\u003cbr\\u003e  \\\"number\\\": 380,\\u003cbr\\u003e  \\\"values\\\": [\\u003cbr\\u003e    0.24917321214566215,\\u003cbr\\u003e    0.04788452151022282\\u003cbr\\u003e  ],\\u003cbr\\u003e  \\\"params\\\": {\\u003cbr\\u003e    \\\"bagging_fraction\\\": 0.6195007318487765,\\u003cbr\\u003e    \\\"bagging_freq\\\": 5,\\u003cbr\\u003e    \\\"clip\\\": 4,\\u003cbr\\u003e    \\\"feature_fraction\\\": 0.8973974396841083,\\u003cbr\\u003e    \\\"learning_rate\\\": 0.07507562332780944,\\u003cbr\\u003e    \\\"min_child_samples\\\": 100,\\u003cbr\\u003e    \\\"num_leaves\\\": 70\\u003cbr\\u003e  }\\u003cbr\\u003e}\",\"{\\u003cbr\\u003e  \\\"number\\\": 381,\\u003cbr\\u003e  \\\"values\\\": [\\u003cbr\\u003e    0.22321993678480664,\\u003cbr\\u003e    0.005388976211027741\\u003cbr\\u003e  ],\\u003cbr\\u003e  \\\"params\\\": {\\u003cbr\\u003e    \\\"bagging_fraction\\\": 0.6251545492310306,\\u003cbr\\u003e    \\\"bagging_freq\\\": 6,\\u003cbr\\u003e    \\\"clip\\\": 3,\\u003cbr\\u003e    \\\"feature_fraction\\\": 0.8379259048162366,\\u003cbr\\u003e    \\\"learning_rate\\\": 0.0014154521958767007,\\u003cbr\\u003e    \\\"min_child_samples\\\": 66,\\u003cbr\\u003e    \\\"num_leaves\\\": 29\\u003cbr\\u003e  }\\u003cbr\\u003e}\",\"{\\u003cbr\\u003e  \\\"number\\\": 382,\\u003cbr\\u003e  \\\"values\\\": [\\u003cbr\\u003e    0.2485705028405702,\\u003cbr\\u003e    0.03553644547496515\\u003cbr\\u003e  ],\\u003cbr\\u003e  \\\"params\\\": {\\u003cbr\\u003e    \\\"bagging_fraction\\\": 0.6937593534769172,\\u003cbr\\u003e    \\\"bagging_freq\\\": 6,\\u003cbr\\u003e    \\\"clip\\\": 10,\\u003cbr\\u003e    \\\"feature_fraction\\\": 0.7490165543515241,\\u003cbr\\u003e    \\\"learning_rate\\\": 0.01817541088344678,\\u003cbr\\u003e    \\\"min_child_samples\\\": 18,\\u003cbr\\u003e    \\\"num_leaves\\\": 43\\u003cbr\\u003e  }\\u003cbr\\u003e}\",\"{\\u003cbr\\u003e  \\\"number\\\": 383,\\u003cbr\\u003e  \\\"values\\\": [\\u003cbr\\u003e    0.251044275033073,\\u003cbr\\u003e    0.02188881704831369\\u003cbr\\u003e  ],\\u003cbr\\u003e  \\\"params\\\": {\\u003cbr\\u003e    \\\"bagging_fraction\\\": 0.7781281710676112,\\u003cbr\\u003e    \\\"bagging_freq\\\": 8,\\u003cbr\\u003e    \\\"clip\\\": 4,\\u003cbr\\u003e    \\\"feature_fraction\\\": 0.6515611197116196,\\u003cbr\\u003e    \\\"learning_rate\\\": 0.006284814465946395,\\u003cbr\\u003e    \\\"min_child_samples\\\": 94,\\u003cbr\\u003e    \\\"num_leaves\\\": 66\\u003cbr\\u003e  }\\u003cbr\\u003e}\",\"{\\u003cbr\\u003e  \\\"number\\\": 384,\\u003cbr\\u003e  \\\"values\\\": [\\u003cbr\\u003e    0.25319951348193187,\\u003cbr\\u003e    0.0450365177312817\\u003cbr\\u003e  ],\\u003cbr\\u003e  \\\"params\\\": {\\u003cbr\\u003e    \\\"bagging_fraction\\\": 0.6616126336371765,\\u003cbr\\u003e    \\\"bagging_freq\\\": 8,\\u003cbr\\u003e    \\\"clip\\\": 6,\\u003cbr\\u003e    \\\"feature_fraction\\\": 0.640142010361404,\\u003cbr\\u003e    \\\"learning_rate\\\": 0.030324698393459533,\\u003cbr\\u003e    \\\"min_child_samples\\\": 55,\\u003cbr\\u003e    \\\"num_leaves\\\": 58\\u003cbr\\u003e  }\\u003cbr\\u003e}\",\"{\\u003cbr\\u003e  \\\"number\\\": 387,\\u003cbr\\u003e  \\\"values\\\": [\\u003cbr\\u003e    0.22919605067258253,\\u003cbr\\u003e    0.00923401575437588\\u003cbr\\u003e  ],\\u003cbr\\u003e  \\\"params\\\": {\\u003cbr\\u003e    \\\"bagging_fraction\\\": 0.7482187375087188,\\u003cbr\\u003e    \\\"bagging_freq\\\": 8,\\u003cbr\\u003e    \\\"clip\\\": 10,\\u003cbr\\u003e    \\\"feature_fraction\\\": 0.794340697511231,\\u003cbr\\u003e    \\\"learning_rate\\\": 0.002242656969507945,\\u003cbr\\u003e    \\\"min_child_samples\\\": 47,\\u003cbr\\u003e    \\\"num_leaves\\\": 38\\u003cbr\\u003e  }\\u003cbr\\u003e}\",\"{\\u003cbr\\u003e  \\\"number\\\": 388,\\u003cbr\\u003e  \\\"values\\\": [\\u003cbr\\u003e    0.2431021467094154,\\u003cbr\\u003e    0.02324811441028285\\u003cbr\\u003e  ],\\u003cbr\\u003e  \\\"params\\\": {\\u003cbr\\u003e    \\\"bagging_fraction\\\": 0.8638715897445095,\\u003cbr\\u003e    \\\"bagging_freq\\\": 8,\\u003cbr\\u003e    \\\"clip\\\": 9,\\u003cbr\\u003e    \\\"feature_fraction\\\": 0.8109519209177599,\\u003cbr\\u003e    \\\"learning_rate\\\": 0.006895849274913606,\\u003cbr\\u003e    \\\"min_child_samples\\\": 36,\\u003cbr\\u003e    \\\"num_leaves\\\": 56\\u003cbr\\u003e  }\\u003cbr\\u003e}\",\"{\\u003cbr\\u003e  \\\"number\\\": 389,\\u003cbr\\u003e  \\\"values\\\": [\\u003cbr\\u003e    0.2526981114711774,\\u003cbr\\u003e    0.030962472465403845\\u003cbr\\u003e  ],\\u003cbr\\u003e  \\\"params\\\": {\\u003cbr\\u003e    \\\"bagging_fraction\\\": 0.8005869158871185,\\u003cbr\\u003e    \\\"bagging_freq\\\": 6,\\u003cbr\\u003e    \\\"clip\\\": 5,\\u003cbr\\u003e    \\\"feature_fraction\\\": 0.7309795708294655,\\u003cbr\\u003e    \\\"learning_rate\\\": 0.010709415747100402,\\u003cbr\\u003e    \\\"min_child_samples\\\": 94,\\u003cbr\\u003e    \\\"num_leaves\\\": 58\\u003cbr\\u003e  }\\u003cbr\\u003e}\",\"{\\u003cbr\\u003e  \\\"number\\\": 390,\\u003cbr\\u003e  \\\"values\\\": [\\u003cbr\\u003e    0.24958022646340308,\\u003cbr\\u003e    0.04004535930209596\\u003cbr\\u003e  ],\\u003cbr\\u003e  \\\"params\\\": {\\u003cbr\\u003e    \\\"bagging_fraction\\\": 0.6477492578354561,\\u003cbr\\u003e    \\\"bagging_freq\\\": 9,\\u003cbr\\u003e    \\\"clip\\\": 6,\\u003cbr\\u003e    \\\"feature_fraction\\\": 0.6810751593056465,\\u003cbr\\u003e    \\\"learning_rate\\\": 0.036518750830734345,\\u003cbr\\u003e    \\\"min_child_samples\\\": 23,\\u003cbr\\u003e    \\\"num_leaves\\\": 26\\u003cbr\\u003e  }\\u003cbr\\u003e}\",\"{\\u003cbr\\u003e  \\\"number\\\": 391,\\u003cbr\\u003e  \\\"values\\\": [\\u003cbr\\u003e    0.24769257646121207,\\u003cbr\\u003e    0.027383712918123027\\u003cbr\\u003e  ],\\u003cbr\\u003e  \\\"params\\\": {\\u003cbr\\u003e    \\\"bagging_fraction\\\": 0.6653487975903492,\\u003cbr\\u003e    \\\"bagging_freq\\\": 6,\\u003cbr\\u003e    \\\"clip\\\": 7,\\u003cbr\\u003e    \\\"feature_fraction\\\": 0.7574811267089424,\\u003cbr\\u003e    \\\"learning_rate\\\": 0.008866934766410607,\\u003cbr\\u003e    \\\"min_child_samples\\\": 51,\\u003cbr\\u003e    \\\"num_leaves\\\": 47\\u003cbr\\u003e  }\\u003cbr\\u003e}\",\"{\\u003cbr\\u003e  \\\"number\\\": 392,\\u003cbr\\u003e  \\\"values\\\": [\\u003cbr\\u003e    0.2387261328497164,\\u003cbr\\u003e    0.015806138660760527\\u003cbr\\u003e  ],\\u003cbr\\u003e  \\\"params\\\": {\\u003cbr\\u003e    \\\"bagging_fraction\\\": 0.7475390463558648,\\u003cbr\\u003e    \\\"bagging_freq\\\": 10,\\u003cbr\\u003e    \\\"clip\\\": 9,\\u003cbr\\u003e    \\\"feature_fraction\\\": 0.7003871735375031,\\u003cbr\\u003e    \\\"learning_rate\\\": 0.004365919180702549,\\u003cbr\\u003e    \\\"min_child_samples\\\": 61,\\u003cbr\\u003e    \\\"num_leaves\\\": 36\\u003cbr\\u003e  }\\u003cbr\\u003e}\",\"{\\u003cbr\\u003e  \\\"number\\\": 393,\\u003cbr\\u003e  \\\"values\\\": [\\u003cbr\\u003e    0.2478653307921424,\\u003cbr\\u003e    0.04463415188467634\\u003cbr\\u003e  ],\\u003cbr\\u003e  \\\"params\\\": {\\u003cbr\\u003e    \\\"bagging_fraction\\\": 0.6616126336371765,\\u003cbr\\u003e    \\\"bagging_freq\\\": 10,\\u003cbr\\u003e    \\\"clip\\\": 7,\\u003cbr\\u003e    \\\"feature_fraction\\\": 0.6132944935072089,\\u003cbr\\u003e    \\\"learning_rate\\\": 0.07028989091029153,\\u003cbr\\u003e    \\\"min_child_samples\\\": 55,\\u003cbr\\u003e    \\\"num_leaves\\\": 37\\u003cbr\\u003e  }\\u003cbr\\u003e}\",\"{\\u003cbr\\u003e  \\\"number\\\": 394,\\u003cbr\\u003e  \\\"values\\\": [\\u003cbr\\u003e    0.24087984099522547,\\u003cbr\\u003e    0.007934519717192279\\u003cbr\\u003e  ],\\u003cbr\\u003e  \\\"params\\\": {\\u003cbr\\u003e    \\\"bagging_fraction\\\": 0.6886976288693628,\\u003cbr\\u003e    \\\"bagging_freq\\\": 5,\\u003cbr\\u003e    \\\"clip\\\": 4,\\u003cbr\\u003e    \\\"feature_fraction\\\": 0.7082692496389729,\\u003cbr\\u003e    \\\"learning_rate\\\": 0.001850362667623695,\\u003cbr\\u003e    \\\"min_child_samples\\\": 97,\\u003cbr\\u003e    \\\"num_leaves\\\": 58\\u003cbr\\u003e  }\\u003cbr\\u003e}\",\"{\\u003cbr\\u003e  \\\"number\\\": 395,\\u003cbr\\u003e  \\\"values\\\": [\\u003cbr\\u003e    0.24751186894485644,\\u003cbr\\u003e    0.042265310606146245\\u003cbr\\u003e  ],\\u003cbr\\u003e  \\\"params\\\": {\\u003cbr\\u003e    \\\"bagging_fraction\\\": 0.7475390463558648,\\u003cbr\\u003e    \\\"bagging_freq\\\": 5,\\u003cbr\\u003e    \\\"clip\\\": 5,\\u003cbr\\u003e    \\\"feature_fraction\\\": 0.819582027437001,\\u003cbr\\u003e    \\\"learning_rate\\\": 0.03967625748877625,\\u003cbr\\u003e    \\\"min_child_samples\\\": 42,\\u003cbr\\u003e    \\\"num_leaves\\\": 42\\u003cbr\\u003e  }\\u003cbr\\u003e}\",\"{\\u003cbr\\u003e  \\\"number\\\": 396,\\u003cbr\\u003e  \\\"values\\\": [\\u003cbr\\u003e    0.2488438654090531,\\u003cbr\\u003e    0.03862800234839181\\u003cbr\\u003e  ],\\u003cbr\\u003e  \\\"params\\\": {\\u003cbr\\u003e    \\\"bagging_fraction\\\": 0.785080492348096,\\u003cbr\\u003e    \\\"bagging_freq\\\": 6,\\u003cbr\\u003e    \\\"clip\\\": 10,\\u003cbr\\u003e    \\\"feature_fraction\\\": 0.7764501635919903,\\u003cbr\\u003e    \\\"learning_rate\\\": 0.040842014896504464,\\u003cbr\\u003e    \\\"min_child_samples\\\": 21,\\u003cbr\\u003e    \\\"num_leaves\\\": 39\\u003cbr\\u003e  }\\u003cbr\\u003e}\",\"{\\u003cbr\\u003e  \\\"number\\\": 397,\\u003cbr\\u003e  \\\"values\\\": [\\u003cbr\\u003e    0.25377617851087136,\\u003cbr\\u003e    0.036432085135043035\\u003cbr\\u003e  ],\\u003cbr\\u003e  \\\"params\\\": {\\u003cbr\\u003e    \\\"bagging_fraction\\\": 0.6937593534769172,\\u003cbr\\u003e    \\\"bagging_freq\\\": 8,\\u003cbr\\u003e    \\\"clip\\\": 4,\\u003cbr\\u003e    \\\"feature_fraction\\\": 0.8256076081424821,\\u003cbr\\u003e    \\\"learning_rate\\\": 0.01817541088344678,\\u003cbr\\u003e    \\\"min_child_samples\\\": 67,\\u003cbr\\u003e    \\\"num_leaves\\\": 30\\u003cbr\\u003e  }\\u003cbr\\u003e}\",\"{\\u003cbr\\u003e  \\\"number\\\": 398,\\u003cbr\\u003e  \\\"values\\\": [\\u003cbr\\u003e    0.25544313614189534,\\u003cbr\\u003e    0.0344131863856344\\u003cbr\\u003e  ],\\u003cbr\\u003e  \\\"params\\\": {\\u003cbr\\u003e    \\\"bagging_fraction\\\": 0.756320928743761,\\u003cbr\\u003e    \\\"bagging_freq\\\": 10,\\u003cbr\\u003e    \\\"clip\\\": 4,\\u003cbr\\u003e    \\\"feature_fraction\\\": 0.6670681438859979,\\u003cbr\\u003e    \\\"learning_rate\\\": 0.014180276984204241,\\u003cbr\\u003e    \\\"min_child_samples\\\": 96,\\u003cbr\\u003e    \\\"num_leaves\\\": 45\\u003cbr\\u003e  }\\u003cbr\\u003e}\",\"{\\u003cbr\\u003e  \\\"number\\\": 399,\\u003cbr\\u003e  \\\"values\\\": [\\u003cbr\\u003e    0.2290012607817694,\\u003cbr\\u003e    0.009822613551259574\\u003cbr\\u003e  ],\\u003cbr\\u003e  \\\"params\\\": {\\u003cbr\\u003e    \\\"bagging_fraction\\\": 0.67382630864636,\\u003cbr\\u003e    \\\"bagging_freq\\\": 7,\\u003cbr\\u003e    \\\"clip\\\": 2,\\u003cbr\\u003e    \\\"feature_fraction\\\": 0.7052756001608474,\\u003cbr\\u003e    \\\"learning_rate\\\": 0.0032467567411562696,\\u003cbr\\u003e    \\\"min_child_samples\\\": 42,\\u003cbr\\u003e    \\\"num_leaves\\\": 21\\u003cbr\\u003e  }\\u003cbr\\u003e}\"],\"x\":[0.2452528591251842,0.2451419384427592,0.24387470377526363,0.24723149514458675,0.2573083384736167,0.23136984673809527,0.2505484223727061,0.2412716863405783,0.247834610437158,0.23780370821370167,0.2373000112693709,0.233292104591906,0.22167532240924231,0.25207267585420734,0.2510487798263732,0.25059371687763465,0.2551482749215062,0.2518727944350504,0.2541687961438509,0.23562234234360457,0.2331076114063391,0.25223043531156414,0.25515259339252566,0.22972080038296744,0.22180971047120115,0.2563816098760907,0.2536890198187514,0.2477486163429812,0.2400396363031501,0.252158016680459,0.2524874454749163,0.2593911527307614,0.25745863836769867,0.2550914729790589,0.23485961764825977,0.2519274028639646,0.24765346197357896,0.23436450525854619,0.2534580857965914,0.23650534979547855,0.231527403255664,0.22412172896421062,0.2321364482504366,0.2561024604336293,0.25569177389832687,0.2387328314485075,0.24693086618705454,0.24075653982835699,0.24466658648562822,0.23853025979036646,0.24763357064517708,0.2339973503798085,0.2492085972736926,0.25066231219644874,0.25130098864651734,0.2561560355784839,0.25016285857702897,0.2554292974248284,0.24332328094756836,0.25897399213247774,0.25330115548542037,0.2515710371057221,0.2458325296690641,0.24976245741965794,0.2544809979913562,0.2570648391977908,0.2549514275985368,0.2473845761882104,0.2526240251138549,0.25587591479500116,0.25610722536722275,0.25476749082570915,0.2546387645636954,0.2593933942975043,0.25799312207928643,0.2545116424988928,0.24815267196513136,0.23103870444296876,0.25331229054121607,0.25056448481141624,0.24700147204702655,0.24790154545618598,0.25415197399725314,0.2504413619099714,0.2391968897830871,0.25430478180553473,0.25315074296045964,0.24444104307763004,0.2528204269663969,0.24103480352696777,0.2600814901831644,0.22933250706162475,0.2591263374270524,0.2562335133837132,0.2591098214074764,0.2483412474513797,0.2512081628525162,0.25107976163608314,0.25221035131684794,0.2502747048703078,0.2500526850016637,0.2540945274590559,0.2574293344878647,0.22883082018497847,0.233698038844994,0.24392385175210587,0.2490111268674546,0.2516408655825914,0.24778289341756182,0.24783552853875895,0.2474147305712326,0.24754147674975016,0.2269330670719425,0.2553917445338677,0.250376497522499,0.24205378305605288,0.2592519219599979,0.24211174219238404,0.2593623957794654,0.25168172820220747,0.24628759324908098,0.23552595944008958,0.25781709731343283,0.24203502026551624,0.2523537958451631,0.2479733499697439,0.25030258871049704,0.25369517159731303,0.24888113693783845,0.25179151177143805,0.2420863794535825,0.2465972152772102,0.24712685311760024,0.25109415245350897,0.2524036640577606,0.2511848285565273,0.25263543884186096,0.251871890041453,0.24713952205052692,0.2560615581598163,0.24674661412173732,0.2504015560403546,0.24899950103100188,0.25200137038465903,0.25767425703400015,0.24490724115871634,0.2575211671036269,0.24715557528854795,0.24363065455276744,0.23399286443515283,0.2593675417714899,0.23644842604606486,0.2596784759518299,0.2562682154119855,0.24162607914038448,0.2508208509548629,0.2510254009308871,0.25270131577993443,0.23103870444296876,0.2558248162448636,0.24056882878375407,0.24685878069813255,0.25079723782011093,0.248202020162455,0.25106637736415055,0.2425331222329725,0.2512715515702912,0.24283772348025562,0.24608479190720878,0.25086671442378355,0.25066689192969893,0.2320666557535418,0.24517339883044004,0.24030237461779613,0.23705974405231586,0.221787480623865,0.2499986941770289,0.24846703234574855,0.2500255437562421,0.25800731464880544,0.2482015999199331,0.24158224506013837,0.2319825863651647,0.24917321214566215,0.22321993678480664,0.2485705028405702,0.251044275033073,0.25319951348193187,0.22919605067258253,0.2431021467094154,0.2526981114711774,0.24958022646340308,0.24769257646121207,0.2387261328497164,0.2478653307921424,0.24087984099522547,0.24751186894485644,0.2488438654090531,0.25377617851087136,0.25544313614189534,0.2290012607817694],\"y\":[0.011786820412431731,0.025890504942053028,0.02441355026320524,0.022985307047246106,0.028465176736178766,0.007404493221953357,0.04067109997528251,0.016957804268375676,0.03596734249093403,0.01458076526100871,0.022582566657880387,0.011929090649718699,0.0090547449987326,0.04634182960220634,0.042855835487475624,0.045914211205229094,0.04653185223766709,0.04567903938972606,0.046080009629855145,0.0124525593743543,0.004326075881704861,0.0381353610709515,0.037454396167230675,0.010093900377606713,0.004010765663428395,0.0467068672467712,0.04214383183808268,0.04547988004298553,0.024395134398532248,0.04527253395818254,0.04194529287913795,0.04095048283766456,0.042236069375491736,0.028988906380625457,0.011918292334737512,0.045869515991385335,0.04771183879653773,0.0061056319668962855,0.046865394925502235,0.011091088626971835,0.012343490840171167,0.006276954953076341,0.006811424279535183,0.04601853512406273,0.046468181368955475,0.006792204786153944,0.04848970669885644,0.01877714358480642,0.022888986770438602,0.016194120183242733,0.03756281412620188,0.008131242738732003,0.047548550410349555,0.04833165667390538,0.04438334909609698,0.03409368959764214,0.04181127245017868,0.046744371887857405,0.023389831587818044,0.04434091412283159,0.043945279766755996,0.046349739745160656,0.005825019112641994,0.045481535767165626,0.045644328937709755,0.04661763817651943,0.03426878121591803,0.043494700488410754,0.046428095142063475,0.04724781818784729,0.027179839454921195,0.047309056387881854,0.046733357642835816,0.04261669777992305,0.04126507740953256,0.04292888163537001,0.04593632289520233,0.008556667582814037,0.03467448675142082,0.04254951455817335,0.028334536684486378,0.03576369639421151,0.04482068966304309,0.046373468608542634,0.019345545606497483,0.04644232692478911,0.04690178582537097,0.04379306804858518,0.0475844319376022,0.014129834435634203,0.04238174784050508,0.011921878712729317,0.04669597930381986,0.027914676634783753,0.042524811718430144,0.04959573395023942,0.04915040116731484,0.04963997541518794,0.03874577723626349,0.0475140548757601,0.04855324514531423,0.04847707555804093,0.04547040571677807,0.006464382844938332,0.004569590570806192,0.04760387357329854,0.048799016144351004,0.027701792981393303,0.037525264812802384,0.04685902796713204,0.01186183386733819,0.010990806679076703,0.008037025596649428,0.02898229388358764,0.048490747693011094,0.012273569978014764,0.0389452395488753,0.028354585522205156,0.037846521056441706,0.02283701314468045,0.015078245076110663,0.008340978026727952,0.03535004278561982,0.015948118610018325,0.043813900686286544,0.047193466294706665,0.04920551888400859,0.025094128812142347,0.049656706919650184,0.044166605859024766,0.015077646449541793,0.01834340940003165,0.03678006114669241,0.04866844655519287,0.020613907183640867,0.048760456508980754,0.047925010566569504,0.04172304392700077,0.019567365005835446,0.03333195904793962,0.005261224891415117,0.02694788106997481,0.047391751550360794,0.04458007478999182,0.034978194441042776,0.04428148411290567,0.03568901599137719,0.006866132600051755,0.00404801942659494,0.006966257442262425,0.04324448923655311,0.007204499742251791,0.0440513877300881,0.043194195959872395,0.008069760087978661,0.023789428839026683,0.02240049712667913,0.04750749342263727,0.008556667582814037,0.042269571654035776,0.011903883154730233,0.04744272050680809,0.043833169565739016,0.04090335345020091,0.04317312848498178,0.0121314063006972,0.048459542422616186,0.026125164326955996,0.04316551936344881,0.029604555717674286,0.04506649984406985,0.011919631442174117,0.025108494747394183,0.014216568834255927,0.015947485734352562,0.004011013701615385,0.036782333764220465,0.04638750496336086,0.029773599846217635,0.031682619122386124,0.04131015394920512,0.008528209284018429,0.016159417521755315,0.04788452151022282,0.005388976211027741,0.03553644547496515,0.02188881704831369,0.0450365177312817,0.00923401575437588,0.02324811441028285,0.030962472465403845,0.04004535930209596,0.027383712918123027,0.015806138660760527,0.04463415188467634,0.007934519717192279,0.042265310606146245,0.03862800234839181,0.036432085135043035,0.0344131863856344,0.009822613551259574],\"type\":\"scatter\"},{\"hovertemplate\":\"%{text}\\u003cextra\\u003eBest Trial\\u003c\\u002fextra\\u003e\",\"marker\":{\"color\":[176,214,218,222,224,236,241,308],\"colorbar\":{\"title\":{\"text\":\"Best Trial\"},\"x\":1.1,\"xpad\":40},\"colorscale\":[[0.0,\"rgb(255,245,240)\"],[0.125,\"rgb(254,224,210)\"],[0.25,\"rgb(252,187,161)\"],[0.375,\"rgb(252,146,114)\"],[0.5,\"rgb(251,106,74)\"],[0.625,\"rgb(239,59,44)\"],[0.75,\"rgb(203,24,29)\"],[0.875,\"rgb(165,15,21)\"],[1.0,\"rgb(103,0,13)\"]],\"line\":{\"color\":\"Grey\",\"width\":0.5}},\"mode\":\"markers\",\"showlegend\":false,\"text\":[\"{\\u003cbr\\u003e  \\\"number\\\": 176,\\u003cbr\\u003e  \\\"values\\\": [\\u003cbr\\u003e    0.25789136152567776,\\u003cbr\\u003e    0.0480192268693852\\u003cbr\\u003e  ],\\u003cbr\\u003e  \\\"params\\\": {\\u003cbr\\u003e    \\\"bagging_fraction\\\": 0.6050307652534531,\\u003cbr\\u003e    \\\"bagging_freq\\\": 5,\\u003cbr\\u003e    \\\"clip\\\": 3,\\u003cbr\\u003e    \\\"feature_fraction\\\": 0.8062881993526937,\\u003cbr\\u003e    \\\"learning_rate\\\": 0.035555468415144176,\\u003cbr\\u003e    \\\"min_child_samples\\\": 86,\\u003cbr\\u003e    \\\"num_leaves\\\": 54\\u003cbr\\u003e  }\\u003cbr\\u003e}\",\"{\\u003cbr\\u003e  \\\"number\\\": 214,\\u003cbr\\u003e  \\\"values\\\": [\\u003cbr\\u003e    0.2594359974529594,\\u003cbr\\u003e    0.04679876691579443\\u003cbr\\u003e  ],\\u003cbr\\u003e  \\\"params\\\": {\\u003cbr\\u003e    \\\"bagging_fraction\\\": 0.6412926437994022,\\u003cbr\\u003e    \\\"bagging_freq\\\": 5,\\u003cbr\\u003e    \\\"clip\\\": 4,\\u003cbr\\u003e    \\\"feature_fraction\\\": 0.6097731551125598,\\u003cbr\\u003e    \\\"learning_rate\\\": 0.027955693552201056,\\u003cbr\\u003e    \\\"min_child_samples\\\": 98,\\u003cbr\\u003e    \\\"num_leaves\\\": 64\\u003cbr\\u003e  }\\u003cbr\\u003e}\",\"{\\u003cbr\\u003e  \\\"number\\\": 218,\\u003cbr\\u003e  \\\"values\\\": [\\u003cbr\\u003e    0.260653488493822,\\u003cbr\\u003e    0.042600529425669054\\u003cbr\\u003e  ],\\u003cbr\\u003e  \\\"params\\\": {\\u003cbr\\u003e    \\\"bagging_fraction\\\": 0.6401348071097775,\\u003cbr\\u003e    \\\"bagging_freq\\\": 5,\\u003cbr\\u003e    \\\"clip\\\": 4,\\u003cbr\\u003e    \\\"feature_fraction\\\": 0.611161408757341,\\u003cbr\\u003e    \\\"learning_rate\\\": 0.020290009178857323,\\u003cbr\\u003e    \\\"min_child_samples\\\": 98,\\u003cbr\\u003e    \\\"num_leaves\\\": 66\\u003cbr\\u003e  }\\u003cbr\\u003e}\",\"{\\u003cbr\\u003e  \\\"number\\\": 222,\\u003cbr\\u003e  \\\"values\\\": [\\u003cbr\\u003e    0.260145416643377,\\u003cbr\\u003e    0.04321803501432098\\u003cbr\\u003e  ],\\u003cbr\\u003e  \\\"params\\\": {\\u003cbr\\u003e    \\\"bagging_fraction\\\": 0.6289408741958625,\\u003cbr\\u003e    \\\"bagging_freq\\\": 5,\\u003cbr\\u003e    \\\"clip\\\": 4,\\u003cbr\\u003e    \\\"feature_fraction\\\": 0.608904101232972,\\u003cbr\\u003e    \\\"learning_rate\\\": 0.020818094063561603,\\u003cbr\\u003e    \\\"min_child_samples\\\": 98,\\u003cbr\\u003e    \\\"num_leaves\\\": 65\\u003cbr\\u003e  }\\u003cbr\\u003e}\",\"{\\u003cbr\\u003e  \\\"number\\\": 224,\\u003cbr\\u003e  \\\"values\\\": [\\u003cbr\\u003e    0.259713605965903,\\u003cbr\\u003e    0.04635742366422291\\u003cbr\\u003e  ],\\u003cbr\\u003e  \\\"params\\\": {\\u003cbr\\u003e    \\\"bagging_fraction\\\": 0.6419833666684416,\\u003cbr\\u003e    \\\"bagging_freq\\\": 5,\\u003cbr\\u003e    \\\"clip\\\": 4,\\u003cbr\\u003e    \\\"feature_fraction\\\": 0.6144331609551775,\\u003cbr\\u003e    \\\"learning_rate\\\": 0.02643220738132975,\\u003cbr\\u003e    \\\"min_child_samples\\\": 98,\\u003cbr\\u003e    \\\"num_leaves\\\": 66\\u003cbr\\u003e  }\\u003cbr\\u003e}\",\"{\\u003cbr\\u003e  \\\"number\\\": 236,\\u003cbr\\u003e  \\\"values\\\": [\\u003cbr\\u003e    0.2513352482355059,\\u003cbr\\u003e    0.05012747138629925\\u003cbr\\u003e  ],\\u003cbr\\u003e  \\\"params\\\": {\\u003cbr\\u003e    \\\"bagging_fraction\\\": 0.6430665038682722,\\u003cbr\\u003e    \\\"bagging_freq\\\": 7,\\u003cbr\\u003e    \\\"clip\\\": 4,\\u003cbr\\u003e    \\\"feature_fraction\\\": 0.6070836007928877,\\u003cbr\\u003e    \\\"learning_rate\\\": 0.06868692129372357,\\u003cbr\\u003e    \\\"min_child_samples\\\": 97,\\u003cbr\\u003e    \\\"num_leaves\\\": 67\\u003cbr\\u003e  }\\u003cbr\\u003e}\",\"{\\u003cbr\\u003e  \\\"number\\\": 241,\\u003cbr\\u003e  \\\"values\\\": [\\u003cbr\\u003e    0.2527131001748713,\\u003cbr\\u003e    0.04888091780422976\\u003cbr\\u003e  ],\\u003cbr\\u003e  \\\"params\\\": {\\u003cbr\\u003e    \\\"bagging_fraction\\\": 0.6456169490496069,\\u003cbr\\u003e    \\\"bagging_freq\\\": 7,\\u003cbr\\u003e    \\\"clip\\\": 5,\\u003cbr\\u003e    \\\"feature_fraction\\\": 0.6088535718405534,\\u003cbr\\u003e    \\\"learning_rate\\\": 0.06735177186623212,\\u003cbr\\u003e    \\\"min_child_samples\\\": 95,\\u003cbr\\u003e    \\\"num_leaves\\\": 74\\u003cbr\\u003e  }\\u003cbr\\u003e}\",\"{\\u003cbr\\u003e  \\\"number\\\": 308,\\u003cbr\\u003e  \\\"values\\\": [\\u003cbr\\u003e    0.25461632913008964,\\u003cbr\\u003e    0.0486152332616544\\u003cbr\\u003e  ],\\u003cbr\\u003e  \\\"params\\\": {\\u003cbr\\u003e    \\\"bagging_fraction\\\": 0.6392287216810726,\\u003cbr\\u003e    \\\"bagging_freq\\\": 7,\\u003cbr\\u003e    \\\"clip\\\": 4,\\u003cbr\\u003e    \\\"feature_fraction\\\": 0.650507877566288,\\u003cbr\\u003e    \\\"learning_rate\\\": 0.04063401709436199,\\u003cbr\\u003e    \\\"min_child_samples\\\": 93,\\u003cbr\\u003e    \\\"num_leaves\\\": 61\\u003cbr\\u003e  }\\u003cbr\\u003e}\"],\"x\":[0.25789136152567776,0.2594359974529594,0.260653488493822,0.260145416643377,0.259713605965903,0.2513352482355059,0.2527131001748713,0.25461632913008964],\"y\":[0.0480192268693852,0.04679876691579443,0.042600529425669054,0.04321803501432098,0.04635742366422291,0.05012747138629925,0.04888091780422976,0.0486152332616544],\"type\":\"scatter\"}],                        {\"title\":{\"text\":\"Pareto-front Plot\"},\"xaxis\":{\"title\":{\"text\":\"ic\"}},\"yaxis\":{\"title\":{\"text\":\"r2\"}},\"template\":{\"data\":{\"histogram2dcontour\":[{\"type\":\"histogram2dcontour\",\"colorbar\":{\"outlinewidth\":0,\"ticks\":\"\"},\"colorscale\":[[0.0,\"#0d0887\"],[0.1111111111111111,\"#46039f\"],[0.2222222222222222,\"#7201a8\"],[0.3333333333333333,\"#9c179e\"],[0.4444444444444444,\"#bd3786\"],[0.5555555555555556,\"#d8576b\"],[0.6666666666666666,\"#ed7953\"],[0.7777777777777778,\"#fb9f3a\"],[0.8888888888888888,\"#fdca26\"],[1.0,\"#f0f921\"]]}],\"choropleth\":[{\"type\":\"choropleth\",\"colorbar\":{\"outlinewidth\":0,\"ticks\":\"\"}}],\"histogram2d\":[{\"type\":\"histogram2d\",\"colorbar\":{\"outlinewidth\":0,\"ticks\":\"\"},\"colorscale\":[[0.0,\"#0d0887\"],[0.1111111111111111,\"#46039f\"],[0.2222222222222222,\"#7201a8\"],[0.3333333333333333,\"#9c179e\"],[0.4444444444444444,\"#bd3786\"],[0.5555555555555556,\"#d8576b\"],[0.6666666666666666,\"#ed7953\"],[0.7777777777777778,\"#fb9f3a\"],[0.8888888888888888,\"#fdca26\"],[1.0,\"#f0f921\"]]}],\"heatmap\":[{\"type\":\"heatmap\",\"colorbar\":{\"outlinewidth\":0,\"ticks\":\"\"},\"colorscale\":[[0.0,\"#0d0887\"],[0.1111111111111111,\"#46039f\"],[0.2222222222222222,\"#7201a8\"],[0.3333333333333333,\"#9c179e\"],[0.4444444444444444,\"#bd3786\"],[0.5555555555555556,\"#d8576b\"],[0.6666666666666666,\"#ed7953\"],[0.7777777777777778,\"#fb9f3a\"],[0.8888888888888888,\"#fdca26\"],[1.0,\"#f0f921\"]]}],\"heatmapgl\":[{\"type\":\"heatmapgl\",\"colorbar\":{\"outlinewidth\":0,\"ticks\":\"\"},\"colorscale\":[[0.0,\"#0d0887\"],[0.1111111111111111,\"#46039f\"],[0.2222222222222222,\"#7201a8\"],[0.3333333333333333,\"#9c179e\"],[0.4444444444444444,\"#bd3786\"],[0.5555555555555556,\"#d8576b\"],[0.6666666666666666,\"#ed7953\"],[0.7777777777777778,\"#fb9f3a\"],[0.8888888888888888,\"#fdca26\"],[1.0,\"#f0f921\"]]}],\"contourcarpet\":[{\"type\":\"contourcarpet\",\"colorbar\":{\"outlinewidth\":0,\"ticks\":\"\"}}],\"contour\":[{\"type\":\"contour\",\"colorbar\":{\"outlinewidth\":0,\"ticks\":\"\"},\"colorscale\":[[0.0,\"#0d0887\"],[0.1111111111111111,\"#46039f\"],[0.2222222222222222,\"#7201a8\"],[0.3333333333333333,\"#9c179e\"],[0.4444444444444444,\"#bd3786\"],[0.5555555555555556,\"#d8576b\"],[0.6666666666666666,\"#ed7953\"],[0.7777777777777778,\"#fb9f3a\"],[0.8888888888888888,\"#fdca26\"],[1.0,\"#f0f921\"]]}],\"surface\":[{\"type\":\"surface\",\"colorbar\":{\"outlinewidth\":0,\"ticks\":\"\"},\"colorscale\":[[0.0,\"#0d0887\"],[0.1111111111111111,\"#46039f\"],[0.2222222222222222,\"#7201a8\"],[0.3333333333333333,\"#9c179e\"],[0.4444444444444444,\"#bd3786\"],[0.5555555555555556,\"#d8576b\"],[0.6666666666666666,\"#ed7953\"],[0.7777777777777778,\"#fb9f3a\"],[0.8888888888888888,\"#fdca26\"],[1.0,\"#f0f921\"]]}],\"mesh3d\":[{\"type\":\"mesh3d\",\"colorbar\":{\"outlinewidth\":0,\"ticks\":\"\"}}],\"scatter\":[{\"fillpattern\":{\"fillmode\":\"overlay\",\"size\":10,\"solidity\":0.2},\"type\":\"scatter\"}],\"parcoords\":[{\"type\":\"parcoords\",\"line\":{\"colorbar\":{\"outlinewidth\":0,\"ticks\":\"\"}}}],\"scatterpolargl\":[{\"type\":\"scatterpolargl\",\"marker\":{\"colorbar\":{\"outlinewidth\":0,\"ticks\":\"\"}}}],\"bar\":[{\"error_x\":{\"color\":\"#2a3f5f\"},\"error_y\":{\"color\":\"#2a3f5f\"},\"marker\":{\"line\":{\"color\":\"#E5ECF6\",\"width\":0.5},\"pattern\":{\"fillmode\":\"overlay\",\"size\":10,\"solidity\":0.2}},\"type\":\"bar\"}],\"scattergeo\":[{\"type\":\"scattergeo\",\"marker\":{\"colorbar\":{\"outlinewidth\":0,\"ticks\":\"\"}}}],\"scatterpolar\":[{\"type\":\"scatterpolar\",\"marker\":{\"colorbar\":{\"outlinewidth\":0,\"ticks\":\"\"}}}],\"histogram\":[{\"marker\":{\"pattern\":{\"fillmode\":\"overlay\",\"size\":10,\"solidity\":0.2}},\"type\":\"histogram\"}],\"scattergl\":[{\"type\":\"scattergl\",\"marker\":{\"colorbar\":{\"outlinewidth\":0,\"ticks\":\"\"}}}],\"scatter3d\":[{\"type\":\"scatter3d\",\"line\":{\"colorbar\":{\"outlinewidth\":0,\"ticks\":\"\"}},\"marker\":{\"colorbar\":{\"outlinewidth\":0,\"ticks\":\"\"}}}],\"scattermapbox\":[{\"type\":\"scattermapbox\",\"marker\":{\"colorbar\":{\"outlinewidth\":0,\"ticks\":\"\"}}}],\"scatterternary\":[{\"type\":\"scatterternary\",\"marker\":{\"colorbar\":{\"outlinewidth\":0,\"ticks\":\"\"}}}],\"scattercarpet\":[{\"type\":\"scattercarpet\",\"marker\":{\"colorbar\":{\"outlinewidth\":0,\"ticks\":\"\"}}}],\"carpet\":[{\"aaxis\":{\"endlinecolor\":\"#2a3f5f\",\"gridcolor\":\"white\",\"linecolor\":\"white\",\"minorgridcolor\":\"white\",\"startlinecolor\":\"#2a3f5f\"},\"baxis\":{\"endlinecolor\":\"#2a3f5f\",\"gridcolor\":\"white\",\"linecolor\":\"white\",\"minorgridcolor\":\"white\",\"startlinecolor\":\"#2a3f5f\"},\"type\":\"carpet\"}],\"table\":[{\"cells\":{\"fill\":{\"color\":\"#EBF0F8\"},\"line\":{\"color\":\"white\"}},\"header\":{\"fill\":{\"color\":\"#C8D4E3\"},\"line\":{\"color\":\"white\"}},\"type\":\"table\"}],\"barpolar\":[{\"marker\":{\"line\":{\"color\":\"#E5ECF6\",\"width\":0.5},\"pattern\":{\"fillmode\":\"overlay\",\"size\":10,\"solidity\":0.2}},\"type\":\"barpolar\"}],\"pie\":[{\"automargin\":true,\"type\":\"pie\"}]},\"layout\":{\"autotypenumbers\":\"strict\",\"colorway\":[\"#636efa\",\"#EF553B\",\"#00cc96\",\"#ab63fa\",\"#FFA15A\",\"#19d3f3\",\"#FF6692\",\"#B6E880\",\"#FF97FF\",\"#FECB52\"],\"font\":{\"color\":\"#2a3f5f\"},\"hovermode\":\"closest\",\"hoverlabel\":{\"align\":\"left\"},\"paper_bgcolor\":\"white\",\"plot_bgcolor\":\"#E5ECF6\",\"polar\":{\"bgcolor\":\"#E5ECF6\",\"angularaxis\":{\"gridcolor\":\"white\",\"linecolor\":\"white\",\"ticks\":\"\"},\"radialaxis\":{\"gridcolor\":\"white\",\"linecolor\":\"white\",\"ticks\":\"\"}},\"ternary\":{\"bgcolor\":\"#E5ECF6\",\"aaxis\":{\"gridcolor\":\"white\",\"linecolor\":\"white\",\"ticks\":\"\"},\"baxis\":{\"gridcolor\":\"white\",\"linecolor\":\"white\",\"ticks\":\"\"},\"caxis\":{\"gridcolor\":\"white\",\"linecolor\":\"white\",\"ticks\":\"\"}},\"coloraxis\":{\"colorbar\":{\"outlinewidth\":0,\"ticks\":\"\"}},\"colorscale\":{\"sequential\":[[0.0,\"#0d0887\"],[0.1111111111111111,\"#46039f\"],[0.2222222222222222,\"#7201a8\"],[0.3333333333333333,\"#9c179e\"],[0.4444444444444444,\"#bd3786\"],[0.5555555555555556,\"#d8576b\"],[0.6666666666666666,\"#ed7953\"],[0.7777777777777778,\"#fb9f3a\"],[0.8888888888888888,\"#fdca26\"],[1.0,\"#f0f921\"]],\"sequentialminus\":[[0.0,\"#0d0887\"],[0.1111111111111111,\"#46039f\"],[0.2222222222222222,\"#7201a8\"],[0.3333333333333333,\"#9c179e\"],[0.4444444444444444,\"#bd3786\"],[0.5555555555555556,\"#d8576b\"],[0.6666666666666666,\"#ed7953\"],[0.7777777777777778,\"#fb9f3a\"],[0.8888888888888888,\"#fdca26\"],[1.0,\"#f0f921\"]],\"diverging\":[[0,\"#8e0152\"],[0.1,\"#c51b7d\"],[0.2,\"#de77ae\"],[0.3,\"#f1b6da\"],[0.4,\"#fde0ef\"],[0.5,\"#f7f7f7\"],[0.6,\"#e6f5d0\"],[0.7,\"#b8e186\"],[0.8,\"#7fbc41\"],[0.9,\"#4d9221\"],[1,\"#276419\"]]},\"xaxis\":{\"gridcolor\":\"white\",\"linecolor\":\"white\",\"ticks\":\"\",\"title\":{\"standoff\":15},\"zerolinecolor\":\"white\",\"automargin\":true,\"zerolinewidth\":2},\"yaxis\":{\"gridcolor\":\"white\",\"linecolor\":\"white\",\"ticks\":\"\",\"title\":{\"standoff\":15},\"zerolinecolor\":\"white\",\"automargin\":true,\"zerolinewidth\":2},\"scene\":{\"xaxis\":{\"backgroundcolor\":\"#E5ECF6\",\"gridcolor\":\"white\",\"linecolor\":\"white\",\"showbackground\":true,\"ticks\":\"\",\"zerolinecolor\":\"white\",\"gridwidth\":2},\"yaxis\":{\"backgroundcolor\":\"#E5ECF6\",\"gridcolor\":\"white\",\"linecolor\":\"white\",\"showbackground\":true,\"ticks\":\"\",\"zerolinecolor\":\"white\",\"gridwidth\":2},\"zaxis\":{\"backgroundcolor\":\"#E5ECF6\",\"gridcolor\":\"white\",\"linecolor\":\"white\",\"showbackground\":true,\"ticks\":\"\",\"zerolinecolor\":\"white\",\"gridwidth\":2}},\"shapedefaults\":{\"line\":{\"color\":\"#2a3f5f\"}},\"annotationdefaults\":{\"arrowcolor\":\"#2a3f5f\",\"arrowhead\":0,\"arrowwidth\":1},\"geo\":{\"bgcolor\":\"white\",\"landcolor\":\"#E5ECF6\",\"subunitcolor\":\"white\",\"showland\":true,\"showlakes\":true,\"lakecolor\":\"white\"},\"title\":{\"x\":0.05},\"mapbox\":{\"style\":\"light\"}}}},                        {\"responsive\": true}                    ).then(function(){\n",
       "                            \n",
       "var gd = document.getElementById('adb73725-89eb-4043-88f4-3dd5f763b2b5');\n",
       "var x = new MutationObserver(function (mutations, observer) {{\n",
       "        var display = window.getComputedStyle(gd).display;\n",
       "        if (!display || display === 'none') {{\n",
       "            console.log([gd, 'removed!']);\n",
       "            Plotly.purge(gd);\n",
       "            observer.disconnect();\n",
       "        }}\n",
       "}});\n",
       "\n",
       "// Listen for the removal of the full notebook cells\n",
       "var notebookContainer = gd.closest('#notebook-container');\n",
       "if (notebookContainer) {{\n",
       "    x.observe(notebookContainer, {childList: true});\n",
       "}}\n",
       "\n",
       "// Listen for the clearing of the current output cell\n",
       "var outputEl = gd.closest('.output');\n",
       "if (outputEl) {{\n",
       "    x.observe(outputEl, {childList: true});\n",
       "}}\n",
       "\n",
       "                        })                };                });            </script>        </div>"
      ]
     },
     "metadata": {},
     "output_type": "display_data"
    }
   ],
   "source": [
    "optuna.visualization.plot_pareto_front(study, target_names=[\"ic\", \"r2\"])"
   ]
  },
  {
   "cell_type": "code",
   "execution_count": 13,
   "metadata": {},
   "outputs": [
    {
     "name": "stdout",
     "output_type": "stream",
     "text": [
      "len of trials:400\n"
     ]
    }
   ],
   "source": [
    "print(f\"len of trials:{len(study.trials)}\")"
   ]
  },
  {
   "cell_type": "code",
   "execution_count": 14,
   "metadata": {},
   "outputs": [
    {
     "name": "stdout",
     "output_type": "stream",
     "text": [
      "Number of trials on the Pareto front: 8\n",
      "Trial with highest ic: \n",
      "\tnumber: 218\n",
      "\tparams: {'bagging_fraction': 0.6401348071097775, 'bagging_freq': 5, 'clip': 4, 'feature_fraction': 0.611161408757341, 'learning_rate': 0.020290009178857323, 'min_child_samples': 98, 'num_leaves': 66}\n",
      "\tvalues: [0.260653488493822, 0.042600529425669054]\n"
     ]
    }
   ],
   "source": [
    "print(f\"Number of trials on the Pareto front: {len(study.best_trials)}\")\n",
    "\n",
    "trial_with_highest_accuracy = max(study.best_trials, key=lambda t: t.values[0])\n",
    "print(f\"Trial with highest ic: \")\n",
    "print(f\"\\tnumber: {trial_with_highest_accuracy.number}\")\n",
    "print(f\"\\tparams: {trial_with_highest_accuracy.params}\")\n",
    "print(f\"\\tvalues: {trial_with_highest_accuracy.values}\")"
   ]
  },
  {
   "cell_type": "code",
   "execution_count": 15,
   "metadata": {},
   "outputs": [
    {
     "name": "stdout",
     "output_type": "stream",
     "text": [
      "Number of trials on the Pareto front: 8\n",
      "Trial with highest r2: \n",
      "\tnumber: 236\n",
      "\tparams: {'bagging_fraction': 0.6430665038682722, 'bagging_freq': 7, 'clip': 4, 'feature_fraction': 0.6070836007928877, 'learning_rate': 0.06868692129372357, 'min_child_samples': 97, 'num_leaves': 67}\n",
      "\tvalues: [0.2513352482355059, 0.05012747138629925]\n"
     ]
    }
   ],
   "source": [
    "print(f\"Number of trials on the Pareto front: {len(study.best_trials)}\")\n",
    "\n",
    "trial_with_highest_accuracy = max(study.best_trials, key=lambda t: t.values[1])\n",
    "print(f\"Trial with highest r2: \")\n",
    "print(f\"\\tnumber: {trial_with_highest_accuracy.number}\")\n",
    "print(f\"\\tparams: {trial_with_highest_accuracy.params}\")\n",
    "print(f\"\\tvalues: {trial_with_highest_accuracy.values}\")"
   ]
  },
  {
   "cell_type": "code",
   "execution_count": 16,
   "metadata": {},
   "outputs": [
    {
     "data": {
      "application/vnd.plotly.v1+json": {
       "config": {
        "plotlyServerURL": "https://plot.ly"
       },
       "data": [
        {
         "cliponaxis": false,
         "hovertemplate": [
          "bagging_freq (IntDistribution): 0.006117192314279099<extra></extra>",
          "bagging_fraction (FloatDistribution): 0.015297063033904759<extra></extra>",
          "num_leaves (IntDistribution): 0.020192364721341553<extra></extra>",
          "feature_fraction (FloatDistribution): 0.03195046669005484<extra></extra>",
          "clip (IntDistribution): 0.035584712020734606<extra></extra>",
          "min_child_samples (IntDistribution): 0.08834862787997183<extra></extra>",
          "learning_rate (FloatDistribution): 0.8025095733397131<extra></extra>"
         ],
         "marker": {
          "color": "rgb(66,146,198)"
         },
         "orientation": "h",
         "text": [
          "<0.01",
          "0.02",
          "0.02",
          "0.03",
          "0.04",
          "0.09",
          "0.80"
         ],
         "textposition": "outside",
         "type": "bar",
         "x": [
          0.006117192314279099,
          0.015297063033904759,
          0.020192364721341553,
          0.03195046669005484,
          0.035584712020734606,
          0.08834862787997183,
          0.8025095733397131
         ],
         "y": [
          "bagging_freq",
          "bagging_fraction",
          "num_leaves",
          "feature_fraction",
          "clip",
          "min_child_samples",
          "learning_rate"
         ]
        }
       ],
       "layout": {
        "showlegend": false,
        "template": {
         "data": {
          "bar": [
           {
            "error_x": {
             "color": "#2a3f5f"
            },
            "error_y": {
             "color": "#2a3f5f"
            },
            "marker": {
             "line": {
              "color": "#E5ECF6",
              "width": 0.5
             },
             "pattern": {
              "fillmode": "overlay",
              "size": 10,
              "solidity": 0.2
             }
            },
            "type": "bar"
           }
          ],
          "barpolar": [
           {
            "marker": {
             "line": {
              "color": "#E5ECF6",
              "width": 0.5
             },
             "pattern": {
              "fillmode": "overlay",
              "size": 10,
              "solidity": 0.2
             }
            },
            "type": "barpolar"
           }
          ],
          "carpet": [
           {
            "aaxis": {
             "endlinecolor": "#2a3f5f",
             "gridcolor": "white",
             "linecolor": "white",
             "minorgridcolor": "white",
             "startlinecolor": "#2a3f5f"
            },
            "baxis": {
             "endlinecolor": "#2a3f5f",
             "gridcolor": "white",
             "linecolor": "white",
             "minorgridcolor": "white",
             "startlinecolor": "#2a3f5f"
            },
            "type": "carpet"
           }
          ],
          "choropleth": [
           {
            "colorbar": {
             "outlinewidth": 0,
             "ticks": ""
            },
            "type": "choropleth"
           }
          ],
          "contour": [
           {
            "colorbar": {
             "outlinewidth": 0,
             "ticks": ""
            },
            "colorscale": [
             [
              0,
              "#0d0887"
             ],
             [
              0.1111111111111111,
              "#46039f"
             ],
             [
              0.2222222222222222,
              "#7201a8"
             ],
             [
              0.3333333333333333,
              "#9c179e"
             ],
             [
              0.4444444444444444,
              "#bd3786"
             ],
             [
              0.5555555555555556,
              "#d8576b"
             ],
             [
              0.6666666666666666,
              "#ed7953"
             ],
             [
              0.7777777777777778,
              "#fb9f3a"
             ],
             [
              0.8888888888888888,
              "#fdca26"
             ],
             [
              1,
              "#f0f921"
             ]
            ],
            "type": "contour"
           }
          ],
          "contourcarpet": [
           {
            "colorbar": {
             "outlinewidth": 0,
             "ticks": ""
            },
            "type": "contourcarpet"
           }
          ],
          "heatmap": [
           {
            "colorbar": {
             "outlinewidth": 0,
             "ticks": ""
            },
            "colorscale": [
             [
              0,
              "#0d0887"
             ],
             [
              0.1111111111111111,
              "#46039f"
             ],
             [
              0.2222222222222222,
              "#7201a8"
             ],
             [
              0.3333333333333333,
              "#9c179e"
             ],
             [
              0.4444444444444444,
              "#bd3786"
             ],
             [
              0.5555555555555556,
              "#d8576b"
             ],
             [
              0.6666666666666666,
              "#ed7953"
             ],
             [
              0.7777777777777778,
              "#fb9f3a"
             ],
             [
              0.8888888888888888,
              "#fdca26"
             ],
             [
              1,
              "#f0f921"
             ]
            ],
            "type": "heatmap"
           }
          ],
          "heatmapgl": [
           {
            "colorbar": {
             "outlinewidth": 0,
             "ticks": ""
            },
            "colorscale": [
             [
              0,
              "#0d0887"
             ],
             [
              0.1111111111111111,
              "#46039f"
             ],
             [
              0.2222222222222222,
              "#7201a8"
             ],
             [
              0.3333333333333333,
              "#9c179e"
             ],
             [
              0.4444444444444444,
              "#bd3786"
             ],
             [
              0.5555555555555556,
              "#d8576b"
             ],
             [
              0.6666666666666666,
              "#ed7953"
             ],
             [
              0.7777777777777778,
              "#fb9f3a"
             ],
             [
              0.8888888888888888,
              "#fdca26"
             ],
             [
              1,
              "#f0f921"
             ]
            ],
            "type": "heatmapgl"
           }
          ],
          "histogram": [
           {
            "marker": {
             "pattern": {
              "fillmode": "overlay",
              "size": 10,
              "solidity": 0.2
             }
            },
            "type": "histogram"
           }
          ],
          "histogram2d": [
           {
            "colorbar": {
             "outlinewidth": 0,
             "ticks": ""
            },
            "colorscale": [
             [
              0,
              "#0d0887"
             ],
             [
              0.1111111111111111,
              "#46039f"
             ],
             [
              0.2222222222222222,
              "#7201a8"
             ],
             [
              0.3333333333333333,
              "#9c179e"
             ],
             [
              0.4444444444444444,
              "#bd3786"
             ],
             [
              0.5555555555555556,
              "#d8576b"
             ],
             [
              0.6666666666666666,
              "#ed7953"
             ],
             [
              0.7777777777777778,
              "#fb9f3a"
             ],
             [
              0.8888888888888888,
              "#fdca26"
             ],
             [
              1,
              "#f0f921"
             ]
            ],
            "type": "histogram2d"
           }
          ],
          "histogram2dcontour": [
           {
            "colorbar": {
             "outlinewidth": 0,
             "ticks": ""
            },
            "colorscale": [
             [
              0,
              "#0d0887"
             ],
             [
              0.1111111111111111,
              "#46039f"
             ],
             [
              0.2222222222222222,
              "#7201a8"
             ],
             [
              0.3333333333333333,
              "#9c179e"
             ],
             [
              0.4444444444444444,
              "#bd3786"
             ],
             [
              0.5555555555555556,
              "#d8576b"
             ],
             [
              0.6666666666666666,
              "#ed7953"
             ],
             [
              0.7777777777777778,
              "#fb9f3a"
             ],
             [
              0.8888888888888888,
              "#fdca26"
             ],
             [
              1,
              "#f0f921"
             ]
            ],
            "type": "histogram2dcontour"
           }
          ],
          "mesh3d": [
           {
            "colorbar": {
             "outlinewidth": 0,
             "ticks": ""
            },
            "type": "mesh3d"
           }
          ],
          "parcoords": [
           {
            "line": {
             "colorbar": {
              "outlinewidth": 0,
              "ticks": ""
             }
            },
            "type": "parcoords"
           }
          ],
          "pie": [
           {
            "automargin": true,
            "type": "pie"
           }
          ],
          "scatter": [
           {
            "fillpattern": {
             "fillmode": "overlay",
             "size": 10,
             "solidity": 0.2
            },
            "type": "scatter"
           }
          ],
          "scatter3d": [
           {
            "line": {
             "colorbar": {
              "outlinewidth": 0,
              "ticks": ""
             }
            },
            "marker": {
             "colorbar": {
              "outlinewidth": 0,
              "ticks": ""
             }
            },
            "type": "scatter3d"
           }
          ],
          "scattercarpet": [
           {
            "marker": {
             "colorbar": {
              "outlinewidth": 0,
              "ticks": ""
             }
            },
            "type": "scattercarpet"
           }
          ],
          "scattergeo": [
           {
            "marker": {
             "colorbar": {
              "outlinewidth": 0,
              "ticks": ""
             }
            },
            "type": "scattergeo"
           }
          ],
          "scattergl": [
           {
            "marker": {
             "colorbar": {
              "outlinewidth": 0,
              "ticks": ""
             }
            },
            "type": "scattergl"
           }
          ],
          "scattermapbox": [
           {
            "marker": {
             "colorbar": {
              "outlinewidth": 0,
              "ticks": ""
             }
            },
            "type": "scattermapbox"
           }
          ],
          "scatterpolar": [
           {
            "marker": {
             "colorbar": {
              "outlinewidth": 0,
              "ticks": ""
             }
            },
            "type": "scatterpolar"
           }
          ],
          "scatterpolargl": [
           {
            "marker": {
             "colorbar": {
              "outlinewidth": 0,
              "ticks": ""
             }
            },
            "type": "scatterpolargl"
           }
          ],
          "scatterternary": [
           {
            "marker": {
             "colorbar": {
              "outlinewidth": 0,
              "ticks": ""
             }
            },
            "type": "scatterternary"
           }
          ],
          "surface": [
           {
            "colorbar": {
             "outlinewidth": 0,
             "ticks": ""
            },
            "colorscale": [
             [
              0,
              "#0d0887"
             ],
             [
              0.1111111111111111,
              "#46039f"
             ],
             [
              0.2222222222222222,
              "#7201a8"
             ],
             [
              0.3333333333333333,
              "#9c179e"
             ],
             [
              0.4444444444444444,
              "#bd3786"
             ],
             [
              0.5555555555555556,
              "#d8576b"
             ],
             [
              0.6666666666666666,
              "#ed7953"
             ],
             [
              0.7777777777777778,
              "#fb9f3a"
             ],
             [
              0.8888888888888888,
              "#fdca26"
             ],
             [
              1,
              "#f0f921"
             ]
            ],
            "type": "surface"
           }
          ],
          "table": [
           {
            "cells": {
             "fill": {
              "color": "#EBF0F8"
             },
             "line": {
              "color": "white"
             }
            },
            "header": {
             "fill": {
              "color": "#C8D4E3"
             },
             "line": {
              "color": "white"
             }
            },
            "type": "table"
           }
          ]
         },
         "layout": {
          "annotationdefaults": {
           "arrowcolor": "#2a3f5f",
           "arrowhead": 0,
           "arrowwidth": 1
          },
          "autotypenumbers": "strict",
          "coloraxis": {
           "colorbar": {
            "outlinewidth": 0,
            "ticks": ""
           }
          },
          "colorscale": {
           "diverging": [
            [
             0,
             "#8e0152"
            ],
            [
             0.1,
             "#c51b7d"
            ],
            [
             0.2,
             "#de77ae"
            ],
            [
             0.3,
             "#f1b6da"
            ],
            [
             0.4,
             "#fde0ef"
            ],
            [
             0.5,
             "#f7f7f7"
            ],
            [
             0.6,
             "#e6f5d0"
            ],
            [
             0.7,
             "#b8e186"
            ],
            [
             0.8,
             "#7fbc41"
            ],
            [
             0.9,
             "#4d9221"
            ],
            [
             1,
             "#276419"
            ]
           ],
           "sequential": [
            [
             0,
             "#0d0887"
            ],
            [
             0.1111111111111111,
             "#46039f"
            ],
            [
             0.2222222222222222,
             "#7201a8"
            ],
            [
             0.3333333333333333,
             "#9c179e"
            ],
            [
             0.4444444444444444,
             "#bd3786"
            ],
            [
             0.5555555555555556,
             "#d8576b"
            ],
            [
             0.6666666666666666,
             "#ed7953"
            ],
            [
             0.7777777777777778,
             "#fb9f3a"
            ],
            [
             0.8888888888888888,
             "#fdca26"
            ],
            [
             1,
             "#f0f921"
            ]
           ],
           "sequentialminus": [
            [
             0,
             "#0d0887"
            ],
            [
             0.1111111111111111,
             "#46039f"
            ],
            [
             0.2222222222222222,
             "#7201a8"
            ],
            [
             0.3333333333333333,
             "#9c179e"
            ],
            [
             0.4444444444444444,
             "#bd3786"
            ],
            [
             0.5555555555555556,
             "#d8576b"
            ],
            [
             0.6666666666666666,
             "#ed7953"
            ],
            [
             0.7777777777777778,
             "#fb9f3a"
            ],
            [
             0.8888888888888888,
             "#fdca26"
            ],
            [
             1,
             "#f0f921"
            ]
           ]
          },
          "colorway": [
           "#636efa",
           "#EF553B",
           "#00cc96",
           "#ab63fa",
           "#FFA15A",
           "#19d3f3",
           "#FF6692",
           "#B6E880",
           "#FF97FF",
           "#FECB52"
          ],
          "font": {
           "color": "#2a3f5f"
          },
          "geo": {
           "bgcolor": "white",
           "lakecolor": "white",
           "landcolor": "#E5ECF6",
           "showlakes": true,
           "showland": true,
           "subunitcolor": "white"
          },
          "hoverlabel": {
           "align": "left"
          },
          "hovermode": "closest",
          "mapbox": {
           "style": "light"
          },
          "paper_bgcolor": "white",
          "plot_bgcolor": "#E5ECF6",
          "polar": {
           "angularaxis": {
            "gridcolor": "white",
            "linecolor": "white",
            "ticks": ""
           },
           "bgcolor": "#E5ECF6",
           "radialaxis": {
            "gridcolor": "white",
            "linecolor": "white",
            "ticks": ""
           }
          },
          "scene": {
           "xaxis": {
            "backgroundcolor": "#E5ECF6",
            "gridcolor": "white",
            "gridwidth": 2,
            "linecolor": "white",
            "showbackground": true,
            "ticks": "",
            "zerolinecolor": "white"
           },
           "yaxis": {
            "backgroundcolor": "#E5ECF6",
            "gridcolor": "white",
            "gridwidth": 2,
            "linecolor": "white",
            "showbackground": true,
            "ticks": "",
            "zerolinecolor": "white"
           },
           "zaxis": {
            "backgroundcolor": "#E5ECF6",
            "gridcolor": "white",
            "gridwidth": 2,
            "linecolor": "white",
            "showbackground": true,
            "ticks": "",
            "zerolinecolor": "white"
           }
          },
          "shapedefaults": {
           "line": {
            "color": "#2a3f5f"
           }
          },
          "ternary": {
           "aaxis": {
            "gridcolor": "white",
            "linecolor": "white",
            "ticks": ""
           },
           "baxis": {
            "gridcolor": "white",
            "linecolor": "white",
            "ticks": ""
           },
           "bgcolor": "#E5ECF6",
           "caxis": {
            "gridcolor": "white",
            "linecolor": "white",
            "ticks": ""
           }
          },
          "title": {
           "x": 0.05
          },
          "xaxis": {
           "automargin": true,
           "gridcolor": "white",
           "linecolor": "white",
           "ticks": "",
           "title": {
            "standoff": 15
           },
           "zerolinecolor": "white",
           "zerolinewidth": 2
          },
          "yaxis": {
           "automargin": true,
           "gridcolor": "white",
           "linecolor": "white",
           "ticks": "",
           "title": {
            "standoff": 15
           },
           "zerolinecolor": "white",
           "zerolinewidth": 2
          }
         }
        },
        "title": {
         "text": "Hyperparameter Importances"
        },
        "xaxis": {
         "title": {
          "text": "Importance for ic"
         }
        },
        "yaxis": {
         "title": {
          "text": "Hyperparameter"
         }
        }
       }
      },
      "text/html": [
       "<div>                            <div id=\"7cc6bd17-8f55-4e4a-9fd1-d452a8b60d0b\" class=\"plotly-graph-div\" style=\"height:525px; width:100%;\"></div>            <script type=\"text/javascript\">                require([\"plotly\"], function(Plotly) {                    window.PLOTLYENV=window.PLOTLYENV || {};                                    if (document.getElementById(\"7cc6bd17-8f55-4e4a-9fd1-d452a8b60d0b\")) {                    Plotly.newPlot(                        \"7cc6bd17-8f55-4e4a-9fd1-d452a8b60d0b\",                        [{\"cliponaxis\":false,\"hovertemplate\":[\"bagging_freq (IntDistribution): 0.006117192314279099\\u003cextra\\u003e\\u003c\\u002fextra\\u003e\",\"bagging_fraction (FloatDistribution): 0.015297063033904759\\u003cextra\\u003e\\u003c\\u002fextra\\u003e\",\"num_leaves (IntDistribution): 0.020192364721341553\\u003cextra\\u003e\\u003c\\u002fextra\\u003e\",\"feature_fraction (FloatDistribution): 0.03195046669005484\\u003cextra\\u003e\\u003c\\u002fextra\\u003e\",\"clip (IntDistribution): 0.035584712020734606\\u003cextra\\u003e\\u003c\\u002fextra\\u003e\",\"min_child_samples (IntDistribution): 0.08834862787997183\\u003cextra\\u003e\\u003c\\u002fextra\\u003e\",\"learning_rate (FloatDistribution): 0.8025095733397131\\u003cextra\\u003e\\u003c\\u002fextra\\u003e\"],\"marker\":{\"color\":\"rgb(66,146,198)\"},\"orientation\":\"h\",\"text\":[\"\\u003c0.01\",\"0.02\",\"0.02\",\"0.03\",\"0.04\",\"0.09\",\"0.80\"],\"textposition\":\"outside\",\"x\":[0.006117192314279099,0.015297063033904759,0.020192364721341553,0.03195046669005484,0.035584712020734606,0.08834862787997183,0.8025095733397131],\"y\":[\"bagging_freq\",\"bagging_fraction\",\"num_leaves\",\"feature_fraction\",\"clip\",\"min_child_samples\",\"learning_rate\"],\"type\":\"bar\"}],                        {\"showlegend\":false,\"title\":{\"text\":\"Hyperparameter Importances\"},\"xaxis\":{\"title\":{\"text\":\"Importance for ic\"}},\"yaxis\":{\"title\":{\"text\":\"Hyperparameter\"}},\"template\":{\"data\":{\"histogram2dcontour\":[{\"type\":\"histogram2dcontour\",\"colorbar\":{\"outlinewidth\":0,\"ticks\":\"\"},\"colorscale\":[[0.0,\"#0d0887\"],[0.1111111111111111,\"#46039f\"],[0.2222222222222222,\"#7201a8\"],[0.3333333333333333,\"#9c179e\"],[0.4444444444444444,\"#bd3786\"],[0.5555555555555556,\"#d8576b\"],[0.6666666666666666,\"#ed7953\"],[0.7777777777777778,\"#fb9f3a\"],[0.8888888888888888,\"#fdca26\"],[1.0,\"#f0f921\"]]}],\"choropleth\":[{\"type\":\"choropleth\",\"colorbar\":{\"outlinewidth\":0,\"ticks\":\"\"}}],\"histogram2d\":[{\"type\":\"histogram2d\",\"colorbar\":{\"outlinewidth\":0,\"ticks\":\"\"},\"colorscale\":[[0.0,\"#0d0887\"],[0.1111111111111111,\"#46039f\"],[0.2222222222222222,\"#7201a8\"],[0.3333333333333333,\"#9c179e\"],[0.4444444444444444,\"#bd3786\"],[0.5555555555555556,\"#d8576b\"],[0.6666666666666666,\"#ed7953\"],[0.7777777777777778,\"#fb9f3a\"],[0.8888888888888888,\"#fdca26\"],[1.0,\"#f0f921\"]]}],\"heatmap\":[{\"type\":\"heatmap\",\"colorbar\":{\"outlinewidth\":0,\"ticks\":\"\"},\"colorscale\":[[0.0,\"#0d0887\"],[0.1111111111111111,\"#46039f\"],[0.2222222222222222,\"#7201a8\"],[0.3333333333333333,\"#9c179e\"],[0.4444444444444444,\"#bd3786\"],[0.5555555555555556,\"#d8576b\"],[0.6666666666666666,\"#ed7953\"],[0.7777777777777778,\"#fb9f3a\"],[0.8888888888888888,\"#fdca26\"],[1.0,\"#f0f921\"]]}],\"heatmapgl\":[{\"type\":\"heatmapgl\",\"colorbar\":{\"outlinewidth\":0,\"ticks\":\"\"},\"colorscale\":[[0.0,\"#0d0887\"],[0.1111111111111111,\"#46039f\"],[0.2222222222222222,\"#7201a8\"],[0.3333333333333333,\"#9c179e\"],[0.4444444444444444,\"#bd3786\"],[0.5555555555555556,\"#d8576b\"],[0.6666666666666666,\"#ed7953\"],[0.7777777777777778,\"#fb9f3a\"],[0.8888888888888888,\"#fdca26\"],[1.0,\"#f0f921\"]]}],\"contourcarpet\":[{\"type\":\"contourcarpet\",\"colorbar\":{\"outlinewidth\":0,\"ticks\":\"\"}}],\"contour\":[{\"type\":\"contour\",\"colorbar\":{\"outlinewidth\":0,\"ticks\":\"\"},\"colorscale\":[[0.0,\"#0d0887\"],[0.1111111111111111,\"#46039f\"],[0.2222222222222222,\"#7201a8\"],[0.3333333333333333,\"#9c179e\"],[0.4444444444444444,\"#bd3786\"],[0.5555555555555556,\"#d8576b\"],[0.6666666666666666,\"#ed7953\"],[0.7777777777777778,\"#fb9f3a\"],[0.8888888888888888,\"#fdca26\"],[1.0,\"#f0f921\"]]}],\"surface\":[{\"type\":\"surface\",\"colorbar\":{\"outlinewidth\":0,\"ticks\":\"\"},\"colorscale\":[[0.0,\"#0d0887\"],[0.1111111111111111,\"#46039f\"],[0.2222222222222222,\"#7201a8\"],[0.3333333333333333,\"#9c179e\"],[0.4444444444444444,\"#bd3786\"],[0.5555555555555556,\"#d8576b\"],[0.6666666666666666,\"#ed7953\"],[0.7777777777777778,\"#fb9f3a\"],[0.8888888888888888,\"#fdca26\"],[1.0,\"#f0f921\"]]}],\"mesh3d\":[{\"type\":\"mesh3d\",\"colorbar\":{\"outlinewidth\":0,\"ticks\":\"\"}}],\"scatter\":[{\"fillpattern\":{\"fillmode\":\"overlay\",\"size\":10,\"solidity\":0.2},\"type\":\"scatter\"}],\"parcoords\":[{\"type\":\"parcoords\",\"line\":{\"colorbar\":{\"outlinewidth\":0,\"ticks\":\"\"}}}],\"scatterpolargl\":[{\"type\":\"scatterpolargl\",\"marker\":{\"colorbar\":{\"outlinewidth\":0,\"ticks\":\"\"}}}],\"bar\":[{\"error_x\":{\"color\":\"#2a3f5f\"},\"error_y\":{\"color\":\"#2a3f5f\"},\"marker\":{\"line\":{\"color\":\"#E5ECF6\",\"width\":0.5},\"pattern\":{\"fillmode\":\"overlay\",\"size\":10,\"solidity\":0.2}},\"type\":\"bar\"}],\"scattergeo\":[{\"type\":\"scattergeo\",\"marker\":{\"colorbar\":{\"outlinewidth\":0,\"ticks\":\"\"}}}],\"scatterpolar\":[{\"type\":\"scatterpolar\",\"marker\":{\"colorbar\":{\"outlinewidth\":0,\"ticks\":\"\"}}}],\"histogram\":[{\"marker\":{\"pattern\":{\"fillmode\":\"overlay\",\"size\":10,\"solidity\":0.2}},\"type\":\"histogram\"}],\"scattergl\":[{\"type\":\"scattergl\",\"marker\":{\"colorbar\":{\"outlinewidth\":0,\"ticks\":\"\"}}}],\"scatter3d\":[{\"type\":\"scatter3d\",\"line\":{\"colorbar\":{\"outlinewidth\":0,\"ticks\":\"\"}},\"marker\":{\"colorbar\":{\"outlinewidth\":0,\"ticks\":\"\"}}}],\"scattermapbox\":[{\"type\":\"scattermapbox\",\"marker\":{\"colorbar\":{\"outlinewidth\":0,\"ticks\":\"\"}}}],\"scatterternary\":[{\"type\":\"scatterternary\",\"marker\":{\"colorbar\":{\"outlinewidth\":0,\"ticks\":\"\"}}}],\"scattercarpet\":[{\"type\":\"scattercarpet\",\"marker\":{\"colorbar\":{\"outlinewidth\":0,\"ticks\":\"\"}}}],\"carpet\":[{\"aaxis\":{\"endlinecolor\":\"#2a3f5f\",\"gridcolor\":\"white\",\"linecolor\":\"white\",\"minorgridcolor\":\"white\",\"startlinecolor\":\"#2a3f5f\"},\"baxis\":{\"endlinecolor\":\"#2a3f5f\",\"gridcolor\":\"white\",\"linecolor\":\"white\",\"minorgridcolor\":\"white\",\"startlinecolor\":\"#2a3f5f\"},\"type\":\"carpet\"}],\"table\":[{\"cells\":{\"fill\":{\"color\":\"#EBF0F8\"},\"line\":{\"color\":\"white\"}},\"header\":{\"fill\":{\"color\":\"#C8D4E3\"},\"line\":{\"color\":\"white\"}},\"type\":\"table\"}],\"barpolar\":[{\"marker\":{\"line\":{\"color\":\"#E5ECF6\",\"width\":0.5},\"pattern\":{\"fillmode\":\"overlay\",\"size\":10,\"solidity\":0.2}},\"type\":\"barpolar\"}],\"pie\":[{\"automargin\":true,\"type\":\"pie\"}]},\"layout\":{\"autotypenumbers\":\"strict\",\"colorway\":[\"#636efa\",\"#EF553B\",\"#00cc96\",\"#ab63fa\",\"#FFA15A\",\"#19d3f3\",\"#FF6692\",\"#B6E880\",\"#FF97FF\",\"#FECB52\"],\"font\":{\"color\":\"#2a3f5f\"},\"hovermode\":\"closest\",\"hoverlabel\":{\"align\":\"left\"},\"paper_bgcolor\":\"white\",\"plot_bgcolor\":\"#E5ECF6\",\"polar\":{\"bgcolor\":\"#E5ECF6\",\"angularaxis\":{\"gridcolor\":\"white\",\"linecolor\":\"white\",\"ticks\":\"\"},\"radialaxis\":{\"gridcolor\":\"white\",\"linecolor\":\"white\",\"ticks\":\"\"}},\"ternary\":{\"bgcolor\":\"#E5ECF6\",\"aaxis\":{\"gridcolor\":\"white\",\"linecolor\":\"white\",\"ticks\":\"\"},\"baxis\":{\"gridcolor\":\"white\",\"linecolor\":\"white\",\"ticks\":\"\"},\"caxis\":{\"gridcolor\":\"white\",\"linecolor\":\"white\",\"ticks\":\"\"}},\"coloraxis\":{\"colorbar\":{\"outlinewidth\":0,\"ticks\":\"\"}},\"colorscale\":{\"sequential\":[[0.0,\"#0d0887\"],[0.1111111111111111,\"#46039f\"],[0.2222222222222222,\"#7201a8\"],[0.3333333333333333,\"#9c179e\"],[0.4444444444444444,\"#bd3786\"],[0.5555555555555556,\"#d8576b\"],[0.6666666666666666,\"#ed7953\"],[0.7777777777777778,\"#fb9f3a\"],[0.8888888888888888,\"#fdca26\"],[1.0,\"#f0f921\"]],\"sequentialminus\":[[0.0,\"#0d0887\"],[0.1111111111111111,\"#46039f\"],[0.2222222222222222,\"#7201a8\"],[0.3333333333333333,\"#9c179e\"],[0.4444444444444444,\"#bd3786\"],[0.5555555555555556,\"#d8576b\"],[0.6666666666666666,\"#ed7953\"],[0.7777777777777778,\"#fb9f3a\"],[0.8888888888888888,\"#fdca26\"],[1.0,\"#f0f921\"]],\"diverging\":[[0,\"#8e0152\"],[0.1,\"#c51b7d\"],[0.2,\"#de77ae\"],[0.3,\"#f1b6da\"],[0.4,\"#fde0ef\"],[0.5,\"#f7f7f7\"],[0.6,\"#e6f5d0\"],[0.7,\"#b8e186\"],[0.8,\"#7fbc41\"],[0.9,\"#4d9221\"],[1,\"#276419\"]]},\"xaxis\":{\"gridcolor\":\"white\",\"linecolor\":\"white\",\"ticks\":\"\",\"title\":{\"standoff\":15},\"zerolinecolor\":\"white\",\"automargin\":true,\"zerolinewidth\":2},\"yaxis\":{\"gridcolor\":\"white\",\"linecolor\":\"white\",\"ticks\":\"\",\"title\":{\"standoff\":15},\"zerolinecolor\":\"white\",\"automargin\":true,\"zerolinewidth\":2},\"scene\":{\"xaxis\":{\"backgroundcolor\":\"#E5ECF6\",\"gridcolor\":\"white\",\"linecolor\":\"white\",\"showbackground\":true,\"ticks\":\"\",\"zerolinecolor\":\"white\",\"gridwidth\":2},\"yaxis\":{\"backgroundcolor\":\"#E5ECF6\",\"gridcolor\":\"white\",\"linecolor\":\"white\",\"showbackground\":true,\"ticks\":\"\",\"zerolinecolor\":\"white\",\"gridwidth\":2},\"zaxis\":{\"backgroundcolor\":\"#E5ECF6\",\"gridcolor\":\"white\",\"linecolor\":\"white\",\"showbackground\":true,\"ticks\":\"\",\"zerolinecolor\":\"white\",\"gridwidth\":2}},\"shapedefaults\":{\"line\":{\"color\":\"#2a3f5f\"}},\"annotationdefaults\":{\"arrowcolor\":\"#2a3f5f\",\"arrowhead\":0,\"arrowwidth\":1},\"geo\":{\"bgcolor\":\"white\",\"landcolor\":\"#E5ECF6\",\"subunitcolor\":\"white\",\"showland\":true,\"showlakes\":true,\"lakecolor\":\"white\"},\"title\":{\"x\":0.05},\"mapbox\":{\"style\":\"light\"}}}},                        {\"responsive\": true}                    ).then(function(){\n",
       "                            \n",
       "var gd = document.getElementById('7cc6bd17-8f55-4e4a-9fd1-d452a8b60d0b');\n",
       "var x = new MutationObserver(function (mutations, observer) {{\n",
       "        var display = window.getComputedStyle(gd).display;\n",
       "        if (!display || display === 'none') {{\n",
       "            console.log([gd, 'removed!']);\n",
       "            Plotly.purge(gd);\n",
       "            observer.disconnect();\n",
       "        }}\n",
       "}});\n",
       "\n",
       "// Listen for the removal of the full notebook cells\n",
       "var notebookContainer = gd.closest('#notebook-container');\n",
       "if (notebookContainer) {{\n",
       "    x.observe(notebookContainer, {childList: true});\n",
       "}}\n",
       "\n",
       "// Listen for the clearing of the current output cell\n",
       "var outputEl = gd.closest('.output');\n",
       "if (outputEl) {{\n",
       "    x.observe(outputEl, {childList: true});\n",
       "}}\n",
       "\n",
       "                        })                };                });            </script>        </div>"
      ]
     },
     "metadata": {},
     "output_type": "display_data"
    }
   ],
   "source": [
    "optuna.visualization.plot_param_importances(\n",
    "    study, target=lambda t: t.values[0], target_name=\"ic\"\n",
    ")"
   ]
  },
  {
   "cell_type": "code",
   "execution_count": 17,
   "metadata": {},
   "outputs": [
    {
     "data": {
      "application/vnd.plotly.v1+json": {
       "config": {
        "plotlyServerURL": "https://plot.ly"
       },
       "data": [
        {
         "cliponaxis": false,
         "hovertemplate": [
          "bagging_freq (IntDistribution): 0.00030203387623494176<extra></extra>",
          "feature_fraction (FloatDistribution): 0.0018248156025574384<extra></extra>",
          "bagging_fraction (FloatDistribution): 0.0022824493226741085<extra></extra>",
          "num_leaves (IntDistribution): 0.005909053037714607<extra></extra>",
          "min_child_samples (IntDistribution): 0.011765551844561307<extra></extra>",
          "clip (IntDistribution): 0.10414504846563245<extra></extra>",
          "learning_rate (FloatDistribution): 0.8737710478506252<extra></extra>"
         ],
         "marker": {
          "color": "rgb(66,146,198)"
         },
         "orientation": "h",
         "text": [
          "<0.01",
          "<0.01",
          "<0.01",
          "<0.01",
          "0.01",
          "0.10",
          "0.87"
         ],
         "textposition": "outside",
         "type": "bar",
         "x": [
          0.00030203387623494176,
          0.0018248156025574384,
          0.0022824493226741085,
          0.005909053037714607,
          0.011765551844561307,
          0.10414504846563245,
          0.8737710478506252
         ],
         "y": [
          "bagging_freq",
          "feature_fraction",
          "bagging_fraction",
          "num_leaves",
          "min_child_samples",
          "clip",
          "learning_rate"
         ]
        }
       ],
       "layout": {
        "showlegend": false,
        "template": {
         "data": {
          "bar": [
           {
            "error_x": {
             "color": "#2a3f5f"
            },
            "error_y": {
             "color": "#2a3f5f"
            },
            "marker": {
             "line": {
              "color": "#E5ECF6",
              "width": 0.5
             },
             "pattern": {
              "fillmode": "overlay",
              "size": 10,
              "solidity": 0.2
             }
            },
            "type": "bar"
           }
          ],
          "barpolar": [
           {
            "marker": {
             "line": {
              "color": "#E5ECF6",
              "width": 0.5
             },
             "pattern": {
              "fillmode": "overlay",
              "size": 10,
              "solidity": 0.2
             }
            },
            "type": "barpolar"
           }
          ],
          "carpet": [
           {
            "aaxis": {
             "endlinecolor": "#2a3f5f",
             "gridcolor": "white",
             "linecolor": "white",
             "minorgridcolor": "white",
             "startlinecolor": "#2a3f5f"
            },
            "baxis": {
             "endlinecolor": "#2a3f5f",
             "gridcolor": "white",
             "linecolor": "white",
             "minorgridcolor": "white",
             "startlinecolor": "#2a3f5f"
            },
            "type": "carpet"
           }
          ],
          "choropleth": [
           {
            "colorbar": {
             "outlinewidth": 0,
             "ticks": ""
            },
            "type": "choropleth"
           }
          ],
          "contour": [
           {
            "colorbar": {
             "outlinewidth": 0,
             "ticks": ""
            },
            "colorscale": [
             [
              0,
              "#0d0887"
             ],
             [
              0.1111111111111111,
              "#46039f"
             ],
             [
              0.2222222222222222,
              "#7201a8"
             ],
             [
              0.3333333333333333,
              "#9c179e"
             ],
             [
              0.4444444444444444,
              "#bd3786"
             ],
             [
              0.5555555555555556,
              "#d8576b"
             ],
             [
              0.6666666666666666,
              "#ed7953"
             ],
             [
              0.7777777777777778,
              "#fb9f3a"
             ],
             [
              0.8888888888888888,
              "#fdca26"
             ],
             [
              1,
              "#f0f921"
             ]
            ],
            "type": "contour"
           }
          ],
          "contourcarpet": [
           {
            "colorbar": {
             "outlinewidth": 0,
             "ticks": ""
            },
            "type": "contourcarpet"
           }
          ],
          "heatmap": [
           {
            "colorbar": {
             "outlinewidth": 0,
             "ticks": ""
            },
            "colorscale": [
             [
              0,
              "#0d0887"
             ],
             [
              0.1111111111111111,
              "#46039f"
             ],
             [
              0.2222222222222222,
              "#7201a8"
             ],
             [
              0.3333333333333333,
              "#9c179e"
             ],
             [
              0.4444444444444444,
              "#bd3786"
             ],
             [
              0.5555555555555556,
              "#d8576b"
             ],
             [
              0.6666666666666666,
              "#ed7953"
             ],
             [
              0.7777777777777778,
              "#fb9f3a"
             ],
             [
              0.8888888888888888,
              "#fdca26"
             ],
             [
              1,
              "#f0f921"
             ]
            ],
            "type": "heatmap"
           }
          ],
          "heatmapgl": [
           {
            "colorbar": {
             "outlinewidth": 0,
             "ticks": ""
            },
            "colorscale": [
             [
              0,
              "#0d0887"
             ],
             [
              0.1111111111111111,
              "#46039f"
             ],
             [
              0.2222222222222222,
              "#7201a8"
             ],
             [
              0.3333333333333333,
              "#9c179e"
             ],
             [
              0.4444444444444444,
              "#bd3786"
             ],
             [
              0.5555555555555556,
              "#d8576b"
             ],
             [
              0.6666666666666666,
              "#ed7953"
             ],
             [
              0.7777777777777778,
              "#fb9f3a"
             ],
             [
              0.8888888888888888,
              "#fdca26"
             ],
             [
              1,
              "#f0f921"
             ]
            ],
            "type": "heatmapgl"
           }
          ],
          "histogram": [
           {
            "marker": {
             "pattern": {
              "fillmode": "overlay",
              "size": 10,
              "solidity": 0.2
             }
            },
            "type": "histogram"
           }
          ],
          "histogram2d": [
           {
            "colorbar": {
             "outlinewidth": 0,
             "ticks": ""
            },
            "colorscale": [
             [
              0,
              "#0d0887"
             ],
             [
              0.1111111111111111,
              "#46039f"
             ],
             [
              0.2222222222222222,
              "#7201a8"
             ],
             [
              0.3333333333333333,
              "#9c179e"
             ],
             [
              0.4444444444444444,
              "#bd3786"
             ],
             [
              0.5555555555555556,
              "#d8576b"
             ],
             [
              0.6666666666666666,
              "#ed7953"
             ],
             [
              0.7777777777777778,
              "#fb9f3a"
             ],
             [
              0.8888888888888888,
              "#fdca26"
             ],
             [
              1,
              "#f0f921"
             ]
            ],
            "type": "histogram2d"
           }
          ],
          "histogram2dcontour": [
           {
            "colorbar": {
             "outlinewidth": 0,
             "ticks": ""
            },
            "colorscale": [
             [
              0,
              "#0d0887"
             ],
             [
              0.1111111111111111,
              "#46039f"
             ],
             [
              0.2222222222222222,
              "#7201a8"
             ],
             [
              0.3333333333333333,
              "#9c179e"
             ],
             [
              0.4444444444444444,
              "#bd3786"
             ],
             [
              0.5555555555555556,
              "#d8576b"
             ],
             [
              0.6666666666666666,
              "#ed7953"
             ],
             [
              0.7777777777777778,
              "#fb9f3a"
             ],
             [
              0.8888888888888888,
              "#fdca26"
             ],
             [
              1,
              "#f0f921"
             ]
            ],
            "type": "histogram2dcontour"
           }
          ],
          "mesh3d": [
           {
            "colorbar": {
             "outlinewidth": 0,
             "ticks": ""
            },
            "type": "mesh3d"
           }
          ],
          "parcoords": [
           {
            "line": {
             "colorbar": {
              "outlinewidth": 0,
              "ticks": ""
             }
            },
            "type": "parcoords"
           }
          ],
          "pie": [
           {
            "automargin": true,
            "type": "pie"
           }
          ],
          "scatter": [
           {
            "fillpattern": {
             "fillmode": "overlay",
             "size": 10,
             "solidity": 0.2
            },
            "type": "scatter"
           }
          ],
          "scatter3d": [
           {
            "line": {
             "colorbar": {
              "outlinewidth": 0,
              "ticks": ""
             }
            },
            "marker": {
             "colorbar": {
              "outlinewidth": 0,
              "ticks": ""
             }
            },
            "type": "scatter3d"
           }
          ],
          "scattercarpet": [
           {
            "marker": {
             "colorbar": {
              "outlinewidth": 0,
              "ticks": ""
             }
            },
            "type": "scattercarpet"
           }
          ],
          "scattergeo": [
           {
            "marker": {
             "colorbar": {
              "outlinewidth": 0,
              "ticks": ""
             }
            },
            "type": "scattergeo"
           }
          ],
          "scattergl": [
           {
            "marker": {
             "colorbar": {
              "outlinewidth": 0,
              "ticks": ""
             }
            },
            "type": "scattergl"
           }
          ],
          "scattermapbox": [
           {
            "marker": {
             "colorbar": {
              "outlinewidth": 0,
              "ticks": ""
             }
            },
            "type": "scattermapbox"
           }
          ],
          "scatterpolar": [
           {
            "marker": {
             "colorbar": {
              "outlinewidth": 0,
              "ticks": ""
             }
            },
            "type": "scatterpolar"
           }
          ],
          "scatterpolargl": [
           {
            "marker": {
             "colorbar": {
              "outlinewidth": 0,
              "ticks": ""
             }
            },
            "type": "scatterpolargl"
           }
          ],
          "scatterternary": [
           {
            "marker": {
             "colorbar": {
              "outlinewidth": 0,
              "ticks": ""
             }
            },
            "type": "scatterternary"
           }
          ],
          "surface": [
           {
            "colorbar": {
             "outlinewidth": 0,
             "ticks": ""
            },
            "colorscale": [
             [
              0,
              "#0d0887"
             ],
             [
              0.1111111111111111,
              "#46039f"
             ],
             [
              0.2222222222222222,
              "#7201a8"
             ],
             [
              0.3333333333333333,
              "#9c179e"
             ],
             [
              0.4444444444444444,
              "#bd3786"
             ],
             [
              0.5555555555555556,
              "#d8576b"
             ],
             [
              0.6666666666666666,
              "#ed7953"
             ],
             [
              0.7777777777777778,
              "#fb9f3a"
             ],
             [
              0.8888888888888888,
              "#fdca26"
             ],
             [
              1,
              "#f0f921"
             ]
            ],
            "type": "surface"
           }
          ],
          "table": [
           {
            "cells": {
             "fill": {
              "color": "#EBF0F8"
             },
             "line": {
              "color": "white"
             }
            },
            "header": {
             "fill": {
              "color": "#C8D4E3"
             },
             "line": {
              "color": "white"
             }
            },
            "type": "table"
           }
          ]
         },
         "layout": {
          "annotationdefaults": {
           "arrowcolor": "#2a3f5f",
           "arrowhead": 0,
           "arrowwidth": 1
          },
          "autotypenumbers": "strict",
          "coloraxis": {
           "colorbar": {
            "outlinewidth": 0,
            "ticks": ""
           }
          },
          "colorscale": {
           "diverging": [
            [
             0,
             "#8e0152"
            ],
            [
             0.1,
             "#c51b7d"
            ],
            [
             0.2,
             "#de77ae"
            ],
            [
             0.3,
             "#f1b6da"
            ],
            [
             0.4,
             "#fde0ef"
            ],
            [
             0.5,
             "#f7f7f7"
            ],
            [
             0.6,
             "#e6f5d0"
            ],
            [
             0.7,
             "#b8e186"
            ],
            [
             0.8,
             "#7fbc41"
            ],
            [
             0.9,
             "#4d9221"
            ],
            [
             1,
             "#276419"
            ]
           ],
           "sequential": [
            [
             0,
             "#0d0887"
            ],
            [
             0.1111111111111111,
             "#46039f"
            ],
            [
             0.2222222222222222,
             "#7201a8"
            ],
            [
             0.3333333333333333,
             "#9c179e"
            ],
            [
             0.4444444444444444,
             "#bd3786"
            ],
            [
             0.5555555555555556,
             "#d8576b"
            ],
            [
             0.6666666666666666,
             "#ed7953"
            ],
            [
             0.7777777777777778,
             "#fb9f3a"
            ],
            [
             0.8888888888888888,
             "#fdca26"
            ],
            [
             1,
             "#f0f921"
            ]
           ],
           "sequentialminus": [
            [
             0,
             "#0d0887"
            ],
            [
             0.1111111111111111,
             "#46039f"
            ],
            [
             0.2222222222222222,
             "#7201a8"
            ],
            [
             0.3333333333333333,
             "#9c179e"
            ],
            [
             0.4444444444444444,
             "#bd3786"
            ],
            [
             0.5555555555555556,
             "#d8576b"
            ],
            [
             0.6666666666666666,
             "#ed7953"
            ],
            [
             0.7777777777777778,
             "#fb9f3a"
            ],
            [
             0.8888888888888888,
             "#fdca26"
            ],
            [
             1,
             "#f0f921"
            ]
           ]
          },
          "colorway": [
           "#636efa",
           "#EF553B",
           "#00cc96",
           "#ab63fa",
           "#FFA15A",
           "#19d3f3",
           "#FF6692",
           "#B6E880",
           "#FF97FF",
           "#FECB52"
          ],
          "font": {
           "color": "#2a3f5f"
          },
          "geo": {
           "bgcolor": "white",
           "lakecolor": "white",
           "landcolor": "#E5ECF6",
           "showlakes": true,
           "showland": true,
           "subunitcolor": "white"
          },
          "hoverlabel": {
           "align": "left"
          },
          "hovermode": "closest",
          "mapbox": {
           "style": "light"
          },
          "paper_bgcolor": "white",
          "plot_bgcolor": "#E5ECF6",
          "polar": {
           "angularaxis": {
            "gridcolor": "white",
            "linecolor": "white",
            "ticks": ""
           },
           "bgcolor": "#E5ECF6",
           "radialaxis": {
            "gridcolor": "white",
            "linecolor": "white",
            "ticks": ""
           }
          },
          "scene": {
           "xaxis": {
            "backgroundcolor": "#E5ECF6",
            "gridcolor": "white",
            "gridwidth": 2,
            "linecolor": "white",
            "showbackground": true,
            "ticks": "",
            "zerolinecolor": "white"
           },
           "yaxis": {
            "backgroundcolor": "#E5ECF6",
            "gridcolor": "white",
            "gridwidth": 2,
            "linecolor": "white",
            "showbackground": true,
            "ticks": "",
            "zerolinecolor": "white"
           },
           "zaxis": {
            "backgroundcolor": "#E5ECF6",
            "gridcolor": "white",
            "gridwidth": 2,
            "linecolor": "white",
            "showbackground": true,
            "ticks": "",
            "zerolinecolor": "white"
           }
          },
          "shapedefaults": {
           "line": {
            "color": "#2a3f5f"
           }
          },
          "ternary": {
           "aaxis": {
            "gridcolor": "white",
            "linecolor": "white",
            "ticks": ""
           },
           "baxis": {
            "gridcolor": "white",
            "linecolor": "white",
            "ticks": ""
           },
           "bgcolor": "#E5ECF6",
           "caxis": {
            "gridcolor": "white",
            "linecolor": "white",
            "ticks": ""
           }
          },
          "title": {
           "x": 0.05
          },
          "xaxis": {
           "automargin": true,
           "gridcolor": "white",
           "linecolor": "white",
           "ticks": "",
           "title": {
            "standoff": 15
           },
           "zerolinecolor": "white",
           "zerolinewidth": 2
          },
          "yaxis": {
           "automargin": true,
           "gridcolor": "white",
           "linecolor": "white",
           "ticks": "",
           "title": {
            "standoff": 15
           },
           "zerolinecolor": "white",
           "zerolinewidth": 2
          }
         }
        },
        "title": {
         "text": "Hyperparameter Importances"
        },
        "xaxis": {
         "title": {
          "text": "Importance for r2"
         }
        },
        "yaxis": {
         "title": {
          "text": "Hyperparameter"
         }
        }
       }
      },
      "text/html": [
       "<div>                            <div id=\"3d5ddcf3-371e-4ae6-bc69-2b68389b009f\" class=\"plotly-graph-div\" style=\"height:525px; width:100%;\"></div>            <script type=\"text/javascript\">                require([\"plotly\"], function(Plotly) {                    window.PLOTLYENV=window.PLOTLYENV || {};                                    if (document.getElementById(\"3d5ddcf3-371e-4ae6-bc69-2b68389b009f\")) {                    Plotly.newPlot(                        \"3d5ddcf3-371e-4ae6-bc69-2b68389b009f\",                        [{\"cliponaxis\":false,\"hovertemplate\":[\"bagging_freq (IntDistribution): 0.00030203387623494176\\u003cextra\\u003e\\u003c\\u002fextra\\u003e\",\"feature_fraction (FloatDistribution): 0.0018248156025574384\\u003cextra\\u003e\\u003c\\u002fextra\\u003e\",\"bagging_fraction (FloatDistribution): 0.0022824493226741085\\u003cextra\\u003e\\u003c\\u002fextra\\u003e\",\"num_leaves (IntDistribution): 0.005909053037714607\\u003cextra\\u003e\\u003c\\u002fextra\\u003e\",\"min_child_samples (IntDistribution): 0.011765551844561307\\u003cextra\\u003e\\u003c\\u002fextra\\u003e\",\"clip (IntDistribution): 0.10414504846563245\\u003cextra\\u003e\\u003c\\u002fextra\\u003e\",\"learning_rate (FloatDistribution): 0.8737710478506252\\u003cextra\\u003e\\u003c\\u002fextra\\u003e\"],\"marker\":{\"color\":\"rgb(66,146,198)\"},\"orientation\":\"h\",\"text\":[\"\\u003c0.01\",\"\\u003c0.01\",\"\\u003c0.01\",\"\\u003c0.01\",\"0.01\",\"0.10\",\"0.87\"],\"textposition\":\"outside\",\"x\":[0.00030203387623494176,0.0018248156025574384,0.0022824493226741085,0.005909053037714607,0.011765551844561307,0.10414504846563245,0.8737710478506252],\"y\":[\"bagging_freq\",\"feature_fraction\",\"bagging_fraction\",\"num_leaves\",\"min_child_samples\",\"clip\",\"learning_rate\"],\"type\":\"bar\"}],                        {\"showlegend\":false,\"title\":{\"text\":\"Hyperparameter Importances\"},\"xaxis\":{\"title\":{\"text\":\"Importance for r2\"}},\"yaxis\":{\"title\":{\"text\":\"Hyperparameter\"}},\"template\":{\"data\":{\"histogram2dcontour\":[{\"type\":\"histogram2dcontour\",\"colorbar\":{\"outlinewidth\":0,\"ticks\":\"\"},\"colorscale\":[[0.0,\"#0d0887\"],[0.1111111111111111,\"#46039f\"],[0.2222222222222222,\"#7201a8\"],[0.3333333333333333,\"#9c179e\"],[0.4444444444444444,\"#bd3786\"],[0.5555555555555556,\"#d8576b\"],[0.6666666666666666,\"#ed7953\"],[0.7777777777777778,\"#fb9f3a\"],[0.8888888888888888,\"#fdca26\"],[1.0,\"#f0f921\"]]}],\"choropleth\":[{\"type\":\"choropleth\",\"colorbar\":{\"outlinewidth\":0,\"ticks\":\"\"}}],\"histogram2d\":[{\"type\":\"histogram2d\",\"colorbar\":{\"outlinewidth\":0,\"ticks\":\"\"},\"colorscale\":[[0.0,\"#0d0887\"],[0.1111111111111111,\"#46039f\"],[0.2222222222222222,\"#7201a8\"],[0.3333333333333333,\"#9c179e\"],[0.4444444444444444,\"#bd3786\"],[0.5555555555555556,\"#d8576b\"],[0.6666666666666666,\"#ed7953\"],[0.7777777777777778,\"#fb9f3a\"],[0.8888888888888888,\"#fdca26\"],[1.0,\"#f0f921\"]]}],\"heatmap\":[{\"type\":\"heatmap\",\"colorbar\":{\"outlinewidth\":0,\"ticks\":\"\"},\"colorscale\":[[0.0,\"#0d0887\"],[0.1111111111111111,\"#46039f\"],[0.2222222222222222,\"#7201a8\"],[0.3333333333333333,\"#9c179e\"],[0.4444444444444444,\"#bd3786\"],[0.5555555555555556,\"#d8576b\"],[0.6666666666666666,\"#ed7953\"],[0.7777777777777778,\"#fb9f3a\"],[0.8888888888888888,\"#fdca26\"],[1.0,\"#f0f921\"]]}],\"heatmapgl\":[{\"type\":\"heatmapgl\",\"colorbar\":{\"outlinewidth\":0,\"ticks\":\"\"},\"colorscale\":[[0.0,\"#0d0887\"],[0.1111111111111111,\"#46039f\"],[0.2222222222222222,\"#7201a8\"],[0.3333333333333333,\"#9c179e\"],[0.4444444444444444,\"#bd3786\"],[0.5555555555555556,\"#d8576b\"],[0.6666666666666666,\"#ed7953\"],[0.7777777777777778,\"#fb9f3a\"],[0.8888888888888888,\"#fdca26\"],[1.0,\"#f0f921\"]]}],\"contourcarpet\":[{\"type\":\"contourcarpet\",\"colorbar\":{\"outlinewidth\":0,\"ticks\":\"\"}}],\"contour\":[{\"type\":\"contour\",\"colorbar\":{\"outlinewidth\":0,\"ticks\":\"\"},\"colorscale\":[[0.0,\"#0d0887\"],[0.1111111111111111,\"#46039f\"],[0.2222222222222222,\"#7201a8\"],[0.3333333333333333,\"#9c179e\"],[0.4444444444444444,\"#bd3786\"],[0.5555555555555556,\"#d8576b\"],[0.6666666666666666,\"#ed7953\"],[0.7777777777777778,\"#fb9f3a\"],[0.8888888888888888,\"#fdca26\"],[1.0,\"#f0f921\"]]}],\"surface\":[{\"type\":\"surface\",\"colorbar\":{\"outlinewidth\":0,\"ticks\":\"\"},\"colorscale\":[[0.0,\"#0d0887\"],[0.1111111111111111,\"#46039f\"],[0.2222222222222222,\"#7201a8\"],[0.3333333333333333,\"#9c179e\"],[0.4444444444444444,\"#bd3786\"],[0.5555555555555556,\"#d8576b\"],[0.6666666666666666,\"#ed7953\"],[0.7777777777777778,\"#fb9f3a\"],[0.8888888888888888,\"#fdca26\"],[1.0,\"#f0f921\"]]}],\"mesh3d\":[{\"type\":\"mesh3d\",\"colorbar\":{\"outlinewidth\":0,\"ticks\":\"\"}}],\"scatter\":[{\"fillpattern\":{\"fillmode\":\"overlay\",\"size\":10,\"solidity\":0.2},\"type\":\"scatter\"}],\"parcoords\":[{\"type\":\"parcoords\",\"line\":{\"colorbar\":{\"outlinewidth\":0,\"ticks\":\"\"}}}],\"scatterpolargl\":[{\"type\":\"scatterpolargl\",\"marker\":{\"colorbar\":{\"outlinewidth\":0,\"ticks\":\"\"}}}],\"bar\":[{\"error_x\":{\"color\":\"#2a3f5f\"},\"error_y\":{\"color\":\"#2a3f5f\"},\"marker\":{\"line\":{\"color\":\"#E5ECF6\",\"width\":0.5},\"pattern\":{\"fillmode\":\"overlay\",\"size\":10,\"solidity\":0.2}},\"type\":\"bar\"}],\"scattergeo\":[{\"type\":\"scattergeo\",\"marker\":{\"colorbar\":{\"outlinewidth\":0,\"ticks\":\"\"}}}],\"scatterpolar\":[{\"type\":\"scatterpolar\",\"marker\":{\"colorbar\":{\"outlinewidth\":0,\"ticks\":\"\"}}}],\"histogram\":[{\"marker\":{\"pattern\":{\"fillmode\":\"overlay\",\"size\":10,\"solidity\":0.2}},\"type\":\"histogram\"}],\"scattergl\":[{\"type\":\"scattergl\",\"marker\":{\"colorbar\":{\"outlinewidth\":0,\"ticks\":\"\"}}}],\"scatter3d\":[{\"type\":\"scatter3d\",\"line\":{\"colorbar\":{\"outlinewidth\":0,\"ticks\":\"\"}},\"marker\":{\"colorbar\":{\"outlinewidth\":0,\"ticks\":\"\"}}}],\"scattermapbox\":[{\"type\":\"scattermapbox\",\"marker\":{\"colorbar\":{\"outlinewidth\":0,\"ticks\":\"\"}}}],\"scatterternary\":[{\"type\":\"scatterternary\",\"marker\":{\"colorbar\":{\"outlinewidth\":0,\"ticks\":\"\"}}}],\"scattercarpet\":[{\"type\":\"scattercarpet\",\"marker\":{\"colorbar\":{\"outlinewidth\":0,\"ticks\":\"\"}}}],\"carpet\":[{\"aaxis\":{\"endlinecolor\":\"#2a3f5f\",\"gridcolor\":\"white\",\"linecolor\":\"white\",\"minorgridcolor\":\"white\",\"startlinecolor\":\"#2a3f5f\"},\"baxis\":{\"endlinecolor\":\"#2a3f5f\",\"gridcolor\":\"white\",\"linecolor\":\"white\",\"minorgridcolor\":\"white\",\"startlinecolor\":\"#2a3f5f\"},\"type\":\"carpet\"}],\"table\":[{\"cells\":{\"fill\":{\"color\":\"#EBF0F8\"},\"line\":{\"color\":\"white\"}},\"header\":{\"fill\":{\"color\":\"#C8D4E3\"},\"line\":{\"color\":\"white\"}},\"type\":\"table\"}],\"barpolar\":[{\"marker\":{\"line\":{\"color\":\"#E5ECF6\",\"width\":0.5},\"pattern\":{\"fillmode\":\"overlay\",\"size\":10,\"solidity\":0.2}},\"type\":\"barpolar\"}],\"pie\":[{\"automargin\":true,\"type\":\"pie\"}]},\"layout\":{\"autotypenumbers\":\"strict\",\"colorway\":[\"#636efa\",\"#EF553B\",\"#00cc96\",\"#ab63fa\",\"#FFA15A\",\"#19d3f3\",\"#FF6692\",\"#B6E880\",\"#FF97FF\",\"#FECB52\"],\"font\":{\"color\":\"#2a3f5f\"},\"hovermode\":\"closest\",\"hoverlabel\":{\"align\":\"left\"},\"paper_bgcolor\":\"white\",\"plot_bgcolor\":\"#E5ECF6\",\"polar\":{\"bgcolor\":\"#E5ECF6\",\"angularaxis\":{\"gridcolor\":\"white\",\"linecolor\":\"white\",\"ticks\":\"\"},\"radialaxis\":{\"gridcolor\":\"white\",\"linecolor\":\"white\",\"ticks\":\"\"}},\"ternary\":{\"bgcolor\":\"#E5ECF6\",\"aaxis\":{\"gridcolor\":\"white\",\"linecolor\":\"white\",\"ticks\":\"\"},\"baxis\":{\"gridcolor\":\"white\",\"linecolor\":\"white\",\"ticks\":\"\"},\"caxis\":{\"gridcolor\":\"white\",\"linecolor\":\"white\",\"ticks\":\"\"}},\"coloraxis\":{\"colorbar\":{\"outlinewidth\":0,\"ticks\":\"\"}},\"colorscale\":{\"sequential\":[[0.0,\"#0d0887\"],[0.1111111111111111,\"#46039f\"],[0.2222222222222222,\"#7201a8\"],[0.3333333333333333,\"#9c179e\"],[0.4444444444444444,\"#bd3786\"],[0.5555555555555556,\"#d8576b\"],[0.6666666666666666,\"#ed7953\"],[0.7777777777777778,\"#fb9f3a\"],[0.8888888888888888,\"#fdca26\"],[1.0,\"#f0f921\"]],\"sequentialminus\":[[0.0,\"#0d0887\"],[0.1111111111111111,\"#46039f\"],[0.2222222222222222,\"#7201a8\"],[0.3333333333333333,\"#9c179e\"],[0.4444444444444444,\"#bd3786\"],[0.5555555555555556,\"#d8576b\"],[0.6666666666666666,\"#ed7953\"],[0.7777777777777778,\"#fb9f3a\"],[0.8888888888888888,\"#fdca26\"],[1.0,\"#f0f921\"]],\"diverging\":[[0,\"#8e0152\"],[0.1,\"#c51b7d\"],[0.2,\"#de77ae\"],[0.3,\"#f1b6da\"],[0.4,\"#fde0ef\"],[0.5,\"#f7f7f7\"],[0.6,\"#e6f5d0\"],[0.7,\"#b8e186\"],[0.8,\"#7fbc41\"],[0.9,\"#4d9221\"],[1,\"#276419\"]]},\"xaxis\":{\"gridcolor\":\"white\",\"linecolor\":\"white\",\"ticks\":\"\",\"title\":{\"standoff\":15},\"zerolinecolor\":\"white\",\"automargin\":true,\"zerolinewidth\":2},\"yaxis\":{\"gridcolor\":\"white\",\"linecolor\":\"white\",\"ticks\":\"\",\"title\":{\"standoff\":15},\"zerolinecolor\":\"white\",\"automargin\":true,\"zerolinewidth\":2},\"scene\":{\"xaxis\":{\"backgroundcolor\":\"#E5ECF6\",\"gridcolor\":\"white\",\"linecolor\":\"white\",\"showbackground\":true,\"ticks\":\"\",\"zerolinecolor\":\"white\",\"gridwidth\":2},\"yaxis\":{\"backgroundcolor\":\"#E5ECF6\",\"gridcolor\":\"white\",\"linecolor\":\"white\",\"showbackground\":true,\"ticks\":\"\",\"zerolinecolor\":\"white\",\"gridwidth\":2},\"zaxis\":{\"backgroundcolor\":\"#E5ECF6\",\"gridcolor\":\"white\",\"linecolor\":\"white\",\"showbackground\":true,\"ticks\":\"\",\"zerolinecolor\":\"white\",\"gridwidth\":2}},\"shapedefaults\":{\"line\":{\"color\":\"#2a3f5f\"}},\"annotationdefaults\":{\"arrowcolor\":\"#2a3f5f\",\"arrowhead\":0,\"arrowwidth\":1},\"geo\":{\"bgcolor\":\"white\",\"landcolor\":\"#E5ECF6\",\"subunitcolor\":\"white\",\"showland\":true,\"showlakes\":true,\"lakecolor\":\"white\"},\"title\":{\"x\":0.05},\"mapbox\":{\"style\":\"light\"}}}},                        {\"responsive\": true}                    ).then(function(){\n",
       "                            \n",
       "var gd = document.getElementById('3d5ddcf3-371e-4ae6-bc69-2b68389b009f');\n",
       "var x = new MutationObserver(function (mutations, observer) {{\n",
       "        var display = window.getComputedStyle(gd).display;\n",
       "        if (!display || display === 'none') {{\n",
       "            console.log([gd, 'removed!']);\n",
       "            Plotly.purge(gd);\n",
       "            observer.disconnect();\n",
       "        }}\n",
       "}});\n",
       "\n",
       "// Listen for the removal of the full notebook cells\n",
       "var notebookContainer = gd.closest('#notebook-container');\n",
       "if (notebookContainer) {{\n",
       "    x.observe(notebookContainer, {childList: true});\n",
       "}}\n",
       "\n",
       "// Listen for the clearing of the current output cell\n",
       "var outputEl = gd.closest('.output');\n",
       "if (outputEl) {{\n",
       "    x.observe(outputEl, {childList: true});\n",
       "}}\n",
       "\n",
       "                        })                };                });            </script>        </div>"
      ]
     },
     "metadata": {},
     "output_type": "display_data"
    }
   ],
   "source": [
    "optuna.visualization.plot_param_importances(\n",
    "    study, target=lambda t: t.values[1], target_name=\"r2\"\n",
    ")"
   ]
  },
  {
   "cell_type": "code",
   "execution_count": 18,
   "metadata": {},
   "outputs": [
    {
     "name": "stdout",
     "output_type": "stream",
     "text": [
      "3\n"
     ]
    }
   ],
   "source": [
    "import json\n",
    "import os\n",
    "\n",
    "# 确保 opt_jsons 文件夹存在\n",
    "json_folder_path = \"opt_jsons\"\n",
    "os.makedirs(json_folder_path, exist_ok=True)\n",
    "count = 0\n",
    "for trial in study.trials:\n",
    "    # 检查trial的目标值是否满足条件\n",
    "    try:\n",
    "        if trial.values[0] > 0.26 and trial.values[1] > 0.04:\n",
    "            count += 1\n",
    "            # 获取 trial 参数\n",
    "            trial_params = trial.params\n",
    "\n",
    "            # IC 和 R2 值从 trial.values 获取\n",
    "            ic_value = trial.values[0]\n",
    "            r2_value = trial.values[1]\n",
    "\n",
    "            # 定义 JSON 文件名，包含 IC 和 R2 值\n",
    "            json_file_name = f\"trial_{trial.number}_ic_{ic_value:.4f}_r2_{r2_value:.4f}.json\"\n",
    "            json_file_path = os.path.join(json_folder_path, json_file_name)\n",
    "\n",
    "            # 将参数写入 JSON 文件\n",
    "            with open(json_file_path, \"w\") as json_file:\n",
    "                json.dump(trial_params, json_file, indent=4)\n",
    "    except:\n",
    "        pass\n",
    "print(count)"
   ]
  },
  {
   "cell_type": "code",
   "execution_count": null,
   "metadata": {},
   "outputs": [],
   "source": []
  }
 ],
 "metadata": {
  "kernelspec": {
   "display_name": "base",
   "language": "python",
   "name": "python3"
  },
  "language_info": {
   "codemirror_mode": {
    "name": "ipython",
    "version": 3
   },
   "file_extension": ".py",
   "mimetype": "text/x-python",
   "name": "python",
   "nbconvert_exporter": "python",
   "pygments_lexer": "ipython3",
   "version": "3.10.13"
  }
 },
 "nbformat": 4,
 "nbformat_minor": 2
}
