{
 "cells": [
  {
   "cell_type": "code",
   "execution_count": 1,
   "metadata": {},
   "outputs": [],
   "source": [
    "import sys\n",
    "sys.path.append(\"../\")\n",
    "import pandas as pd\n",
    "import numpy as np"
   ]
  },
  {
   "cell_type": "code",
   "execution_count": 2,
   "metadata": {},
   "outputs": [],
   "source": [
    "df_train = pd.read_feather(\"../data/Xtrain.feather\")\n",
    "y_train = pd.read_feather(\"../data/Ytrain.feather\")"
   ]
  },
  {
   "cell_type": "code",
   "execution_count": 3,
   "metadata": {},
   "outputs": [
    {
     "data": {
      "text/plain": [
       "(1024017, 100)"
      ]
     },
     "execution_count": 3,
     "metadata": {},
     "output_type": "execute_result"
    }
   ],
   "source": [
    "df_train.shape"
   ]
  },
  {
   "cell_type": "code",
   "execution_count": 4,
   "metadata": {},
   "outputs": [
    {
     "data": {
      "text/html": [
       "<div>\n",
       "<style scoped>\n",
       "    .dataframe tbody tr th:only-of-type {\n",
       "        vertical-align: middle;\n",
       "    }\n",
       "\n",
       "    .dataframe tbody tr th {\n",
       "        vertical-align: top;\n",
       "    }\n",
       "\n",
       "    .dataframe thead th {\n",
       "        text-align: right;\n",
       "    }\n",
       "</style>\n",
       "<table border=\"1\" class=\"dataframe\">\n",
       "  <thead>\n",
       "    <tr style=\"text-align: right;\">\n",
       "      <th></th>\n",
       "      <th>x0</th>\n",
       "      <th>x1</th>\n",
       "      <th>x2</th>\n",
       "      <th>x3</th>\n",
       "      <th>x4</th>\n",
       "      <th>x5</th>\n",
       "      <th>x6</th>\n",
       "      <th>x7</th>\n",
       "      <th>x8</th>\n",
       "      <th>x9</th>\n",
       "      <th>...</th>\n",
       "      <th>x90</th>\n",
       "      <th>x91</th>\n",
       "      <th>x92</th>\n",
       "      <th>x93</th>\n",
       "      <th>x94</th>\n",
       "      <th>x95</th>\n",
       "      <th>x96</th>\n",
       "      <th>x97</th>\n",
       "      <th>x98</th>\n",
       "      <th>x99</th>\n",
       "    </tr>\n",
       "  </thead>\n",
       "  <tbody>\n",
       "    <tr>\n",
       "      <th>count</th>\n",
       "      <td>1.024017e+06</td>\n",
       "      <td>1.024017e+06</td>\n",
       "      <td>1.024017e+06</td>\n",
       "      <td>1.024017e+06</td>\n",
       "      <td>1.024017e+06</td>\n",
       "      <td>1.024017e+06</td>\n",
       "      <td>1.024017e+06</td>\n",
       "      <td>1.024017e+06</td>\n",
       "      <td>1.024017e+06</td>\n",
       "      <td>1.024017e+06</td>\n",
       "      <td>...</td>\n",
       "      <td>1.024017e+06</td>\n",
       "      <td>1.024017e+06</td>\n",
       "      <td>1.024017e+06</td>\n",
       "      <td>1.024017e+06</td>\n",
       "      <td>1.024017e+06</td>\n",
       "      <td>1.024017e+06</td>\n",
       "      <td>1.024017e+06</td>\n",
       "      <td>1.024017e+06</td>\n",
       "      <td>1.024017e+06</td>\n",
       "      <td>1.024017e+06</td>\n",
       "    </tr>\n",
       "    <tr>\n",
       "      <th>mean</th>\n",
       "      <td>-6.518679e-09</td>\n",
       "      <td>6.672228e-10</td>\n",
       "      <td>-9.532270e-10</td>\n",
       "      <td>4.269878e-09</td>\n",
       "      <td>3.504366e-09</td>\n",
       "      <td>-4.071867e-09</td>\n",
       "      <td>-1.706720e-09</td>\n",
       "      <td>-1.305563e-08</td>\n",
       "      <td>6.917208e-09</td>\n",
       "      <td>-4.598922e-09</td>\n",
       "      <td>...</td>\n",
       "      <td>-5.136601e-09</td>\n",
       "      <td>-2.603816e-09</td>\n",
       "      <td>9.964495e-09</td>\n",
       "      <td>-3.532422e-09</td>\n",
       "      <td>8.126426e-09</td>\n",
       "      <td>7.224812e-11</td>\n",
       "      <td>-5.636381e-09</td>\n",
       "      <td>5.531871e-09</td>\n",
       "      <td>-2.996327e-09</td>\n",
       "      <td>5.558418e-09</td>\n",
       "    </tr>\n",
       "    <tr>\n",
       "      <th>std</th>\n",
       "      <td>1.000000e+00</td>\n",
       "      <td>1.000000e+00</td>\n",
       "      <td>1.000000e+00</td>\n",
       "      <td>1.000000e+00</td>\n",
       "      <td>1.000000e+00</td>\n",
       "      <td>1.000000e+00</td>\n",
       "      <td>1.000000e+00</td>\n",
       "      <td>1.000000e+00</td>\n",
       "      <td>1.000000e+00</td>\n",
       "      <td>1.000000e+00</td>\n",
       "      <td>...</td>\n",
       "      <td>1.000000e+00</td>\n",
       "      <td>1.000000e+00</td>\n",
       "      <td>1.000000e+00</td>\n",
       "      <td>1.000001e+00</td>\n",
       "      <td>1.000000e+00</td>\n",
       "      <td>1.000000e+00</td>\n",
       "      <td>1.000000e+00</td>\n",
       "      <td>1.000000e+00</td>\n",
       "      <td>1.000000e+00</td>\n",
       "      <td>1.000000e+00</td>\n",
       "    </tr>\n",
       "    <tr>\n",
       "      <th>min</th>\n",
       "      <td>-4.384137e+01</td>\n",
       "      <td>-5.348097e+01</td>\n",
       "      <td>-5.359155e+01</td>\n",
       "      <td>-4.345623e+01</td>\n",
       "      <td>-5.565438e+00</td>\n",
       "      <td>-2.726060e+01</td>\n",
       "      <td>-3.434529e+01</td>\n",
       "      <td>-2.577860e+01</td>\n",
       "      <td>-2.586399e+01</td>\n",
       "      <td>-5.117103e+01</td>\n",
       "      <td>...</td>\n",
       "      <td>-9.844311e-01</td>\n",
       "      <td>-1.539398e+00</td>\n",
       "      <td>-2.790656e+00</td>\n",
       "      <td>-5.356011e-01</td>\n",
       "      <td>-1.624940e+00</td>\n",
       "      <td>-2.871340e+00</td>\n",
       "      <td>-1.182640e+00</td>\n",
       "      <td>-5.398743e-01</td>\n",
       "      <td>-9.713732e-01</td>\n",
       "      <td>-2.862006e+00</td>\n",
       "    </tr>\n",
       "    <tr>\n",
       "      <th>25%</th>\n",
       "      <td>-2.527577e-01</td>\n",
       "      <td>-4.911268e-01</td>\n",
       "      <td>-4.339013e-01</td>\n",
       "      <td>-4.028400e-01</td>\n",
       "      <td>-6.412429e-01</td>\n",
       "      <td>-5.656964e-01</td>\n",
       "      <td>-5.582917e-01</td>\n",
       "      <td>-6.068162e-01</td>\n",
       "      <td>-6.183879e-01</td>\n",
       "      <td>-6.827538e-01</td>\n",
       "      <td>...</td>\n",
       "      <td>-6.566624e-01</td>\n",
       "      <td>-6.582918e-01</td>\n",
       "      <td>-7.527274e-01</td>\n",
       "      <td>-5.356011e-01</td>\n",
       "      <td>-6.559240e-01</td>\n",
       "      <td>-7.516221e-01</td>\n",
       "      <td>-6.901040e-01</td>\n",
       "      <td>-5.398743e-01</td>\n",
       "      <td>-6.602997e-01</td>\n",
       "      <td>-7.532309e-01</td>\n",
       "    </tr>\n",
       "    <tr>\n",
       "      <th>50%</th>\n",
       "      <td>6.644796e-04</td>\n",
       "      <td>-4.800975e-04</td>\n",
       "      <td>-6.816976e-04</td>\n",
       "      <td>1.075684e-05</td>\n",
       "      <td>-1.914048e-02</td>\n",
       "      <td>-3.417354e-04</td>\n",
       "      <td>4.824905e-03</td>\n",
       "      <td>-3.598125e-03</td>\n",
       "      <td>-1.421960e-02</td>\n",
       "      <td>-4.797161e-04</td>\n",
       "      <td>...</td>\n",
       "      <td>-2.635882e-01</td>\n",
       "      <td>-2.666891e-01</td>\n",
       "      <td>-1.264591e-01</td>\n",
       "      <td>-2.160424e-01</td>\n",
       "      <td>-2.210234e-01</td>\n",
       "      <td>-1.021709e-01</td>\n",
       "      <td>-3.876244e-01</td>\n",
       "      <td>-2.347269e-01</td>\n",
       "      <td>-2.735443e-01</td>\n",
       "      <td>-1.397283e-01</td>\n",
       "    </tr>\n",
       "    <tr>\n",
       "      <th>75%</th>\n",
       "      <td>2.540866e-01</td>\n",
       "      <td>4.901666e-01</td>\n",
       "      <td>4.325379e-01</td>\n",
       "      <td>3.984346e-01</td>\n",
       "      <td>6.207308e-01</td>\n",
       "      <td>5.624455e-01</td>\n",
       "      <td>5.679415e-01</td>\n",
       "      <td>5.978246e-01</td>\n",
       "      <td>6.201570e-01</td>\n",
       "      <td>6.817943e-01</td>\n",
       "      <td>...</td>\n",
       "      <td>3.364506e-01</td>\n",
       "      <td>3.207151e-01</td>\n",
       "      <td>6.717248e-01</td>\n",
       "      <td>1.035163e-01</td>\n",
       "      <td>3.842347e-01</td>\n",
       "      <td>6.911148e-01</td>\n",
       "      <td>3.386472e-01</td>\n",
       "      <td>7.042053e-02</td>\n",
       "      <td>3.329692e-01</td>\n",
       "      <td>6.474695e-01</td>\n",
       "    </tr>\n",
       "    <tr>\n",
       "      <th>max</th>\n",
       "      <td>4.612349e+01</td>\n",
       "      <td>2.404121e+01</td>\n",
       "      <td>2.438798e+01</td>\n",
       "      <td>5.061975e+01</td>\n",
       "      <td>6.534543e+00</td>\n",
       "      <td>2.101052e+01</td>\n",
       "      <td>3.294714e+01</td>\n",
       "      <td>1.982056e+01</td>\n",
       "      <td>1.996864e+01</td>\n",
       "      <td>2.865503e+01</td>\n",
       "      <td>...</td>\n",
       "      <td>2.243259e+01</td>\n",
       "      <td>2.156517e+01</td>\n",
       "      <td>2.631013e+00</td>\n",
       "      <td>8.862127e+01</td>\n",
       "      <td>2.864015e+01</td>\n",
       "      <td>2.436821e+00</td>\n",
       "      <td>1.200949e+01</td>\n",
       "      <td>3.912929e+01</td>\n",
       "      <td>2.514243e+01</td>\n",
       "      <td>2.789294e+00</td>\n",
       "    </tr>\n",
       "  </tbody>\n",
       "</table>\n",
       "<p>8 rows × 100 columns</p>\n",
       "</div>"
      ],
      "text/plain": [
       "                 x0            x1            x2            x3            x4  \\\n",
       "count  1.024017e+06  1.024017e+06  1.024017e+06  1.024017e+06  1.024017e+06   \n",
       "mean  -6.518679e-09  6.672228e-10 -9.532270e-10  4.269878e-09  3.504366e-09   \n",
       "std    1.000000e+00  1.000000e+00  1.000000e+00  1.000000e+00  1.000000e+00   \n",
       "min   -4.384137e+01 -5.348097e+01 -5.359155e+01 -4.345623e+01 -5.565438e+00   \n",
       "25%   -2.527577e-01 -4.911268e-01 -4.339013e-01 -4.028400e-01 -6.412429e-01   \n",
       "50%    6.644796e-04 -4.800975e-04 -6.816976e-04  1.075684e-05 -1.914048e-02   \n",
       "75%    2.540866e-01  4.901666e-01  4.325379e-01  3.984346e-01  6.207308e-01   \n",
       "max    4.612349e+01  2.404121e+01  2.438798e+01  5.061975e+01  6.534543e+00   \n",
       "\n",
       "                 x5            x6            x7            x8            x9  \\\n",
       "count  1.024017e+06  1.024017e+06  1.024017e+06  1.024017e+06  1.024017e+06   \n",
       "mean  -4.071867e-09 -1.706720e-09 -1.305563e-08  6.917208e-09 -4.598922e-09   \n",
       "std    1.000000e+00  1.000000e+00  1.000000e+00  1.000000e+00  1.000000e+00   \n",
       "min   -2.726060e+01 -3.434529e+01 -2.577860e+01 -2.586399e+01 -5.117103e+01   \n",
       "25%   -5.656964e-01 -5.582917e-01 -6.068162e-01 -6.183879e-01 -6.827538e-01   \n",
       "50%   -3.417354e-04  4.824905e-03 -3.598125e-03 -1.421960e-02 -4.797161e-04   \n",
       "75%    5.624455e-01  5.679415e-01  5.978246e-01  6.201570e-01  6.817943e-01   \n",
       "max    2.101052e+01  3.294714e+01  1.982056e+01  1.996864e+01  2.865503e+01   \n",
       "\n",
       "       ...           x90           x91           x92           x93  \\\n",
       "count  ...  1.024017e+06  1.024017e+06  1.024017e+06  1.024017e+06   \n",
       "mean   ... -5.136601e-09 -2.603816e-09  9.964495e-09 -3.532422e-09   \n",
       "std    ...  1.000000e+00  1.000000e+00  1.000000e+00  1.000001e+00   \n",
       "min    ... -9.844311e-01 -1.539398e+00 -2.790656e+00 -5.356011e-01   \n",
       "25%    ... -6.566624e-01 -6.582918e-01 -7.527274e-01 -5.356011e-01   \n",
       "50%    ... -2.635882e-01 -2.666891e-01 -1.264591e-01 -2.160424e-01   \n",
       "75%    ...  3.364506e-01  3.207151e-01  6.717248e-01  1.035163e-01   \n",
       "max    ...  2.243259e+01  2.156517e+01  2.631013e+00  8.862127e+01   \n",
       "\n",
       "                x94           x95           x96           x97           x98  \\\n",
       "count  1.024017e+06  1.024017e+06  1.024017e+06  1.024017e+06  1.024017e+06   \n",
       "mean   8.126426e-09  7.224812e-11 -5.636381e-09  5.531871e-09 -2.996327e-09   \n",
       "std    1.000000e+00  1.000000e+00  1.000000e+00  1.000000e+00  1.000000e+00   \n",
       "min   -1.624940e+00 -2.871340e+00 -1.182640e+00 -5.398743e-01 -9.713732e-01   \n",
       "25%   -6.559240e-01 -7.516221e-01 -6.901040e-01 -5.398743e-01 -6.602997e-01   \n",
       "50%   -2.210234e-01 -1.021709e-01 -3.876244e-01 -2.347269e-01 -2.735443e-01   \n",
       "75%    3.842347e-01  6.911148e-01  3.386472e-01  7.042053e-02  3.329692e-01   \n",
       "max    2.864015e+01  2.436821e+00  1.200949e+01  3.912929e+01  2.514243e+01   \n",
       "\n",
       "                x99  \n",
       "count  1.024017e+06  \n",
       "mean   5.558418e-09  \n",
       "std    1.000000e+00  \n",
       "min   -2.862006e+00  \n",
       "25%   -7.532309e-01  \n",
       "50%   -1.397283e-01  \n",
       "75%    6.474695e-01  \n",
       "max    2.789294e+00  \n",
       "\n",
       "[8 rows x 100 columns]"
      ]
     },
     "execution_count": 4,
     "metadata": {},
     "output_type": "execute_result"
    }
   ],
   "source": [
    "df_train.describe()"
   ]
  },
  {
   "cell_type": "code",
   "execution_count": 12,
   "metadata": {},
   "outputs": [
    {
     "data": {
      "text/plain": [
       "[<matplotlib.lines.Line2D at 0x7f42dbd6c550>]"
      ]
     },
     "execution_count": 12,
     "metadata": {},
     "output_type": "execute_result"
    },
    {
     "data": {
      "image/png": "[encoded data removed]",
      "text/plain": [
       "<Figure size 640x480 with 1 Axes>"
      ]
     },
     "metadata": {},
     "output_type": "display_data"
    }
   ],
   "source": [
    "import matplotlib.pyplot as plt\n",
    "plt.plot(df_train.max(1).values)"
   ]
  },
  {
   "cell_type": "code",
   "execution_count": 5,
   "metadata": {},
   "outputs": [
    {
     "data": {
      "text/plain": [
       "(1024017, 1)"
      ]
     },
     "execution_count": 5,
     "metadata": {},
     "output_type": "execute_result"
    }
   ],
   "source": [
    "y_train.shape"
   ]
  },
  {
   "cell_type": "code",
   "execution_count": 6,
   "metadata": {},
   "outputs": [],
   "source": [
    "from sklearn.model_selection import KFold"
   ]
  },
  {
   "cell_type": "code",
   "execution_count": 7,
   "metadata": {},
   "outputs": [
    {
     "name": "stdout",
     "output_type": "stream",
     "text": [
      "TRAIN: 614409 VAL: 204804\n",
      "TRAIN: 614410 VAL: 204803\n",
      "TRAIN: 614410 VAL: 204803\n",
      "TRAIN: 614410 VAL: 204803\n"
     ]
    }
   ],
   "source": [
    "# 假设 X 是一个 (1024017, 100) 维度的数组\n",
    "n_samples,n_features = df_train.shape\n",
    "# 计算划分训练集和测试集的索引\n",
    "n_train_test_split = int(n_samples * 0.8)  # 计算 80% 的位置\n",
    "# 训练集和测试集的划分\n",
    "X_train_val = np.arange(n_train_test_split)  # 训练+验证集索引\n",
    "X_test = np.arange(n_train_test_split, n_samples)  # 测试集索引\n",
    "# 设置 4 折交叉验证\n",
    "kf = KFold(n_splits=4,shuffle=False)\n",
    "# 用于存储训练和验证集的索引\n",
    "train_val_indices = []\n",
    "\n",
    "for train_index, val_index in kf.split(X_train_val):\n",
    "    # 输出每一折的训练集和验证集的索引\n",
    "    print(\"TRAIN:\", len(train_index), \"VAL:\", len(val_index))\n",
    "    train_val_indices.append((train_index, val_index))"
   ]
  },
  {
   "cell_type": "code",
   "execution_count": 8,
   "metadata": {},
   "outputs": [
    {
     "data": {
      "text/plain": [
       "array([[<Axes: title={'center': 'y'}>]], dtype=object)"
      ]
     },
     "execution_count": 8,
     "metadata": {},
     "output_type": "execute_result"
    },
    {
     "data": {
      "image/png": "[encoded data removed]",
      "text/plain": [
       "<Figure size 640x480 with 1 Axes>"
      ]
     },
     "metadata": {},
     "output_type": "display_data"
    }
   ],
   "source": [
    "y_train.hist(bins=50)"
   ]
  },
  {
   "cell_type": "code",
   "execution_count": 9,
   "metadata": {},
   "outputs": [
    {
     "data": {
      "text/html": [
       "<div>\n",
       "<style scoped>\n",
       "    .dataframe tbody tr th:only-of-type {\n",
       "        vertical-align: middle;\n",
       "    }\n",
       "\n",
       "    .dataframe tbody tr th {\n",
       "        vertical-align: top;\n",
       "    }\n",
       "\n",
       "    .dataframe thead th {\n",
       "        text-align: right;\n",
       "    }\n",
       "</style>\n",
       "<table border=\"1\" class=\"dataframe\">\n",
       "  <thead>\n",
       "    <tr style=\"text-align: right;\">\n",
       "      <th></th>\n",
       "      <th>y</th>\n",
       "    </tr>\n",
       "  </thead>\n",
       "  <tbody>\n",
       "    <tr>\n",
       "      <th>count</th>\n",
       "      <td>1.024017e+06</td>\n",
       "    </tr>\n",
       "    <tr>\n",
       "      <th>mean</th>\n",
       "      <td>-3.150730e-03</td>\n",
       "    </tr>\n",
       "    <tr>\n",
       "      <th>std</th>\n",
       "      <td>1.000005e+00</td>\n",
       "    </tr>\n",
       "    <tr>\n",
       "      <th>min</th>\n",
       "      <td>-2.482270e+01</td>\n",
       "    </tr>\n",
       "    <tr>\n",
       "      <th>25%</th>\n",
       "      <td>-4.813266e-01</td>\n",
       "    </tr>\n",
       "    <tr>\n",
       "      <th>50%</th>\n",
       "      <td>0.000000e+00</td>\n",
       "    </tr>\n",
       "    <tr>\n",
       "      <th>75%</th>\n",
       "      <td>4.813266e-01</td>\n",
       "    </tr>\n",
       "    <tr>\n",
       "      <th>max</th>\n",
       "      <td>1.622758e+01</td>\n",
       "    </tr>\n",
       "  </tbody>\n",
       "</table>\n",
       "</div>"
      ],
      "text/plain": [
       "                  y\n",
       "count  1.024017e+06\n",
       "mean  -3.150730e-03\n",
       "std    1.000005e+00\n",
       "min   -2.482270e+01\n",
       "25%   -4.813266e-01\n",
       "50%    0.000000e+00\n",
       "75%    4.813266e-01\n",
       "max    1.622758e+01"
      ]
     },
     "execution_count": 9,
     "metadata": {},
     "output_type": "execute_result"
    }
   ],
   "source": [
    "y_train.describe()"
   ]
  },
  {
   "cell_type": "code",
   "execution_count": null,
   "metadata": {},
   "outputs": [],
   "source": []
  }
 ],
 "metadata": {
  "kernelspec": {
   "display_name": "base",
   "language": "python",
   "name": "python3"
  },
  "language_info": {
   "codemirror_mode": {
    "name": "ipython",
    "version": 3
   },
   "file_extension": ".py",
   "mimetype": "text/x-python",
   "name": "python",
   "nbconvert_exporter": "python",
   "pygments_lexer": "ipython3",
   "version": "3.10.13"
  }
 },
 "nbformat": 4,
 "nbformat_minor": 2
}
